{
  "nbformat": 4,
  "nbformat_minor": 0,
  "metadata": {
    "colab": {
      "name": " New York City Taxi Trip Duration.ipynb",
      "provenance": []
    },
    "kernelspec": {
      "name": "python3",
      "display_name": "Python 3"
    },
    "language_info": {
      "name": "python"
    }
  },
  "cells": [
    {
      "cell_type": "markdown",
      "metadata": {
        "id": "EaPsMs7uMZ__"
      },
      "source": [
        "use K-means clustering \n",
        "* to cluster New York into differenct group based on location\n",
        "* analyze traffic into and out of every cluster as a function of the time along day"
      ]
    },
    {
      "cell_type": "markdown",
      "metadata": {
        "id": "5wHXlssaNDbR"
      },
      "source": [
        "#import library"
      ]
    },
    {
      "cell_type": "code",
      "metadata": {
        "id": "AhxyPMZ3LYUI"
      },
      "source": [
        "import os\n",
        "import pandas as pd\n",
        "import numpy as np\n",
        "\n",
        "from matplotlib.pyplot import *\n",
        "import matplotlib.pyplot as plt\n",
        "from matplotlib import animation\n",
        "from matplotlib import cm\n",
        "\n",
        "\n",
        "from sklearn.cluster import KMeans\n",
        "from sklearn.neighbors import KNeighborsClassifier\n",
        "\n",
        "from dateutil import parser\n",
        "\n",
        "import io\n",
        "import base64\n",
        "from IPython.display import HTML\n",
        "from imblearn.under_sampling import RandomUnderSampler\n",
        "from subprocess import check_output"
      ],
      "execution_count": 3,
      "outputs": []
    },
    {
      "cell_type": "code",
      "metadata": {
        "id": "eWcMu4PBOFPu"
      },
      "source": [
        ""
      ],
      "execution_count": null,
      "outputs": []
    }
  ]
}