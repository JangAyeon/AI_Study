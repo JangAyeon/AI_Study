{
  "nbformat": 4,
  "nbformat_minor": 0,
  "metadata": {
    "colab": {
      "name": "3.5-classifying-newswires.ipynb",
      "provenance": [],
      "collapsed_sections": [],
      "authorship_tag": "ABX9TyPJ4VVoFaCo+K4dxTIE0rwk",
      "include_colab_link": true
    },
    "kernelspec": {
      "name": "python3",
      "display_name": "Python 3"
    },
    "language_info": {
      "name": "python"
    }
  },
  "cells": [
    {
      "cell_type": "markdown",
      "metadata": {
        "id": "view-in-github",
        "colab_type": "text"
      },
      "source": [
        "<a href=\"https://colab.research.google.com/github/JangAyeon/TIL/blob/main/3_5_classifying_newswires.ipynb\" target=\"_parent\"><img src=\"https://colab.research.google.com/assets/colab-badge.svg\" alt=\"Open In Colab\"/></a>"
      ]
    },
    {
      "cell_type": "markdown",
      "metadata": {
        "id": "Y67tBXyduuSI"
      },
      "source": [
        "# **뉴스 기사 분류 : 다중 분류 문제**\n",
        "\n",
        "* 다중 분류 (multiclass classification)\n",
        "* 단일 레이블 다중 분류 : 각 데이터 포인트가 정확히 하나의 범주로 분류됨\n",
        "* 다중 레이블 다중 분류 : 각 데이터 포인터가 여러 개의 범주에 속할 수 있음"
      ]
    },
    {
      "cell_type": "code",
      "metadata": {
        "colab": {
          "base_uri": "https://localhost:8080/",
          "height": 35
        },
        "id": "4k9AU0l-WCAw",
        "outputId": "73ead7ce-225f-4cd7-e737-e6f775a50a57"
      },
      "source": [
        "import keras\n",
        "keras.__version__"
      ],
      "execution_count": null,
      "outputs": [
        {
          "output_type": "execute_result",
          "data": {
            "application/vnd.google.colaboratory.intrinsic+json": {
              "type": "string"
            },
            "text/plain": [
              "'2.6.0'"
            ]
          },
          "metadata": {},
          "execution_count": 1
        }
      ]
    },
    {
      "cell_type": "code",
      "metadata": {
        "id": "A9-MFTmxqJRX"
      },
      "source": [
        "import numpy as np"
      ],
      "execution_count": null,
      "outputs": []
    },
    {
      "cell_type": "markdown",
      "metadata": {
        "id": "nM5c5oYgxHmJ"
      },
      "source": [
        "## **로이터 데이터셋**"
      ]
    },
    {
      "cell_type": "code",
      "metadata": {
        "id": "pYa4vQE8urWx"
      },
      "source": [
        "# 로이터 데이터 셋 로드\n",
        "from keras.datasets import reuters\n",
        "(train_data, train_labels), (test_data, test_labels) = reuters.load_data(num_words=10000)\n",
        "# num_words=1000 : 데이터에서 가장 자주 등장하는 단어 1만개로 제한"
      ],
      "execution_count": null,
      "outputs": []
    },
    {
      "cell_type": "code",
      "metadata": {
        "colab": {
          "base_uri": "https://localhost:8080/"
        },
        "id": "EGyuzBJHvlJi",
        "outputId": "7ef3d84c-b58d-4b82-fa9c-b486510e1918"
      },
      "source": [
        "print(\"# of train data : \",len(train_data))\n",
        "print(\"# of test data : \",len(test_data))"
      ],
      "execution_count": null,
      "outputs": [
        {
          "output_type": "stream",
          "name": "stdout",
          "text": [
            "# of train data :  8982\n",
            "# of test data :  2246\n"
          ]
        }
      ]
    },
    {
      "cell_type": "code",
      "metadata": {
        "colab": {
          "base_uri": "https://localhost:8080/"
        },
        "id": "_Opo7zfbv4aH",
        "outputId": "b670a18c-ddb0-4cb4-99b6-6219bc78bfb8"
      },
      "source": [
        "train_data[10] #각 샘플은 정수 리스트 (단어 인덱스)"
      ],
      "execution_count": null,
      "outputs": [
        {
          "output_type": "execute_result",
          "data": {
            "text/plain": [
              "[1,\n",
              " 245,\n",
              " 273,\n",
              " 207,\n",
              " 156,\n",
              " 53,\n",
              " 74,\n",
              " 160,\n",
              " 26,\n",
              " 14,\n",
              " 46,\n",
              " 296,\n",
              " 26,\n",
              " 39,\n",
              " 74,\n",
              " 2979,\n",
              " 3554,\n",
              " 14,\n",
              " 46,\n",
              " 4689,\n",
              " 4329,\n",
              " 86,\n",
              " 61,\n",
              " 3499,\n",
              " 4795,\n",
              " 14,\n",
              " 61,\n",
              " 451,\n",
              " 4329,\n",
              " 17,\n",
              " 12]"
            ]
          },
          "metadata": {},
          "execution_count": 5
        }
      ]
    },
    {
      "cell_type": "code",
      "metadata": {
        "id": "IbxPZqcawKyw"
      },
      "source": [
        "#로이터 데이터셋을 텍스트로 디코딩하기\n",
        "word_index=reuters.get_word_index()\n",
        "reverse_word_index=dict([(value,key) for (key,value) in word_index.items()])\n",
        "decoded_newswire=' '.join([reverse_word_index.get(i-3,\"?\")for i in train_data[0]]) # 0, 1, 2는 패딩, 문서 시작, 사전에 없음을 위한 인덱스 임으로 3 빼기"
      ],
      "execution_count": null,
      "outputs": []
    },
    {
      "cell_type": "code",
      "metadata": {
        "colab": {
          "base_uri": "https://localhost:8080/",
          "height": 88
        },
        "id": "HX0rime5U4-M",
        "outputId": "0e85a950-a618-44b8-d60c-faf31cd9a760"
      },
      "source": [
        "decoded_newswire #텍스트"
      ],
      "execution_count": null,
      "outputs": [
        {
          "output_type": "execute_result",
          "data": {
            "application/vnd.google.colaboratory.intrinsic+json": {
              "type": "string"
            },
            "text/plain": [
              "'? ? ? said as a result of its december acquisition of space co it expects earnings per share in 1987 of 1 15 to 1 30 dlrs per share up from 70 cts in 1986 the company said pretax net should rise to nine to 10 mln dlrs from six mln dlrs in 1986 and rental operation revenues to 19 to 22 mln dlrs from 12 5 mln dlrs it said cash flow per share this year should be 2 50 to three dlrs reuter 3'"
            ]
          },
          "metadata": {},
          "execution_count": 7
        }
      ]
    },
    {
      "cell_type": "code",
      "metadata": {
        "colab": {
          "base_uri": "https://localhost:8080/"
        },
        "id": "NlniAWOWiOnQ",
        "outputId": "250c2d21-92d9-4d90-bd32-8e5820895860"
      },
      "source": [
        "np.unique(train_labels) #출력 클래스 갯수 : 46개 (다중 분류)"
      ],
      "execution_count": null,
      "outputs": [
        {
          "output_type": "execute_result",
          "data": {
            "text/plain": [
              "array([ 0,  1,  2,  3,  4,  5,  6,  7,  8,  9, 10, 11, 12, 13, 14, 15, 16,\n",
              "       17, 18, 19, 20, 21, 22, 23, 24, 25, 26, 27, 28, 29, 30, 31, 32, 33,\n",
              "       34, 35, 36, 37, 38, 39, 40, 41, 42, 43, 44, 45])"
            ]
          },
          "metadata": {},
          "execution_count": 8
        }
      ]
    },
    {
      "cell_type": "code",
      "metadata": {
        "colab": {
          "base_uri": "https://localhost:8080/"
        },
        "id": "1Oi0lG1rwu3P",
        "outputId": "e41cc0a9-4e20-4962-c7d8-134e527b2032"
      },
      "source": [
        "train_labels[10] #샘플에 연결된 레이블은 토픽의 인덱스로 0 ~ 45 사이의 정수"
      ],
      "execution_count": null,
      "outputs": [
        {
          "output_type": "execute_result",
          "data": {
            "text/plain": [
              "3"
            ]
          },
          "metadata": {},
          "execution_count": 9
        }
      ]
    },
    {
      "cell_type": "markdown",
      "metadata": {
        "id": "Ffm00c7YxNwM"
      },
      "source": [
        "## **데이터 준비**"
      ]
    },
    {
      "cell_type": "markdown",
      "metadata": {
        "id": "zG_WtH4d14dr"
      },
      "source": [
        "**레이블 -> 벡터로 변환하는 방법 2가지**<br>\n",
        "1. 레이블의 리스트를 정수 텐서로 변환\n",
        "2. 원-핫 인코딩<br>\n",
        "각 레이블의 인덱스 자리는 1이고 나머지는 모두 0인 벡터"
      ]
    },
    {
      "cell_type": "code",
      "metadata": {
        "id": "2D4ZbzHgxCJ4"
      },
      "source": [
        "#데이터 인코딩하기\n",
        "\n",
        "\n",
        "def vectorize_sequences(sequences, dimension=10000):\n",
        "    results = np.zeros((len(sequences), dimension))\n",
        "    for i, sequence in enumerate(sequences):\n",
        "        results[i, sequence] = 1.\n",
        "    return results\n",
        "\n",
        "# 훈련 데이터 벡터 변환\n",
        "x_train = vectorize_sequences(train_data)\n",
        "# 테스트 데이터 벡터 변환\n",
        "x_test = vectorize_sequences(test_data)"
      ],
      "execution_count": null,
      "outputs": []
    },
    {
      "cell_type": "code",
      "metadata": {
        "id": "-Mth3T96zrg2"
      },
      "source": [
        "def to_one_hot(labels, dimension=46):\n",
        "    results = np.zeros((len(labels), dimension))\n",
        "    for i, label in enumerate(labels):\n",
        "        results[i, label] = 1.\n",
        "    return results\n",
        "\n",
        "# 훈련 레이블 벡터 변환\n",
        "one_hot_train_labels = to_one_hot(train_labels)\n",
        "# 테스트 레이블 벡터 변환\n",
        "one_hot_test_labels = to_one_hot(test_labels)"
      ],
      "execution_count": null,
      "outputs": []
    },
    {
      "cell_type": "code",
      "metadata": {
        "id": "znHL9pRd07Gl"
      },
      "source": [
        "from keras.utils.np_utils import to_categorical\n",
        "#케라스에는 one-hot encoding을 위한 내장 함수 있음\n",
        "\n",
        "one_hot_train_labels = to_categorical(train_labels)\n",
        "one_hot_test_labels = to_categorical(test_labels)"
      ],
      "execution_count": null,
      "outputs": []
    },
    {
      "cell_type": "markdown",
      "metadata": {
        "id": "bFewH03K2d_C"
      },
      "source": [
        "## **모델 구성**"
      ]
    },
    {
      "cell_type": "markdown",
      "metadata": {
        "id": "T9Bm0qeti_9b"
      },
      "source": [
        "**정보의 병목**\n",
        "* dense 층은 이전 층의 출력 정보만 사용가능<br>-> 한 층의 분류에서 정보 누락 시 다음 층에서 복원 불가능 \n",
        "* 규모가 작으면 유용한 정보를 완전히 잃게 되는 정보 병목의 지점이 될 가능성 가짐<br>-> 이진 분류에서 16차원 가진 중간층 사용했지만 46개 클래스 구분에 한계 있음"
      ]
    },
    {
      "cell_type": "code",
      "metadata": {
        "id": "PYRIoc1q1hcr"
      },
      "source": [
        "#모델 정의\n",
        "from keras import models\n",
        "from keras import layers\n",
        "\n",
        "model = models.Sequential()\n",
        "model.add(layers.Dense(64, activation='relu', input_shape=(10000,)))\n",
        "model.add(layers.Dense(64, activation='relu'))\n",
        "model.add(layers.Dense(46, activation='softmax')) \n"
      ],
      "execution_count": null,
      "outputs": []
    },
    {
      "cell_type": "markdown",
      "metadata": {
        "id": "Q4GUDQChk8UG"
      },
      "source": [
        "`model.add(layers.Dense(46, activation='softmax')) \n",
        "`\n",
        "1.  마지막 dense층 크기 46<br>\n",
        "각 입력 샘플에 대해 46개 차원의 벡터 출력 <br>-> 이 벡터의 각 원손는 각기 다른 출력 클래스가 인코딩됨\n",
        "\n",
        "2. softmax 활성화 함수\n",
        "각 입력 샘플마다 n개의 출력 클래스에 대한 확률분포 출력\n",
        "-> 46차원 출력 벡터 output[i]는 해당 샘플이 클래스 i에 속할 확률 의미\n",
        "-> 46개의 값을 더하면 1\n",
        "\n"
      ]
    },
    {
      "cell_type": "code",
      "metadata": {
        "id": "gkpAjboY2kDO"
      },
      "source": [
        "#모델 컴파일하기\n",
        "model.compile(optimizer='rmsprop',\n",
        "              loss='categorical_crossentropy',\n",
        "              metrics=['accuracy'])"
      ],
      "execution_count": null,
      "outputs": []
    },
    {
      "cell_type": "markdown",
      "metadata": {
        "id": "850K--HwmEVr"
      },
      "source": [
        "`model.compile(optimizer='rmsprop',loss='categorical_crossentropy', metrics=['accuracy'])`<br>\n",
        "1. categorical_crossentropy 손실함수<br>\n",
        "네트워크가 출력한 확률 분포와 true 레이블의 분포 사이 거리 측정<br>-> 이 두 분포 사이의 거리를 최소화래 true 레이블에 근사한 출력하도록 모델 훈련\n"
      ]
    },
    {
      "cell_type": "markdown",
      "metadata": {
        "id": "1BP9M4LH2njO"
      },
      "source": [
        "## **훈련 검증**"
      ]
    },
    {
      "cell_type": "code",
      "metadata": {
        "id": "9jBK-juL2mnv"
      },
      "source": [
        "#검증 세트 준비하기 : 훈련 데이터에서 1000개 따로 떼어 검증 세트 사용\n",
        "\n",
        "x_val = x_train[:1000]\n",
        "partial_x_train = x_train[1000:]\n",
        "\n",
        "y_val = one_hot_train_labels[:1000]\n",
        "partial_y_train = one_hot_train_labels[1000:]"
      ],
      "execution_count": null,
      "outputs": []
    },
    {
      "cell_type": "code",
      "metadata": {
        "colab": {
          "base_uri": "https://localhost:8080/"
        },
        "id": "PRu1tFEt2r-4",
        "outputId": "f0fe42bc-3dfa-4beb-e402-624be5e1cbf3"
      },
      "source": [
        "#모델 훈련하기 : epoch 20개로 모델 훈련\n",
        "history = model.fit(partial_x_train,\n",
        "                    partial_y_train,\n",
        "                    epochs=20,\n",
        "                    batch_size=512,\n",
        "                    validation_data=(x_val, y_val))"
      ],
      "execution_count": null,
      "outputs": [
        {
          "output_type": "stream",
          "name": "stdout",
          "text": [
            "Epoch 1/20\n",
            "16/16 [==============================] - 1s 52ms/step - loss: 2.6732 - accuracy: 0.5267 - val_loss: 1.7069 - val_accuracy: 0.6500\n",
            "Epoch 2/20\n",
            "16/16 [==============================] - 1s 39ms/step - loss: 1.3923 - accuracy: 0.7172 - val_loss: 1.2651 - val_accuracy: 0.7280\n",
            "Epoch 3/20\n",
            "16/16 [==============================] - 1s 39ms/step - loss: 1.0278 - accuracy: 0.7781 - val_loss: 1.1407 - val_accuracy: 0.7400\n",
            "Epoch 4/20\n",
            "16/16 [==============================] - 1s 38ms/step - loss: 0.8066 - accuracy: 0.8239 - val_loss: 1.0271 - val_accuracy: 0.7770\n",
            "Epoch 5/20\n",
            "16/16 [==============================] - 1s 39ms/step - loss: 0.6468 - accuracy: 0.8609 - val_loss: 0.9790 - val_accuracy: 0.8010\n",
            "Epoch 6/20\n",
            "16/16 [==============================] - 1s 38ms/step - loss: 0.5183 - accuracy: 0.8899 - val_loss: 0.9258 - val_accuracy: 0.8100\n",
            "Epoch 7/20\n",
            "16/16 [==============================] - 1s 39ms/step - loss: 0.4183 - accuracy: 0.9114 - val_loss: 0.9062 - val_accuracy: 0.8120\n",
            "Epoch 8/20\n",
            "16/16 [==============================] - 1s 39ms/step - loss: 0.3320 - accuracy: 0.9307 - val_loss: 0.9176 - val_accuracy: 0.8050\n",
            "Epoch 9/20\n",
            "16/16 [==============================] - 1s 38ms/step - loss: 0.2792 - accuracy: 0.9397 - val_loss: 0.8878 - val_accuracy: 0.8190\n",
            "Epoch 10/20\n",
            "16/16 [==============================] - 1s 38ms/step - loss: 0.2370 - accuracy: 0.9461 - val_loss: 0.9040 - val_accuracy: 0.8090\n",
            "Epoch 11/20\n",
            "16/16 [==============================] - 1s 38ms/step - loss: 0.2032 - accuracy: 0.9504 - val_loss: 0.9219 - val_accuracy: 0.8110\n",
            "Epoch 12/20\n",
            "16/16 [==============================] - 1s 38ms/step - loss: 0.1784 - accuracy: 0.9535 - val_loss: 0.9820 - val_accuracy: 0.8040\n",
            "Epoch 13/20\n",
            "16/16 [==============================] - 1s 39ms/step - loss: 0.1621 - accuracy: 0.9563 - val_loss: 0.9263 - val_accuracy: 0.8110\n",
            "Epoch 14/20\n",
            "16/16 [==============================] - 1s 39ms/step - loss: 0.1514 - accuracy: 0.9548 - val_loss: 0.9816 - val_accuracy: 0.8040\n",
            "Epoch 15/20\n",
            "16/16 [==============================] - 1s 39ms/step - loss: 0.1360 - accuracy: 0.9563 - val_loss: 0.9871 - val_accuracy: 0.8030\n",
            "Epoch 16/20\n",
            "16/16 [==============================] - 1s 39ms/step - loss: 0.1305 - accuracy: 0.9582 - val_loss: 1.1107 - val_accuracy: 0.7860\n",
            "Epoch 17/20\n",
            "16/16 [==============================] - 1s 37ms/step - loss: 0.1243 - accuracy: 0.9564 - val_loss: 1.0177 - val_accuracy: 0.8010\n",
            "Epoch 18/20\n",
            "16/16 [==============================] - 1s 38ms/step - loss: 0.1239 - accuracy: 0.9539 - val_loss: 1.1588 - val_accuracy: 0.7950\n",
            "Epoch 19/20\n",
            "16/16 [==============================] - 1s 39ms/step - loss: 0.1130 - accuracy: 0.9575 - val_loss: 1.0400 - val_accuracy: 0.8090\n",
            "Epoch 20/20\n",
            "16/16 [==============================] - 1s 37ms/step - loss: 0.1099 - accuracy: 0.9595 - val_loss: 1.0703 - val_accuracy: 0.7920\n"
          ]
        }
      ]
    },
    {
      "cell_type": "code",
      "metadata": {
        "colab": {
          "base_uri": "https://localhost:8080/",
          "height": 295
        },
        "id": "MqSM8mWp2t0v",
        "outputId": "4d3d8570-5315-41e9-add7-2ff517a3de98"
      },
      "source": [
        "#훈련과 검증 손실 그리기\n",
        "import matplotlib.pyplot as plt\n",
        "\n",
        "loss = history.history['loss']\n",
        "val_loss = history.history['val_loss']\n",
        "\n",
        "epochs = range(1, len(loss) + 1)\n",
        "\n",
        "plt.plot(epochs, loss, 'bo', label='Training loss')\n",
        "plt.plot(epochs, val_loss, 'b', label='Validation loss')\n",
        "plt.title('Training and validation loss')\n",
        "plt.xlabel('Epochs')\n",
        "plt.ylabel('Loss')\n",
        "plt.legend()\n",
        "\n",
        "plt.show()"
      ],
      "execution_count": null,
      "outputs": [
        {
          "output_type": "display_data",
          "data": {
            "image/png": "[encoded data removed]",
            "text/plain": [
              "<Figure size 432x288 with 1 Axes>"
            ]
          },
          "metadata": {
            "needs_background": "light"
          }
        }
      ]
    },
    {
      "cell_type": "code",
      "metadata": {
        "colab": {
          "base_uri": "https://localhost:8080/",
          "height": 295
        },
        "id": "-DaDFzNk2xvl",
        "outputId": "85a92a0a-0733-495a-c937-692693c30d5b"
      },
      "source": [
        "#훈련과 검증 정확도 그리기\n",
        "plt.clf()   # 그래프를 초기화합니다\n",
        "\n",
        "acc = history.history['accuracy']\n",
        "val_acc = history.history['val_accuracy']\n",
        "\n",
        "plt.plot(epochs, acc, 'bo', label='Training acc')\n",
        "plt.plot(epochs, val_acc, 'b', label='Validation acc')\n",
        "plt.title('Training and validation accuracy')\n",
        "plt.xlabel('Epochs')\n",
        "plt.ylabel('Accuracy')\n",
        "plt.legend()\n",
        "\n",
        "plt.show()"
      ],
      "execution_count": null,
      "outputs": [
        {
          "output_type": "display_data",
          "data": {
            "image/png": "[encoded data removed]",
            "text/plain": [
              "<Figure size 432x288 with 1 Axes>"
            ]
          },
          "metadata": {
            "needs_background": "light"
          }
        }
      ]
    },
    {
      "cell_type": "code",
      "metadata": {
        "colab": {
          "base_uri": "https://localhost:8080/"
        },
        "id": "wRQ4FqF121d6",
        "outputId": "4ce07cbe-2b0b-4518-db40-8b33df5ffdc2"
      },
      "source": [
        "#모델을 처음부터 다시 훈련하기\n",
        "\n",
        "model=models.Sequential()\n",
        "model.add(layers.Dense(64,activation='relu',input_shape=(10000,)))\n",
        "model.add(layers.Dense(64,activation=\"relu\"))\n",
        "model.add(layers.Dense(46,activation=\"softmax\"))\n",
        "\n",
        "model.compile(optimizer='rmsprop',\n",
        "              loss='categorical_crossentropy',\n",
        "              metrics=['accuracy'])\n",
        "\n",
        "history=model.fit(partial_x_train,\n",
        "          partial_y_train,\n",
        "          epochs=9,\n",
        "          batch_size=512,\n",
        "          validation_data=(x_val, y_val))\n",
        "results=model.evaluate(x_test,one_hot_test_labels)"
      ],
      "execution_count": null,
      "outputs": [
        {
          "output_type": "stream",
          "name": "stdout",
          "text": [
            "Epoch 1/9\n",
            "16/16 [==============================] - 1s 48ms/step - loss: 2.7571 - accuracy: 0.4959 - val_loss: 1.8116 - val_accuracy: 0.6360\n",
            "Epoch 2/9\n",
            "16/16 [==============================] - 1s 39ms/step - loss: 1.4763 - accuracy: 0.6969 - val_loss: 1.3495 - val_accuracy: 0.7080\n",
            "Epoch 3/9\n",
            "16/16 [==============================] - 1s 37ms/step - loss: 1.0918 - accuracy: 0.7598 - val_loss: 1.1673 - val_accuracy: 0.7460\n",
            "Epoch 4/9\n",
            "16/16 [==============================] - 1s 38ms/step - loss: 0.8640 - accuracy: 0.8148 - val_loss: 1.0488 - val_accuracy: 0.7850\n",
            "Epoch 5/9\n",
            "16/16 [==============================] - 1s 37ms/step - loss: 0.6893 - accuracy: 0.8547 - val_loss: 0.9861 - val_accuracy: 0.7920\n",
            "Epoch 6/9\n",
            "16/16 [==============================] - 1s 38ms/step - loss: 0.5560 - accuracy: 0.8871 - val_loss: 0.9257 - val_accuracy: 0.8140\n",
            "Epoch 7/9\n",
            "16/16 [==============================] - 1s 38ms/step - loss: 0.4476 - accuracy: 0.9090 - val_loss: 0.8982 - val_accuracy: 0.8110\n",
            "Epoch 8/9\n",
            "16/16 [==============================] - 1s 37ms/step - loss: 0.3574 - accuracy: 0.9248 - val_loss: 0.9103 - val_accuracy: 0.8230\n",
            "Epoch 9/9\n",
            "16/16 [==============================] - 1s 36ms/step - loss: 0.2988 - accuracy: 0.9370 - val_loss: 0.9041 - val_accuracy: 0.8200\n",
            "71/71 [==============================] - 0s 2ms/step - loss: 1.0044 - accuracy: 0.7876\n"
          ]
        }
      ]
    },
    {
      "cell_type": "markdown",
      "metadata": {
        "id": "-aPoFadansEG"
      },
      "source": [
        "**정확도**\n",
        "* 정확도 : 78%\n",
        "* 균형 잡힌 데이터셋 무작위로 분류한 경우 : 정확도 50%\n",
        "* 불균형한 이 데이터셋을 무작위로 분류한 경우 : 정확도 18% "
      ]
    },
    {
      "cell_type": "code",
      "metadata": {
        "colab": {
          "base_uri": "https://localhost:8080/"
        },
        "id": "ExgMsEssYfZ5",
        "outputId": "647ea9b6-4493-4733-a158-e0dac7bbcd90"
      },
      "source": [
        "results #정확도 : 78%"
      ],
      "execution_count": null,
      "outputs": [
        {
          "output_type": "execute_result",
          "data": {
            "text/plain": [
              "[1.0043619871139526, 0.7876224517822266]"
            ]
          },
          "metadata": {},
          "execution_count": 20
        }
      ]
    },
    {
      "cell_type": "code",
      "metadata": {
        "colab": {
          "base_uri": "https://localhost:8080/",
          "height": 295
        },
        "id": "FvovePbUs7DT",
        "outputId": "b9af4824-9639-417f-b930-43bd87255196"
      },
      "source": [
        "loss = history.history['loss']\n",
        "val_loss = history.history['val_loss']\n",
        "\n",
        "epochs = range(1, len(loss) + 1)\n",
        "\n",
        "plt.plot(epochs, loss, 'bo', label='Training loss')\n",
        "plt.plot(epochs, val_loss, 'b', label='Validation loss')\n",
        "plt.title('Training and validation loss')\n",
        "plt.xlabel('Epochs')\n",
        "plt.ylabel('Loss')\n",
        "plt.legend()\n",
        "\n",
        "plt.show()"
      ],
      "execution_count": null,
      "outputs": [
        {
          "output_type": "display_data",
          "data": {
            "image/png": "[encoded data removed]",
            "text/plain": [
              "<Figure size 432x288 with 1 Axes>"
            ]
          },
          "metadata": {
            "needs_background": "light"
          }
        }
      ]
    },
    {
      "cell_type": "code",
      "metadata": {
        "colab": {
          "base_uri": "https://localhost:8080/"
        },
        "id": "qRuK9f0YYkmP",
        "outputId": "4eac805e-4d1c-4cfa-badb-0d6949041ea7"
      },
      "source": [
        "import copy\n",
        "test_labels_copy=copy.copy(test_labels)\n",
        "np.random.shuffle(test_labels_copy)\n",
        "float(np.sum(np.array(test_labels)==np.array(test_labels_copy)))/len(test_labels) \n",
        "#무작위로 분류한 경우 정확도 : 18%"
      ],
      "execution_count": null,
      "outputs": [
        {
          "output_type": "execute_result",
          "data": {
            "text/plain": [
              "0.1794300979519145"
            ]
          },
          "metadata": {},
          "execution_count": 22
        }
      ]
    },
    {
      "cell_type": "markdown",
      "metadata": {
        "id": "9xLXue1X282w"
      },
      "source": [
        "## **새로운 데이터에 대해 예측하기**"
      ]
    },
    {
      "cell_type": "markdown",
      "metadata": {
        "id": "hToeO1I5oMPK"
      },
      "source": [
        "`model.predict(x_test)` <br>\n",
        "모델 인스턴스의 predict 메서드는 46개 class에 대한 확률 분포 반환\n"
      ]
    },
    {
      "cell_type": "code",
      "metadata": {
        "id": "da4f5DP-25h_"
      },
      "source": [
        "#새로운 데이터에 대해 예측하기\n",
        "predictions=model.predict(x_test)"
      ],
      "execution_count": null,
      "outputs": []
    },
    {
      "cell_type": "code",
      "metadata": {
        "colab": {
          "base_uri": "https://localhost:8080/"
        },
        "id": "-ZOMpJCIZC7Z",
        "outputId": "49b77389-2dc1-4227-f434-cf134f12af4a"
      },
      "source": [
        "predictions[0].shape #prediction 각 항목의 길이 = 46인 벡터"
      ],
      "execution_count": null,
      "outputs": [
        {
          "output_type": "execute_result",
          "data": {
            "text/plain": [
              "(46,)"
            ]
          },
          "metadata": {},
          "execution_count": 24
        }
      ]
    },
    {
      "cell_type": "code",
      "metadata": {
        "colab": {
          "base_uri": "https://localhost:8080/"
        },
        "id": "BemLpRfvooCS",
        "outputId": "e795e3f9-9fa8-48c8-9990-ddc821c5a307"
      },
      "source": [
        "np.sum(predictions[0]) #이 벡터의 원소 합 =1"
      ],
      "execution_count": null,
      "outputs": [
        {
          "output_type": "execute_result",
          "data": {
            "text/plain": [
              "0.99999994"
            ]
          },
          "metadata": {},
          "execution_count": 25
        }
      ]
    },
    {
      "cell_type": "code",
      "metadata": {
        "colab": {
          "base_uri": "https://localhost:8080/"
        },
        "id": "hhc0C0WQZGEV",
        "outputId": "d9b48db3-f1b7-4662-969f-1327ad827f36"
      },
      "source": [
        "np.argmax(predictions[0]) #가장 확률이 높은 class"
      ],
      "execution_count": null,
      "outputs": [
        {
          "output_type": "execute_result",
          "data": {
            "text/plain": [
              "3"
            ]
          },
          "metadata": {},
          "execution_count": 26
        }
      ]
    },
    {
      "cell_type": "markdown",
      "metadata": {
        "id": "gTWpY-AK3ExE"
      },
      "source": [
        "## **레이블과 손실을 다루는 다른 방법**"
      ]
    },
    {
      "cell_type": "code",
      "metadata": {
        "id": "FgurjI9EZOTX"
      },
      "source": [
        "#정수 텐서로 변환해 레이블 인코딩\n",
        "y_train = np.array(train_labels)\n",
        "y_test = np.array(test_labels)"
      ],
      "execution_count": null,
      "outputs": []
    },
    {
      "cell_type": "code",
      "metadata": {
        "id": "BZb3QlasZWEF"
      },
      "source": [
        "#정수 레이블 사용 시, 손실함수 'sparse_categorical_crossentropy' 사용\n",
        "model.compile(optimizer='rmsprop', loss='sparse_categorical_crossentropy', metrics=['acc'])"
      ],
      "execution_count": null,
      "outputs": []
    },
    {
      "cell_type": "markdown",
      "metadata": {
        "id": "T6yiT1Kx3JQp"
      },
      "source": [
        "## **충분히 큰 중간층을 두어야 하는 이유**"
      ]
    },
    {
      "cell_type": "code",
      "metadata": {
        "colab": {
          "base_uri": "https://localhost:8080/"
        },
        "id": "xzKSdmf73C36",
        "outputId": "3608931c-7fcd-4a26-890c-1eb4d8be5280"
      },
      "source": [
        "#정보 병목이 있는 모델\n",
        "model = models.Sequential()\n",
        "model.add(layers.Dense(64, activation='relu', input_shape=(10000,)))\n",
        "model.add(layers.Dense(4, activation='relu'))\n",
        "model.add(layers.Dense(46, activation='softmax'))\n",
        "\n",
        "model.compile(optimizer=\"rmsprop\",\n",
        "              loss=\"categorical_crossentropy\",\n",
        "              metrics=[\"accuracy\"])\n",
        "\n",
        "\n",
        "history = model.fit(partial_x_train,\n",
        "          partial_y_train,\n",
        "          epochs=20,\n",
        "          batch_size=128,\n",
        "          validation_data=(x_val,y_val))\n"
      ],
      "execution_count": null,
      "outputs": [
        {
          "output_type": "stream",
          "name": "stdout",
          "text": [
            "Epoch 1/20\n",
            "63/63 [==============================] - 2s 16ms/step - loss: 3.3314 - accuracy: 0.2289 - val_loss: 2.8530 - val_accuracy: 0.2520\n",
            "Epoch 2/20\n",
            "63/63 [==============================] - 1s 14ms/step - loss: 2.3777 - accuracy: 0.4173 - val_loss: 1.9603 - val_accuracy: 0.5820\n",
            "Epoch 3/20\n",
            "63/63 [==============================] - 1s 14ms/step - loss: 1.6523 - accuracy: 0.6176 - val_loss: 1.6290 - val_accuracy: 0.6190\n",
            "Epoch 4/20\n",
            "63/63 [==============================] - 1s 15ms/step - loss: 1.4281 - accuracy: 0.6334 - val_loss: 1.5426 - val_accuracy: 0.6210\n",
            "Epoch 5/20\n",
            "63/63 [==============================] - 1s 14ms/step - loss: 1.2994 - accuracy: 0.6433 - val_loss: 1.5009 - val_accuracy: 0.6370\n",
            "Epoch 6/20\n",
            "63/63 [==============================] - 1s 14ms/step - loss: 1.1928 - accuracy: 0.6689 - val_loss: 1.4940 - val_accuracy: 0.6330\n",
            "Epoch 7/20\n",
            "63/63 [==============================] - 1s 14ms/step - loss: 1.1015 - accuracy: 0.6934 - val_loss: 1.4742 - val_accuracy: 0.6460\n",
            "Epoch 8/20\n",
            "63/63 [==============================] - 1s 14ms/step - loss: 1.0277 - accuracy: 0.7209 - val_loss: 1.4778 - val_accuracy: 0.6680\n",
            "Epoch 9/20\n",
            "63/63 [==============================] - 1s 14ms/step - loss: 0.9708 - accuracy: 0.7347 - val_loss: 1.4846 - val_accuracy: 0.6650\n",
            "Epoch 10/20\n",
            "63/63 [==============================] - 1s 14ms/step - loss: 0.9207 - accuracy: 0.7398 - val_loss: 1.5379 - val_accuracy: 0.6690\n",
            "Epoch 11/20\n",
            "63/63 [==============================] - 1s 14ms/step - loss: 0.8836 - accuracy: 0.7418 - val_loss: 1.5549 - val_accuracy: 0.6700\n",
            "Epoch 12/20\n",
            "63/63 [==============================] - 1s 14ms/step - loss: 0.8498 - accuracy: 0.7433 - val_loss: 1.5834 - val_accuracy: 0.6620\n",
            "Epoch 13/20\n",
            "63/63 [==============================] - 1s 14ms/step - loss: 0.8213 - accuracy: 0.7435 - val_loss: 1.6655 - val_accuracy: 0.6650\n",
            "Epoch 14/20\n",
            "63/63 [==============================] - 1s 14ms/step - loss: 0.7954 - accuracy: 0.7483 - val_loss: 1.7024 - val_accuracy: 0.6650\n",
            "Epoch 15/20\n",
            "63/63 [==============================] - 1s 14ms/step - loss: 0.7714 - accuracy: 0.7612 - val_loss: 1.7597 - val_accuracy: 0.6680\n",
            "Epoch 16/20\n",
            "63/63 [==============================] - 1s 14ms/step - loss: 0.7477 - accuracy: 0.7745 - val_loss: 1.8493 - val_accuracy: 0.6710\n",
            "Epoch 17/20\n",
            "63/63 [==============================] - 1s 14ms/step - loss: 0.7278 - accuracy: 0.7854 - val_loss: 1.8738 - val_accuracy: 0.6700\n",
            "Epoch 18/20\n",
            "63/63 [==============================] - 1s 14ms/step - loss: 0.7101 - accuracy: 0.7940 - val_loss: 1.9011 - val_accuracy: 0.6790\n",
            "Epoch 19/20\n",
            "63/63 [==============================] - 1s 14ms/step - loss: 0.6885 - accuracy: 0.8024 - val_loss: 1.9828 - val_accuracy: 0.6720\n",
            "Epoch 20/20\n",
            "63/63 [==============================] - 1s 15ms/step - loss: 0.6729 - accuracy: 0.8088 - val_loss: 2.0644 - val_accuracy: 0.6790\n"
          ]
        }
      ]
    },
    {
      "cell_type": "markdown",
      "metadata": {
        "id": "qsE_izy9pV3A"
      },
      "source": [
        "마지막 출력은 46차원임으로 중간 층의 히든 유닛이 46개보다 많이 적으면 안됨<br>\n",
        "\n",
        "`case` : 46차원보다 더 적은 중간층(4차원)을 둔 경우, 정보의 병목 양상\n",
        "* `결과` : 검증 정확도 최고 값이 71%로 충분히 큰 중간층을 둔 모델에 비해 8%정도 감소됨\n",
        "* `손실 원인` : 46개 클래스의 분할 초평면을 복원하기에 충분한 정보를 중간층의 저차원 표현 공간으로 압출하려고 했기 때문\n"
      ]
    },
    {
      "cell_type": "code",
      "metadata": {
        "colab": {
          "base_uri": "https://localhost:8080/",
          "height": 295
        },
        "id": "1A6hM6bXtB5q",
        "outputId": "1b156b4e-e922-4162-cb03-f30f313592bb"
      },
      "source": [
        "loss = history.history['loss']\n",
        "val_loss = history.history['val_loss']\n",
        "\n",
        "epochs = range(1, len(loss) + 1)\n",
        "\n",
        "plt.plot(epochs, loss, 'bo', label='Training loss')\n",
        "plt.plot(epochs, val_loss, 'b', label='Validation loss')\n",
        "plt.title('Training and validation loss')\n",
        "plt.xlabel('Epochs')\n",
        "plt.ylabel('Loss')\n",
        "plt.legend()\n",
        "\n",
        "plt.show()"
      ],
      "execution_count": null,
      "outputs": [
        {
          "output_type": "display_data",
          "data": {
            "image/png": "[encoded data removed]",
            "text/plain": [
              "<Figure size 432x288 with 1 Axes>"
            ]
          },
          "metadata": {
            "needs_background": "light"
          }
        }
      ]
    },
    {
      "cell_type": "markdown",
      "metadata": {
        "id": "z0jdXBGH3YUj"
      },
      "source": [
        "## **추가 실험**"
      ]
    },
    {
      "cell_type": "markdown",
      "metadata": {
        "id": "bP9T_wzqt4eq"
      },
      "source": [
        "###더 큰 128개의 유닛인 경우"
      ]
    },
    {
      "cell_type": "code",
      "metadata": {
        "colab": {
          "base_uri": "https://localhost:8080/"
        },
        "id": "3a6JC-Z43QuB",
        "outputId": "7c7952fa-1ad4-4645-925d-b15bc67cc3bb"
      },
      "source": [
        "\n",
        "model = models.Sequential()\n",
        "model.add(layers.Dense(128, activation='relu', input_shape=(10000,)))\n",
        "model.add(layers.Dense(128, activation='relu'))\n",
        "model.add(layers.Dense(46, activation='softmax'))\n",
        "\n",
        "model.compile(optimizer=\"rmsprop\",\n",
        "              loss=\"categorical_crossentropy\",\n",
        "              metrics=[\"accuracy\"])\n",
        "\n",
        "\n",
        "history=model.fit(partial_x_train,\n",
        "          partial_y_train,\n",
        "          epochs=20,\n",
        "          batch_size=128,\n",
        "          validation_data=(x_val,y_val))"
      ],
      "execution_count": null,
      "outputs": [
        {
          "output_type": "stream",
          "name": "stdout",
          "text": [
            "Epoch 1/20\n",
            "63/63 [==============================] - 2s 24ms/step - loss: 1.5591 - accuracy: 0.6616 - val_loss: 1.1045 - val_accuracy: 0.7380\n",
            "Epoch 2/20\n",
            "63/63 [==============================] - 1s 21ms/step - loss: 0.7642 - accuracy: 0.8301 - val_loss: 0.9071 - val_accuracy: 0.7990\n",
            "Epoch 3/20\n",
            "63/63 [==============================] - 1s 21ms/step - loss: 0.4564 - accuracy: 0.8985 - val_loss: 0.8630 - val_accuracy: 0.8150\n",
            "Epoch 4/20\n",
            "63/63 [==============================] - 1s 21ms/step - loss: 0.2946 - accuracy: 0.9326 - val_loss: 0.8824 - val_accuracy: 0.8190\n",
            "Epoch 5/20\n",
            "63/63 [==============================] - 1s 21ms/step - loss: 0.2276 - accuracy: 0.9450 - val_loss: 0.9281 - val_accuracy: 0.8160\n",
            "Epoch 6/20\n",
            "63/63 [==============================] - 1s 21ms/step - loss: 0.1873 - accuracy: 0.9515 - val_loss: 0.9260 - val_accuracy: 0.8210\n",
            "Epoch 7/20\n",
            "63/63 [==============================] - 1s 21ms/step - loss: 0.1661 - accuracy: 0.9531 - val_loss: 0.9416 - val_accuracy: 0.8200\n",
            "Epoch 8/20\n",
            "63/63 [==============================] - 1s 21ms/step - loss: 0.1514 - accuracy: 0.9541 - val_loss: 0.9673 - val_accuracy: 0.8120\n",
            "Epoch 9/20\n",
            "63/63 [==============================] - 1s 21ms/step - loss: 0.1379 - accuracy: 0.9525 - val_loss: 1.0246 - val_accuracy: 0.8080\n",
            "Epoch 10/20\n",
            "63/63 [==============================] - 1s 21ms/step - loss: 0.1299 - accuracy: 0.9570 - val_loss: 0.9968 - val_accuracy: 0.8250\n",
            "Epoch 11/20\n",
            "63/63 [==============================] - 1s 21ms/step - loss: 0.1229 - accuracy: 0.9562 - val_loss: 1.0306 - val_accuracy: 0.8230\n",
            "Epoch 12/20\n",
            "63/63 [==============================] - 1s 21ms/step - loss: 0.1154 - accuracy: 0.9558 - val_loss: 1.1846 - val_accuracy: 0.8060\n",
            "Epoch 13/20\n",
            "63/63 [==============================] - 1s 21ms/step - loss: 0.1103 - accuracy: 0.9563 - val_loss: 1.2327 - val_accuracy: 0.8030\n",
            "Epoch 14/20\n",
            "63/63 [==============================] - 1s 21ms/step - loss: 0.1049 - accuracy: 0.9567 - val_loss: 1.2261 - val_accuracy: 0.8010\n",
            "Epoch 15/20\n",
            "63/63 [==============================] - 1s 21ms/step - loss: 0.1002 - accuracy: 0.9557 - val_loss: 1.2735 - val_accuracy: 0.8100\n",
            "Epoch 16/20\n",
            "63/63 [==============================] - 1s 22ms/step - loss: 0.0968 - accuracy: 0.9562 - val_loss: 1.3562 - val_accuracy: 0.8030\n",
            "Epoch 17/20\n",
            "63/63 [==============================] - 1s 21ms/step - loss: 0.0907 - accuracy: 0.9569 - val_loss: 1.4720 - val_accuracy: 0.8000\n",
            "Epoch 18/20\n",
            "63/63 [==============================] - 1s 21ms/step - loss: 0.0892 - accuracy: 0.9572 - val_loss: 1.5548 - val_accuracy: 0.7970\n",
            "Epoch 19/20\n",
            "63/63 [==============================] - 1s 21ms/step - loss: 0.0864 - accuracy: 0.9573 - val_loss: 1.5505 - val_accuracy: 0.7920\n",
            "Epoch 20/20\n",
            "63/63 [==============================] - 1s 21ms/step - loss: 0.0825 - accuracy: 0.9575 - val_loss: 1.6684 - val_accuracy: 0.7940\n"
          ]
        }
      ]
    },
    {
      "cell_type": "code",
      "metadata": {
        "colab": {
          "base_uri": "https://localhost:8080/",
          "height": 295
        },
        "id": "CHKyxQp7tD59",
        "outputId": "a820f212-7b90-4d9e-ef40-978a58c25208"
      },
      "source": [
        "loss = history.history['loss']\n",
        "val_loss = history.history['val_loss']\n",
        "\n",
        "epochs = range(1, len(loss) + 1)\n",
        "\n",
        "plt.plot(epochs, loss, 'bo', label='Training loss')\n",
        "plt.plot(epochs, val_loss, 'b', label='Validation loss')\n",
        "plt.title('Training and validation loss')\n",
        "plt.xlabel('Epochs')\n",
        "plt.ylabel('Loss')\n",
        "plt.legend()\n",
        "\n",
        "plt.show()"
      ],
      "execution_count": null,
      "outputs": [
        {
          "output_type": "display_data",
          "data": {
            "image/png": "[encoded data removed]",
            "text/plain": [
              "<Figure size 432x288 with 1 Axes>"
            ]
          },
          "metadata": {
            "needs_background": "light"
          }
        }
      ]
    },
    {
      "cell_type": "markdown",
      "metadata": {
        "id": "8D4oP03ft-Dc"
      },
      "source": [
        "###더 작은 32개 유닛인 경우"
      ]
    },
    {
      "cell_type": "code",
      "metadata": {
        "colab": {
          "base_uri": "https://localhost:8080/"
        },
        "id": "YywFpYsFseJZ",
        "outputId": "a97834ee-69ba-48a7-a3a7-92074a0a037f"
      },
      "source": [
        "\n",
        "model = models.Sequential()\n",
        "model.add(layers.Dense(32, activation='relu', input_shape=(10000,)))\n",
        "model.add(layers.Dense(32, activation='relu'))\n",
        "model.add(layers.Dense(46, activation='softmax'))\n",
        "\n",
        "model.compile(optimizer=\"rmsprop\",\n",
        "              loss=\"categorical_crossentropy\",\n",
        "              metrics=[\"accuracy\"])\n",
        "\n",
        "\n",
        "history=model.fit(partial_x_train,\n",
        "          partial_y_train,\n",
        "          epochs=20,\n",
        "          batch_size=128,\n",
        "          validation_data=(x_val,y_val))"
      ],
      "execution_count": null,
      "outputs": [
        {
          "output_type": "stream",
          "name": "stdout",
          "text": [
            "Epoch 1/20\n",
            "63/63 [==============================] - 1s 13ms/step - loss: 2.4224 - accuracy: 0.5504 - val_loss: 1.5180 - val_accuracy: 0.6800\n",
            "Epoch 2/20\n",
            "63/63 [==============================] - 1s 10ms/step - loss: 1.2318 - accuracy: 0.7279 - val_loss: 1.1881 - val_accuracy: 0.7280\n",
            "Epoch 3/20\n",
            "63/63 [==============================] - 1s 10ms/step - loss: 0.9191 - accuracy: 0.7992 - val_loss: 1.0527 - val_accuracy: 0.7660\n",
            "Epoch 4/20\n",
            "63/63 [==============================] - 1s 11ms/step - loss: 0.7095 - accuracy: 0.8406 - val_loss: 0.9661 - val_accuracy: 0.7890\n",
            "Epoch 5/20\n",
            "63/63 [==============================] - 1s 10ms/step - loss: 0.5525 - accuracy: 0.8804 - val_loss: 0.9322 - val_accuracy: 0.8040\n",
            "Epoch 6/20\n",
            "63/63 [==============================] - 1s 10ms/step - loss: 0.4345 - accuracy: 0.9083 - val_loss: 0.9129 - val_accuracy: 0.8150\n",
            "Epoch 7/20\n",
            "63/63 [==============================] - 1s 10ms/step - loss: 0.3472 - accuracy: 0.9243 - val_loss: 0.9394 - val_accuracy: 0.8140\n",
            "Epoch 8/20\n",
            "63/63 [==============================] - 1s 10ms/step - loss: 0.2846 - accuracy: 0.9376 - val_loss: 0.9333 - val_accuracy: 0.8110\n",
            "Epoch 9/20\n",
            "63/63 [==============================] - 1s 10ms/step - loss: 0.2398 - accuracy: 0.9432 - val_loss: 0.9437 - val_accuracy: 0.8130\n",
            "Epoch 10/20\n",
            "63/63 [==============================] - 1s 10ms/step - loss: 0.2086 - accuracy: 0.9481 - val_loss: 1.0048 - val_accuracy: 0.8030\n",
            "Epoch 11/20\n",
            "63/63 [==============================] - 1s 10ms/step - loss: 0.1830 - accuracy: 0.9521 - val_loss: 1.0311 - val_accuracy: 0.8050\n",
            "Epoch 12/20\n",
            "63/63 [==============================] - 1s 11ms/step - loss: 0.1648 - accuracy: 0.9538 - val_loss: 1.1201 - val_accuracy: 0.7890\n",
            "Epoch 13/20\n",
            "63/63 [==============================] - 1s 10ms/step - loss: 0.1526 - accuracy: 0.9563 - val_loss: 1.1017 - val_accuracy: 0.7970\n",
            "Epoch 14/20\n",
            "63/63 [==============================] - 1s 10ms/step - loss: 0.1427 - accuracy: 0.9580 - val_loss: 1.0581 - val_accuracy: 0.8030\n",
            "Epoch 15/20\n",
            "63/63 [==============================] - 1s 11ms/step - loss: 0.1365 - accuracy: 0.9563 - val_loss: 1.2243 - val_accuracy: 0.7880\n",
            "Epoch 16/20\n",
            "63/63 [==============================] - 1s 10ms/step - loss: 0.1268 - accuracy: 0.9595 - val_loss: 1.1660 - val_accuracy: 0.7970\n",
            "Epoch 17/20\n",
            "63/63 [==============================] - 1s 10ms/step - loss: 0.1283 - accuracy: 0.9570 - val_loss: 1.1590 - val_accuracy: 0.8030\n",
            "Epoch 18/20\n",
            "63/63 [==============================] - 1s 10ms/step - loss: 0.1197 - accuracy: 0.9574 - val_loss: 1.2006 - val_accuracy: 0.7940\n",
            "Epoch 19/20\n",
            "63/63 [==============================] - 1s 10ms/step - loss: 0.1181 - accuracy: 0.9577 - val_loss: 1.2122 - val_accuracy: 0.8010\n",
            "Epoch 20/20\n",
            "63/63 [==============================] - 1s 10ms/step - loss: 0.1153 - accuracy: 0.9588 - val_loss: 1.2013 - val_accuracy: 0.7890\n"
          ]
        }
      ]
    },
    {
      "cell_type": "code",
      "metadata": {
        "colab": {
          "base_uri": "https://localhost:8080/",
          "height": 295
        },
        "id": "AcvQhbk8tcUp",
        "outputId": "a523b8c4-6604-4f08-fe94-2aef114cac8f"
      },
      "source": [
        "loss = history.history['loss']\n",
        "val_loss = history.history['val_loss']\n",
        "\n",
        "epochs = range(1, len(loss) + 1)\n",
        "\n",
        "plt.plot(epochs, loss, 'bo', label='Training loss')\n",
        "plt.plot(epochs, val_loss, 'b', label='Validation loss')\n",
        "plt.title('Training and validation loss')\n",
        "plt.xlabel('Epochs')\n",
        "plt.ylabel('Loss')\n",
        "plt.legend()\n",
        "\n",
        "plt.show()"
      ],
      "execution_count": null,
      "outputs": [
        {
          "output_type": "display_data",
          "data": {
            "image/png": "[encoded data removed]",
            "text/plain": [
              "<Figure size 432x288 with 1 Axes>"
            ]
          },
          "metadata": {
            "needs_background": "light"
          }
        }
      ]
    },
    {
      "cell_type": "markdown",
      "metadata": {
        "id": "56VMNgR3t_op"
      },
      "source": [
        "###1개의 은닉층 사용"
      ]
    },
    {
      "cell_type": "code",
      "metadata": {
        "colab": {
          "base_uri": "https://localhost:8080/"
        },
        "id": "7sd_--FXsg6C",
        "outputId": "84cc253b-a79c-4449-9318-c5072e8b9909"
      },
      "source": [
        "\n",
        "model = models.Sequential()\n",
        "model.add(layers.Dense(64, activation='relu', input_shape=(10000,)))\n",
        "model.add(layers.Dense(46, activation='softmax'))\n",
        "\n",
        "model.compile(optimizer=\"rmsprop\",\n",
        "              loss=\"categorical_crossentropy\",\n",
        "              metrics=[\"accuracy\"])\n",
        "\n",
        "\n",
        "history=model.fit(partial_x_train,\n",
        "          partial_y_train,\n",
        "          epochs=20,\n",
        "          batch_size=128,\n",
        "          validation_data=(x_val,y_val))"
      ],
      "execution_count": null,
      "outputs": [
        {
          "output_type": "stream",
          "name": "stdout",
          "text": [
            "Epoch 1/20\n",
            "63/63 [==============================] - 1s 17ms/step - loss: 1.8346 - accuracy: 0.6481 - val_loss: 1.2033 - val_accuracy: 0.7410\n",
            "Epoch 2/20\n",
            "63/63 [==============================] - 1s 13ms/step - loss: 0.9331 - accuracy: 0.8034 - val_loss: 0.9752 - val_accuracy: 0.7990\n",
            "Epoch 3/20\n",
            "63/63 [==============================] - 1s 14ms/step - loss: 0.6375 - accuracy: 0.8711 - val_loss: 0.8711 - val_accuracy: 0.8170\n",
            "Epoch 4/20\n",
            "63/63 [==============================] - 1s 14ms/step - loss: 0.4542 - accuracy: 0.9070 - val_loss: 0.8331 - val_accuracy: 0.8240\n",
            "Epoch 5/20\n",
            "63/63 [==============================] - 1s 14ms/step - loss: 0.3381 - accuracy: 0.9287 - val_loss: 0.8150 - val_accuracy: 0.8240\n",
            "Epoch 6/20\n",
            "63/63 [==============================] - 1s 13ms/step - loss: 0.2644 - accuracy: 0.9417 - val_loss: 0.8429 - val_accuracy: 0.8280\n",
            "Epoch 7/20\n",
            "63/63 [==============================] - 1s 14ms/step - loss: 0.2180 - accuracy: 0.9475 - val_loss: 0.8580 - val_accuracy: 0.8280\n",
            "Epoch 8/20\n",
            "63/63 [==============================] - 1s 13ms/step - loss: 0.1847 - accuracy: 0.9513 - val_loss: 0.8900 - val_accuracy: 0.8250\n",
            "Epoch 9/20\n",
            "63/63 [==============================] - 1s 14ms/step - loss: 0.1636 - accuracy: 0.9535 - val_loss: 0.9032 - val_accuracy: 0.8180\n",
            "Epoch 10/20\n",
            "63/63 [==============================] - 1s 13ms/step - loss: 0.1475 - accuracy: 0.9539 - val_loss: 0.9617 - val_accuracy: 0.8170\n",
            "Epoch 11/20\n",
            "63/63 [==============================] - 1s 14ms/step - loss: 0.1358 - accuracy: 0.9563 - val_loss: 1.0305 - val_accuracy: 0.8070\n",
            "Epoch 12/20\n",
            "63/63 [==============================] - 1s 14ms/step - loss: 0.1322 - accuracy: 0.9553 - val_loss: 1.0714 - val_accuracy: 0.7990\n",
            "Epoch 13/20\n",
            "63/63 [==============================] - 1s 13ms/step - loss: 0.1215 - accuracy: 0.9569 - val_loss: 1.0543 - val_accuracy: 0.8050\n",
            "Epoch 14/20\n",
            "63/63 [==============================] - 1s 13ms/step - loss: 0.1192 - accuracy: 0.9572 - val_loss: 1.1312 - val_accuracy: 0.7970\n",
            "Epoch 15/20\n",
            "63/63 [==============================] - 1s 14ms/step - loss: 0.1139 - accuracy: 0.9560 - val_loss: 1.0922 - val_accuracy: 0.8000\n",
            "Epoch 16/20\n",
            "63/63 [==============================] - 1s 13ms/step - loss: 0.1122 - accuracy: 0.9572 - val_loss: 1.1429 - val_accuracy: 0.7990\n",
            "Epoch 17/20\n",
            "63/63 [==============================] - 1s 13ms/step - loss: 0.1085 - accuracy: 0.9574 - val_loss: 1.1705 - val_accuracy: 0.8060\n",
            "Epoch 18/20\n",
            "63/63 [==============================] - 1s 13ms/step - loss: 0.1064 - accuracy: 0.9567 - val_loss: 1.1819 - val_accuracy: 0.8030\n",
            "Epoch 19/20\n",
            "63/63 [==============================] - 1s 14ms/step - loss: 0.1062 - accuracy: 0.9573 - val_loss: 1.2065 - val_accuracy: 0.7990\n",
            "Epoch 20/20\n",
            "63/63 [==============================] - 1s 13ms/step - loss: 0.1041 - accuracy: 0.9558 - val_loss: 1.1775 - val_accuracy: 0.8130\n"
          ]
        }
      ]
    },
    {
      "cell_type": "code",
      "metadata": {
        "colab": {
          "base_uri": "https://localhost:8080/",
          "height": 295
        },
        "id": "jn13rW0etUcW",
        "outputId": "97ae5aef-8158-4ca7-f233-41b2c6c8956d"
      },
      "source": [
        "loss = history.history['loss']\n",
        "val_loss = history.history['val_loss']\n",
        "\n",
        "epochs = range(1, len(loss) + 1)\n",
        "\n",
        "plt.plot(epochs, loss, 'bo', label='Training loss')\n",
        "plt.plot(epochs, val_loss, 'b', label='Validation loss')\n",
        "plt.title('Training and validation loss')\n",
        "plt.xlabel('Epochs')\n",
        "plt.ylabel('Loss')\n",
        "plt.legend()\n",
        "\n",
        "plt.show()"
      ],
      "execution_count": null,
      "outputs": [
        {
          "output_type": "display_data",
          "data": {
            "image/png": "[encoded data removed]",
            "text/plain": [
              "<Figure size 432x288 with 1 Axes>"
            ]
          },
          "metadata": {
            "needs_background": "light"
          }
        }
      ]
    },
    {
      "cell_type": "markdown",
      "metadata": {
        "id": "AZOxAOeHuDAV"
      },
      "source": [
        "###3개의 은닉층 사용"
      ]
    },
    {
      "cell_type": "code",
      "metadata": {
        "colab": {
          "base_uri": "https://localhost:8080/"
        },
        "id": "8zq6zSnOsifZ",
        "outputId": "b565b6af-e7d3-4553-9a89-6ff16cc0de7e"
      },
      "source": [
        "\n",
        "\n",
        "model = models.Sequential()\n",
        "model.add(layers.Dense(64, activation='relu', input_shape=(10000,)))\n",
        "model.add(layers.Dense(64, activation='relu'))\n",
        "model.add(layers.Dense(64, activation='relu'))\n",
        "model.add(layers.Dense(46, activation='softmax'))\n",
        "\n",
        "model.compile(optimizer=\"rmsprop\",\n",
        "              loss=\"categorical_crossentropy\",\n",
        "              metrics=[\"accuracy\"])\n",
        "\n",
        "\n",
        "history=model.fit(partial_x_train,\n",
        "          partial_y_train,\n",
        "          epochs=20,\n",
        "          batch_size=128,\n",
        "          validation_data=(x_val,y_val))"
      ],
      "execution_count": null,
      "outputs": [
        {
          "output_type": "stream",
          "name": "stdout",
          "text": [
            "Epoch 1/20\n",
            "63/63 [==============================] - 2s 17ms/step - loss: 1.8006 - accuracy: 0.6160 - val_loss: 1.2950 - val_accuracy: 0.6950\n",
            "Epoch 2/20\n",
            "63/63 [==============================] - 1s 14ms/step - loss: 0.9758 - accuracy: 0.7771 - val_loss: 1.0240 - val_accuracy: 0.7640\n",
            "Epoch 3/20\n",
            "63/63 [==============================] - 1s 15ms/step - loss: 0.6466 - accuracy: 0.8530 - val_loss: 1.0365 - val_accuracy: 0.7730\n",
            "Epoch 4/20\n",
            "63/63 [==============================] - 1s 14ms/step - loss: 0.4471 - accuracy: 0.9002 - val_loss: 1.0866 - val_accuracy: 0.7800\n",
            "Epoch 5/20\n",
            "63/63 [==============================] - 1s 14ms/step - loss: 0.3261 - accuracy: 0.9306 - val_loss: 0.9988 - val_accuracy: 0.8070\n",
            "Epoch 6/20\n",
            "63/63 [==============================] - 1s 14ms/step - loss: 0.2529 - accuracy: 0.9385 - val_loss: 1.0579 - val_accuracy: 0.7950\n",
            "Epoch 7/20\n",
            "63/63 [==============================] - 1s 14ms/step - loss: 0.2076 - accuracy: 0.9489 - val_loss: 1.0295 - val_accuracy: 0.8130\n",
            "Epoch 8/20\n",
            "63/63 [==============================] - 1s 14ms/step - loss: 0.1783 - accuracy: 0.9525 - val_loss: 1.1079 - val_accuracy: 0.8100\n",
            "Epoch 9/20\n",
            "63/63 [==============================] - 1s 13ms/step - loss: 0.1656 - accuracy: 0.9524 - val_loss: 1.1504 - val_accuracy: 0.7980\n",
            "Epoch 10/20\n",
            "63/63 [==============================] - 1s 14ms/step - loss: 0.1586 - accuracy: 0.9529 - val_loss: 1.1744 - val_accuracy: 0.7850\n",
            "Epoch 11/20\n",
            "63/63 [==============================] - 1s 14ms/step - loss: 0.1402 - accuracy: 0.9548 - val_loss: 1.2128 - val_accuracy: 0.7890\n",
            "Epoch 12/20\n",
            "63/63 [==============================] - 1s 14ms/step - loss: 0.1343 - accuracy: 0.9553 - val_loss: 1.1598 - val_accuracy: 0.8060\n",
            "Epoch 13/20\n",
            "63/63 [==============================] - 1s 14ms/step - loss: 0.1278 - accuracy: 0.9562 - val_loss: 1.2764 - val_accuracy: 0.7830\n",
            "Epoch 14/20\n",
            "63/63 [==============================] - 1s 14ms/step - loss: 0.1226 - accuracy: 0.9564 - val_loss: 1.2687 - val_accuracy: 0.7970\n",
            "Epoch 15/20\n",
            "63/63 [==============================] - 1s 14ms/step - loss: 0.1182 - accuracy: 0.9554 - val_loss: 1.2234 - val_accuracy: 0.7960\n",
            "Epoch 16/20\n",
            "63/63 [==============================] - 1s 14ms/step - loss: 0.1113 - accuracy: 0.9578 - val_loss: 1.3998 - val_accuracy: 0.7730\n",
            "Epoch 17/20\n",
            "63/63 [==============================] - 1s 14ms/step - loss: 0.1084 - accuracy: 0.9560 - val_loss: 1.5103 - val_accuracy: 0.7840\n",
            "Epoch 18/20\n",
            "63/63 [==============================] - 1s 14ms/step - loss: 0.1023 - accuracy: 0.9587 - val_loss: 1.4041 - val_accuracy: 0.7920\n",
            "Epoch 19/20\n",
            "63/63 [==============================] - 1s 14ms/step - loss: 0.1043 - accuracy: 0.9546 - val_loss: 1.3677 - val_accuracy: 0.7960\n",
            "Epoch 20/20\n",
            "63/63 [==============================] - 1s 14ms/step - loss: 0.0968 - accuracy: 0.9551 - val_loss: 1.4816 - val_accuracy: 0.7910\n"
          ]
        }
      ]
    },
    {
      "cell_type": "code",
      "metadata": {
        "colab": {
          "base_uri": "https://localhost:8080/",
          "height": 295
        },
        "id": "3s24l42wtkD9",
        "outputId": "b77ef045-ea09-4cbd-f329-c91c6c1430cd"
      },
      "source": [
        "loss = history.history['loss']\n",
        "val_loss = history.history['val_loss']\n",
        "\n",
        "epochs = range(1, len(loss) + 1)\n",
        "\n",
        "plt.plot(epochs, loss, 'bo', label='Training loss')\n",
        "plt.plot(epochs, val_loss, 'b', label='Validation loss')\n",
        "plt.title('Training and validation loss')\n",
        "plt.xlabel('Epochs')\n",
        "plt.ylabel('Loss')\n",
        "plt.legend()\n",
        "\n",
        "plt.show()"
      ],
      "execution_count": null,
      "outputs": [
        {
          "output_type": "display_data",
          "data": {
            "image/png": "[encoded data removed]",
            "text/plain": [
              "<Figure size 432x288 with 1 Axes>"
            ]
          },
          "metadata": {
            "needs_background": "light"
          }
        }
      ]
    }
  ]
}