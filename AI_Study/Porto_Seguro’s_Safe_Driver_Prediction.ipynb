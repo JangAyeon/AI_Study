{
  "nbformat": 4,
  "nbformat_minor": 0,
  "metadata": {
    "colab": {
      "name": "Porto Seguro’s Safe Driver Prediction.ipynb",
      "provenance": [],
      "collapsed_sections": []
    },
    "kernelspec": {
      "name": "python3",
      "display_name": "Python 3"
    },
    "language_info": {
      "name": "python"
    },
    "accelerator": "GPU"
  },
  "cells": [
    {
      "cell_type": "markdown",
      "metadata": {
        "id": "pRVYvj8Sbhjn"
      },
      "source": [
        "# load library"
      ]
    },
    {
      "cell_type": "code",
      "metadata": {
        "id": "gL1TL0JTbWtN"
      },
      "source": [
        "import pandas as pd\n",
        "import numpy as np\n",
        "import matplotlib.pyplot as plt\n",
        "import seaborn as sns\n",
        "\n",
        "from sklearn.impute import SimpleImputer \n",
        "#from sklearn.preprocessing import Imputer\n",
        "#ERROR:https://min-2.tistory.com/10\n",
        "from sklearn.preprocessing import PolynomialFeatures\n",
        "from sklearn.preprocessing import StandardScaler\n",
        "\n",
        "from sklearn.feature_selection import VarianceThreshold\n",
        "from sklearn.feature_selection import SelectFromModel\n",
        "from sklearn.utils import shuffle\n",
        "from sklearn.ensemble import RandomForestClassifier\n",
        "\n",
        "pd.set_option(\"display.max_columns\",100)"
      ],
      "execution_count": 162,
      "outputs": []
    },
    {
      "cell_type": "markdown",
      "metadata": {
        "id": "fkwRZV14c2M7"
      },
      "source": [
        "# load data"
      ]
    },
    {
      "cell_type": "code",
      "metadata": {
        "id": "DJnzCVBab63y"
      },
      "source": [
        "train=pd.read_csv(\"/content/train.csv\")\n",
        "test=pd.read_csv(\"/content/test.csv\")"
      ],
      "execution_count": 163,
      "outputs": []
    },
    {
      "cell_type": "markdown",
      "metadata": {
        "id": "VrJyIpHndIhE"
      },
      "source": [
        "**Data at first sight**\n",
        "* feature that belong to **similar grouping are tagged** as such in feature names (ex. ind, reg, car, calc)\n",
        "* feature names include the postfix **bin** to indicate binary features and **cat** to indicate categorical features\n",
        "* features **without these designations are either continuous or ordinal**\n",
        "* values of **-1** indicate that the features was **missing** from the observation\n",
        "* **target** columns siginifies whether or not a claim was filed for that policy holder"
      ]
    },
    {
      "cell_type": "code",
      "metadata": {
        "colab": {
          "base_uri": "https://localhost:8080/",
          "height": 224
        },
        "id": "JJ2Ta-Cnd2T5",
        "outputId": "a998c23f-9f2b-4f41-fc5d-ab9d4591c979"
      },
      "source": [
        "train.head()"
      ],
      "execution_count": 164,
      "outputs": [
        {
          "output_type": "execute_result",
          "data": {
            "text/html": [
              "<div>\n",
              "<style scoped>\n",
              "    .dataframe tbody tr th:only-of-type {\n",
              "        vertical-align: middle;\n",
              "    }\n",
              "\n",
              "    .dataframe tbody tr th {\n",
              "        vertical-align: top;\n",
              "    }\n",
              "\n",
              "    .dataframe thead th {\n",
              "        text-align: right;\n",
              "    }\n",
              "</style>\n",
              "<table border=\"1\" class=\"dataframe\">\n",
              "  <thead>\n",
              "    <tr style=\"text-align: right;\">\n",
              "      <th></th>\n",
              "      <th>id</th>\n",
              "      <th>target</th>\n",
              "      <th>ps_ind_01</th>\n",
              "      <th>ps_ind_02_cat</th>\n",
              "      <th>ps_ind_03</th>\n",
              "      <th>ps_ind_04_cat</th>\n",
              "      <th>ps_ind_05_cat</th>\n",
              "      <th>ps_ind_06_bin</th>\n",
              "      <th>ps_ind_07_bin</th>\n",
              "      <th>ps_ind_08_bin</th>\n",
              "      <th>ps_ind_09_bin</th>\n",
              "      <th>ps_ind_10_bin</th>\n",
              "      <th>ps_ind_11_bin</th>\n",
              "      <th>ps_ind_12_bin</th>\n",
              "      <th>ps_ind_13_bin</th>\n",
              "      <th>ps_ind_14</th>\n",
              "      <th>ps_ind_15</th>\n",
              "      <th>ps_ind_16_bin</th>\n",
              "      <th>ps_ind_17_bin</th>\n",
              "      <th>ps_ind_18_bin</th>\n",
              "      <th>ps_reg_01</th>\n",
              "      <th>ps_reg_02</th>\n",
              "      <th>ps_reg_03</th>\n",
              "      <th>ps_car_01_cat</th>\n",
              "      <th>ps_car_02_cat</th>\n",
              "      <th>ps_car_03_cat</th>\n",
              "      <th>ps_car_04_cat</th>\n",
              "      <th>ps_car_05_cat</th>\n",
              "      <th>ps_car_06_cat</th>\n",
              "      <th>ps_car_07_cat</th>\n",
              "      <th>ps_car_08_cat</th>\n",
              "      <th>ps_car_09_cat</th>\n",
              "      <th>ps_car_10_cat</th>\n",
              "      <th>ps_car_11_cat</th>\n",
              "      <th>ps_car_11</th>\n",
              "      <th>ps_car_12</th>\n",
              "      <th>ps_car_13</th>\n",
              "      <th>ps_car_14</th>\n",
              "      <th>ps_car_15</th>\n",
              "      <th>ps_calc_01</th>\n",
              "      <th>ps_calc_02</th>\n",
              "      <th>ps_calc_03</th>\n",
              "      <th>ps_calc_04</th>\n",
              "      <th>ps_calc_05</th>\n",
              "      <th>ps_calc_06</th>\n",
              "      <th>ps_calc_07</th>\n",
              "      <th>ps_calc_08</th>\n",
              "      <th>ps_calc_09</th>\n",
              "      <th>ps_calc_10</th>\n",
              "      <th>ps_calc_11</th>\n",
              "      <th>ps_calc_12</th>\n",
              "      <th>ps_calc_13</th>\n",
              "      <th>ps_calc_14</th>\n",
              "      <th>ps_calc_15_bin</th>\n",
              "      <th>ps_calc_16_bin</th>\n",
              "      <th>ps_calc_17_bin</th>\n",
              "      <th>ps_calc_18_bin</th>\n",
              "      <th>ps_calc_19_bin</th>\n",
              "      <th>ps_calc_20_bin</th>\n",
              "    </tr>\n",
              "  </thead>\n",
              "  <tbody>\n",
              "    <tr>\n",
              "      <th>0</th>\n",
              "      <td>7</td>\n",
              "      <td>0</td>\n",
              "      <td>2</td>\n",
              "      <td>2</td>\n",
              "      <td>5</td>\n",
              "      <td>1</td>\n",
              "      <td>0</td>\n",
              "      <td>0</td>\n",
              "      <td>1</td>\n",
              "      <td>0</td>\n",
              "      <td>0</td>\n",
              "      <td>0</td>\n",
              "      <td>0</td>\n",
              "      <td>0</td>\n",
              "      <td>0</td>\n",
              "      <td>0</td>\n",
              "      <td>11</td>\n",
              "      <td>0</td>\n",
              "      <td>1</td>\n",
              "      <td>0</td>\n",
              "      <td>0.7</td>\n",
              "      <td>0.2</td>\n",
              "      <td>0.718070</td>\n",
              "      <td>10</td>\n",
              "      <td>1</td>\n",
              "      <td>-1</td>\n",
              "      <td>0</td>\n",
              "      <td>1</td>\n",
              "      <td>4</td>\n",
              "      <td>1</td>\n",
              "      <td>0</td>\n",
              "      <td>0</td>\n",
              "      <td>1</td>\n",
              "      <td>12</td>\n",
              "      <td>2</td>\n",
              "      <td>0.400000</td>\n",
              "      <td>0.883679</td>\n",
              "      <td>0.370810</td>\n",
              "      <td>3.605551</td>\n",
              "      <td>0.6</td>\n",
              "      <td>0.5</td>\n",
              "      <td>0.2</td>\n",
              "      <td>3</td>\n",
              "      <td>1</td>\n",
              "      <td>10</td>\n",
              "      <td>1</td>\n",
              "      <td>10</td>\n",
              "      <td>1</td>\n",
              "      <td>5</td>\n",
              "      <td>9</td>\n",
              "      <td>1</td>\n",
              "      <td>5</td>\n",
              "      <td>8</td>\n",
              "      <td>0</td>\n",
              "      <td>1</td>\n",
              "      <td>1</td>\n",
              "      <td>0</td>\n",
              "      <td>0</td>\n",
              "      <td>1</td>\n",
              "    </tr>\n",
              "    <tr>\n",
              "      <th>1</th>\n",
              "      <td>9</td>\n",
              "      <td>0</td>\n",
              "      <td>1</td>\n",
              "      <td>1</td>\n",
              "      <td>7</td>\n",
              "      <td>0</td>\n",
              "      <td>0</td>\n",
              "      <td>0</td>\n",
              "      <td>0</td>\n",
              "      <td>1</td>\n",
              "      <td>0</td>\n",
              "      <td>0</td>\n",
              "      <td>0</td>\n",
              "      <td>0</td>\n",
              "      <td>0</td>\n",
              "      <td>0</td>\n",
              "      <td>3</td>\n",
              "      <td>0</td>\n",
              "      <td>0</td>\n",
              "      <td>1</td>\n",
              "      <td>0.8</td>\n",
              "      <td>0.4</td>\n",
              "      <td>0.766078</td>\n",
              "      <td>11</td>\n",
              "      <td>1</td>\n",
              "      <td>-1</td>\n",
              "      <td>0</td>\n",
              "      <td>-1</td>\n",
              "      <td>11</td>\n",
              "      <td>1</td>\n",
              "      <td>1</td>\n",
              "      <td>2</td>\n",
              "      <td>1</td>\n",
              "      <td>19</td>\n",
              "      <td>3</td>\n",
              "      <td>0.316228</td>\n",
              "      <td>0.618817</td>\n",
              "      <td>0.388716</td>\n",
              "      <td>2.449490</td>\n",
              "      <td>0.3</td>\n",
              "      <td>0.1</td>\n",
              "      <td>0.3</td>\n",
              "      <td>2</td>\n",
              "      <td>1</td>\n",
              "      <td>9</td>\n",
              "      <td>5</td>\n",
              "      <td>8</td>\n",
              "      <td>1</td>\n",
              "      <td>7</td>\n",
              "      <td>3</td>\n",
              "      <td>1</td>\n",
              "      <td>1</td>\n",
              "      <td>9</td>\n",
              "      <td>0</td>\n",
              "      <td>1</td>\n",
              "      <td>1</td>\n",
              "      <td>0</td>\n",
              "      <td>1</td>\n",
              "      <td>0</td>\n",
              "    </tr>\n",
              "    <tr>\n",
              "      <th>2</th>\n",
              "      <td>13</td>\n",
              "      <td>0</td>\n",
              "      <td>5</td>\n",
              "      <td>4</td>\n",
              "      <td>9</td>\n",
              "      <td>1</td>\n",
              "      <td>0</td>\n",
              "      <td>0</td>\n",
              "      <td>0</td>\n",
              "      <td>1</td>\n",
              "      <td>0</td>\n",
              "      <td>0</td>\n",
              "      <td>0</td>\n",
              "      <td>0</td>\n",
              "      <td>0</td>\n",
              "      <td>0</td>\n",
              "      <td>12</td>\n",
              "      <td>1</td>\n",
              "      <td>0</td>\n",
              "      <td>0</td>\n",
              "      <td>0.0</td>\n",
              "      <td>0.0</td>\n",
              "      <td>-1.000000</td>\n",
              "      <td>7</td>\n",
              "      <td>1</td>\n",
              "      <td>-1</td>\n",
              "      <td>0</td>\n",
              "      <td>-1</td>\n",
              "      <td>14</td>\n",
              "      <td>1</td>\n",
              "      <td>1</td>\n",
              "      <td>2</td>\n",
              "      <td>1</td>\n",
              "      <td>60</td>\n",
              "      <td>1</td>\n",
              "      <td>0.316228</td>\n",
              "      <td>0.641586</td>\n",
              "      <td>0.347275</td>\n",
              "      <td>3.316625</td>\n",
              "      <td>0.5</td>\n",
              "      <td>0.7</td>\n",
              "      <td>0.1</td>\n",
              "      <td>2</td>\n",
              "      <td>2</td>\n",
              "      <td>9</td>\n",
              "      <td>1</td>\n",
              "      <td>8</td>\n",
              "      <td>2</td>\n",
              "      <td>7</td>\n",
              "      <td>4</td>\n",
              "      <td>2</td>\n",
              "      <td>7</td>\n",
              "      <td>7</td>\n",
              "      <td>0</td>\n",
              "      <td>1</td>\n",
              "      <td>1</td>\n",
              "      <td>0</td>\n",
              "      <td>1</td>\n",
              "      <td>0</td>\n",
              "    </tr>\n",
              "    <tr>\n",
              "      <th>3</th>\n",
              "      <td>16</td>\n",
              "      <td>0</td>\n",
              "      <td>0</td>\n",
              "      <td>1</td>\n",
              "      <td>2</td>\n",
              "      <td>0</td>\n",
              "      <td>0</td>\n",
              "      <td>1</td>\n",
              "      <td>0</td>\n",
              "      <td>0</td>\n",
              "      <td>0</td>\n",
              "      <td>0</td>\n",
              "      <td>0</td>\n",
              "      <td>0</td>\n",
              "      <td>0</td>\n",
              "      <td>0</td>\n",
              "      <td>8</td>\n",
              "      <td>1</td>\n",
              "      <td>0</td>\n",
              "      <td>0</td>\n",
              "      <td>0.9</td>\n",
              "      <td>0.2</td>\n",
              "      <td>0.580948</td>\n",
              "      <td>7</td>\n",
              "      <td>1</td>\n",
              "      <td>0</td>\n",
              "      <td>0</td>\n",
              "      <td>1</td>\n",
              "      <td>11</td>\n",
              "      <td>1</td>\n",
              "      <td>1</td>\n",
              "      <td>3</td>\n",
              "      <td>1</td>\n",
              "      <td>104</td>\n",
              "      <td>1</td>\n",
              "      <td>0.374166</td>\n",
              "      <td>0.542949</td>\n",
              "      <td>0.294958</td>\n",
              "      <td>2.000000</td>\n",
              "      <td>0.6</td>\n",
              "      <td>0.9</td>\n",
              "      <td>0.1</td>\n",
              "      <td>2</td>\n",
              "      <td>4</td>\n",
              "      <td>7</td>\n",
              "      <td>1</td>\n",
              "      <td>8</td>\n",
              "      <td>4</td>\n",
              "      <td>2</td>\n",
              "      <td>2</td>\n",
              "      <td>2</td>\n",
              "      <td>4</td>\n",
              "      <td>9</td>\n",
              "      <td>0</td>\n",
              "      <td>0</td>\n",
              "      <td>0</td>\n",
              "      <td>0</td>\n",
              "      <td>0</td>\n",
              "      <td>0</td>\n",
              "    </tr>\n",
              "    <tr>\n",
              "      <th>4</th>\n",
              "      <td>17</td>\n",
              "      <td>0</td>\n",
              "      <td>0</td>\n",
              "      <td>2</td>\n",
              "      <td>0</td>\n",
              "      <td>1</td>\n",
              "      <td>0</td>\n",
              "      <td>1</td>\n",
              "      <td>0</td>\n",
              "      <td>0</td>\n",
              "      <td>0</td>\n",
              "      <td>0</td>\n",
              "      <td>0</td>\n",
              "      <td>0</td>\n",
              "      <td>0</td>\n",
              "      <td>0</td>\n",
              "      <td>9</td>\n",
              "      <td>1</td>\n",
              "      <td>0</td>\n",
              "      <td>0</td>\n",
              "      <td>0.7</td>\n",
              "      <td>0.6</td>\n",
              "      <td>0.840759</td>\n",
              "      <td>11</td>\n",
              "      <td>1</td>\n",
              "      <td>-1</td>\n",
              "      <td>0</td>\n",
              "      <td>-1</td>\n",
              "      <td>14</td>\n",
              "      <td>1</td>\n",
              "      <td>1</td>\n",
              "      <td>2</td>\n",
              "      <td>1</td>\n",
              "      <td>82</td>\n",
              "      <td>3</td>\n",
              "      <td>0.316070</td>\n",
              "      <td>0.565832</td>\n",
              "      <td>0.365103</td>\n",
              "      <td>2.000000</td>\n",
              "      <td>0.4</td>\n",
              "      <td>0.6</td>\n",
              "      <td>0.0</td>\n",
              "      <td>2</td>\n",
              "      <td>2</td>\n",
              "      <td>6</td>\n",
              "      <td>3</td>\n",
              "      <td>10</td>\n",
              "      <td>2</td>\n",
              "      <td>12</td>\n",
              "      <td>3</td>\n",
              "      <td>1</td>\n",
              "      <td>1</td>\n",
              "      <td>3</td>\n",
              "      <td>0</td>\n",
              "      <td>0</td>\n",
              "      <td>0</td>\n",
              "      <td>1</td>\n",
              "      <td>1</td>\n",
              "      <td>0</td>\n",
              "    </tr>\n",
              "  </tbody>\n",
              "</table>\n",
              "</div>"
            ],
            "text/plain": [
              "   id  target  ps_ind_01  ps_ind_02_cat  ps_ind_03  ps_ind_04_cat  \\\n",
              "0   7       0          2              2          5              1   \n",
              "1   9       0          1              1          7              0   \n",
              "2  13       0          5              4          9              1   \n",
              "3  16       0          0              1          2              0   \n",
              "4  17       0          0              2          0              1   \n",
              "\n",
              "   ps_ind_05_cat  ps_ind_06_bin  ps_ind_07_bin  ps_ind_08_bin  ps_ind_09_bin  \\\n",
              "0              0              0              1              0              0   \n",
              "1              0              0              0              1              0   \n",
              "2              0              0              0              1              0   \n",
              "3              0              1              0              0              0   \n",
              "4              0              1              0              0              0   \n",
              "\n",
              "   ps_ind_10_bin  ps_ind_11_bin  ps_ind_12_bin  ps_ind_13_bin  ps_ind_14  \\\n",
              "0              0              0              0              0          0   \n",
              "1              0              0              0              0          0   \n",
              "2              0              0              0              0          0   \n",
              "3              0              0              0              0          0   \n",
              "4              0              0              0              0          0   \n",
              "\n",
              "   ps_ind_15  ps_ind_16_bin  ps_ind_17_bin  ps_ind_18_bin  ps_reg_01  \\\n",
              "0         11              0              1              0        0.7   \n",
              "1          3              0              0              1        0.8   \n",
              "2         12              1              0              0        0.0   \n",
              "3          8              1              0              0        0.9   \n",
              "4          9              1              0              0        0.7   \n",
              "\n",
              "   ps_reg_02  ps_reg_03  ps_car_01_cat  ps_car_02_cat  ps_car_03_cat  \\\n",
              "0        0.2   0.718070             10              1             -1   \n",
              "1        0.4   0.766078             11              1             -1   \n",
              "2        0.0  -1.000000              7              1             -1   \n",
              "3        0.2   0.580948              7              1              0   \n",
              "4        0.6   0.840759             11              1             -1   \n",
              "\n",
              "   ps_car_04_cat  ps_car_05_cat  ps_car_06_cat  ps_car_07_cat  ps_car_08_cat  \\\n",
              "0              0              1              4              1              0   \n",
              "1              0             -1             11              1              1   \n",
              "2              0             -1             14              1              1   \n",
              "3              0              1             11              1              1   \n",
              "4              0             -1             14              1              1   \n",
              "\n",
              "   ps_car_09_cat  ps_car_10_cat  ps_car_11_cat  ps_car_11  ps_car_12  \\\n",
              "0              0              1             12          2   0.400000   \n",
              "1              2              1             19          3   0.316228   \n",
              "2              2              1             60          1   0.316228   \n",
              "3              3              1            104          1   0.374166   \n",
              "4              2              1             82          3   0.316070   \n",
              "\n",
              "   ps_car_13  ps_car_14  ps_car_15  ps_calc_01  ps_calc_02  ps_calc_03  \\\n",
              "0   0.883679   0.370810   3.605551         0.6         0.5         0.2   \n",
              "1   0.618817   0.388716   2.449490         0.3         0.1         0.3   \n",
              "2   0.641586   0.347275   3.316625         0.5         0.7         0.1   \n",
              "3   0.542949   0.294958   2.000000         0.6         0.9         0.1   \n",
              "4   0.565832   0.365103   2.000000         0.4         0.6         0.0   \n",
              "\n",
              "   ps_calc_04  ps_calc_05  ps_calc_06  ps_calc_07  ps_calc_08  ps_calc_09  \\\n",
              "0           3           1          10           1          10           1   \n",
              "1           2           1           9           5           8           1   \n",
              "2           2           2           9           1           8           2   \n",
              "3           2           4           7           1           8           4   \n",
              "4           2           2           6           3          10           2   \n",
              "\n",
              "   ps_calc_10  ps_calc_11  ps_calc_12  ps_calc_13  ps_calc_14  ps_calc_15_bin  \\\n",
              "0           5           9           1           5           8               0   \n",
              "1           7           3           1           1           9               0   \n",
              "2           7           4           2           7           7               0   \n",
              "3           2           2           2           4           9               0   \n",
              "4          12           3           1           1           3               0   \n",
              "\n",
              "   ps_calc_16_bin  ps_calc_17_bin  ps_calc_18_bin  ps_calc_19_bin  \\\n",
              "0               1               1               0               0   \n",
              "1               1               1               0               1   \n",
              "2               1               1               0               1   \n",
              "3               0               0               0               0   \n",
              "4               0               0               1               1   \n",
              "\n",
              "   ps_calc_20_bin  \n",
              "0               1  \n",
              "1               0  \n",
              "2               0  \n",
              "3               0  \n",
              "4               0  "
            ]
          },
          "metadata": {},
          "execution_count": 164
        }
      ]
    },
    {
      "cell_type": "markdown",
      "metadata": {
        "id": "BxPHO4AgeUJB"
      },
      "source": [
        "indeed see the following\n",
        "* binary variables\n",
        "* categorical variables of which the category value are integers\n",
        "* other variables with integer or float values\n",
        "* variables with 01 represent missing values\n",
        "* target variable and ID variable"
      ]
    },
    {
      "cell_type": "markdown",
      "metadata": {
        "id": "kfsC2VwLe5sY"
      },
      "source": [
        "check number of rows and columns in trian data"
      ]
    },
    {
      "cell_type": "code",
      "metadata": {
        "colab": {
          "base_uri": "https://localhost:8080/"
        },
        "id": "JOGDCFa8d5AS",
        "outputId": "5e7a2ddc-5895-44c8-f111-1707b27af1ee"
      },
      "source": [
        "train.shape"
      ],
      "execution_count": 165,
      "outputs": [
        {
          "output_type": "execute_result",
          "data": {
            "text/plain": [
              "(595212, 59)"
            ]
          },
          "metadata": {},
          "execution_count": 165
        }
      ]
    },
    {
      "cell_type": "markdown",
      "metadata": {
        "id": "WLrVpwE2e-VL"
      },
      "source": [
        "check if there are same number of variables"
      ]
    },
    {
      "cell_type": "code",
      "metadata": {
        "colab": {
          "base_uri": "https://localhost:8080/"
        },
        "id": "FPamVwHYetOS",
        "outputId": "d2b6c41d-3cfd-4764-e2aa-478862e56616"
      },
      "source": [
        "train.drop_duplicates()\n",
        "train.shape"
      ],
      "execution_count": 166,
      "outputs": [
        {
          "output_type": "execute_result",
          "data": {
            "text/plain": [
              "(595212, 59)"
            ]
          },
          "metadata": {},
          "execution_count": 166
        }
      ]
    },
    {
      "cell_type": "code",
      "metadata": {
        "colab": {
          "base_uri": "https://localhost:8080/"
        },
        "id": "i6kKbVptewf2",
        "outputId": "150a41fc-8afe-4f1d-b14d-cbbd68da6e86"
      },
      "source": [
        "test.shape"
      ],
      "execution_count": 167,
      "outputs": [
        {
          "output_type": "execute_result",
          "data": {
            "text/plain": [
              "(892816, 58)"
            ]
          },
          "metadata": {},
          "execution_count": 167
        }
      ]
    },
    {
      "cell_type": "code",
      "metadata": {
        "colab": {
          "base_uri": "https://localhost:8080/"
        },
        "id": "P06Ir7CfezYI",
        "outputId": "1dc6948e-aeb1-4dd2-b970-ffaf89b82a31"
      },
      "source": [
        "test.drop_duplicates()\n",
        "test.shape"
      ],
      "execution_count": 168,
      "outputs": [
        {
          "output_type": "execute_result",
          "data": {
            "text/plain": [
              "(892816, 58)"
            ]
          },
          "metadata": {},
          "execution_count": 168
        }
      ]
    },
    {
      "cell_type": "markdown",
      "metadata": {
        "id": "RGMcL2B1fcMF"
      },
      "source": [
        "* bin variable : already binary -> no dummification\n",
        "* cat variable : 14 category -> need to create dummy variable\n",
        "\n",
        ">**no null values presented**\n",
        ">-> all missing values replaced by **-1**"
      ]
    },
    {
      "cell_type": "code",
      "metadata": {
        "colab": {
          "base_uri": "https://localhost:8080/"
        },
        "id": "FRR_aOu0e2FZ",
        "outputId": "13185c4e-a14e-42ef-dd47-b5eadd5cbc2c"
      },
      "source": [
        "train.info()"
      ],
      "execution_count": 169,
      "outputs": [
        {
          "output_type": "stream",
          "name": "stdout",
          "text": [
            "<class 'pandas.core.frame.DataFrame'>\n",
            "RangeIndex: 595212 entries, 0 to 595211\n",
            "Data columns (total 59 columns):\n",
            " #   Column          Non-Null Count   Dtype  \n",
            "---  ------          --------------   -----  \n",
            " 0   id              595212 non-null  int64  \n",
            " 1   target          595212 non-null  int64  \n",
            " 2   ps_ind_01       595212 non-null  int64  \n",
            " 3   ps_ind_02_cat   595212 non-null  int64  \n",
            " 4   ps_ind_03       595212 non-null  int64  \n",
            " 5   ps_ind_04_cat   595212 non-null  int64  \n",
            " 6   ps_ind_05_cat   595212 non-null  int64  \n",
            " 7   ps_ind_06_bin   595212 non-null  int64  \n",
            " 8   ps_ind_07_bin   595212 non-null  int64  \n",
            " 9   ps_ind_08_bin   595212 non-null  int64  \n",
            " 10  ps_ind_09_bin   595212 non-null  int64  \n",
            " 11  ps_ind_10_bin   595212 non-null  int64  \n",
            " 12  ps_ind_11_bin   595212 non-null  int64  \n",
            " 13  ps_ind_12_bin   595212 non-null  int64  \n",
            " 14  ps_ind_13_bin   595212 non-null  int64  \n",
            " 15  ps_ind_14       595212 non-null  int64  \n",
            " 16  ps_ind_15       595212 non-null  int64  \n",
            " 17  ps_ind_16_bin   595212 non-null  int64  \n",
            " 18  ps_ind_17_bin   595212 non-null  int64  \n",
            " 19  ps_ind_18_bin   595212 non-null  int64  \n",
            " 20  ps_reg_01       595212 non-null  float64\n",
            " 21  ps_reg_02       595212 non-null  float64\n",
            " 22  ps_reg_03       595212 non-null  float64\n",
            " 23  ps_car_01_cat   595212 non-null  int64  \n",
            " 24  ps_car_02_cat   595212 non-null  int64  \n",
            " 25  ps_car_03_cat   595212 non-null  int64  \n",
            " 26  ps_car_04_cat   595212 non-null  int64  \n",
            " 27  ps_car_05_cat   595212 non-null  int64  \n",
            " 28  ps_car_06_cat   595212 non-null  int64  \n",
            " 29  ps_car_07_cat   595212 non-null  int64  \n",
            " 30  ps_car_08_cat   595212 non-null  int64  \n",
            " 31  ps_car_09_cat   595212 non-null  int64  \n",
            " 32  ps_car_10_cat   595212 non-null  int64  \n",
            " 33  ps_car_11_cat   595212 non-null  int64  \n",
            " 34  ps_car_11       595212 non-null  int64  \n",
            " 35  ps_car_12       595212 non-null  float64\n",
            " 36  ps_car_13       595212 non-null  float64\n",
            " 37  ps_car_14       595212 non-null  float64\n",
            " 38  ps_car_15       595212 non-null  float64\n",
            " 39  ps_calc_01      595212 non-null  float64\n",
            " 40  ps_calc_02      595212 non-null  float64\n",
            " 41  ps_calc_03      595212 non-null  float64\n",
            " 42  ps_calc_04      595212 non-null  int64  \n",
            " 43  ps_calc_05      595212 non-null  int64  \n",
            " 44  ps_calc_06      595212 non-null  int64  \n",
            " 45  ps_calc_07      595212 non-null  int64  \n",
            " 46  ps_calc_08      595212 non-null  int64  \n",
            " 47  ps_calc_09      595212 non-null  int64  \n",
            " 48  ps_calc_10      595212 non-null  int64  \n",
            " 49  ps_calc_11      595212 non-null  int64  \n",
            " 50  ps_calc_12      595212 non-null  int64  \n",
            " 51  ps_calc_13      595212 non-null  int64  \n",
            " 52  ps_calc_14      595212 non-null  int64  \n",
            " 53  ps_calc_15_bin  595212 non-null  int64  \n",
            " 54  ps_calc_16_bin  595212 non-null  int64  \n",
            " 55  ps_calc_17_bin  595212 non-null  int64  \n",
            " 56  ps_calc_18_bin  595212 non-null  int64  \n",
            " 57  ps_calc_19_bin  595212 non-null  int64  \n",
            " 58  ps_calc_20_bin  595212 non-null  int64  \n",
            "dtypes: float64(10), int64(49)\n",
            "memory usage: 267.9 MB\n"
          ]
        }
      ]
    },
    {
      "cell_type": "markdown",
      "metadata": {
        "id": "p786GkZrgJ52"
      },
      "source": [
        "# Metadata\n",
        "* to facilitate data management, store meta- information about variables in df<br>\n",
        "\n",
        "store\n",
        "* role : input, ID, target\n",
        "* level : nominal, interval,ordinal, binary\n",
        "* keep : True or False\n",
        "* dtype : int, float, str"
      ]
    },
    {
      "cell_type": "code",
      "metadata": {
        "id": "uRKCSYdnfPXE"
      },
      "source": [
        "data = []\n",
        "for f in train.columns:\n",
        "    # Defining the role\n",
        "    if f == 'target':\n",
        "        role = 'target'\n",
        "    elif f == 'id':\n",
        "        role = 'id'\n",
        "    else:\n",
        "        role = 'input'\n",
        "         \n",
        "    # Defining the level\n",
        "    if 'bin' in f or f == 'target':\n",
        "        level = 'binary'\n",
        "    elif 'cat' in f or f == 'id':\n",
        "        level = 'nominal'\n",
        "    elif train[f].dtype == float:\n",
        "        level = 'interval'\n",
        "    elif train[f].dtype == int:\n",
        "        level = 'ordinal'\n",
        "        \n",
        "    # Initialize keep to True for all variables except for id\n",
        "    keep = True\n",
        "    if f == 'id':\n",
        "        keep = False\n",
        "    \n",
        "    # Defining the data type \n",
        "    dtype = train[f].dtype\n",
        "    \n",
        "    # Creating a Dict that contains all the metadata for the variable\n",
        "    f_dict = {\n",
        "        'varname': f,\n",
        "        'role': role,\n",
        "        'level': level,\n",
        "        'keep': keep,\n",
        "        'dtype': dtype\n",
        "    }\n",
        "    data.append(f_dict)\n",
        "    \n",
        "meta = pd.DataFrame(data, columns=['varname', 'role', 'level', 'keep', 'dtype'])\n",
        "meta.set_index('varname', inplace=True)"
      ],
      "execution_count": 170,
      "outputs": []
    },
    {
      "cell_type": "code",
      "metadata": {
        "colab": {
          "base_uri": "https://localhost:8080/",
          "height": 1000
        },
        "id": "YK2bxYptihtr",
        "outputId": "d61d7d28-e456-493e-d522-f93f9fb5f66f"
      },
      "source": [
        "meta"
      ],
      "execution_count": 171,
      "outputs": [
        {
          "output_type": "execute_result",
          "data": {
            "text/html": [
              "<div>\n",
              "<style scoped>\n",
              "    .dataframe tbody tr th:only-of-type {\n",
              "        vertical-align: middle;\n",
              "    }\n",
              "\n",
              "    .dataframe tbody tr th {\n",
              "        vertical-align: top;\n",
              "    }\n",
              "\n",
              "    .dataframe thead th {\n",
              "        text-align: right;\n",
              "    }\n",
              "</style>\n",
              "<table border=\"1\" class=\"dataframe\">\n",
              "  <thead>\n",
              "    <tr style=\"text-align: right;\">\n",
              "      <th></th>\n",
              "      <th>role</th>\n",
              "      <th>level</th>\n",
              "      <th>keep</th>\n",
              "      <th>dtype</th>\n",
              "    </tr>\n",
              "    <tr>\n",
              "      <th>varname</th>\n",
              "      <th></th>\n",
              "      <th></th>\n",
              "      <th></th>\n",
              "      <th></th>\n",
              "    </tr>\n",
              "  </thead>\n",
              "  <tbody>\n",
              "    <tr>\n",
              "      <th>id</th>\n",
              "      <td>id</td>\n",
              "      <td>nominal</td>\n",
              "      <td>False</td>\n",
              "      <td>int64</td>\n",
              "    </tr>\n",
              "    <tr>\n",
              "      <th>target</th>\n",
              "      <td>target</td>\n",
              "      <td>binary</td>\n",
              "      <td>True</td>\n",
              "      <td>int64</td>\n",
              "    </tr>\n",
              "    <tr>\n",
              "      <th>ps_ind_01</th>\n",
              "      <td>input</td>\n",
              "      <td>ordinal</td>\n",
              "      <td>True</td>\n",
              "      <td>int64</td>\n",
              "    </tr>\n",
              "    <tr>\n",
              "      <th>ps_ind_02_cat</th>\n",
              "      <td>input</td>\n",
              "      <td>nominal</td>\n",
              "      <td>True</td>\n",
              "      <td>int64</td>\n",
              "    </tr>\n",
              "    <tr>\n",
              "      <th>ps_ind_03</th>\n",
              "      <td>input</td>\n",
              "      <td>ordinal</td>\n",
              "      <td>True</td>\n",
              "      <td>int64</td>\n",
              "    </tr>\n",
              "    <tr>\n",
              "      <th>ps_ind_04_cat</th>\n",
              "      <td>input</td>\n",
              "      <td>nominal</td>\n",
              "      <td>True</td>\n",
              "      <td>int64</td>\n",
              "    </tr>\n",
              "    <tr>\n",
              "      <th>ps_ind_05_cat</th>\n",
              "      <td>input</td>\n",
              "      <td>nominal</td>\n",
              "      <td>True</td>\n",
              "      <td>int64</td>\n",
              "    </tr>\n",
              "    <tr>\n",
              "      <th>ps_ind_06_bin</th>\n",
              "      <td>input</td>\n",
              "      <td>binary</td>\n",
              "      <td>True</td>\n",
              "      <td>int64</td>\n",
              "    </tr>\n",
              "    <tr>\n",
              "      <th>ps_ind_07_bin</th>\n",
              "      <td>input</td>\n",
              "      <td>binary</td>\n",
              "      <td>True</td>\n",
              "      <td>int64</td>\n",
              "    </tr>\n",
              "    <tr>\n",
              "      <th>ps_ind_08_bin</th>\n",
              "      <td>input</td>\n",
              "      <td>binary</td>\n",
              "      <td>True</td>\n",
              "      <td>int64</td>\n",
              "    </tr>\n",
              "    <tr>\n",
              "      <th>ps_ind_09_bin</th>\n",
              "      <td>input</td>\n",
              "      <td>binary</td>\n",
              "      <td>True</td>\n",
              "      <td>int64</td>\n",
              "    </tr>\n",
              "    <tr>\n",
              "      <th>ps_ind_10_bin</th>\n",
              "      <td>input</td>\n",
              "      <td>binary</td>\n",
              "      <td>True</td>\n",
              "      <td>int64</td>\n",
              "    </tr>\n",
              "    <tr>\n",
              "      <th>ps_ind_11_bin</th>\n",
              "      <td>input</td>\n",
              "      <td>binary</td>\n",
              "      <td>True</td>\n",
              "      <td>int64</td>\n",
              "    </tr>\n",
              "    <tr>\n",
              "      <th>ps_ind_12_bin</th>\n",
              "      <td>input</td>\n",
              "      <td>binary</td>\n",
              "      <td>True</td>\n",
              "      <td>int64</td>\n",
              "    </tr>\n",
              "    <tr>\n",
              "      <th>ps_ind_13_bin</th>\n",
              "      <td>input</td>\n",
              "      <td>binary</td>\n",
              "      <td>True</td>\n",
              "      <td>int64</td>\n",
              "    </tr>\n",
              "    <tr>\n",
              "      <th>ps_ind_14</th>\n",
              "      <td>input</td>\n",
              "      <td>ordinal</td>\n",
              "      <td>True</td>\n",
              "      <td>int64</td>\n",
              "    </tr>\n",
              "    <tr>\n",
              "      <th>ps_ind_15</th>\n",
              "      <td>input</td>\n",
              "      <td>ordinal</td>\n",
              "      <td>True</td>\n",
              "      <td>int64</td>\n",
              "    </tr>\n",
              "    <tr>\n",
              "      <th>ps_ind_16_bin</th>\n",
              "      <td>input</td>\n",
              "      <td>binary</td>\n",
              "      <td>True</td>\n",
              "      <td>int64</td>\n",
              "    </tr>\n",
              "    <tr>\n",
              "      <th>ps_ind_17_bin</th>\n",
              "      <td>input</td>\n",
              "      <td>binary</td>\n",
              "      <td>True</td>\n",
              "      <td>int64</td>\n",
              "    </tr>\n",
              "    <tr>\n",
              "      <th>ps_ind_18_bin</th>\n",
              "      <td>input</td>\n",
              "      <td>binary</td>\n",
              "      <td>True</td>\n",
              "      <td>int64</td>\n",
              "    </tr>\n",
              "    <tr>\n",
              "      <th>ps_reg_01</th>\n",
              "      <td>input</td>\n",
              "      <td>interval</td>\n",
              "      <td>True</td>\n",
              "      <td>float64</td>\n",
              "    </tr>\n",
              "    <tr>\n",
              "      <th>ps_reg_02</th>\n",
              "      <td>input</td>\n",
              "      <td>interval</td>\n",
              "      <td>True</td>\n",
              "      <td>float64</td>\n",
              "    </tr>\n",
              "    <tr>\n",
              "      <th>ps_reg_03</th>\n",
              "      <td>input</td>\n",
              "      <td>interval</td>\n",
              "      <td>True</td>\n",
              "      <td>float64</td>\n",
              "    </tr>\n",
              "    <tr>\n",
              "      <th>ps_car_01_cat</th>\n",
              "      <td>input</td>\n",
              "      <td>nominal</td>\n",
              "      <td>True</td>\n",
              "      <td>int64</td>\n",
              "    </tr>\n",
              "    <tr>\n",
              "      <th>ps_car_02_cat</th>\n",
              "      <td>input</td>\n",
              "      <td>nominal</td>\n",
              "      <td>True</td>\n",
              "      <td>int64</td>\n",
              "    </tr>\n",
              "    <tr>\n",
              "      <th>ps_car_03_cat</th>\n",
              "      <td>input</td>\n",
              "      <td>nominal</td>\n",
              "      <td>True</td>\n",
              "      <td>int64</td>\n",
              "    </tr>\n",
              "    <tr>\n",
              "      <th>ps_car_04_cat</th>\n",
              "      <td>input</td>\n",
              "      <td>nominal</td>\n",
              "      <td>True</td>\n",
              "      <td>int64</td>\n",
              "    </tr>\n",
              "    <tr>\n",
              "      <th>ps_car_05_cat</th>\n",
              "      <td>input</td>\n",
              "      <td>nominal</td>\n",
              "      <td>True</td>\n",
              "      <td>int64</td>\n",
              "    </tr>\n",
              "    <tr>\n",
              "      <th>ps_car_06_cat</th>\n",
              "      <td>input</td>\n",
              "      <td>nominal</td>\n",
              "      <td>True</td>\n",
              "      <td>int64</td>\n",
              "    </tr>\n",
              "    <tr>\n",
              "      <th>ps_car_07_cat</th>\n",
              "      <td>input</td>\n",
              "      <td>nominal</td>\n",
              "      <td>True</td>\n",
              "      <td>int64</td>\n",
              "    </tr>\n",
              "    <tr>\n",
              "      <th>ps_car_08_cat</th>\n",
              "      <td>input</td>\n",
              "      <td>nominal</td>\n",
              "      <td>True</td>\n",
              "      <td>int64</td>\n",
              "    </tr>\n",
              "    <tr>\n",
              "      <th>ps_car_09_cat</th>\n",
              "      <td>input</td>\n",
              "      <td>nominal</td>\n",
              "      <td>True</td>\n",
              "      <td>int64</td>\n",
              "    </tr>\n",
              "    <tr>\n",
              "      <th>ps_car_10_cat</th>\n",
              "      <td>input</td>\n",
              "      <td>nominal</td>\n",
              "      <td>True</td>\n",
              "      <td>int64</td>\n",
              "    </tr>\n",
              "    <tr>\n",
              "      <th>ps_car_11_cat</th>\n",
              "      <td>input</td>\n",
              "      <td>nominal</td>\n",
              "      <td>True</td>\n",
              "      <td>int64</td>\n",
              "    </tr>\n",
              "    <tr>\n",
              "      <th>ps_car_11</th>\n",
              "      <td>input</td>\n",
              "      <td>ordinal</td>\n",
              "      <td>True</td>\n",
              "      <td>int64</td>\n",
              "    </tr>\n",
              "    <tr>\n",
              "      <th>ps_car_12</th>\n",
              "      <td>input</td>\n",
              "      <td>interval</td>\n",
              "      <td>True</td>\n",
              "      <td>float64</td>\n",
              "    </tr>\n",
              "    <tr>\n",
              "      <th>ps_car_13</th>\n",
              "      <td>input</td>\n",
              "      <td>interval</td>\n",
              "      <td>True</td>\n",
              "      <td>float64</td>\n",
              "    </tr>\n",
              "    <tr>\n",
              "      <th>ps_car_14</th>\n",
              "      <td>input</td>\n",
              "      <td>interval</td>\n",
              "      <td>True</td>\n",
              "      <td>float64</td>\n",
              "    </tr>\n",
              "    <tr>\n",
              "      <th>ps_car_15</th>\n",
              "      <td>input</td>\n",
              "      <td>interval</td>\n",
              "      <td>True</td>\n",
              "      <td>float64</td>\n",
              "    </tr>\n",
              "    <tr>\n",
              "      <th>ps_calc_01</th>\n",
              "      <td>input</td>\n",
              "      <td>interval</td>\n",
              "      <td>True</td>\n",
              "      <td>float64</td>\n",
              "    </tr>\n",
              "    <tr>\n",
              "      <th>ps_calc_02</th>\n",
              "      <td>input</td>\n",
              "      <td>interval</td>\n",
              "      <td>True</td>\n",
              "      <td>float64</td>\n",
              "    </tr>\n",
              "    <tr>\n",
              "      <th>ps_calc_03</th>\n",
              "      <td>input</td>\n",
              "      <td>interval</td>\n",
              "      <td>True</td>\n",
              "      <td>float64</td>\n",
              "    </tr>\n",
              "    <tr>\n",
              "      <th>ps_calc_04</th>\n",
              "      <td>input</td>\n",
              "      <td>ordinal</td>\n",
              "      <td>True</td>\n",
              "      <td>int64</td>\n",
              "    </tr>\n",
              "    <tr>\n",
              "      <th>ps_calc_05</th>\n",
              "      <td>input</td>\n",
              "      <td>ordinal</td>\n",
              "      <td>True</td>\n",
              "      <td>int64</td>\n",
              "    </tr>\n",
              "    <tr>\n",
              "      <th>ps_calc_06</th>\n",
              "      <td>input</td>\n",
              "      <td>ordinal</td>\n",
              "      <td>True</td>\n",
              "      <td>int64</td>\n",
              "    </tr>\n",
              "    <tr>\n",
              "      <th>ps_calc_07</th>\n",
              "      <td>input</td>\n",
              "      <td>ordinal</td>\n",
              "      <td>True</td>\n",
              "      <td>int64</td>\n",
              "    </tr>\n",
              "    <tr>\n",
              "      <th>ps_calc_08</th>\n",
              "      <td>input</td>\n",
              "      <td>ordinal</td>\n",
              "      <td>True</td>\n",
              "      <td>int64</td>\n",
              "    </tr>\n",
              "    <tr>\n",
              "      <th>ps_calc_09</th>\n",
              "      <td>input</td>\n",
              "      <td>ordinal</td>\n",
              "      <td>True</td>\n",
              "      <td>int64</td>\n",
              "    </tr>\n",
              "    <tr>\n",
              "      <th>ps_calc_10</th>\n",
              "      <td>input</td>\n",
              "      <td>ordinal</td>\n",
              "      <td>True</td>\n",
              "      <td>int64</td>\n",
              "    </tr>\n",
              "    <tr>\n",
              "      <th>ps_calc_11</th>\n",
              "      <td>input</td>\n",
              "      <td>ordinal</td>\n",
              "      <td>True</td>\n",
              "      <td>int64</td>\n",
              "    </tr>\n",
              "    <tr>\n",
              "      <th>ps_calc_12</th>\n",
              "      <td>input</td>\n",
              "      <td>ordinal</td>\n",
              "      <td>True</td>\n",
              "      <td>int64</td>\n",
              "    </tr>\n",
              "    <tr>\n",
              "      <th>ps_calc_13</th>\n",
              "      <td>input</td>\n",
              "      <td>ordinal</td>\n",
              "      <td>True</td>\n",
              "      <td>int64</td>\n",
              "    </tr>\n",
              "    <tr>\n",
              "      <th>ps_calc_14</th>\n",
              "      <td>input</td>\n",
              "      <td>ordinal</td>\n",
              "      <td>True</td>\n",
              "      <td>int64</td>\n",
              "    </tr>\n",
              "    <tr>\n",
              "      <th>ps_calc_15_bin</th>\n",
              "      <td>input</td>\n",
              "      <td>binary</td>\n",
              "      <td>True</td>\n",
              "      <td>int64</td>\n",
              "    </tr>\n",
              "    <tr>\n",
              "      <th>ps_calc_16_bin</th>\n",
              "      <td>input</td>\n",
              "      <td>binary</td>\n",
              "      <td>True</td>\n",
              "      <td>int64</td>\n",
              "    </tr>\n",
              "    <tr>\n",
              "      <th>ps_calc_17_bin</th>\n",
              "      <td>input</td>\n",
              "      <td>binary</td>\n",
              "      <td>True</td>\n",
              "      <td>int64</td>\n",
              "    </tr>\n",
              "    <tr>\n",
              "      <th>ps_calc_18_bin</th>\n",
              "      <td>input</td>\n",
              "      <td>binary</td>\n",
              "      <td>True</td>\n",
              "      <td>int64</td>\n",
              "    </tr>\n",
              "    <tr>\n",
              "      <th>ps_calc_19_bin</th>\n",
              "      <td>input</td>\n",
              "      <td>binary</td>\n",
              "      <td>True</td>\n",
              "      <td>int64</td>\n",
              "    </tr>\n",
              "    <tr>\n",
              "      <th>ps_calc_20_bin</th>\n",
              "      <td>input</td>\n",
              "      <td>binary</td>\n",
              "      <td>True</td>\n",
              "      <td>int64</td>\n",
              "    </tr>\n",
              "  </tbody>\n",
              "</table>\n",
              "</div>"
            ],
            "text/plain": [
              "                  role     level   keep    dtype\n",
              "varname                                         \n",
              "id                  id   nominal  False    int64\n",
              "target          target    binary   True    int64\n",
              "ps_ind_01        input   ordinal   True    int64\n",
              "ps_ind_02_cat    input   nominal   True    int64\n",
              "ps_ind_03        input   ordinal   True    int64\n",
              "ps_ind_04_cat    input   nominal   True    int64\n",
              "ps_ind_05_cat    input   nominal   True    int64\n",
              "ps_ind_06_bin    input    binary   True    int64\n",
              "ps_ind_07_bin    input    binary   True    int64\n",
              "ps_ind_08_bin    input    binary   True    int64\n",
              "ps_ind_09_bin    input    binary   True    int64\n",
              "ps_ind_10_bin    input    binary   True    int64\n",
              "ps_ind_11_bin    input    binary   True    int64\n",
              "ps_ind_12_bin    input    binary   True    int64\n",
              "ps_ind_13_bin    input    binary   True    int64\n",
              "ps_ind_14        input   ordinal   True    int64\n",
              "ps_ind_15        input   ordinal   True    int64\n",
              "ps_ind_16_bin    input    binary   True    int64\n",
              "ps_ind_17_bin    input    binary   True    int64\n",
              "ps_ind_18_bin    input    binary   True    int64\n",
              "ps_reg_01        input  interval   True  float64\n",
              "ps_reg_02        input  interval   True  float64\n",
              "ps_reg_03        input  interval   True  float64\n",
              "ps_car_01_cat    input   nominal   True    int64\n",
              "ps_car_02_cat    input   nominal   True    int64\n",
              "ps_car_03_cat    input   nominal   True    int64\n",
              "ps_car_04_cat    input   nominal   True    int64\n",
              "ps_car_05_cat    input   nominal   True    int64\n",
              "ps_car_06_cat    input   nominal   True    int64\n",
              "ps_car_07_cat    input   nominal   True    int64\n",
              "ps_car_08_cat    input   nominal   True    int64\n",
              "ps_car_09_cat    input   nominal   True    int64\n",
              "ps_car_10_cat    input   nominal   True    int64\n",
              "ps_car_11_cat    input   nominal   True    int64\n",
              "ps_car_11        input   ordinal   True    int64\n",
              "ps_car_12        input  interval   True  float64\n",
              "ps_car_13        input  interval   True  float64\n",
              "ps_car_14        input  interval   True  float64\n",
              "ps_car_15        input  interval   True  float64\n",
              "ps_calc_01       input  interval   True  float64\n",
              "ps_calc_02       input  interval   True  float64\n",
              "ps_calc_03       input  interval   True  float64\n",
              "ps_calc_04       input   ordinal   True    int64\n",
              "ps_calc_05       input   ordinal   True    int64\n",
              "ps_calc_06       input   ordinal   True    int64\n",
              "ps_calc_07       input   ordinal   True    int64\n",
              "ps_calc_08       input   ordinal   True    int64\n",
              "ps_calc_09       input   ordinal   True    int64\n",
              "ps_calc_10       input   ordinal   True    int64\n",
              "ps_calc_11       input   ordinal   True    int64\n",
              "ps_calc_12       input   ordinal   True    int64\n",
              "ps_calc_13       input   ordinal   True    int64\n",
              "ps_calc_14       input   ordinal   True    int64\n",
              "ps_calc_15_bin   input    binary   True    int64\n",
              "ps_calc_16_bin   input    binary   True    int64\n",
              "ps_calc_17_bin   input    binary   True    int64\n",
              "ps_calc_18_bin   input    binary   True    int64\n",
              "ps_calc_19_bin   input    binary   True    int64\n",
              "ps_calc_20_bin   input    binary   True    int64"
            ]
          },
          "metadata": {},
          "execution_count": 171
        }
      ]
    },
    {
      "cell_type": "code",
      "metadata": {
        "colab": {
          "base_uri": "https://localhost:8080/"
        },
        "id": "5fnIcBUfikVF",
        "outputId": "9fa11773-3fea-483a-cc7c-1c5230ee95c3"
      },
      "source": [
        "#extract all nomial var that are not dropped\n",
        "meta[(meta.level == 'nominal') & (meta.keep)].index"
      ],
      "execution_count": 172,
      "outputs": [
        {
          "output_type": "execute_result",
          "data": {
            "text/plain": [
              "Index(['ps_ind_02_cat', 'ps_ind_04_cat', 'ps_ind_05_cat', 'ps_car_01_cat',\n",
              "       'ps_car_02_cat', 'ps_car_03_cat', 'ps_car_04_cat', 'ps_car_05_cat',\n",
              "       'ps_car_06_cat', 'ps_car_07_cat', 'ps_car_08_cat', 'ps_car_09_cat',\n",
              "       'ps_car_10_cat', 'ps_car_11_cat'],\n",
              "      dtype='object', name='varname')"
            ]
          },
          "metadata": {},
          "execution_count": 172
        }
      ]
    },
    {
      "cell_type": "code",
      "metadata": {
        "colab": {
          "base_uri": "https://localhost:8080/",
          "height": 235
        },
        "id": "ZsxzamxDi73a",
        "outputId": "88dfc2f2-3da2-41d9-f440-96ce05e9682b"
      },
      "source": [
        "#display number of variable per role and level\n",
        "pd.DataFrame({\"count\":meta.groupby([\"role\",\"level\"])[\"role\"].size()}).reset_index()"
      ],
      "execution_count": 173,
      "outputs": [
        {
          "output_type": "execute_result",
          "data": {
            "text/html": [
              "<div>\n",
              "<style scoped>\n",
              "    .dataframe tbody tr th:only-of-type {\n",
              "        vertical-align: middle;\n",
              "    }\n",
              "\n",
              "    .dataframe tbody tr th {\n",
              "        vertical-align: top;\n",
              "    }\n",
              "\n",
              "    .dataframe thead th {\n",
              "        text-align: right;\n",
              "    }\n",
              "</style>\n",
              "<table border=\"1\" class=\"dataframe\">\n",
              "  <thead>\n",
              "    <tr style=\"text-align: right;\">\n",
              "      <th></th>\n",
              "      <th>role</th>\n",
              "      <th>level</th>\n",
              "      <th>count</th>\n",
              "    </tr>\n",
              "  </thead>\n",
              "  <tbody>\n",
              "    <tr>\n",
              "      <th>0</th>\n",
              "      <td>id</td>\n",
              "      <td>nominal</td>\n",
              "      <td>1</td>\n",
              "    </tr>\n",
              "    <tr>\n",
              "      <th>1</th>\n",
              "      <td>input</td>\n",
              "      <td>binary</td>\n",
              "      <td>17</td>\n",
              "    </tr>\n",
              "    <tr>\n",
              "      <th>2</th>\n",
              "      <td>input</td>\n",
              "      <td>interval</td>\n",
              "      <td>10</td>\n",
              "    </tr>\n",
              "    <tr>\n",
              "      <th>3</th>\n",
              "      <td>input</td>\n",
              "      <td>nominal</td>\n",
              "      <td>14</td>\n",
              "    </tr>\n",
              "    <tr>\n",
              "      <th>4</th>\n",
              "      <td>input</td>\n",
              "      <td>ordinal</td>\n",
              "      <td>16</td>\n",
              "    </tr>\n",
              "    <tr>\n",
              "      <th>5</th>\n",
              "      <td>target</td>\n",
              "      <td>binary</td>\n",
              "      <td>1</td>\n",
              "    </tr>\n",
              "  </tbody>\n",
              "</table>\n",
              "</div>"
            ],
            "text/plain": [
              "     role     level  count\n",
              "0      id   nominal      1\n",
              "1   input    binary     17\n",
              "2   input  interval     10\n",
              "3   input   nominal     14\n",
              "4   input   ordinal     16\n",
              "5  target    binary      1"
            ]
          },
          "metadata": {},
          "execution_count": 173
        }
      ]
    },
    {
      "cell_type": "markdown",
      "metadata": {
        "id": "hQdElS7gkL5S"
      },
      "source": [
        "# Descriptive statistic\n",
        "* apply describe method on df\n",
        "* not make sense to categorical var and id -> explore visually later\n",
        "* use metadata - easily select per data type"
      ]
    },
    {
      "cell_type": "markdown",
      "metadata": {
        "id": "UqXvd7vNkjHA"
      },
      "source": [
        "**Interval variable**"
      ]
    },
    {
      "cell_type": "markdown",
      "metadata": {
        "id": "D7HpSWsnt0Iy"
      },
      "source": [
        "**reg variable**\n",
        "* only `pg_reg_03` has missing value\n",
        "* range differ between variables -> apply scaling\n",
        "\n",
        "**car variable**\n",
        "* `ps_car_12` and `ps_car_15` has missing value\n",
        "* range differ between variables -> apply scaling\n",
        "\n",
        "**calc variable**\n",
        "* no missing value\n",
        "* maxium ration : 0.9\n",
        "\n",
        "**Overall**\n",
        "* range of interval variable is rather small\n",
        "* some transformation (ex.log) already applied in order to anonymize data?"
      ]
    },
    {
      "cell_type": "code",
      "metadata": {
        "colab": {
          "base_uri": "https://localhost:8080/",
          "height": 316
        },
        "id": "ZotyCDebjnvT",
        "outputId": "ba521367-d297-43f4-9329-8fe88b9e0f88"
      },
      "source": [
        "v=meta[(meta.level==\"interval\")&(meta.keep)].index\n",
        "train[v].describe()"
      ],
      "execution_count": 174,
      "outputs": [
        {
          "output_type": "execute_result",
          "data": {
            "text/html": [
              "<div>\n",
              "<style scoped>\n",
              "    .dataframe tbody tr th:only-of-type {\n",
              "        vertical-align: middle;\n",
              "    }\n",
              "\n",
              "    .dataframe tbody tr th {\n",
              "        vertical-align: top;\n",
              "    }\n",
              "\n",
              "    .dataframe thead th {\n",
              "        text-align: right;\n",
              "    }\n",
              "</style>\n",
              "<table border=\"1\" class=\"dataframe\">\n",
              "  <thead>\n",
              "    <tr style=\"text-align: right;\">\n",
              "      <th></th>\n",
              "      <th>ps_reg_01</th>\n",
              "      <th>ps_reg_02</th>\n",
              "      <th>ps_reg_03</th>\n",
              "      <th>ps_car_12</th>\n",
              "      <th>ps_car_13</th>\n",
              "      <th>ps_car_14</th>\n",
              "      <th>ps_car_15</th>\n",
              "      <th>ps_calc_01</th>\n",
              "      <th>ps_calc_02</th>\n",
              "      <th>ps_calc_03</th>\n",
              "    </tr>\n",
              "  </thead>\n",
              "  <tbody>\n",
              "    <tr>\n",
              "      <th>count</th>\n",
              "      <td>595212.000000</td>\n",
              "      <td>595212.000000</td>\n",
              "      <td>595212.000000</td>\n",
              "      <td>595212.000000</td>\n",
              "      <td>595212.000000</td>\n",
              "      <td>595212.000000</td>\n",
              "      <td>595212.000000</td>\n",
              "      <td>595212.000000</td>\n",
              "      <td>595212.000000</td>\n",
              "      <td>595212.000000</td>\n",
              "    </tr>\n",
              "    <tr>\n",
              "      <th>mean</th>\n",
              "      <td>0.610991</td>\n",
              "      <td>0.439184</td>\n",
              "      <td>0.551102</td>\n",
              "      <td>0.379945</td>\n",
              "      <td>0.813265</td>\n",
              "      <td>0.276256</td>\n",
              "      <td>3.065899</td>\n",
              "      <td>0.449756</td>\n",
              "      <td>0.449589</td>\n",
              "      <td>0.449849</td>\n",
              "    </tr>\n",
              "    <tr>\n",
              "      <th>std</th>\n",
              "      <td>0.287643</td>\n",
              "      <td>0.404264</td>\n",
              "      <td>0.793506</td>\n",
              "      <td>0.058327</td>\n",
              "      <td>0.224588</td>\n",
              "      <td>0.357154</td>\n",
              "      <td>0.731366</td>\n",
              "      <td>0.287198</td>\n",
              "      <td>0.286893</td>\n",
              "      <td>0.287153</td>\n",
              "    </tr>\n",
              "    <tr>\n",
              "      <th>min</th>\n",
              "      <td>0.000000</td>\n",
              "      <td>0.000000</td>\n",
              "      <td>-1.000000</td>\n",
              "      <td>-1.000000</td>\n",
              "      <td>0.250619</td>\n",
              "      <td>-1.000000</td>\n",
              "      <td>0.000000</td>\n",
              "      <td>0.000000</td>\n",
              "      <td>0.000000</td>\n",
              "      <td>0.000000</td>\n",
              "    </tr>\n",
              "    <tr>\n",
              "      <th>25%</th>\n",
              "      <td>0.400000</td>\n",
              "      <td>0.200000</td>\n",
              "      <td>0.525000</td>\n",
              "      <td>0.316228</td>\n",
              "      <td>0.670867</td>\n",
              "      <td>0.333167</td>\n",
              "      <td>2.828427</td>\n",
              "      <td>0.200000</td>\n",
              "      <td>0.200000</td>\n",
              "      <td>0.200000</td>\n",
              "    </tr>\n",
              "    <tr>\n",
              "      <th>50%</th>\n",
              "      <td>0.700000</td>\n",
              "      <td>0.300000</td>\n",
              "      <td>0.720677</td>\n",
              "      <td>0.374166</td>\n",
              "      <td>0.765811</td>\n",
              "      <td>0.368782</td>\n",
              "      <td>3.316625</td>\n",
              "      <td>0.500000</td>\n",
              "      <td>0.400000</td>\n",
              "      <td>0.500000</td>\n",
              "    </tr>\n",
              "    <tr>\n",
              "      <th>75%</th>\n",
              "      <td>0.900000</td>\n",
              "      <td>0.600000</td>\n",
              "      <td>1.000000</td>\n",
              "      <td>0.400000</td>\n",
              "      <td>0.906190</td>\n",
              "      <td>0.396485</td>\n",
              "      <td>3.605551</td>\n",
              "      <td>0.700000</td>\n",
              "      <td>0.700000</td>\n",
              "      <td>0.700000</td>\n",
              "    </tr>\n",
              "    <tr>\n",
              "      <th>max</th>\n",
              "      <td>0.900000</td>\n",
              "      <td>1.800000</td>\n",
              "      <td>4.037945</td>\n",
              "      <td>1.264911</td>\n",
              "      <td>3.720626</td>\n",
              "      <td>0.636396</td>\n",
              "      <td>3.741657</td>\n",
              "      <td>0.900000</td>\n",
              "      <td>0.900000</td>\n",
              "      <td>0.900000</td>\n",
              "    </tr>\n",
              "  </tbody>\n",
              "</table>\n",
              "</div>"
            ],
            "text/plain": [
              "           ps_reg_01      ps_reg_02      ps_reg_03      ps_car_12  \\\n",
              "count  595212.000000  595212.000000  595212.000000  595212.000000   \n",
              "mean        0.610991       0.439184       0.551102       0.379945   \n",
              "std         0.287643       0.404264       0.793506       0.058327   \n",
              "min         0.000000       0.000000      -1.000000      -1.000000   \n",
              "25%         0.400000       0.200000       0.525000       0.316228   \n",
              "50%         0.700000       0.300000       0.720677       0.374166   \n",
              "75%         0.900000       0.600000       1.000000       0.400000   \n",
              "max         0.900000       1.800000       4.037945       1.264911   \n",
              "\n",
              "           ps_car_13      ps_car_14      ps_car_15     ps_calc_01  \\\n",
              "count  595212.000000  595212.000000  595212.000000  595212.000000   \n",
              "mean        0.813265       0.276256       3.065899       0.449756   \n",
              "std         0.224588       0.357154       0.731366       0.287198   \n",
              "min         0.250619      -1.000000       0.000000       0.000000   \n",
              "25%         0.670867       0.333167       2.828427       0.200000   \n",
              "50%         0.765811       0.368782       3.316625       0.500000   \n",
              "75%         0.906190       0.396485       3.605551       0.700000   \n",
              "max         3.720626       0.636396       3.741657       0.900000   \n",
              "\n",
              "          ps_calc_02     ps_calc_03  \n",
              "count  595212.000000  595212.000000  \n",
              "mean        0.449589       0.449849  \n",
              "std         0.286893       0.287153  \n",
              "min         0.000000       0.000000  \n",
              "25%         0.200000       0.200000  \n",
              "50%         0.400000       0.500000  \n",
              "75%         0.700000       0.700000  \n",
              "max         0.900000       0.900000  "
            ]
          },
          "metadata": {},
          "execution_count": 174
        }
      ]
    },
    {
      "cell_type": "markdown",
      "metadata": {
        "id": "TvxFe0tlwdZy"
      },
      "source": [
        "**Ordinal variable**"
      ]
    },
    {
      "cell_type": "markdown",
      "metadata": {
        "id": "gLatYUc0wnfT"
      },
      "source": [
        "* `ps_car_11` has missing variable\n",
        "* different range -> apply scaling"
      ]
    },
    {
      "cell_type": "code",
      "metadata": {
        "colab": {
          "base_uri": "https://localhost:8080/",
          "height": 316
        },
        "id": "82csfw6otKoP",
        "outputId": "50eaf8cb-8451-47de-d4e2-21184f1810b1"
      },
      "source": [
        "v = meta[(meta.level == 'ordinal') & (meta.keep)].index\n",
        "train[v].describe()"
      ],
      "execution_count": 175,
      "outputs": [
        {
          "output_type": "execute_result",
          "data": {
            "text/html": [
              "<div>\n",
              "<style scoped>\n",
              "    .dataframe tbody tr th:only-of-type {\n",
              "        vertical-align: middle;\n",
              "    }\n",
              "\n",
              "    .dataframe tbody tr th {\n",
              "        vertical-align: top;\n",
              "    }\n",
              "\n",
              "    .dataframe thead th {\n",
              "        text-align: right;\n",
              "    }\n",
              "</style>\n",
              "<table border=\"1\" class=\"dataframe\">\n",
              "  <thead>\n",
              "    <tr style=\"text-align: right;\">\n",
              "      <th></th>\n",
              "      <th>ps_ind_01</th>\n",
              "      <th>ps_ind_03</th>\n",
              "      <th>ps_ind_14</th>\n",
              "      <th>ps_ind_15</th>\n",
              "      <th>ps_car_11</th>\n",
              "      <th>ps_calc_04</th>\n",
              "      <th>ps_calc_05</th>\n",
              "      <th>ps_calc_06</th>\n",
              "      <th>ps_calc_07</th>\n",
              "      <th>ps_calc_08</th>\n",
              "      <th>ps_calc_09</th>\n",
              "      <th>ps_calc_10</th>\n",
              "      <th>ps_calc_11</th>\n",
              "      <th>ps_calc_12</th>\n",
              "      <th>ps_calc_13</th>\n",
              "      <th>ps_calc_14</th>\n",
              "    </tr>\n",
              "  </thead>\n",
              "  <tbody>\n",
              "    <tr>\n",
              "      <th>count</th>\n",
              "      <td>595212.000000</td>\n",
              "      <td>595212.000000</td>\n",
              "      <td>595212.000000</td>\n",
              "      <td>595212.000000</td>\n",
              "      <td>595212.000000</td>\n",
              "      <td>595212.000000</td>\n",
              "      <td>595212.000000</td>\n",
              "      <td>595212.000000</td>\n",
              "      <td>595212.000000</td>\n",
              "      <td>595212.000000</td>\n",
              "      <td>595212.000000</td>\n",
              "      <td>595212.000000</td>\n",
              "      <td>595212.000000</td>\n",
              "      <td>595212.000000</td>\n",
              "      <td>595212.000000</td>\n",
              "      <td>595212.000000</td>\n",
              "    </tr>\n",
              "    <tr>\n",
              "      <th>mean</th>\n",
              "      <td>1.900378</td>\n",
              "      <td>4.423318</td>\n",
              "      <td>0.012451</td>\n",
              "      <td>7.299922</td>\n",
              "      <td>2.346072</td>\n",
              "      <td>2.372081</td>\n",
              "      <td>1.885886</td>\n",
              "      <td>7.689445</td>\n",
              "      <td>3.005823</td>\n",
              "      <td>9.225904</td>\n",
              "      <td>2.339034</td>\n",
              "      <td>8.433590</td>\n",
              "      <td>5.441382</td>\n",
              "      <td>1.441918</td>\n",
              "      <td>2.872288</td>\n",
              "      <td>7.539026</td>\n",
              "    </tr>\n",
              "    <tr>\n",
              "      <th>std</th>\n",
              "      <td>1.983789</td>\n",
              "      <td>2.699902</td>\n",
              "      <td>0.127545</td>\n",
              "      <td>3.546042</td>\n",
              "      <td>0.832548</td>\n",
              "      <td>1.117219</td>\n",
              "      <td>1.134927</td>\n",
              "      <td>1.334312</td>\n",
              "      <td>1.414564</td>\n",
              "      <td>1.459672</td>\n",
              "      <td>1.246949</td>\n",
              "      <td>2.904597</td>\n",
              "      <td>2.332871</td>\n",
              "      <td>1.202963</td>\n",
              "      <td>1.694887</td>\n",
              "      <td>2.746652</td>\n",
              "    </tr>\n",
              "    <tr>\n",
              "      <th>min</th>\n",
              "      <td>0.000000</td>\n",
              "      <td>0.000000</td>\n",
              "      <td>0.000000</td>\n",
              "      <td>0.000000</td>\n",
              "      <td>-1.000000</td>\n",
              "      <td>0.000000</td>\n",
              "      <td>0.000000</td>\n",
              "      <td>0.000000</td>\n",
              "      <td>0.000000</td>\n",
              "      <td>2.000000</td>\n",
              "      <td>0.000000</td>\n",
              "      <td>0.000000</td>\n",
              "      <td>0.000000</td>\n",
              "      <td>0.000000</td>\n",
              "      <td>0.000000</td>\n",
              "      <td>0.000000</td>\n",
              "    </tr>\n",
              "    <tr>\n",
              "      <th>25%</th>\n",
              "      <td>0.000000</td>\n",
              "      <td>2.000000</td>\n",
              "      <td>0.000000</td>\n",
              "      <td>5.000000</td>\n",
              "      <td>2.000000</td>\n",
              "      <td>2.000000</td>\n",
              "      <td>1.000000</td>\n",
              "      <td>7.000000</td>\n",
              "      <td>2.000000</td>\n",
              "      <td>8.000000</td>\n",
              "      <td>1.000000</td>\n",
              "      <td>6.000000</td>\n",
              "      <td>4.000000</td>\n",
              "      <td>1.000000</td>\n",
              "      <td>2.000000</td>\n",
              "      <td>6.000000</td>\n",
              "    </tr>\n",
              "    <tr>\n",
              "      <th>50%</th>\n",
              "      <td>1.000000</td>\n",
              "      <td>4.000000</td>\n",
              "      <td>0.000000</td>\n",
              "      <td>7.000000</td>\n",
              "      <td>3.000000</td>\n",
              "      <td>2.000000</td>\n",
              "      <td>2.000000</td>\n",
              "      <td>8.000000</td>\n",
              "      <td>3.000000</td>\n",
              "      <td>9.000000</td>\n",
              "      <td>2.000000</td>\n",
              "      <td>8.000000</td>\n",
              "      <td>5.000000</td>\n",
              "      <td>1.000000</td>\n",
              "      <td>3.000000</td>\n",
              "      <td>7.000000</td>\n",
              "    </tr>\n",
              "    <tr>\n",
              "      <th>75%</th>\n",
              "      <td>3.000000</td>\n",
              "      <td>6.000000</td>\n",
              "      <td>0.000000</td>\n",
              "      <td>10.000000</td>\n",
              "      <td>3.000000</td>\n",
              "      <td>3.000000</td>\n",
              "      <td>3.000000</td>\n",
              "      <td>9.000000</td>\n",
              "      <td>4.000000</td>\n",
              "      <td>10.000000</td>\n",
              "      <td>3.000000</td>\n",
              "      <td>10.000000</td>\n",
              "      <td>7.000000</td>\n",
              "      <td>2.000000</td>\n",
              "      <td>4.000000</td>\n",
              "      <td>9.000000</td>\n",
              "    </tr>\n",
              "    <tr>\n",
              "      <th>max</th>\n",
              "      <td>7.000000</td>\n",
              "      <td>11.000000</td>\n",
              "      <td>4.000000</td>\n",
              "      <td>13.000000</td>\n",
              "      <td>3.000000</td>\n",
              "      <td>5.000000</td>\n",
              "      <td>6.000000</td>\n",
              "      <td>10.000000</td>\n",
              "      <td>9.000000</td>\n",
              "      <td>12.000000</td>\n",
              "      <td>7.000000</td>\n",
              "      <td>25.000000</td>\n",
              "      <td>19.000000</td>\n",
              "      <td>10.000000</td>\n",
              "      <td>13.000000</td>\n",
              "      <td>23.000000</td>\n",
              "    </tr>\n",
              "  </tbody>\n",
              "</table>\n",
              "</div>"
            ],
            "text/plain": [
              "           ps_ind_01      ps_ind_03      ps_ind_14      ps_ind_15  \\\n",
              "count  595212.000000  595212.000000  595212.000000  595212.000000   \n",
              "mean        1.900378       4.423318       0.012451       7.299922   \n",
              "std         1.983789       2.699902       0.127545       3.546042   \n",
              "min         0.000000       0.000000       0.000000       0.000000   \n",
              "25%         0.000000       2.000000       0.000000       5.000000   \n",
              "50%         1.000000       4.000000       0.000000       7.000000   \n",
              "75%         3.000000       6.000000       0.000000      10.000000   \n",
              "max         7.000000      11.000000       4.000000      13.000000   \n",
              "\n",
              "           ps_car_11     ps_calc_04     ps_calc_05     ps_calc_06  \\\n",
              "count  595212.000000  595212.000000  595212.000000  595212.000000   \n",
              "mean        2.346072       2.372081       1.885886       7.689445   \n",
              "std         0.832548       1.117219       1.134927       1.334312   \n",
              "min        -1.000000       0.000000       0.000000       0.000000   \n",
              "25%         2.000000       2.000000       1.000000       7.000000   \n",
              "50%         3.000000       2.000000       2.000000       8.000000   \n",
              "75%         3.000000       3.000000       3.000000       9.000000   \n",
              "max         3.000000       5.000000       6.000000      10.000000   \n",
              "\n",
              "          ps_calc_07     ps_calc_08     ps_calc_09     ps_calc_10  \\\n",
              "count  595212.000000  595212.000000  595212.000000  595212.000000   \n",
              "mean        3.005823       9.225904       2.339034       8.433590   \n",
              "std         1.414564       1.459672       1.246949       2.904597   \n",
              "min         0.000000       2.000000       0.000000       0.000000   \n",
              "25%         2.000000       8.000000       1.000000       6.000000   \n",
              "50%         3.000000       9.000000       2.000000       8.000000   \n",
              "75%         4.000000      10.000000       3.000000      10.000000   \n",
              "max         9.000000      12.000000       7.000000      25.000000   \n",
              "\n",
              "          ps_calc_11     ps_calc_12     ps_calc_13     ps_calc_14  \n",
              "count  595212.000000  595212.000000  595212.000000  595212.000000  \n",
              "mean        5.441382       1.441918       2.872288       7.539026  \n",
              "std         2.332871       1.202963       1.694887       2.746652  \n",
              "min         0.000000       0.000000       0.000000       0.000000  \n",
              "25%         4.000000       1.000000       2.000000       6.000000  \n",
              "50%         5.000000       1.000000       3.000000       7.000000  \n",
              "75%         7.000000       2.000000       4.000000       9.000000  \n",
              "max        19.000000      10.000000      13.000000      23.000000  "
            ]
          },
          "metadata": {},
          "execution_count": 175
        }
      ]
    },
    {
      "cell_type": "markdown",
      "metadata": {
        "id": "ERxEeTfvwwYo"
      },
      "source": [
        "**Binary variable**\n",
        "* **strongly imbalanced** : priori in trian data 3.645%\n",
        "* most variables the value is zero in most case"
      ]
    },
    {
      "cell_type": "code",
      "metadata": {
        "colab": {
          "base_uri": "https://localhost:8080/",
          "height": 316
        },
        "id": "w7RlK3IUwiGF",
        "outputId": "1ec5ff5e-1aa7-4560-d178-6f50f7e2b472"
      },
      "source": [
        "v = meta[(meta.level == 'binary') & (meta.keep)].index\n",
        "train[v].describe()"
      ],
      "execution_count": 176,
      "outputs": [
        {
          "output_type": "execute_result",
          "data": {
            "text/html": [
              "<div>\n",
              "<style scoped>\n",
              "    .dataframe tbody tr th:only-of-type {\n",
              "        vertical-align: middle;\n",
              "    }\n",
              "\n",
              "    .dataframe tbody tr th {\n",
              "        vertical-align: top;\n",
              "    }\n",
              "\n",
              "    .dataframe thead th {\n",
              "        text-align: right;\n",
              "    }\n",
              "</style>\n",
              "<table border=\"1\" class=\"dataframe\">\n",
              "  <thead>\n",
              "    <tr style=\"text-align: right;\">\n",
              "      <th></th>\n",
              "      <th>target</th>\n",
              "      <th>ps_ind_06_bin</th>\n",
              "      <th>ps_ind_07_bin</th>\n",
              "      <th>ps_ind_08_bin</th>\n",
              "      <th>ps_ind_09_bin</th>\n",
              "      <th>ps_ind_10_bin</th>\n",
              "      <th>ps_ind_11_bin</th>\n",
              "      <th>ps_ind_12_bin</th>\n",
              "      <th>ps_ind_13_bin</th>\n",
              "      <th>ps_ind_16_bin</th>\n",
              "      <th>ps_ind_17_bin</th>\n",
              "      <th>ps_ind_18_bin</th>\n",
              "      <th>ps_calc_15_bin</th>\n",
              "      <th>ps_calc_16_bin</th>\n",
              "      <th>ps_calc_17_bin</th>\n",
              "      <th>ps_calc_18_bin</th>\n",
              "      <th>ps_calc_19_bin</th>\n",
              "      <th>ps_calc_20_bin</th>\n",
              "    </tr>\n",
              "  </thead>\n",
              "  <tbody>\n",
              "    <tr>\n",
              "      <th>count</th>\n",
              "      <td>595212.000000</td>\n",
              "      <td>595212.000000</td>\n",
              "      <td>595212.000000</td>\n",
              "      <td>595212.000000</td>\n",
              "      <td>595212.000000</td>\n",
              "      <td>595212.000000</td>\n",
              "      <td>595212.000000</td>\n",
              "      <td>595212.000000</td>\n",
              "      <td>595212.000000</td>\n",
              "      <td>595212.000000</td>\n",
              "      <td>595212.000000</td>\n",
              "      <td>595212.000000</td>\n",
              "      <td>595212.000000</td>\n",
              "      <td>595212.000000</td>\n",
              "      <td>595212.000000</td>\n",
              "      <td>595212.000000</td>\n",
              "      <td>595212.000000</td>\n",
              "      <td>595212.000000</td>\n",
              "    </tr>\n",
              "    <tr>\n",
              "      <th>mean</th>\n",
              "      <td>0.036448</td>\n",
              "      <td>0.393742</td>\n",
              "      <td>0.257033</td>\n",
              "      <td>0.163921</td>\n",
              "      <td>0.185304</td>\n",
              "      <td>0.000373</td>\n",
              "      <td>0.001692</td>\n",
              "      <td>0.009439</td>\n",
              "      <td>0.000948</td>\n",
              "      <td>0.660823</td>\n",
              "      <td>0.121081</td>\n",
              "      <td>0.153446</td>\n",
              "      <td>0.122427</td>\n",
              "      <td>0.627840</td>\n",
              "      <td>0.554182</td>\n",
              "      <td>0.287182</td>\n",
              "      <td>0.349024</td>\n",
              "      <td>0.153318</td>\n",
              "    </tr>\n",
              "    <tr>\n",
              "      <th>std</th>\n",
              "      <td>0.187401</td>\n",
              "      <td>0.488579</td>\n",
              "      <td>0.436998</td>\n",
              "      <td>0.370205</td>\n",
              "      <td>0.388544</td>\n",
              "      <td>0.019309</td>\n",
              "      <td>0.041097</td>\n",
              "      <td>0.096693</td>\n",
              "      <td>0.030768</td>\n",
              "      <td>0.473430</td>\n",
              "      <td>0.326222</td>\n",
              "      <td>0.360417</td>\n",
              "      <td>0.327779</td>\n",
              "      <td>0.483381</td>\n",
              "      <td>0.497056</td>\n",
              "      <td>0.452447</td>\n",
              "      <td>0.476662</td>\n",
              "      <td>0.360295</td>\n",
              "    </tr>\n",
              "    <tr>\n",
              "      <th>min</th>\n",
              "      <td>0.000000</td>\n",
              "      <td>0.000000</td>\n",
              "      <td>0.000000</td>\n",
              "      <td>0.000000</td>\n",
              "      <td>0.000000</td>\n",
              "      <td>0.000000</td>\n",
              "      <td>0.000000</td>\n",
              "      <td>0.000000</td>\n",
              "      <td>0.000000</td>\n",
              "      <td>0.000000</td>\n",
              "      <td>0.000000</td>\n",
              "      <td>0.000000</td>\n",
              "      <td>0.000000</td>\n",
              "      <td>0.000000</td>\n",
              "      <td>0.000000</td>\n",
              "      <td>0.000000</td>\n",
              "      <td>0.000000</td>\n",
              "      <td>0.000000</td>\n",
              "    </tr>\n",
              "    <tr>\n",
              "      <th>25%</th>\n",
              "      <td>0.000000</td>\n",
              "      <td>0.000000</td>\n",
              "      <td>0.000000</td>\n",
              "      <td>0.000000</td>\n",
              "      <td>0.000000</td>\n",
              "      <td>0.000000</td>\n",
              "      <td>0.000000</td>\n",
              "      <td>0.000000</td>\n",
              "      <td>0.000000</td>\n",
              "      <td>0.000000</td>\n",
              "      <td>0.000000</td>\n",
              "      <td>0.000000</td>\n",
              "      <td>0.000000</td>\n",
              "      <td>0.000000</td>\n",
              "      <td>0.000000</td>\n",
              "      <td>0.000000</td>\n",
              "      <td>0.000000</td>\n",
              "      <td>0.000000</td>\n",
              "    </tr>\n",
              "    <tr>\n",
              "      <th>50%</th>\n",
              "      <td>0.000000</td>\n",
              "      <td>0.000000</td>\n",
              "      <td>0.000000</td>\n",
              "      <td>0.000000</td>\n",
              "      <td>0.000000</td>\n",
              "      <td>0.000000</td>\n",
              "      <td>0.000000</td>\n",
              "      <td>0.000000</td>\n",
              "      <td>0.000000</td>\n",
              "      <td>1.000000</td>\n",
              "      <td>0.000000</td>\n",
              "      <td>0.000000</td>\n",
              "      <td>0.000000</td>\n",
              "      <td>1.000000</td>\n",
              "      <td>1.000000</td>\n",
              "      <td>0.000000</td>\n",
              "      <td>0.000000</td>\n",
              "      <td>0.000000</td>\n",
              "    </tr>\n",
              "    <tr>\n",
              "      <th>75%</th>\n",
              "      <td>0.000000</td>\n",
              "      <td>1.000000</td>\n",
              "      <td>1.000000</td>\n",
              "      <td>0.000000</td>\n",
              "      <td>0.000000</td>\n",
              "      <td>0.000000</td>\n",
              "      <td>0.000000</td>\n",
              "      <td>0.000000</td>\n",
              "      <td>0.000000</td>\n",
              "      <td>1.000000</td>\n",
              "      <td>0.000000</td>\n",
              "      <td>0.000000</td>\n",
              "      <td>0.000000</td>\n",
              "      <td>1.000000</td>\n",
              "      <td>1.000000</td>\n",
              "      <td>1.000000</td>\n",
              "      <td>1.000000</td>\n",
              "      <td>0.000000</td>\n",
              "    </tr>\n",
              "    <tr>\n",
              "      <th>max</th>\n",
              "      <td>1.000000</td>\n",
              "      <td>1.000000</td>\n",
              "      <td>1.000000</td>\n",
              "      <td>1.000000</td>\n",
              "      <td>1.000000</td>\n",
              "      <td>1.000000</td>\n",
              "      <td>1.000000</td>\n",
              "      <td>1.000000</td>\n",
              "      <td>1.000000</td>\n",
              "      <td>1.000000</td>\n",
              "      <td>1.000000</td>\n",
              "      <td>1.000000</td>\n",
              "      <td>1.000000</td>\n",
              "      <td>1.000000</td>\n",
              "      <td>1.000000</td>\n",
              "      <td>1.000000</td>\n",
              "      <td>1.000000</td>\n",
              "      <td>1.000000</td>\n",
              "    </tr>\n",
              "  </tbody>\n",
              "</table>\n",
              "</div>"
            ],
            "text/plain": [
              "              target  ps_ind_06_bin  ps_ind_07_bin  ps_ind_08_bin  \\\n",
              "count  595212.000000  595212.000000  595212.000000  595212.000000   \n",
              "mean        0.036448       0.393742       0.257033       0.163921   \n",
              "std         0.187401       0.488579       0.436998       0.370205   \n",
              "min         0.000000       0.000000       0.000000       0.000000   \n",
              "25%         0.000000       0.000000       0.000000       0.000000   \n",
              "50%         0.000000       0.000000       0.000000       0.000000   \n",
              "75%         0.000000       1.000000       1.000000       0.000000   \n",
              "max         1.000000       1.000000       1.000000       1.000000   \n",
              "\n",
              "       ps_ind_09_bin  ps_ind_10_bin  ps_ind_11_bin  ps_ind_12_bin  \\\n",
              "count  595212.000000  595212.000000  595212.000000  595212.000000   \n",
              "mean        0.185304       0.000373       0.001692       0.009439   \n",
              "std         0.388544       0.019309       0.041097       0.096693   \n",
              "min         0.000000       0.000000       0.000000       0.000000   \n",
              "25%         0.000000       0.000000       0.000000       0.000000   \n",
              "50%         0.000000       0.000000       0.000000       0.000000   \n",
              "75%         0.000000       0.000000       0.000000       0.000000   \n",
              "max         1.000000       1.000000       1.000000       1.000000   \n",
              "\n",
              "       ps_ind_13_bin  ps_ind_16_bin  ps_ind_17_bin  ps_ind_18_bin  \\\n",
              "count  595212.000000  595212.000000  595212.000000  595212.000000   \n",
              "mean        0.000948       0.660823       0.121081       0.153446   \n",
              "std         0.030768       0.473430       0.326222       0.360417   \n",
              "min         0.000000       0.000000       0.000000       0.000000   \n",
              "25%         0.000000       0.000000       0.000000       0.000000   \n",
              "50%         0.000000       1.000000       0.000000       0.000000   \n",
              "75%         0.000000       1.000000       0.000000       0.000000   \n",
              "max         1.000000       1.000000       1.000000       1.000000   \n",
              "\n",
              "       ps_calc_15_bin  ps_calc_16_bin  ps_calc_17_bin  ps_calc_18_bin  \\\n",
              "count   595212.000000   595212.000000   595212.000000   595212.000000   \n",
              "mean         0.122427        0.627840        0.554182        0.287182   \n",
              "std          0.327779        0.483381        0.497056        0.452447   \n",
              "min          0.000000        0.000000        0.000000        0.000000   \n",
              "25%          0.000000        0.000000        0.000000        0.000000   \n",
              "50%          0.000000        1.000000        1.000000        0.000000   \n",
              "75%          0.000000        1.000000        1.000000        1.000000   \n",
              "max          1.000000        1.000000        1.000000        1.000000   \n",
              "\n",
              "       ps_calc_19_bin  ps_calc_20_bin  \n",
              "count   595212.000000   595212.000000  \n",
              "mean         0.349024        0.153318  \n",
              "std          0.476662        0.360295  \n",
              "min          0.000000        0.000000  \n",
              "25%          0.000000        0.000000  \n",
              "50%          0.000000        0.000000  \n",
              "75%          1.000000        0.000000  \n",
              "max          1.000000        1.000000  "
            ]
          },
          "metadata": {},
          "execution_count": 176
        }
      ]
    },
    {
      "cell_type": "markdown",
      "metadata": {
        "id": "ysuIQQ8LxhVH"
      },
      "source": [
        "# Handling imbalanced classes\n",
        "The proportion of recoed with `target=1` is far less than `target=0`. <br>This lead to model that has great accuracy but does have any added value in pratice.<br> Two possible strategies to dela with this problem are\n",
        "* over-sampling records with `target=1`\n",
        "* under-sampling recoreds with `target=0`<br>\n",
        "\n",
        "As we have large train set, we can go for undersampling.<br>\n",
        "\n"
      ]
    },
    {
      "cell_type": "code",
      "metadata": {
        "colab": {
          "base_uri": "https://localhost:8080/"
        },
        "id": "1Yiq6KBuxLua",
        "outputId": "c6ba9d78-58ff-4079-985a-092cc6516fa2"
      },
      "source": [
        "desired_apriori=0.10\n",
        "\n",
        "#get the indices per target value\n",
        "idx_0=train[train.target==0].index\n",
        "idx_1=train[train.target==1].index\n",
        "\n",
        "#get original number of recored per target value\n",
        "nb_0=len(train.loc[idx_0])\n",
        "nb_1=len(train.loc[idx_1])\n",
        "\n",
        "#calculate undersampling rate and resulting number of records with target=0\n",
        "undersampling_rate=((1-desired_apriori)*nb_1)/(nb_0*desired_apriori)\n",
        "undersampled_nb_0=int(undersampling_rate*nb_0)\n",
        "print(\"Rate to undersample records with terget=0 : {}\".format(undersampling_rate))\n",
        "print(\"Number of records with target=0 after undersampling : {}\".format(undersampled_nb_0))\n",
        "\n",
        "#radomly select recored with target=0 to get at the desired a priori\n",
        "undersampled_idx=shuffle(idx_0,random_state=37,n_samples=undersampled_nb_0)\n",
        "\n",
        "#construct list with remaining indices\n",
        "idx_list=list(undersampled_idx)+list(idx_1)\n",
        "\n",
        "#return undersample data frame\n",
        "train=train.loc[idx_list].reset_index(drop=True)"
      ],
      "execution_count": 177,
      "outputs": [
        {
          "output_type": "stream",
          "name": "stdout",
          "text": [
            "Rate to undersample records with terget=0 : 0.34043569687437886\n",
            "Number of records with target=0 after undersampling : 195246\n"
          ]
        }
      ]
    },
    {
      "cell_type": "code",
      "metadata": {
        "id": "qP-Sr258gDx6"
      },
      "source": [
        "test=test.loc[idx_list].reset_index(drop=True)"
      ],
      "execution_count": 178,
      "outputs": []
    },
    {
      "cell_type": "markdown",
      "metadata": {
        "id": "jtjfBJkn0ixi"
      },
      "source": [
        "# Data Quality check\n",
        "**check missing values**\n",
        "missing are represented as `-1`"
      ]
    },
    {
      "cell_type": "markdown",
      "metadata": {
        "id": "FO1h0NKL1sow"
      },
      "source": [
        "* `ps_car_03_cat` & `ps_car_05_cat`<br>\n",
        "large proportion of record with missing value -> remove\n",
        "* `ps_reg_03` <br>\n",
        "18% missing continuous values -> replace by mean\n",
        "* `ps_car_11`<br>\n",
        "5 missing oridinal values -> replace by mode\n",
        "* `ps_car_12`<br>\n",
        "1 missing continous values -> replace by mean\n",
        "* `ps_car_14`<br>\n",
        "7% missing continous values -> replace by mean"
      ]
    },
    {
      "cell_type": "code",
      "metadata": {
        "colab": {
          "base_uri": "https://localhost:8080/"
        },
        "id": "4_gfJAzTyztI",
        "outputId": "e2cc13ad-88cf-47bd-e1d9-d0c31bf9b4d3"
      },
      "source": [
        "vars_with_missing=[]\n",
        "for f in train.columns:\n",
        "  missings=train[train[f]==-1][f].count()\n",
        "  if missings>0:\n",
        "    vars_with_missing.append(f)\n",
        "    missings_prec=missings/train.shape[0]\n",
        "\n",
        "    print(\"Variable {} has {} records ({:.2%}) with missing values\".format(f,missings,missings_prec))\n",
        "\n",
        "print(\"In total, there are {} variables with missing values\".format(len(vars_with_missing)))"
      ],
      "execution_count": 179,
      "outputs": [
        {
          "output_type": "stream",
          "name": "stdout",
          "text": [
            "Variable ps_ind_02_cat has 103 records (0.05%) with missing values\n",
            "Variable ps_ind_04_cat has 51 records (0.02%) with missing values\n",
            "Variable ps_ind_05_cat has 2256 records (1.04%) with missing values\n",
            "Variable ps_reg_03 has 38580 records (17.78%) with missing values\n",
            "Variable ps_car_01_cat has 62 records (0.03%) with missing values\n",
            "Variable ps_car_02_cat has 2 records (0.00%) with missing values\n",
            "Variable ps_car_03_cat has 148367 records (68.39%) with missing values\n",
            "Variable ps_car_05_cat has 96026 records (44.26%) with missing values\n",
            "Variable ps_car_07_cat has 4431 records (2.04%) with missing values\n",
            "Variable ps_car_09_cat has 230 records (0.11%) with missing values\n",
            "Variable ps_car_11 has 1 records (0.00%) with missing values\n",
            "Variable ps_car_14 has 15726 records (7.25%) with missing values\n",
            "In total, there are 12 variables with missing values\n"
          ]
        }
      ]
    },
    {
      "cell_type": "code",
      "metadata": {
        "id": "iVtvgu7S1V6h"
      },
      "source": [
        "# drop variable with too many missing values\n",
        "vars_to_drop=[\"ps_car_03_cat\",\"ps_car_05_cat\"]\n",
        "train.drop(vars_to_drop,inplace=True,axis=1)\n",
        "\n",
        "meta.loc[(vars_to_drop),\"keep\"]=False #updating the meta\n",
        "\n",
        "#imputing with the mean or mode\n",
        "mean_imp=SimpleImputer(missing_values=-1,strategy=\"mean\")\n",
        "mode_imp=SimpleImputer(missing_values=-1,strategy=\"most_frequent\")\n",
        "\n",
        "train['ps_reg_03'] = mean_imp.fit_transform(train[['ps_reg_03']]).ravel()\n",
        "train['ps_car_12'] = mean_imp.fit_transform(train[['ps_car_12']]).ravel()\n",
        "train['ps_car_14'] = mean_imp.fit_transform(train[['ps_car_14']]).ravel()\n",
        "train['ps_car_11'] = mode_imp.fit_transform(train[['ps_car_11']]).ravel()\n",
        "\n"
      ],
      "execution_count": 180,
      "outputs": []
    },
    {
      "cell_type": "code",
      "metadata": {
        "id": "OGIkeOmRgLF6"
      },
      "source": [
        "test.drop(vars_to_drop,inplace=True,axis=1)\n",
        "\n",
        "test['ps_reg_03'] = mean_imp.fit_transform(test[['ps_reg_03']]).ravel()\n",
        "test['ps_car_12'] = mean_imp.fit_transform(test[['ps_car_12']]).ravel()\n",
        "test['ps_car_14'] = mean_imp.fit_transform(test[['ps_car_14']]).ravel()\n",
        "test['ps_car_11'] = mode_imp.fit_transform(test[['ps_car_11']]).ravel()"
      ],
      "execution_count": 181,
      "outputs": []
    },
    {
      "cell_type": "markdown",
      "metadata": {
        "id": "QgGruNDx34xm"
      },
      "source": [
        "**checking the cardinality of the categorical variable**\n",
        "* cardinality : different values number\n",
        "* check there are variable with many distinct values"
      ]
    },
    {
      "cell_type": "markdown",
      "metadata": {
        "id": "PUCAlroH4Urv"
      },
      "source": [
        "`ps_cat_11_cat` : many distinct value "
      ]
    },
    {
      "cell_type": "code",
      "metadata": {
        "colab": {
          "base_uri": "https://localhost:8080/"
        },
        "id": "neF79nc33x6K",
        "outputId": "98f7fb6b-b07b-4968-c630-7470c6ae1468"
      },
      "source": [
        "v = meta[(meta.level == 'nominal') & (meta.keep)].index\n",
        "\n",
        "for f in v:\n",
        "    dist_values = train[f].value_counts().shape[0]\n",
        "    print('Variable {} has {} distinct values'.format(f, dist_values))"
      ],
      "execution_count": 182,
      "outputs": [
        {
          "output_type": "stream",
          "name": "stdout",
          "text": [
            "Variable ps_ind_02_cat has 5 distinct values\n",
            "Variable ps_ind_04_cat has 3 distinct values\n",
            "Variable ps_ind_05_cat has 8 distinct values\n",
            "Variable ps_car_01_cat has 13 distinct values\n",
            "Variable ps_car_02_cat has 3 distinct values\n",
            "Variable ps_car_04_cat has 10 distinct values\n",
            "Variable ps_car_06_cat has 18 distinct values\n",
            "Variable ps_car_07_cat has 3 distinct values\n",
            "Variable ps_car_08_cat has 2 distinct values\n",
            "Variable ps_car_09_cat has 6 distinct values\n",
            "Variable ps_car_10_cat has 3 distinct values\n",
            "Variable ps_car_11_cat has 104 distinct values\n"
          ]
        }
      ]
    },
    {
      "cell_type": "code",
      "metadata": {
        "id": "LWrn-XCX30Ge"
      },
      "source": [
        "# Script by https://www.kaggle.com/ogrellier\n",
        "# Code: https://www.kaggle.com/ogrellier/python-target-encoding-for-categorical-features\n",
        "\n",
        "#Smoothing is computed like in the following paper by Daniele Micci-Barreca\n",
        "#https://kaggle2.blob.core.windows.net/forum-message-attachments/225952/7441/high%20cardinality%20categoricals.pdf"
      ],
      "execution_count": 183,
      "outputs": []
    },
    {
      "cell_type": "code",
      "metadata": {
        "id": "B-CBSiqd4m5p"
      },
      "source": [
        "def add_noise(series,noise_level):\n",
        "  return series*(1+noise_level*np.random.randn(len(series)))"
      ],
      "execution_count": 184,
      "outputs": []
    },
    {
      "cell_type": "markdown",
      "metadata": {
        "id": "--bVWO1s8yJJ"
      },
      "source": [
        "  * `trn_series` : training categorical feature as a pd.Series\n",
        "  * `tst_serie`s : test categorical feature as a pd.Series\n",
        "  * `target` : target data as a pd.Series\n",
        "  * `min_samples_leaf (int)` : minimum samples to take category average into account\n",
        "  * `smoothing (int)` : smoothing effect to balance categorical average vs prior  "
      ]
    },
    {
      "cell_type": "code",
      "metadata": {
        "id": "xgDmFgUd40kP"
      },
      "source": [
        "def target_encode(trn_series=None, tst_series=None,target=None, min_samples_leaf=1,smoothing=1,noise_level=0):\n",
        "  assert len(trn_series)==len(target)\n",
        "  assert trn_series.name==tst_series.name\n",
        "  temp=pd.concat([trn_series,target],axis=1)\n",
        "\n",
        "  #compute target mean\n",
        "  averages=temp.groupby(by=trn_series.name)[target.name].agg([\"mean\",\"count\"])\n",
        "  #compute smoothing\n",
        "  smoothing=1/(1+np.exp(-(averages[\"count\"]-min_samples_leaf)/smoothing))\n",
        "  #apply average function to all target data\n",
        "  prior=target.mean()\n",
        "  #bigger the count the less full_avg is taken into account\n",
        "  averages[target.name]=prior*(1-smoothing)+averages[\"mean\"]*smoothing\n",
        "  averages.drop([\"mean\",\"count\"],axis=1,inplace=True) \n",
        "  #apply average to trn series\n",
        "  ft_trn_series=pd.merge(trn_series.to_frame(trn_series.name),\n",
        "                         averages.reset_index().rename(columns={\"index\":target.name,target.name:\"average\"}),\n",
        "                         on=trn_series.name,\n",
        "                         how=\"left\")[\"average\"].rename(trn_series.name+\"mean\").fillna(prior)\n",
        "  #pd.marge do not keep index so restore it\n",
        "  ft_trn_series.index=trn_series.index\n",
        "  #apply average to tst series\n",
        "  ft_tst_series=pd.merge(tst_series.to_frame(tst_series.name),\n",
        "                               averages.reset_index().rename(columns={\"index\":target.name, target.name:\"average\"}),\n",
        "                               on=tst_series.name,\n",
        "                               how=\"left\")[\"average\"].rename(trn_series.name+\"mean\").fillna(prior)\n",
        "\n",
        "\n",
        "  #pd.merge dono keep index so restore it\n",
        "  ft_tst_series.index=tst_series.index\n",
        "  return add_noise(ft_trn_series,noise_level),add_noise(ft_tst_series,noise_level)"
      ],
      "execution_count": 185,
      "outputs": []
    },
    {
      "cell_type": "code",
      "metadata": {
        "id": "n4mKFRJC8XCg"
      },
      "source": [
        "train_encoded, test_encoded = target_encode(train[\"ps_car_11_cat\"], \n",
        "                             test[\"ps_car_11_cat\"], \n",
        "                             target=train.target, \n",
        "                             min_samples_leaf=100,\n",
        "                             smoothing=10,\n",
        "                             noise_level=0.01)\n",
        "    \n",
        "train['ps_car_11_cat_te'] = train_encoded\n",
        "train.drop('ps_car_11_cat', axis=1, inplace=True)\n",
        "meta.loc['ps_car_11_cat','keep'] = False  # Updating the meta\n"
      ],
      "execution_count": 186,
      "outputs": []
    },
    {
      "cell_type": "code",
      "metadata": {
        "id": "5ByDxxu8ghVm"
      },
      "source": [
        "test['ps_car_11_cat_te'] = test_encoded\n",
        "test.drop('ps_car_11_cat', axis=1, inplace=True)"
      ],
      "execution_count": 187,
      "outputs": []
    },
    {
      "cell_type": "markdown",
      "metadata": {
        "id": "tFvSz5ec9Nr0"
      },
      "source": [
        "# Exploratory Data Visualization\n",
        "**catagorical variable**"
      ]
    },
    {
      "cell_type": "markdown",
      "metadata": {
        "id": "oGBGx2bd_1FN"
      },
      "source": [
        "* there are variable with missing values <br>-> keep missing vlaues as separate category value, not as mode for instance\n",
        "* customer with missing value appear to have much higher probabilty at ask insurance claim"
      ]
    },
    {
      "cell_type": "code",
      "metadata": {
        "colab": {
          "base_uri": "https://localhost:8080/",
          "height": 1000
        },
        "id": "L_N6zGH78bvl",
        "outputId": "a4dc2320-c9e9-4f39-d7b1-c004ca4d613f"
      },
      "source": [
        "v=meta[(meta.level==\"nominal\")&(meta.keep)].index\n",
        "\n",
        "for f in v:\n",
        "  plt.figure()\n",
        "  fig,ax=plt.subplots(figsize=(20,10))\n",
        "\n",
        "  #calculate the percentage of target=1 per categorical value\n",
        "  cat_perc = train[[f, 'target']].groupby([f],as_index=False).mean()\n",
        "  cat_perc.sort_values(by='target', ascending=False, inplace=True)\n",
        "\n",
        "  #bar plot : order the bars descending on target mean\n",
        "  sns.barplot(ax=ax, x=f, y='target', data=cat_perc, order=cat_perc[f])\n",
        "  plt.ylabel(\"% target\",fontsize=18)\n",
        "  plt.xlabel(f, fontsize=18)\n",
        "  plt.tick_params(axis=\"both\",which=\"major\",labelsize=18)\n",
        "  plt.show()\n"
      ],
      "execution_count": 188,
      "outputs": [
        {
          "output_type": "display_data",
          "data": {
            "text/plain": [
              "<Figure size 432x288 with 0 Axes>"
            ]
          },
          "metadata": {}
        },
        {
          "output_type": "display_data",
          "data": {
            "image/png": "[encoded data removed]",
            "text/plain": [
              "<Figure size 1440x720 with 1 Axes>"
            ]
          },
          "metadata": {
            "needs_background": "light"
          }
        },
        {
          "output_type": "display_data",
          "data": {
            "text/plain": [
              "<Figure size 432x288 with 0 Axes>"
            ]
          },
          "metadata": {}
        },
        {
          "output_type": "display_data",
          "data": {
            "image/png": "[encoded data removed]",
            "text/plain": [
              "<Figure size 1440x720 with 1 Axes>"
            ]
          },
          "metadata": {
            "needs_background": "light"
          }
        },
        {
          "output_type": "display_data",
          "data": {
            "text/plain": [
              "<Figure size 432x288 with 0 Axes>"
            ]
          },
          "metadata": {}
        },
        {
          "output_type": "display_data",
          "data": {
            "image/png": "[encoded data removed]",
            "text/plain": [
              "<Figure size 1440x720 with 1 Axes>"
            ]
          },
          "metadata": {
            "needs_background": "light"
          }
        },
        {
          "output_type": "display_data",
          "data": {
            "text/plain": [
              "<Figure size 432x288 with 0 Axes>"
            ]
          },
          "metadata": {}
        },
        {
          "output_type": "display_data",
          "data": {
            "image/png": "[encoded data removed]",
            "text/plain": [
              "<Figure size 1440x720 with 1 Axes>"
            ]
          },
          "metadata": {
            "needs_background": "light"
          }
        },
        {
          "output_type": "display_data",
          "data": {
            "text/plain": [
              "<Figure size 432x288 with 0 Axes>"
            ]
          },
          "metadata": {}
        },
        {
          "output_type": "display_data",
          "data": {
            "image/png": "[encoded data removed]",
            "text/plain": [
              "<Figure size 1440x720 with 1 Axes>"
            ]
          },
          "metadata": {
            "needs_background": "light"
          }
        },
        {
          "output_type": "display_data",
          "data": {
            "text/plain": [
              "<Figure size 432x288 with 0 Axes>"
            ]
          },
          "metadata": {}
        },
        {
          "output_type": "display_data",
          "data": {
            "image/png": "[encoded data removed]",
            "text/plain": [
              "<Figure size 1440x720 with 1 Axes>"
            ]
          },
          "metadata": {
            "needs_background": "light"
          }
        },
        {
          "output_type": "display_data",
          "data": {
            "text/plain": [
              "<Figure size 432x288 with 0 Axes>"
            ]
          },
          "metadata": {}
        },
        {
          "output_type": "display_data",
          "data": {
            "image/png": "[encoded data removed]",
            "text/plain": [
              "<Figure size 1440x720 with 1 Axes>"
            ]
          },
          "metadata": {
            "needs_background": "light"
          }
        },
        {
          "output_type": "display_data",
          "data": {
            "text/plain": [
              "<Figure size 432x288 with 0 Axes>"
            ]
          },
          "metadata": {}
        },
        {
          "output_type": "display_data",
          "data": {
            "image/png": "[encoded data removed]",
            "text/plain": [
              "<Figure size 1440x720 with 1 Axes>"
            ]
          },
          "metadata": {
            "needs_background": "light"
          }
        },
        {
          "output_type": "display_data",
          "data": {
            "text/plain": [
              "<Figure size 432x288 with 0 Axes>"
            ]
          },
          "metadata": {}
        },
        {
          "output_type": "display_data",
          "data": {
            "image/png": "[encoded data removed]",
            "text/plain": [
              "<Figure size 1440x720 with 1 Axes>"
            ]
          },
          "metadata": {
            "needs_background": "light"
          }
        },
        {
          "output_type": "display_data",
          "data": {
            "text/plain": [
              "<Figure size 432x288 with 0 Axes>"
            ]
          },
          "metadata": {}
        },
        {
          "output_type": "display_data",
          "data": {
            "image/png": "[encoded data removed]",
            "text/plain": [
              "<Figure size 1440x720 with 1 Axes>"
            ]
          },
          "metadata": {
            "needs_background": "light"
          }
        },
        {
          "output_type": "display_data",
          "data": {
            "text/plain": [
              "<Figure size 432x288 with 0 Axes>"
            ]
          },
          "metadata": {}
        },
        {
          "output_type": "display_data",
          "data": {
            "image/png": "[encoded data removed]",
            "text/plain": [
              "<Figure size 1440x720 with 1 Axes>"
            ]
          },
          "metadata": {
            "needs_background": "light"
          }
        }
      ]
    },
    {
      "cell_type": "markdown",
      "metadata": {
        "id": "BEo0cqESAWg6"
      },
      "source": [
        "**Interval variable**\n",
        "* check correlation between interval variable\n",
        "* use heatmap"
      ]
    },
    {
      "cell_type": "markdown",
      "metadata": {
        "id": "zH7dZ3dLBmLi"
      },
      "source": [
        "strong correlations between the variable:\n",
        "* `ps_reg_02` & `ps_reg_03` : 0.7\n",
        "* `ps_car_12` & `ps_car_13` : 0.67\n",
        "* `ps_car_12` & `ps_car_14` : 0.58\n",
        "* `ps_car_13` & `ps_car_15` : 0.67"
      ]
    },
    {
      "cell_type": "code",
      "metadata": {
        "id": "_BxIpb_j-txO"
      },
      "source": [
        "def corr_heatmap(v):\n",
        "  correlations=train[v].corr()\n",
        "\n",
        "  #create color map ranging between two colors\n",
        "  cmap=sns.diverging_palette(220,10,as_cmap=True)\n",
        "  fig,ax=plt.subplots(figsize=(10,10))\n",
        "  sns.heatmap(correlations,cmap=cmap,vmax=1.0,center=0,fmt=\".2f\",\n",
        "              square=True, linewidths=.5,\n",
        "              annot=True,cbar_kws={\"shrink\":.75}) \n",
        "  plt.show()"
      ],
      "execution_count": 189,
      "outputs": []
    },
    {
      "cell_type": "code",
      "metadata": {
        "colab": {
          "base_uri": "https://localhost:8080/",
          "height": 538
        },
        "id": "gYbIMqrEBVWL",
        "outputId": "6da10a59-7462-4ad0-91fe-cb93b1f47f0a"
      },
      "source": [
        "v=meta[(meta.level==\"interval\")&(meta.keep)].index\n",
        "corr_heatmap(v)"
      ],
      "execution_count": 190,
      "outputs": [
        {
          "output_type": "display_data",
          "data": {
            "image/png": "[encoded data removed]",
            "text/plain": [
              "<Figure size 720x720 with 2 Axes>"
            ]
          },
          "metadata": {
            "needs_background": "light"
          }
        }
      ]
    },
    {
      "cell_type": "code",
      "metadata": {
        "id": "7Ckpm9RyBdo8"
      },
      "source": [
        "#take sample for train data to speed up process\n",
        "s=train.sample(frac=0.1)"
      ],
      "execution_count": 191,
      "outputs": []
    },
    {
      "cell_type": "markdown",
      "metadata": {
        "id": "dlnbFHDUChiy"
      },
      "source": [
        "`ps_reg_02` & `ps_reg_03`\n",
        "* linear relationship\n",
        "* regression line for `target=1` and `target=0` is same"
      ]
    },
    {
      "cell_type": "code",
      "metadata": {
        "colab": {
          "base_uri": "https://localhost:8080/",
          "height": 369
        },
        "id": "L8otbsVsCLjF",
        "outputId": "633917ca-1b4f-4822-9f06-b00f269ff083"
      },
      "source": [
        "sns.lmplot(x=\"ps_reg_02\",y=\"ps_reg_03\",\n",
        "           data=s,hue=\"target\",palette=\"Set1\",\n",
        "           scatter_kws={\"alpha\":0.3})\n",
        "plt.show()"
      ],
      "execution_count": 192,
      "outputs": [
        {
          "output_type": "display_data",
          "data": {
            "image/png": "[encoded data removed]",
            "text/plain": [
              "<Figure size 402.375x360 with 1 Axes>"
            ]
          },
          "metadata": {
            "needs_background": "light"
          }
        }
      ]
    },
    {
      "cell_type": "markdown",
      "metadata": {
        "id": "VR093pYGDExw"
      },
      "source": [
        "`ps_car_12` & `ps_car_14`"
      ]
    },
    {
      "cell_type": "code",
      "metadata": {
        "colab": {
          "base_uri": "https://localhost:8080/",
          "height": 369
        },
        "id": "KCeB2McLCfB9",
        "outputId": "00f5821d-51f9-4b3a-c3d3-13e26e8db5bd"
      },
      "source": [
        "sns.lmplot(x=\"ps_car_12\",y=\"ps_car_13\",\n",
        "           data=s,hue=\"target\",palette=\"Set1\",\n",
        "           scatter_kws={\"alpha\":0.3})\n",
        "plt.show()"
      ],
      "execution_count": 193,
      "outputs": [
        {
          "output_type": "display_data",
          "data": {
            "image/png": "[encoded data removed]",
            "text/plain": [
              "<Figure size 402.375x360 with 1 Axes>"
            ]
          },
          "metadata": {
            "needs_background": "light"
          }
        }
      ]
    },
    {
      "cell_type": "markdown",
      "metadata": {
        "id": "Ldp7MBG7DLcy"
      },
      "source": [
        "`ps_car_13` & `ps_car_15`"
      ]
    },
    {
      "cell_type": "code",
      "metadata": {
        "colab": {
          "base_uri": "https://localhost:8080/",
          "height": 369
        },
        "id": "aoynyzfXC2HJ",
        "outputId": "7e42f90d-a4f9-49e7-baa2-4689fd1031ed"
      },
      "source": [
        "sns.lmplot(x=\"ps_car_15\",y=\"ps_car_13\",\n",
        "           data=s,hue=\"target\",palette=\"Set1\",\n",
        "           scatter_kws={\"alpha\":0.3})\n",
        "plt.show()"
      ],
      "execution_count": 194,
      "outputs": [
        {
          "output_type": "display_data",
          "data": {
            "image/png": "[encoded data removed]",
            "text/plain": [
              "<Figure size 402.375x360 with 1 Axes>"
            ]
          },
          "metadata": {
            "needs_background": "light"
          }
        }
      ]
    },
    {
      "cell_type": "markdown",
      "metadata": {
        "id": "ieKyVCcmDc1z"
      },
      "source": [
        "**PCA (Principal Component Analysis)**\n",
        "* reduce the dimension on variable\n",
        "* decide which of the correlated variable to keep<br>\n",
        "\n",
        "the number of correlated variable is rather low, we let model to do heavy lifting"
      ]
    },
    {
      "cell_type": "markdown",
      "metadata": {
        "id": "c8UcILjvEAu6"
      },
      "source": [
        "**check the correlation between oridinal variable**"
      ]
    },
    {
      "cell_type": "markdown",
      "metadata": {
        "id": "RH-K8oINFKDh"
      },
      "source": [
        "* not correlation in ordinal variable\n",
        "* look now distribution are when grouping by target value"
      ]
    },
    {
      "cell_type": "code",
      "metadata": {
        "colab": {
          "base_uri": "https://localhost:8080/",
          "height": 539
        },
        "id": "CSxu9fLfDT0-",
        "outputId": "c99d009b-f9a8-4ed4-b962-1695931af050"
      },
      "source": [
        "v=meta[(meta.level==\"ordinal\")&(meta.keep)].index\n",
        "corr_heatmap(v)"
      ],
      "execution_count": 195,
      "outputs": [
        {
          "output_type": "display_data",
          "data": {
            "image/png": "[encoded data removed]",
            "text/plain": [
              "<Figure size 720x720 with 2 Axes>"
            ]
          },
          "metadata": {
            "needs_background": "light"
          }
        }
      ]
    },
    {
      "cell_type": "markdown",
      "metadata": {
        "id": "6rEfP45vFdpV"
      },
      "source": [
        "# Feature Engineering"
      ]
    },
    {
      "cell_type": "markdown",
      "metadata": {
        "id": "9HcVy8CvGF0A"
      },
      "source": [
        "**creating dummy variable**\n",
        "* categorical variable : no any order or magnitude\n",
        "* drop the first dummy variable as this information can be derived from the other dummy variables generated for the categories of the original variable"
      ]
    },
    {
      "cell_type": "code",
      "metadata": {
        "colab": {
          "base_uri": "https://localhost:8080/"
        },
        "id": "bnKH-mqXEyRM",
        "outputId": "45a0ba1a-3ca5-463b-81a5-7a8f6db983a8"
      },
      "source": [
        "v=meta[(meta.level==\"nominal\")&(meta.keep)].index\n",
        "print(\"Before dummification we have {} variables in train\".format(train.shape[1]))"
      ],
      "execution_count": 196,
      "outputs": [
        {
          "output_type": "stream",
          "name": "stdout",
          "text": [
            "Before dummification we have 57 variables in train\n"
          ]
        }
      ]
    },
    {
      "cell_type": "code",
      "metadata": {
        "colab": {
          "base_uri": "https://localhost:8080/"
        },
        "id": "eKJdYvoAHDCk",
        "outputId": "a5fac0de-8710-42a2-bedb-ffa3d10834e4"
      },
      "source": [
        "train=pd.get_dummies(train,columns=v,drop_first=True)\n",
        "print(\"After dummification we have {} variables in train\".format(train.shape[1]))"
      ],
      "execution_count": 197,
      "outputs": [
        {
          "output_type": "stream",
          "name": "stdout",
          "text": [
            "After dummification we have 109 variables in train\n"
          ]
        }
      ]
    },
    {
      "cell_type": "code",
      "metadata": {
        "colab": {
          "base_uri": "https://localhost:8080/"
        },
        "id": "h4sa9hTRfpl3",
        "outputId": "bea1c981-b29b-4cc9-dd0f-4f24d8a6d3af"
      },
      "source": [
        "test=pd.get_dummies(test,columns=v,drop_first=True)\n",
        "print(\"After dummification we have {} variables in test\".format(test.shape[1]))"
      ],
      "execution_count": 198,
      "outputs": [
        {
          "output_type": "stream",
          "name": "stdout",
          "text": [
            "After dummification we have 108 variables in test\n"
          ]
        }
      ]
    },
    {
      "cell_type": "markdown",
      "metadata": {
        "id": "DahZgRrRHUwF"
      },
      "source": [
        "* creating dummy variable add 52 variable to training set"
      ]
    },
    {
      "cell_type": "markdown",
      "metadata": {
        "id": "eF9ti-b6HeCX"
      },
      "source": [
        "**creating interaction variable**"
      ]
    },
    {
      "cell_type": "markdown",
      "metadata": {
        "id": "Ov9oQV9sIstY"
      },
      "source": [
        "* add extra interaction variables to trian data\n",
        "* use *get_feature_names* method, assign column names to new variables"
      ]
    },
    {
      "cell_type": "code",
      "metadata": {
        "id": "ovhxsvooHQaW"
      },
      "source": [
        "v=meta[(meta.level==\"interval\")&(meta.keep)].index\n",
        "poly=PolynomialFeatures(degree=2,interaction_only=False,include_bias=False)\n",
        "interactions=pd.DataFrame(data=poly.fit_transform(train[v]),columns=poly.get_feature_names(v))\n",
        "interactions.drop(v,axis=1,inplace=True) #remove original columns"
      ],
      "execution_count": 199,
      "outputs": []
    },
    {
      "cell_type": "code",
      "metadata": {
        "colab": {
          "base_uri": "https://localhost:8080/"
        },
        "id": "QO1gr_MCIJFc",
        "outputId": "03464e5c-1561-4e98-c12a-40cf29290c76"
      },
      "source": [
        "#concat interaction variable to train data\n",
        "print(\"Before creating interaction we have {} variables in train\".format(train.shape[1]))\n",
        "train=pd.concat([train,interactions],axis=1)\n",
        "print(\"After creating interaction we have {} variables in train\".format(train.shape[1]))"
      ],
      "execution_count": 200,
      "outputs": [
        {
          "output_type": "stream",
          "name": "stdout",
          "text": [
            "Before creating interaction we have 109 variables in train\n",
            "After creating interaction we have 164 variables in train\n"
          ]
        }
      ]
    },
    {
      "cell_type": "code",
      "metadata": {
        "id": "WTKe5cKihBFi"
      },
      "source": [
        "interactions=pd.DataFrame(data=poly.fit_transform(test[v]),columns=poly.get_feature_names(v))\n",
        "interactions.drop(v,axis=1,inplace=True) #remove original columns"
      ],
      "execution_count": 201,
      "outputs": []
    },
    {
      "cell_type": "code",
      "metadata": {
        "colab": {
          "base_uri": "https://localhost:8080/"
        },
        "id": "T3Yu3N5NhFDy",
        "outputId": "36e85d6d-7564-4ac6-882f-8229071cf62e"
      },
      "source": [
        "#concat interaction variable to test data\n",
        "print(\"Before creating interaction we have {} variables in test\".format(test.shape[1]))\n",
        "test=pd.concat([test,interactions],axis=1)\n",
        "print(\"After creating interaction we have {} variables in test\".format(test.shape[1]))"
      ],
      "execution_count": 202,
      "outputs": [
        {
          "output_type": "stream",
          "name": "stdout",
          "text": [
            "Before creating interaction we have 108 variables in train\n",
            "After creating interaction we have 163 variables in train\n"
          ]
        }
      ]
    },
    {
      "cell_type": "markdown",
      "metadata": {
        "id": "I1BpXb4qJUrg"
      },
      "source": [
        "# Feature selection\n",
        "**removing feature with low or zero variance**\n",
        "* `VarianceThreshold` : remove features with zero variance<br>\n",
        "\n",
        "In this competition as we saw there are no zero-variance variable in previous steps. <br>\n",
        "if we remove features with less than 1% variance, remove 31 variables"
      ]
    },
    {
      "cell_type": "code",
      "metadata": {
        "colab": {
          "base_uri": "https://localhost:8080/"
        },
        "id": "rFjfA6wyIk4i",
        "outputId": "8677ab81-722c-4320-89eb-4ce6f1f8e074"
      },
      "source": [
        "selector=VarianceThreshold(threshold=.01)\n",
        "selector.fit(train.drop([\"id\",\"target\"],axis=1)) #fit to train without id and target variables\n",
        "\n",
        "f=np.vectorize(lambda x : not x) #function to toggle boolean array elements\n",
        "\n",
        "v=train.drop([\"id\",\"target\"],axis=1).columns[f(selector.get_support())]\n",
        "\n",
        "print(\"{} variables have too low variance\".format(len(v)))\n",
        "print(\"These variables are {}\".format(list(v)))"
      ],
      "execution_count": 203,
      "outputs": [
        {
          "output_type": "stream",
          "name": "stdout",
          "text": [
            "28 variables have too low variance\n",
            "These variables are ['ps_ind_10_bin', 'ps_ind_11_bin', 'ps_ind_12_bin', 'ps_ind_13_bin', 'ps_car_12', 'ps_car_14', 'ps_car_11_cat_te', 'ps_ind_05_cat_2', 'ps_ind_05_cat_5', 'ps_car_01_cat_1', 'ps_car_01_cat_2', 'ps_car_04_cat_3', 'ps_car_04_cat_4', 'ps_car_04_cat_5', 'ps_car_04_cat_6', 'ps_car_04_cat_7', 'ps_car_06_cat_2', 'ps_car_06_cat_5', 'ps_car_06_cat_8', 'ps_car_06_cat_12', 'ps_car_06_cat_16', 'ps_car_06_cat_17', 'ps_car_09_cat_4', 'ps_car_10_cat_1', 'ps_car_10_cat_2', 'ps_car_12^2', 'ps_car_12 ps_car_14', 'ps_car_14^2']\n"
          ]
        }
      ]
    },
    {
      "cell_type": "markdown",
      "metadata": {
        "id": "dLmGr-OXLHNd"
      },
      "source": [
        "would lose rather many variable if we would select based on variance<br>\n",
        "but we do not have many variable, we will let classifier chose<br>\n",
        "if dataset with many more variable this coudle reduce processing time"
      ]
    },
    {
      "cell_type": "markdown",
      "metadata": {
        "id": "OtoL2pqhLqu3"
      },
      "source": [
        "**Select feature with Random Forest and SelectFromModel**\n",
        "* base feature selection on feature importances of `randomforest`\n",
        "* use sklearn `SelectFromModel` able to select how many variable want to keep<br>\n",
        "\n",
        "you can able to set threshold on level of feature importance manually<br>\n",
        "this time we will simply select top 50% best variable\n"
      ]
    },
    {
      "cell_type": "code",
      "metadata": {
        "colab": {
          "base_uri": "https://localhost:8080/"
        },
        "id": "foU5Hbe_K01k",
        "outputId": "50bce0a1-f888-4c1c-e247-00f5bae0bcd4"
      },
      "source": [
        "X_train=train.drop([\"id\",\"target\"],axis=1)\n",
        "y_train=train[\"target\"]\n",
        "\n",
        "feat_labels=X_train.columns\n",
        "\n",
        "rf=RandomForestClassifier(n_estimators=150,max_depth=8, min_samples_leaf=4, max_features=0.2,random_state=0,n_jobs=-1)\n",
        "rf.fit(X_train,y_train)\n",
        "importances=rf.feature_importances_\n",
        "indices=np.argsort(rf.feature_importances_)[::-1]\n",
        "\n",
        "for f in range(X_train.shape[1]):\n",
        "  print(\"%2d) %-*s %f\"%(f+1, 30, feat_labels[indices[f]],importances[indices[f]]))"
      ],
      "execution_count": 204,
      "outputs": [
        {
          "output_type": "stream",
          "name": "stdout",
          "text": [
            " 1) ps_ind_05_cat_0                0.071801\n",
            " 2) ps_car_11_cat_te               0.045455\n",
            " 3) ps_car_13^2                    0.045028\n",
            " 4) ps_car_13                      0.039866\n",
            " 5) ps_ind_17_bin                  0.039845\n",
            " 6) ps_car_12 ps_car_13            0.037225\n",
            " 7) ps_reg_03 ps_car_13            0.035854\n",
            " 8) ps_reg_02 ps_car_13            0.025716\n",
            " 9) ps_car_13 ps_car_15            0.025587\n",
            "10) ps_reg_01 ps_car_13            0.023986\n",
            "11) ps_ind_03                      0.023161\n",
            "12) ps_car_13 ps_car_14            0.020111\n",
            "13) ps_car_07_cat_1                0.017395\n",
            "14) ps_reg_01 ps_reg_03            0.016364\n",
            "15) ps_reg_03 ps_car_12            0.016231\n",
            "16) ps_reg_02 ps_car_15            0.015449\n",
            "17) ps_car_12 ps_car_15            0.014674\n",
            "18) ps_ind_15                      0.014163\n",
            "19) ps_ind_16_bin                  0.012874\n",
            "20) ps_reg_02 ps_car_12            0.011890\n",
            "21) ps_car_14^2                    0.011872\n",
            "22) ps_reg_02 ps_reg_03            0.011803\n",
            "23) ps_reg_03 ps_car_15            0.011660\n",
            "24) ps_reg_03^2                    0.011454\n",
            "25) ps_reg_03                      0.011218\n",
            "26) ps_car_14 ps_car_15            0.011200\n",
            "27) ps_car_14                      0.011024\n",
            "28) ps_reg_03 ps_car_14            0.011003\n",
            "29) ps_reg_01 ps_car_14            0.010287\n",
            "30) ps_reg_02 ps_car_14            0.010096\n",
            "31) ps_car_13 ps_calc_01           0.009725\n",
            "32) ps_reg_01 ps_car_15            0.009302\n",
            "33) ps_car_13 ps_calc_02           0.009124\n",
            "34) ps_reg_01 ps_reg_02            0.009054\n",
            "35) ps_car_12 ps_car_14            0.008707\n",
            "36) ps_ind_06_bin                  0.008445\n",
            "37) ps_ind_05_cat_6                0.008429\n",
            "38) ps_car_13 ps_calc_03           0.008255\n",
            "39) ps_reg_03 ps_calc_01           0.008029\n",
            "40) ps_reg_03 ps_calc_02           0.007986\n",
            "41) ps_ind_07_bin                  0.007567\n",
            "42) ps_reg_03 ps_calc_03           0.007411\n",
            "43) ps_car_14 ps_calc_02           0.007060\n",
            "44) ps_car_14 ps_calc_01           0.006764\n",
            "45) ps_ind_01                      0.006678\n",
            "46) ps_car_12 ps_calc_01           0.006298\n",
            "47) ps_car_14 ps_calc_03           0.006253\n",
            "48) ps_calc_14                     0.006241\n",
            "49) ps_reg_01 ps_car_12            0.006093\n",
            "50) ps_calc_10                     0.005684\n",
            "51) ps_car_12 ps_calc_02           0.005566\n",
            "52) ps_reg_02 ps_calc_01           0.005437\n",
            "53) ps_car_07_cat_0                0.005381\n",
            "54) ps_reg_02 ps_calc_02           0.005236\n",
            "55) ps_car_12 ps_calc_03           0.005201\n",
            "56) ps_reg_02 ps_calc_03           0.004866\n",
            "57) ps_calc_11                     0.004854\n",
            "58) ps_car_15 ps_calc_03           0.004576\n",
            "59) ps_calc_02 ps_calc_03          0.004569\n",
            "60) ps_car_15 ps_calc_02           0.004548\n",
            "61) ps_car_15 ps_calc_01           0.004385\n",
            "62) ps_car_09_cat_1                0.004363\n",
            "63) ps_calc_01 ps_calc_02          0.004243\n",
            "64) ps_calc_13                     0.004156\n",
            "65) ps_calc_05                     0.003867\n",
            "66) ps_calc_01 ps_calc_03          0.003816\n",
            "67) ps_ind_05_cat_4                0.003813\n",
            "68) ps_reg_01 ps_calc_01           0.003657\n",
            "69) ps_reg_01 ps_calc_02           0.003627\n",
            "70) ps_reg_02^2                    0.003491\n",
            "71) ps_calc_08                     0.003371\n",
            "72) ps_ind_05_cat_2                0.003343\n",
            "73) ps_reg_01 ps_calc_03           0.003321\n",
            "74) ps_calc_07                     0.003314\n",
            "75) ps_calc_06                     0.003164\n",
            "76) ps_car_15^2                    0.003162\n",
            "77) ps_calc_09                     0.003099\n",
            "78) ps_reg_02                      0.003028\n",
            "79) ps_car_12                      0.003025\n",
            "80) ps_calc_12                     0.002889\n",
            "81) ps_calc_04                     0.002864\n",
            "82) ps_car_12^2                    0.002740\n",
            "83) ps_car_04_cat_2                0.002658\n",
            "84) ps_car_11                      0.002450\n",
            "85) ps_reg_01^2                    0.002255\n",
            "86) ps_car_15                      0.002027\n",
            "87) ps_car_01_cat_9                0.001956\n",
            "88) ps_car_01_cat_7                0.001930\n",
            "89) ps_calc_02^2                   0.001838\n",
            "90) ps_calc_02                     0.001638\n",
            "91) ps_calc_03^2                   0.001529\n",
            "92) ps_calc_03                     0.001459\n",
            "93) ps_reg_01                      0.001412\n",
            "94) ps_ind_09_bin                  0.001354\n",
            "95) ps_calc_01^2                   0.001309\n",
            "96) ps_car_09_cat_0                0.001274\n",
            "97) ps_ind_02_cat_1                0.001267\n",
            "98) ps_ind_08_bin                  0.001261\n",
            "99) ps_ind_04_cat_1                0.001175\n",
            "100) ps_car_09_cat_2                0.001127\n",
            "101) ps_ind_04_cat_0                0.001098\n",
            "102) ps_calc_01                     0.001063\n",
            "103) ps_ind_05_cat_3                0.000919\n",
            "104) ps_car_01_cat_11               0.000889\n",
            "105) ps_ind_02_cat_4                0.000868\n",
            "106) ps_calc_16_bin                 0.000787\n",
            "107) ps_car_01_cat_4                0.000787\n",
            "108) ps_calc_18_bin                 0.000783\n",
            "109) ps_ind_18_bin                  0.000768\n",
            "110) ps_car_06_cat_9                0.000767\n",
            "111) ps_calc_19_bin                 0.000731\n",
            "112) ps_ind_14                      0.000715\n",
            "113) ps_car_01_cat_10               0.000706\n",
            "114) ps_ind_05_cat_1                0.000680\n",
            "115) ps_ind_12_bin                  0.000626\n",
            "116) ps_calc_17_bin                 0.000619\n",
            "117) ps_calc_15_bin                 0.000612\n",
            "118) ps_car_01_cat_5                0.000592\n",
            "119) ps_ind_02_cat_2                0.000551\n",
            "120) ps_car_09_cat_3                0.000524\n",
            "121) ps_car_06_cat_17               0.000515\n",
            "122) ps_car_02_cat_1                0.000481\n",
            "123) ps_car_10_cat_1                0.000456\n",
            "124) ps_car_06_cat_15               0.000453\n",
            "125) ps_car_06_cat_11               0.000453\n",
            "126) ps_car_01_cat_0                0.000442\n",
            "127) ps_car_06_cat_1                0.000422\n",
            "128) ps_car_01_cat_3                0.000419\n",
            "129) ps_car_02_cat_0                0.000418\n",
            "130) ps_car_04_cat_1                0.000407\n",
            "131) ps_car_01_cat_8                0.000402\n",
            "132) ps_calc_20_bin                 0.000385\n",
            "133) ps_car_08_cat_1                0.000368\n",
            "134) ps_car_04_cat_7                0.000352\n",
            "135) ps_car_04_cat_9                0.000332\n",
            "136) ps_car_06_cat_14               0.000306\n",
            "137) ps_car_06_cat_4                0.000298\n",
            "138) ps_car_06_cat_12               0.000297\n",
            "139) ps_car_06_cat_10               0.000240\n",
            "140) ps_car_06_cat_6                0.000237\n",
            "141) ps_car_01_cat_6                0.000230\n",
            "142) ps_ind_02_cat_3                0.000223\n",
            "143) ps_car_06_cat_3                0.000217\n",
            "144) ps_car_09_cat_4                0.000216\n",
            "145) ps_ind_05_cat_5                0.000213\n",
            "146) ps_car_04_cat_8                0.000203\n",
            "147) ps_car_04_cat_6                0.000192\n",
            "148) ps_car_04_cat_5                0.000190\n",
            "149) ps_car_01_cat_2                0.000150\n",
            "150) ps_car_06_cat_7                0.000149\n",
            "151) ps_car_01_cat_1                0.000144\n",
            "152) ps_car_06_cat_16               0.000138\n",
            "153) ps_car_06_cat_13               0.000130\n",
            "154) ps_car_06_cat_2                0.000099\n",
            "155) ps_ind_13_bin                  0.000096\n",
            "156) ps_car_06_cat_5                0.000093\n",
            "157) ps_car_04_cat_3                0.000083\n",
            "158) ps_car_06_cat_8                0.000063\n",
            "159) ps_ind_10_bin                  0.000047\n",
            "160) ps_ind_11_bin                  0.000041\n",
            "161) ps_car_04_cat_4                0.000034\n",
            "162) ps_car_10_cat_2                0.000000\n"
          ]
        }
      ]
    },
    {
      "cell_type": "markdown",
      "metadata": {
        "id": "DKo3zfccO1Rf"
      },
      "source": [
        "`SelectFromModel` : specify which prefit classifier to use and what the threhold is for feature importances<br>\n",
        "`get_support` : limit the number of variables in train data"
      ]
    },
    {
      "cell_type": "code",
      "metadata": {
        "id": "92Jhs4w2Otcx",
        "colab": {
          "base_uri": "https://localhost:8080/"
        },
        "outputId": "02385144-9bcc-4c15-9e76-0e9dddc5df07"
      },
      "source": [
        "sfm=SelectFromModel(rf,threshold=\"median\",prefit=True)\n",
        "print(\"Number of features before selection: {}\".format(X_train.shape[1]))\n",
        "\n",
        "n_features=sfm.transform(X_train).shape[1]\n",
        "print(\"Number of features after selection: {}\".format(n_features))\n",
        "\n",
        "selected_vars=list(feat_labels[sfm.get_support()])"
      ],
      "execution_count": 207,
      "outputs": [
        {
          "output_type": "stream",
          "name": "stdout",
          "text": [
            "Number of features before selection: 162\n",
            "Number of features after selection: 81\n"
          ]
        }
      ]
    },
    {
      "cell_type": "code",
      "metadata": {
        "id": "QBBNDFJQiR5t"
      },
      "source": [
        "X_train = train[selected_vars]\n",
        "y_train=train[\"target\"]\n",
        "test = test[selected_vars] #no target column in test data"
      ],
      "execution_count": 216,
      "outputs": []
    },
    {
      "cell_type": "code",
      "metadata": {
        "colab": {
          "base_uri": "https://localhost:8080/"
        },
        "id": "VcmGiaOJiWkW",
        "outputId": "f34e1fca-e25a-4d4c-ce45-ed4c49795416"
      },
      "source": [
        "print(\"Train dataset (rows, cols):\",X_train.values.shape, \"\\nTest dataset (rows, cols):\",test.values.shape)"
      ],
      "execution_count": 218,
      "outputs": [
        {
          "output_type": "stream",
          "name": "stdout",
          "text": [
            "Train dataset (rows, cols): (216940, 81) \n",
            "Test dataset (rows, cols): (216940, 81)\n"
          ]
        }
      ]
    },
    {
      "cell_type": "markdown",
      "metadata": {
        "id": "tsH4z7IeeEG-"
      },
      "source": [
        "# Feature Scaling\n",
        "* apply standard scaling"
      ]
    },
    {
      "cell_type": "code",
      "metadata": {
        "colab": {
          "base_uri": "https://localhost:8080/"
        },
        "id": "FTbkydxfUf3U",
        "outputId": "115208c9-a75a-485d-a178-43c55cb3dadd"
      },
      "source": [
        "scaler=StandardScaler()\n",
        "scaler.fit_transform(X_train)"
      ],
      "execution_count": 219,
      "outputs": [
        {
          "output_type": "execute_result",
          "data": {
            "text/plain": [
              "array([[-0.45941104, -1.26665356,  1.25877984, ...,  0.33629291,\n",
              "        -1.00982477, -1.01071913],\n",
              "       [ 1.55538958,  0.95034274,  1.25877984, ..., -1.01051216,\n",
              "        -0.41144469, -1.01071913],\n",
              "       [ 1.05168943, -0.52765479,  1.25877984, ...,  0.33629291,\n",
              "        -0.86022975, -0.56215309],\n",
              "       ...,\n",
              "       [-0.9631112 ,  0.58084336, -0.7944201 , ..., -0.01287878,\n",
              "         0.48612543,  0.18545696],\n",
              "       [-0.9631112 , -0.89715418,  1.25877984, ..., -0.51169547,\n",
              "         0.48612543, -0.41263108],\n",
              "       [-0.45941104, -1.26665356, -0.7944201 , ..., -0.41193213,\n",
              "        -0.71063473, -0.11358706]])"
            ]
          },
          "metadata": {},
          "execution_count": 219
        }
      ]
    },
    {
      "cell_type": "code",
      "metadata": {
        "id": "kYgvD4JqfNHP"
      },
      "source": [
        "x_train_scaled = scaler.transform(X_train)\n",
        "x_test_scaled = scaler.transform(test)"
      ],
      "execution_count": 220,
      "outputs": []
    },
    {
      "cell_type": "markdown",
      "metadata": {
        "id": "3JEDoj75jtxX"
      },
      "source": [
        "# Prepare the model"
      ]
    },
    {
      "cell_type": "code",
      "metadata": {
        "id": "QLYH7QbXjTA7"
      },
      "source": [
        ""
      ],
      "execution_count": null,
      "outputs": []
    }
  ]
}