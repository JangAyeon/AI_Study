{
  "nbformat": 4,
  "nbformat_minor": 0,
  "metadata": {
    "colab": {
      "name": "Mercari_Price_Suggestion_Challenge.ipynb",
      "provenance": []
    },
    "kernelspec": {
      "name": "python3",
      "display_name": "Python 3"
    },
    "language_info": {
      "name": "python"
    }
  },
  "cells": [
    {
      "cell_type": "code",
      "source": [
        "import pandas as pd\n",
        "import numpy as np"
      ],
      "metadata": {
        "id": "zwwVpr7I3c9O"
      },
      "execution_count": null,
      "outputs": []
    },
    {
      "cell_type": "code",
      "execution_count": null,
      "metadata": {
        "colab": {
          "resources": {
            "http://localhost:8080/nbextensions/google.colab/files.js": {
              "data": "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",
              "ok": true,
              "headers": [
                [
                  "content-type",
                  "application/javascript"
                ]
              ],
              "status": 200,
              "status_text": ""
            }
          },
          "base_uri": "https://localhost:8080/",
          "height": 76
        },
        "id": "2JSp-69uzbI6",
        "outputId": "7c9a5ec0-cac6-4319-b5a9-e59402d559e5"
      },
      "outputs": [
        {
          "output_type": "display_data",
          "data": {
            "text/html": [
              "\n",
              "     <input type=\"file\" id=\"files-716f7380-1f8a-4fc0-bdbd-bc0e50b7f32b\" name=\"files[]\" multiple disabled\n",
              "        style=\"border:none\" />\n",
              "     <output id=\"result-716f7380-1f8a-4fc0-bdbd-bc0e50b7f32b\">\n",
              "      Upload widget is only available when the cell has been executed in the\n",
              "      current browser session. Please rerun this cell to enable.\n",
              "      </output>\n",
              "      <script src=\"/nbextensions/google.colab/files.js\"></script> "
            ],
            "text/plain": [
              "<IPython.core.display.HTML object>"
            ]
          },
          "metadata": {}
        },
        {
          "output_type": "stream",
          "name": "stdout",
          "text": [
            "Saving kaggle.json to kaggle.json\n"
          ]
        }
      ],
      "source": [
        "from google.colab import files\n",
        "uploaded=files.upload()"
      ]
    },
    {
      "cell_type": "code",
      "source": [
        "!cp kaggle.json ~/.kaggle/kaggle.json"
      ],
      "metadata": {
        "id": "4ZRebidE03O9"
      },
      "execution_count": null,
      "outputs": []
    },
    {
      "cell_type": "code",
      "source": [
        "!chmod 600 ~/.kaggle/kaggle.json"
      ],
      "metadata": {
        "id": "trH8i4RJ07wq"
      },
      "execution_count": null,
      "outputs": []
    },
    {
      "cell_type": "code",
      "source": [
        "!kaggle competitions download -c mercari-price-suggestion-challenge"
      ],
      "metadata": {
        "colab": {
          "base_uri": "https://localhost:8080/"
        },
        "id": "48fl8sTD0Pej",
        "outputId": "587ff684-8c3e-4951-c7c4-ff1f0f73450a"
      },
      "execution_count": null,
      "outputs": [
        {
          "output_type": "stream",
          "name": "stdout",
          "text": [
            "Warning: Looks like you're using an outdated API Version, please consider updating (server 1.5.12 / client 1.5.4)\n",
            "Downloading sample_submission_stg2.csv.zip to /content\n",
            "  0% 0.00/7.77M [00:00<?, ?B/s]\n",
            "100% 7.77M/7.77M [00:00<00:00, 129MB/s]\n",
            "Downloading test.tsv.7z to /content\n",
            " 97% 33.0M/34.0M [00:00<00:00, 104MB/s] \n",
            "100% 34.0M/34.0M [00:00<00:00, 165MB/s]\n",
            "Downloading train.tsv.7z to /content\n",
            " 87% 65.0M/74.3M [00:00<00:00, 71.5MB/s]\n",
            "100% 74.3M/74.3M [00:00<00:00, 102MB/s] \n",
            "Downloading test_stg2.tsv.zip to /content\n",
            " 97% 286M/294M [00:01<00:00, 205MB/s]\n",
            "100% 294M/294M [00:01<00:00, 187MB/s]\n",
            "Downloading sample_submission.csv.7z to /content\n",
            "  0% 0.00/170k [00:00<?, ?B/s]\n",
            "100% 170k/170k [00:00<00:00, 172MB/s]\n"
          ]
        }
      ]
    },
    {
      "cell_type": "code",
      "source": [
        "!pip install py7zr\n",
        "import py7zr\n",
        "import os"
      ],
      "metadata": {
        "colab": {
          "base_uri": "https://localhost:8080/"
        },
        "id": "XCmOfy9U1Itc",
        "outputId": "c7396505-3519-4086-fa4f-3addf1b884d4"
      },
      "execution_count": null,
      "outputs": [
        {
          "output_type": "stream",
          "name": "stdout",
          "text": [
            "Collecting py7zr\n",
            "  Downloading py7zr-0.17.2-py3-none-any.whl (68 kB)\n",
            "\u001b[K     |████████████████████████████████| 68 kB 3.0 MB/s \n",
            "\u001b[?25hCollecting texttable\n",
            "  Downloading texttable-1.6.4-py2.py3-none-any.whl (10 kB)\n",
            "Collecting pyzstd>=0.14.4\n",
            "  Downloading pyzstd-0.15.1-cp37-cp37m-manylinux_2_17_x86_64.manylinux2014_x86_64.whl (2.4 MB)\n",
            "\u001b[K     |████████████████████████████████| 2.4 MB 11.0 MB/s \n",
            "\u001b[?25hCollecting pyppmd>=0.17.0\n",
            "  Downloading pyppmd-0.17.3-cp37-cp37m-manylinux_2_17_x86_64.manylinux2014_x86_64.whl (126 kB)\n",
            "\u001b[K     |████████████████████████████████| 126 kB 62.7 MB/s \n",
            "\u001b[?25hCollecting pycryptodomex>=3.6.6\n",
            "  Downloading pycryptodomex-3.12.0-cp35-abi3-manylinux2010_x86_64.whl (2.0 MB)\n",
            "\u001b[K     |████████████████████████████████| 2.0 MB 41.4 MB/s \n",
            "\u001b[?25hCollecting pybcj>=0.5.0\n",
            "  Downloading pybcj-0.5.0-cp37-cp37m-manylinux_2_17_x86_64.manylinux2014_x86_64.whl (48 kB)\n",
            "\u001b[K     |████████████████████████████████| 48 kB 4.8 MB/s \n",
            "\u001b[?25hCollecting multivolumefile>=0.2.3\n",
            "  Downloading multivolumefile-0.2.3-py3-none-any.whl (17 kB)\n",
            "Requirement already satisfied: importlib-metadata in /usr/local/lib/python3.7/dist-packages (from py7zr) (4.8.2)\n",
            "Collecting brotli>=1.0.9\n",
            "  Downloading Brotli-1.0.9-cp37-cp37m-manylinux1_x86_64.whl (357 kB)\n",
            "\u001b[K     |████████████████████████████████| 357 kB 38.0 MB/s \n",
            "\u001b[?25hRequirement already satisfied: typing-extensions>=3.6.4 in /usr/local/lib/python3.7/dist-packages (from importlib-metadata->py7zr) (3.10.0.2)\n",
            "Requirement already satisfied: zipp>=0.5 in /usr/local/lib/python3.7/dist-packages (from importlib-metadata->py7zr) (3.6.0)\n",
            "Installing collected packages: texttable, pyzstd, pyppmd, pycryptodomex, pybcj, multivolumefile, brotli, py7zr\n",
            "Successfully installed brotli-1.0.9 multivolumefile-0.2.3 py7zr-0.17.2 pybcj-0.5.0 pycryptodomex-3.12.0 pyppmd-0.17.3 pyzstd-0.15.1 texttable-1.6.4\n"
          ]
        }
      ]
    },
    {
      "cell_type": "code",
      "source": [
        "!unzip -qq /content/test_stg2.tsv.zip\n",
        "!unzip -qq /content/sample_submission_stg2.csv.zip"
      ],
      "metadata": {
        "id": "fw-9alK70Ysx"
      },
      "execution_count": null,
      "outputs": []
    },
    {
      "cell_type": "code",
      "source": [
        "with py7zr.SevenZipFile(\"/content/sample_submission.csv.7z\", 'r') as archive:\n",
        "    archive.extractall(path=\"./data/sample_submission\")\n",
        "\n",
        "with py7zr.SevenZipFile(\"/content/test.tsv.7z\", 'r') as archive:\n",
        "    archive.extractall(path=\"./data/test\")\n",
        "    \n",
        "with py7zr.SevenZipFile(\"/content/train.tsv.7z\", 'r') as archive:\n",
        "    archive.extractall(path=\"./data/train\")\n",
        "\n",
        "for dirname, _, filenames in os.walk('./data'): \n",
        "    for filename in filenames: \n",
        "        print(os.path.join(dirname, filename))"
      ],
      "metadata": {
        "colab": {
          "base_uri": "https://localhost:8080/"
        },
        "id": "v9L2OtPD2BZo",
        "outputId": "5e8065dc-eff8-496f-c6ab-646244d5fce5"
      },
      "execution_count": null,
      "outputs": [
        {
          "output_type": "stream",
          "name": "stdout",
          "text": [
            "./data/train/train.tsv\n",
            "./data/test/test.tsv\n",
            "./data/sample_submission/sample_submission.csv\n"
          ]
        }
      ]
    },
    {
      "cell_type": "code",
      "source": [
        "test=pd.read_csv(\"/content/data/test/test.tsv\",sep=\"\\t\")\n",
        "train=pd.read_csv(\"/content/data/train/train.tsv\",sep=\"\\t\")"
      ],
      "metadata": {
        "id": "0Boe2vmx2yM9"
      },
      "execution_count": null,
      "outputs": []
    },
    {
      "cell_type": "code",
      "source": [
        "print(\"###data shape###\")\n",
        "print(\"train: \", train.shape)\n",
        "print(\"test: \",test.shape)"
      ],
      "metadata": {
        "colab": {
          "base_uri": "https://localhost:8080/"
        },
        "id": "0tv6fjgj20Vd",
        "outputId": "256c7dbe-b23e-4097-c27c-a4837fd0a28d"
      },
      "execution_count": null,
      "outputs": [
        {
          "output_type": "stream",
          "name": "stdout",
          "text": [
            "###data shape###\n",
            "train:  (1482535, 8)\n",
            "test:  (693359, 7)\n"
          ]
        }
      ]
    },
    {
      "cell_type": "code",
      "source": [
        "print(\"###data type###\")\n",
        "print(train.dtypes)"
      ],
      "metadata": {
        "colab": {
          "base_uri": "https://localhost:8080/"
        },
        "id": "xPaVrRUx3n1R",
        "outputId": "6eff3646-465e-48e2-815c-9030d0df45a1"
      },
      "execution_count": null,
      "outputs": [
        {
          "output_type": "stream",
          "name": "stdout",
          "text": [
            "###data type###\n",
            "train_id               int64\n",
            "name                  object\n",
            "item_condition_id      int64\n",
            "category_name         object\n",
            "brand_name            object\n",
            "price                float64\n",
            "shipping               int64\n",
            "item_description      object\n",
            "dtype: object\n"
          ]
        }
      ]
    },
    {
      "cell_type": "code",
      "source": [
        "train.head()"
      ],
      "metadata": {
        "colab": {
          "base_uri": "https://localhost:8080/",
          "height": 496
        },
        "id": "mRiC2aeC3tzu",
        "outputId": "a56e563a-178a-4fac-c001-f132680e6540"
      },
      "execution_count": null,
      "outputs": [
        {
          "output_type": "execute_result",
          "data": {
            "text/html": [
              "\n",
              "  <div id=\"df-5f4d42c2-f0d0-4717-8297-3ff5b3afd4bb\">\n",
              "    <div class=\"colab-df-container\">\n",
              "      <div>\n",
              "<style scoped>\n",
              "    .dataframe tbody tr th:only-of-type {\n",
              "        vertical-align: middle;\n",
              "    }\n",
              "\n",
              "    .dataframe tbody tr th {\n",
              "        vertical-align: top;\n",
              "    }\n",
              "\n",
              "    .dataframe thead th {\n",
              "        text-align: right;\n",
              "    }\n",
              "</style>\n",
              "<table border=\"1\" class=\"dataframe\">\n",
              "  <thead>\n",
              "    <tr style=\"text-align: right;\">\n",
              "      <th></th>\n",
              "      <th>train_id</th>\n",
              "      <th>name</th>\n",
              "      <th>item_condition_id</th>\n",
              "      <th>category_name</th>\n",
              "      <th>brand_name</th>\n",
              "      <th>price</th>\n",
              "      <th>shipping</th>\n",
              "      <th>item_description</th>\n",
              "    </tr>\n",
              "  </thead>\n",
              "  <tbody>\n",
              "    <tr>\n",
              "      <th>0</th>\n",
              "      <td>0</td>\n",
              "      <td>MLB Cincinnati Reds T Shirt Size XL</td>\n",
              "      <td>3</td>\n",
              "      <td>Men/Tops/T-shirts</td>\n",
              "      <td>NaN</td>\n",
              "      <td>10.0</td>\n",
              "      <td>1</td>\n",
              "      <td>No description yet</td>\n",
              "    </tr>\n",
              "    <tr>\n",
              "      <th>1</th>\n",
              "      <td>1</td>\n",
              "      <td>Razer BlackWidow Chroma Keyboard</td>\n",
              "      <td>3</td>\n",
              "      <td>Electronics/Computers &amp; Tablets/Components &amp; P...</td>\n",
              "      <td>Razer</td>\n",
              "      <td>52.0</td>\n",
              "      <td>0</td>\n",
              "      <td>This keyboard is in great condition and works ...</td>\n",
              "    </tr>\n",
              "    <tr>\n",
              "      <th>2</th>\n",
              "      <td>2</td>\n",
              "      <td>AVA-VIV Blouse</td>\n",
              "      <td>1</td>\n",
              "      <td>Women/Tops &amp; Blouses/Blouse</td>\n",
              "      <td>Target</td>\n",
              "      <td>10.0</td>\n",
              "      <td>1</td>\n",
              "      <td>Adorable top with a hint of lace and a key hol...</td>\n",
              "    </tr>\n",
              "    <tr>\n",
              "      <th>3</th>\n",
              "      <td>3</td>\n",
              "      <td>Leather Horse Statues</td>\n",
              "      <td>1</td>\n",
              "      <td>Home/Home Décor/Home Décor Accents</td>\n",
              "      <td>NaN</td>\n",
              "      <td>35.0</td>\n",
              "      <td>1</td>\n",
              "      <td>New with tags. Leather horses. Retail for [rm]...</td>\n",
              "    </tr>\n",
              "    <tr>\n",
              "      <th>4</th>\n",
              "      <td>4</td>\n",
              "      <td>24K GOLD plated rose</td>\n",
              "      <td>1</td>\n",
              "      <td>Women/Jewelry/Necklaces</td>\n",
              "      <td>NaN</td>\n",
              "      <td>44.0</td>\n",
              "      <td>0</td>\n",
              "      <td>Complete with certificate of authenticity</td>\n",
              "    </tr>\n",
              "  </tbody>\n",
              "</table>\n",
              "</div>\n",
              "      <button class=\"colab-df-convert\" onclick=\"convertToInteractive('df-5f4d42c2-f0d0-4717-8297-3ff5b3afd4bb')\"\n",
              "              title=\"Convert this dataframe to an interactive table.\"\n",
              "              style=\"display:none;\">\n",
              "        \n",
              "  <svg xmlns=\"http://www.w3.org/2000/svg\" height=\"24px\"viewBox=\"0 0 24 24\"\n",
              "       width=\"24px\">\n",
              "    <path d=\"M0 0h24v24H0V0z\" fill=\"none\"/>\n",
              "    <path d=\"M18.56 5.44l.94 2.06.94-2.06 2.06-.94-2.06-.94-.94-2.06-.94 2.06-2.06.94zm-11 1L8.5 8.5l.94-2.06 2.06-.94-2.06-.94L8.5 2.5l-.94 2.06-2.06.94zm10 10l.94 2.06.94-2.06 2.06-.94-2.06-.94-.94-2.06-.94 2.06-2.06.94z\"/><path d=\"M17.41 7.96l-1.37-1.37c-.4-.4-.92-.59-1.43-.59-.52 0-1.04.2-1.43.59L10.3 9.45l-7.72 7.72c-.78.78-.78 2.05 0 2.83L4 21.41c.39.39.9.59 1.41.59.51 0 1.02-.2 1.41-.59l7.78-7.78 2.81-2.81c.8-.78.8-2.07 0-2.86zM5.41 20L4 18.59l7.72-7.72 1.47 1.35L5.41 20z\"/>\n",
              "  </svg>\n",
              "      </button>\n",
              "      \n",
              "  <style>\n",
              "    .colab-df-container {\n",
              "      display:flex;\n",
              "      flex-wrap:wrap;\n",
              "      gap: 12px;\n",
              "    }\n",
              "\n",
              "    .colab-df-convert {\n",
              "      background-color: #E8F0FE;\n",
              "      border: none;\n",
              "      border-radius: 50%;\n",
              "      cursor: pointer;\n",
              "      display: none;\n",
              "      fill: #1967D2;\n",
              "      height: 32px;\n",
              "      padding: 0 0 0 0;\n",
              "      width: 32px;\n",
              "    }\n",
              "\n",
              "    .colab-df-convert:hover {\n",
              "      background-color: #E2EBFA;\n",
              "      box-shadow: 0px 1px 2px rgba(60, 64, 67, 0.3), 0px 1px 3px 1px rgba(60, 64, 67, 0.15);\n",
              "      fill: #174EA6;\n",
              "    }\n",
              "\n",
              "    [theme=dark] .colab-df-convert {\n",
              "      background-color: #3B4455;\n",
              "      fill: #D2E3FC;\n",
              "    }\n",
              "\n",
              "    [theme=dark] .colab-df-convert:hover {\n",
              "      background-color: #434B5C;\n",
              "      box-shadow: 0px 1px 3px 1px rgba(0, 0, 0, 0.15);\n",
              "      filter: drop-shadow(0px 1px 2px rgba(0, 0, 0, 0.3));\n",
              "      fill: #FFFFFF;\n",
              "    }\n",
              "  </style>\n",
              "\n",
              "      <script>\n",
              "        const buttonEl =\n",
              "          document.querySelector('#df-5f4d42c2-f0d0-4717-8297-3ff5b3afd4bb button.colab-df-convert');\n",
              "        buttonEl.style.display =\n",
              "          google.colab.kernel.accessAllowed ? 'block' : 'none';\n",
              "\n",
              "        async function convertToInteractive(key) {\n",
              "          const element = document.querySelector('#df-5f4d42c2-f0d0-4717-8297-3ff5b3afd4bb');\n",
              "          const dataTable =\n",
              "            await google.colab.kernel.invokeFunction('convertToInteractive',\n",
              "                                                     [key], {});\n",
              "          if (!dataTable) return;\n",
              "\n",
              "          const docLinkHtml = 'Like what you see? Visit the ' +\n",
              "            '<a target=\"_blank\" href=https://colab.research.google.com/notebooks/data_table.ipynb>data table notebook</a>'\n",
              "            + ' to learn more about interactive tables.';\n",
              "          element.innerHTML = '';\n",
              "          dataTable['output_type'] = 'display_data';\n",
              "          await google.colab.output.renderOutput(dataTable, element);\n",
              "          const docLink = document.createElement('div');\n",
              "          docLink.innerHTML = docLinkHtml;\n",
              "          element.appendChild(docLink);\n",
              "        }\n",
              "      </script>\n",
              "    </div>\n",
              "  </div>\n",
              "  "
            ],
            "text/plain": [
              "   train_id  ...                                   item_description\n",
              "0         0  ...                                 No description yet\n",
              "1         1  ...  This keyboard is in great condition and works ...\n",
              "2         2  ...  Adorable top with a hint of lace and a key hol...\n",
              "3         3  ...  New with tags. Leather horses. Retail for [rm]...\n",
              "4         4  ...          Complete with certificate of authenticity\n",
              "\n",
              "[5 rows x 8 columns]"
            ]
          },
          "metadata": {},
          "execution_count": 22
        }
      ]
    },
    {
      "cell_type": "code",
      "source": [
        "train.price.describe()"
      ],
      "metadata": {
        "id": "Tt9hnOdGdDCc"
      },
      "execution_count": null,
      "outputs": []
    },
    {
      "cell_type": "code",
      "source": [
        "def split_cat(text):\n",
        "    try: return text.split(\"/\")\n",
        "    except: return (\"No Label\", \"No Label\", \"No Label\")"
      ],
      "metadata": {
        "id": "Y12dVtoX31MC"
      },
      "execution_count": null,
      "outputs": []
    },
    {
      "cell_type": "code",
      "source": [
        "train['general_cat'], train['subcat_1'], train['subcat_2'] = \\\n",
        "zip(*train['category_name'].apply(lambda x: split_cat(x)))\n",
        "train.head()"
      ],
      "metadata": {
        "id": "APydpbDjdIy5"
      },
      "execution_count": null,
      "outputs": []
    },
    {
      "cell_type": "code",
      "source": [
        "print(\"There are %d unique first sub-categories.\" % train['subcat_1'].nunique())"
      ],
      "metadata": {
        "id": "glk3SW2SdMNj"
      },
      "execution_count": null,
      "outputs": []
    },
    {
      "cell_type": "code",
      "source": [
        "print(\"There are %d unique second sub-categories.\" % train['subcat_2'].nunique())"
      ],
      "metadata": {
        "id": "9JShDPzEdM-7"
      },
      "execution_count": null,
      "outputs": []
    },
    {
      "cell_type": "code",
      "source": [
        "x = train['general_cat'].value_counts().index.values.astype('str')\n",
        "y = train['general_cat'].value_counts().values\n",
        "pct = [(\"%.2f\"%(v*100))+\"%\"for v in (y/len(train))]"
      ],
      "metadata": {
        "id": "oLY7DU4mdM8r"
      },
      "execution_count": null,
      "outputs": []
    },
    {
      "cell_type": "code",
      "source": [
        "trace1 = go.Bar(x=x, y=y, text=pct)\n",
        "layout = dict(title= 'Number of Items by Main Category',\n",
        "              yaxis = dict(title='Count'),\n",
        "              xaxis = dict(title='Category'))\n",
        "fig=dict(data=[trace1], layout=layout)\n",
        "py.iplot(fig)"
      ],
      "metadata": {
        "id": "KtLtsPbRdM52"
      },
      "execution_count": null,
      "outputs": []
    },
    {
      "cell_type": "code",
      "source": [
        "x = train['subcat_1'].value_counts().index.values.astype('str')[:15]\n",
        "y = train['subcat_1'].value_counts().values[:15]\n",
        "pct = [(\"%.2f\"%(v*100))+\"%\"for v in (y/len(train))][:15]"
      ],
      "metadata": {
        "id": "4-HLtWs8dM3D"
      },
      "execution_count": null,
      "outputs": []
    },
    {
      "cell_type": "code",
      "source": [
        "print(\"There are %d unique brand names in the training dataset.\" % train['brand_name'].nunique())"
      ],
      "metadata": {
        "id": "L0LAh6itdUCX"
      },
      "execution_count": null,
      "outputs": []
    },
    {
      "cell_type": "code",
      "source": [
        "def wordCount(text):\n",
        "    # convert to lower case and strip regex\n",
        "    try:\n",
        "         # convert to lower case and strip regex\n",
        "        text = text.lower()\n",
        "        regex = re.compile('[' +re.escape(string.punctuation) + '0-9\\\\r\\\\t\\\\n]')\n",
        "        txt = regex.sub(\" \", text)\n",
        "        # tokenize\n",
        "        # words = nltk.word_tokenize(clean_txt)\n",
        "        # remove words in stop words\n",
        "        words = [w for w in txt.split(\" \") \\\n",
        "                 if not w in stop_words.ENGLISH_STOP_WORDS and len(w)>3]\n",
        "        return len(words)\n",
        "    except: \n",
        "        return 0"
      ],
      "metadata": {
        "id": "3SuOdlhbdV6l"
      },
      "execution_count": null,
      "outputs": []
    },
    {
      "cell_type": "code",
      "source": [
        "# add a column of word counts to both the training and test set\n",
        "train['desc_len'] = train['item_description'].apply(lambda x: wordCount(x))\n",
        "test['desc_len'] = test['item_description'].apply(lambda x: wordCount(x))"
      ],
      "metadata": {
        "id": "rL5K2zBrdX0K"
      },
      "execution_count": null,
      "outputs": []
    },
    {
      "cell_type": "code",
      "source": [
        "train.head()"
      ],
      "metadata": {
        "id": "r-G-8eeXdZ_k"
      },
      "execution_count": null,
      "outputs": []
    },
    {
      "cell_type": "code",
      "source": [
        "df = train.groupby('desc_len')['price'].mean().reset_index()"
      ],
      "metadata": {
        "id": "vvXJ0xJEdbJw"
      },
      "execution_count": null,
      "outputs": []
    },
    {
      "cell_type": "code",
      "source": [
        "# remove missing values in item description\n",
        "train = train[pd.notnull(train['item_description'])]"
      ],
      "metadata": {
        "id": "Aqey4f7Udci4"
      },
      "execution_count": null,
      "outputs": []
    },
    {
      "cell_type": "code",
      "source": [
        "stop = set(stopwords.words('english'))\n",
        "def tokenize(text):\n",
        "    \"\"\"\n",
        "    sent_tokenize(): segment text into sentences\n",
        "    word_tokenize(): break sentences into words\n",
        "    \"\"\"\n",
        "    try: \n",
        "        regex = re.compile('[' +re.escape(string.punctuation) + '0-9\\\\r\\\\t\\\\n]')\n",
        "        text = regex.sub(\" \", text) # remove punctuation\n",
        "        \n",
        "        tokens_ = [word_tokenize(s) for s in sent_tokenize(text)]\n",
        "        tokens = []\n",
        "        for token_by_sent in tokens_:\n",
        "            tokens += token_by_sent\n",
        "        tokens = list(filter(lambda t: t.lower() not in stop, tokens))\n",
        "        filtered_tokens = [w for w in tokens if re.search('[a-zA-Z]', w)]\n",
        "        filtered_tokens = [w.lower() for w in filtered_tokens if len(w)>=3]\n",
        "        \n",
        "        return filtered_tokens\n",
        "            \n",
        "    except TypeError as e: print(text,e)"
      ],
      "metadata": {
        "id": "kjOaz09sdeMd"
      },
      "execution_count": null,
      "outputs": []
    },
    {
      "cell_type": "code",
      "source": [
        "# apply the tokenizer into the item descriptipn column\n",
        "train['tokens'] = train['item_description'].map(tokenize)\n",
        "test['tokens'] = test['item_description'].map(tokenize)"
      ],
      "metadata": {
        "id": "kMgtADztdfWu"
      },
      "execution_count": null,
      "outputs": []
    },
    {
      "cell_type": "code",
      "source": [
        "for description, tokens in zip(train['item_description'].head(),\n",
        "                              train['tokens'].head()):\n",
        "    print('description:', description)\n",
        "    print('tokens:', tokens)\n",
        "    print()"
      ],
      "metadata": {
        "id": "sK3TRANfdgVw"
      },
      "execution_count": null,
      "outputs": []
    },
    {
      "cell_type": "code",
      "source": [
        "# build dictionary with key=category and values as all the descriptions related.\n",
        "cat_desc = dict()\n",
        "for cat in general_cats: \n",
        "    text = \" \".join(train.loc[train['general_cat']==cat, 'item_description'].values)\n",
        "    cat_desc[cat] = tokenize(text)\n",
        "\n",
        "\n",
        "# find the most common words for the top 4 categories\n",
        "women100 = Counter(cat_desc['Women']).most_common(100)\n",
        "beauty100 = Counter(cat_desc['Beauty']).most_common(100)\n",
        "kids100 = Counter(cat_desc['Kids']).most_common(100)\n",
        "electronics100 = Counter(cat_desc['Electronics']).most_common(100)"
      ],
      "metadata": {
        "id": "GsDVDMRSdhvD"
      },
      "execution_count": null,
      "outputs": []
    },
    {
      "cell_type": "code",
      "source": [
        "def generate_wordcloud(tup):\n",
        "    wordcloud = WordCloud(background_color='white',\n",
        "                          max_words=50, max_font_size=40,\n",
        "                          random_state=42\n",
        "                         ).generate(str(tup))\n",
        "    return wordcloud"
      ],
      "metadata": {
        "id": "UNwy52apdjDt"
      },
      "execution_count": null,
      "outputs": []
    },
    {
      "cell_type": "code",
      "source": [
        "from sklearn.feature_extraction.text import TfidfVectorizer\n",
        "vectorizer = TfidfVectorizer(min_df=10,\n",
        "                             max_features=180000,\n",
        "                             tokenizer=tokenize,\n",
        "                             ngram_range=(1, 2))"
      ],
      "metadata": {
        "id": "FAfDiQ7ddkS8"
      },
      "execution_count": null,
      "outputs": []
    },
    {
      "cell_type": "code",
      "source": [
        "all_desc = np.append(train['item_description'].values, test['item_description'].values)\n",
        "vz = vectorizer.fit_transform(list(all_desc))"
      ],
      "metadata": {
        "id": "_32w6yYQdkwq"
      },
      "execution_count": null,
      "outputs": []
    },
    {
      "cell_type": "code",
      "source": [
        "#  create a dictionary mapping the tokens to their tfidf values\n",
        "tfidf = dict(zip(vectorizer.get_feature_names(), vectorizer.idf_))\n",
        "tfidf = pd.DataFrame(columns=['tfidf']).from_dict(\n",
        "                    dict(tfidf), orient='index')\n",
        "tfidf.columns = ['tfidf']"
      ],
      "metadata": {
        "id": "HN2_hhe-dyaA"
      },
      "execution_count": null,
      "outputs": []
    },
    {
      "cell_type": "code",
      "source": [
        "tfidf.sort_values(by=['tfidf'], ascending=True).head(10)"
      ],
      "metadata": {
        "id": "dFJUeLLNdzov"
      },
      "execution_count": null,
      "outputs": []
    },
    {
      "cell_type": "code",
      "source": [
        "tfidf.sort_values(by=['tfidf'], ascending=False).head(10)"
      ],
      "metadata": {
        "id": "OqreOAfrd0_c"
      },
      "execution_count": null,
      "outputs": []
    },
    {
      "cell_type": "code",
      "source": [
        "trn = train.copy()\n",
        "tst = test.copy()\n",
        "trn['is_train'] = 1\n",
        "tst['is_train'] = 0\n",
        "\n",
        "sample_sz = 15000\n",
        "\n",
        "combined_df = pd.concat([trn, tst])\n",
        "combined_sample = combined_df.sample(n=sample_sz)\n",
        "vz_sample = vectorizer.fit_transform(list(combined_sample['item_description']))"
      ],
      "metadata": {
        "id": "obwZv96Od03D"
      },
      "execution_count": null,
      "outputs": []
    },
    {
      "cell_type": "code",
      "source": [
        "from sklearn.decomposition import TruncatedSVD\n",
        "\n",
        "n_comp=30\n",
        "svd = TruncatedSVD(n_components=n_comp, random_state=42)\n",
        "svd_tfidf = svd.fit_transform(vz_sample)"
      ],
      "metadata": {
        "id": "kgPYJT0yd3ra"
      },
      "execution_count": null,
      "outputs": []
    },
    {
      "cell_type": "code",
      "source": [
        "from sklearn.manifold import TSNE\n",
        "tsne_model = TSNE(n_components=2, verbose=1, random_state=42, n_iter=500)"
      ],
      "metadata": {
        "id": "oXjEPl5md5H_"
      },
      "execution_count": null,
      "outputs": []
    },
    {
      "cell_type": "code",
      "source": [
        "tsne_tfidf = tsne_model.fit_transform(svd_tfidf)"
      ],
      "metadata": {
        "id": "cUzyqGhld6IQ"
      },
      "execution_count": null,
      "outputs": []
    },
    {
      "cell_type": "code",
      "source": [
        "output_notebook()\n",
        "plot_tfidf = bp.figure(plot_width=700, plot_height=600,\n",
        "                       title=\"tf-idf clustering of the item description\",\n",
        "    tools=\"pan,wheel_zoom,box_zoom,reset,hover,previewsave\",\n",
        "    x_axis_type=None, y_axis_type=None, min_border=1)"
      ],
      "metadata": {
        "id": "ptJV7LJAd7kz"
      },
      "execution_count": null,
      "outputs": []
    },
    {
      "cell_type": "code",
      "source": [
        "tfidf_df = pd.DataFrame(tsne_tfidf, columns=['x', 'y'])\n",
        "tfidf_df['description'] = combined_sample['item_description']\n",
        "tfidf_df['tokens'] = combined_sample['tokens']\n",
        "tfidf_df['category'] = combined_sample['general_cat']"
      ],
      "metadata": {
        "id": "ZamFJvEvd8x4"
      },
      "execution_count": null,
      "outputs": []
    },
    {
      "cell_type": "code",
      "source": [
        "plot_tfidf.scatter(x='x', y='y', source=tfidf_df, alpha=0.7)\n",
        "hover = plot_tfidf.select(dict(type=HoverTool))\n",
        "hover.tooltips={\"description\": \"@description\", \"tokens\": \"@tokens\", \"category\":\"@category\"}\n",
        "show(plot_tfidf)"
      ],
      "metadata": {
        "id": "xWQqTuYBd9jh"
      },
      "execution_count": null,
      "outputs": []
    },
    {
      "cell_type": "code",
      "source": [
        "from sklearn.cluster import MiniBatchKMeans\n",
        "\n",
        "num_clusters = 30 # need to be selected wisely\n",
        "kmeans_model = MiniBatchKMeans(n_clusters=num_clusters,\n",
        "                               init='k-means++',\n",
        "                               n_init=1,\n",
        "                               init_size=1000, batch_size=1000, verbose=0, max_iter=1000)"
      ],
      "metadata": {
        "id": "bLlsfMSPePIw"
      },
      "execution_count": null,
      "outputs": []
    },
    {
      "cell_type": "code",
      "source": [
        "kmeans = kmeans_model.fit(vz)\n",
        "kmeans_clusters = kmeans.predict(vz)\n",
        "kmeans_distances = kmeans.transform(vz)"
      ],
      "metadata": {
        "id": "fopKTp_aeQTW"
      },
      "execution_count": null,
      "outputs": []
    },
    {
      "cell_type": "code",
      "source": [
        "sorted_centroids = kmeans.cluster_centers_.argsort()[:, ::-1]\n",
        "terms = vectorizer.get_feature_names()\n",
        "\n",
        "for i in range(num_clusters):\n",
        "    print(\"Cluster %d:\" % i)\n",
        "    aux = ''\n",
        "    for j in sorted_centroids[i, :10]:\n",
        "        aux += terms[j] + ' | '\n",
        "    print(aux)\n",
        "    print() "
      ],
      "metadata": {
        "id": "3eSUQAJkeRaH"
      },
      "execution_count": null,
      "outputs": []
    },
    {
      "cell_type": "code",
      "source": [
        "# repeat the same steps for the sample\n",
        "kmeans = kmeans_model.fit(vz_sample)\n",
        "kmeans_clusters = kmeans.predict(vz_sample)\n",
        "kmeans_distances = kmeans.transform(vz_sample)\n",
        "# reduce dimension to 2 using tsne\n",
        "tsne_kmeans = tsne_model.fit_transform(kmeans_distances)"
      ],
      "metadata": {
        "id": "LfMKGxhceSxK"
      },
      "execution_count": null,
      "outputs": []
    },
    {
      "cell_type": "code",
      "source": [
        "#combined_sample.reset_index(drop=True, inplace=True)\n",
        "kmeans_df = pd.DataFrame(tsne_kmeans, columns=['x', 'y'])\n",
        "kmeans_df['cluster'] = kmeans_clusters\n",
        "kmeans_df['description'] = combined_sample['item_description']\n",
        "kmeans_df['category'] = combined_sample['general_cat']\n",
        "#kmeans_df['cluster']=kmeans_df.cluster.astype(str).astype('category')"
      ],
      "metadata": {
        "id": "7VS0CRJOeUNx"
      },
      "execution_count": null,
      "outputs": []
    },
    {
      "cell_type": "code",
      "source": [
        "plot_kmeans = bp.figure(plot_width=700, plot_height=600,\n",
        "                        title=\"KMeans clustering of the description\",\n",
        "    tools=\"pan,wheel_zoom,box_zoom,reset,hover,previewsave\",\n",
        "    x_axis_type=None, y_axis_type=None, min_border=1)"
      ],
      "metadata": {
        "id": "CD_ORcgFeVM9"
      },
      "execution_count": null,
      "outputs": []
    },
    {
      "cell_type": "code",
      "source": [
        "source = ColumnDataSource(data=dict(x=kmeans_df['x'], y=kmeans_df['y'],\n",
        "                                    color=colormap[kmeans_clusters],\n",
        "                                    description=kmeans_df['description'],\n",
        "                                    category=kmeans_df['category'],\n",
        "                                    cluster=kmeans_df['cluster']))\n",
        "\n",
        "plot_kmeans.scatter(x='x', y='y', color='color', source=source)\n",
        "hover = plot_kmeans.select(dict(type=HoverTool))\n",
        "hover.tooltips={\"description\": \"@description\", \"category\": \"@category\", \"cluster\":\"@cluster\" }\n",
        "show(plot_kmeans)"
      ],
      "metadata": {
        "id": "DgubbYH_e73N"
      },
      "execution_count": null,
      "outputs": []
    },
    {
      "cell_type": "code",
      "source": [
        "cvectorizer = CountVectorizer(min_df=4,\n",
        "                              max_features=180000,\n",
        "                              tokenizer=tokenize,\n",
        "                              ngram_range=(1,2))"
      ],
      "metadata": {
        "id": "SEM9biYYe9Qi"
      },
      "execution_count": null,
      "outputs": []
    },
    {
      "cell_type": "code",
      "source": [
        "cvz = cvectorizer.fit_transform(combined_sample['item_description'])"
      ],
      "metadata": {
        "id": "1wx_2bVee-Ze"
      },
      "execution_count": null,
      "outputs": []
    },
    {
      "cell_type": "code",
      "source": [
        "lda_model = LatentDirichletAllocation(n_components=20,\n",
        "                                      learning_method='online',\n",
        "                                      max_iter=20,\n",
        "                                      random_state=42)"
      ],
      "metadata": {
        "id": "pKvROMeTe_2k"
      },
      "execution_count": null,
      "outputs": []
    },
    {
      "cell_type": "code",
      "source": [
        "X_topics = lda_model.fit_transform(cvz)"
      ],
      "metadata": {
        "id": "qsxGdUxLfAxt"
      },
      "execution_count": null,
      "outputs": []
    },
    {
      "cell_type": "code",
      "source": [
        "n_top_words = 10\n",
        "topic_summaries = []\n",
        "\n",
        "topic_word = lda_model.components_  # get the topic words\n",
        "vocab = cvectorizer.get_feature_names()\n",
        "\n",
        "for i, topic_dist in enumerate(topic_word):\n",
        "    topic_words = np.array(vocab)[np.argsort(topic_dist)][:-(n_top_words+1):-1]\n",
        "    topic_summaries.append(' '.join(topic_words))\n",
        "    print('Topic {}: {}'.format(i, ' | '.join(topic_words)))"
      ],
      "metadata": {
        "id": "S76Pa8v9fByy"
      },
      "execution_count": null,
      "outputs": []
    },
    {
      "cell_type": "code",
      "source": [
        "# reduce dimension to 2 using tsne\n",
        "tsne_lda = tsne_model.fit_transform(X_topics)"
      ],
      "metadata": {
        "id": "nUUjMF_lfDoa"
      },
      "execution_count": null,
      "outputs": []
    },
    {
      "cell_type": "code",
      "source": [
        "unnormalized = np.matrix(X_topics)\n",
        "doc_topic = unnormalized/unnormalized.sum(axis=1)\n",
        "\n",
        "lda_keys = []\n",
        "for i, tweet in enumerate(combined_sample['item_description']):\n",
        "    lda_keys += [doc_topic[i].argmax()]\n",
        "\n",
        "lda_df = pd.DataFrame(tsne_lda, columns=['x','y'])\n",
        "lda_df['description'] = combined_sample['item_description']\n",
        "lda_df['category'] = combined_sample['general_cat']\n",
        "lda_df['topic'] = lda_keys\n",
        "lda_df['topic'] = lda_df['topic'].map(int)"
      ],
      "metadata": {
        "id": "EsHtHgpufE41"
      },
      "execution_count": null,
      "outputs": []
    },
    {
      "cell_type": "code",
      "source": [
        "source = ColumnDataSource(data=dict(x=lda_df['x'], y=lda_df['y'],\n",
        "                                    color=colormap[lda_keys],\n",
        "                                    description=lda_df['description'],\n",
        "                                    topic=lda_df['topic'],\n",
        "                                    category=lda_df['category']))\n",
        "\n",
        "plot_lda.scatter(source=source, x='x', y='y', color='color')\n",
        "hover = plot_kmeans.select(dict(type=HoverTool))\n",
        "hover = plot_lda.select(dict(type=HoverTool))\n",
        "hover.tooltips={\"description\":\"@description\",\n",
        "                \"topic\":\"@topic\", \"category\":\"@category\"}\n",
        "show(plot_lda)"
      ],
      "metadata": {
        "id": "Cg3vUbAPfGRs"
      },
      "execution_count": null,
      "outputs": []
    },
    {
      "cell_type": "code",
      "source": [
        "def prepareLDAData():\n",
        "    data = {\n",
        "        'vocab': vocab,\n",
        "        'doc_topic_dists': doc_topic,\n",
        "        'doc_lengths': list(lda_df['len_docs']),\n",
        "        'term_frequency':cvectorizer.vocabulary_,\n",
        "        'topic_term_dists': lda_model.components_\n",
        "    } \n",
        "    return data"
      ],
      "metadata": {
        "id": "_o8kj7GtfMuj"
      },
      "execution_count": null,
      "outputs": []
    },
    {
      "cell_type": "code",
      "source": [
        "import pyLDAvis\n",
        "\n",
        "lda_df['len_docs'] = combined_sample['tokens'].map(len)\n",
        "ldadata = prepareLDAData()\n",
        "pyLDAvis.enable_notebook()\n",
        "prepared_data = pyLDAvis.prepare(**ldadata)"
      ],
      "metadata": {
        "id": "AwLCMBilfOGL"
      },
      "execution_count": null,
      "outputs": []
    },
    {
      "cell_type": "code",
      "source": [
        "import IPython.display\n",
        "from IPython.core.display import display, HTML, Javascript\n",
        "\n",
        "#h = IPython.display.display(HTML(html_string))\n",
        "#IPython.display.display_HTML(h)"
      ],
      "metadata": {
        "id": "s5xHjZSDfQO0"
      },
      "execution_count": null,
      "outputs": []
    }
  ]
}