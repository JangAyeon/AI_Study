{
  "nbformat": 4,
  "nbformat_minor": 0,
  "metadata": {
    "colab": {
      "name": "Zillow Prize: Zillow’s Home Value Prediction.ipynb",
      "provenance": []
    },
    "kernelspec": {
      "name": "python3",
      "display_name": "Python 3"
    },
    "language_info": {
      "name": "python"
    }
  },
  "cells": [
    {
      "cell_type": "markdown",
      "metadata": {
        "id": "-KUagGf3OQ-A"
      },
      "source": [
        "## Intro\n",
        "**Zillow**<br>\n",
        ": an online real estate database company founded in 2006<br><br>\n",
        "**Zestimate**<br>\n",
        ": estimate home value based on 7.5 million statical and mahin laerning models that analyze hundreds of data point on each property<br>\n",
        ": contiually imporving the median margin of error<br><br>\n",
        "**Objective**<br>\n",
        ": building a model to improving Zestimate error\n"
      ]
    },
    {
      "cell_type": "markdown",
      "metadata": {
        "id": "9Uh6WtRaa94k"
      },
      "source": [
        "## import library"
      ]
    },
    {
      "cell_type": "code",
      "metadata": {
        "id": "QdSrTE1LYvRS"
      },
      "source": [
        "import pandas as pd\n",
        "import numpy as np\n",
        "import matplotlib.pyplot as plt\n",
        "import seaborn as sns\n",
        "color = sns.color_palette()\n",
        "\n",
        "%matplotlib inline\n",
        "\n",
        "pd.options.mode.chained_assignment = None\n",
        "pd.options.display.max_columns = 999"
      ],
      "execution_count": 1,
      "outputs": []
    },
    {
      "cell_type": "markdown",
      "metadata": {
        "id": "TTQaAmzpbCdC"
      },
      "source": [
        "## load data"
      ]
    },
    {
      "cell_type": "code",
      "metadata": {
        "colab": {
          "base_uri": "https://localhost:8080/",
          "height": 224
        },
        "id": "vcTnZW12Z0Uy",
        "outputId": "0e0098bb-0934-4fd6-f474-37a115a1d0e8"
      },
      "source": [
        "train_df=pd.read_csv(\"/content/train_2016_v2.csv\", parse_dates=[\"transactiondate\"])\n",
        "print(\"shape : \",train_df.shape)\n",
        "train_df.head()"
      ],
      "execution_count": 2,
      "outputs": [
        {
          "output_type": "stream",
          "name": "stdout",
          "text": [
            "shape :  (90275, 3)\n"
          ]
        },
        {
          "output_type": "execute_result",
          "data": {
            "text/html": [
              "<div>\n",
              "<style scoped>\n",
              "    .dataframe tbody tr th:only-of-type {\n",
              "        vertical-align: middle;\n",
              "    }\n",
              "\n",
              "    .dataframe tbody tr th {\n",
              "        vertical-align: top;\n",
              "    }\n",
              "\n",
              "    .dataframe thead th {\n",
              "        text-align: right;\n",
              "    }\n",
              "</style>\n",
              "<table border=\"1\" class=\"dataframe\">\n",
              "  <thead>\n",
              "    <tr style=\"text-align: right;\">\n",
              "      <th></th>\n",
              "      <th>parcelid</th>\n",
              "      <th>logerror</th>\n",
              "      <th>transactiondate</th>\n",
              "    </tr>\n",
              "  </thead>\n",
              "  <tbody>\n",
              "    <tr>\n",
              "      <th>0</th>\n",
              "      <td>11016594</td>\n",
              "      <td>0.0276</td>\n",
              "      <td>2016-01-01</td>\n",
              "    </tr>\n",
              "    <tr>\n",
              "      <th>1</th>\n",
              "      <td>14366692</td>\n",
              "      <td>-0.1684</td>\n",
              "      <td>2016-01-01</td>\n",
              "    </tr>\n",
              "    <tr>\n",
              "      <th>2</th>\n",
              "      <td>12098116</td>\n",
              "      <td>-0.0040</td>\n",
              "      <td>2016-01-01</td>\n",
              "    </tr>\n",
              "    <tr>\n",
              "      <th>3</th>\n",
              "      <td>12643413</td>\n",
              "      <td>0.0218</td>\n",
              "      <td>2016-01-02</td>\n",
              "    </tr>\n",
              "    <tr>\n",
              "      <th>4</th>\n",
              "      <td>14432541</td>\n",
              "      <td>-0.0050</td>\n",
              "      <td>2016-01-02</td>\n",
              "    </tr>\n",
              "  </tbody>\n",
              "</table>\n",
              "</div>"
            ],
            "text/plain": [
              "   parcelid  logerror transactiondate\n",
              "0  11016594    0.0276      2016-01-01\n",
              "1  14366692   -0.1684      2016-01-01\n",
              "2  12098116   -0.0040      2016-01-01\n",
              "3  12643413    0.0218      2016-01-02\n",
              "4  14432541   -0.0050      2016-01-02"
            ]
          },
          "metadata": {},
          "execution_count": 2
        }
      ]
    },
    {
      "cell_type": "code",
      "metadata": {
        "colab": {
          "base_uri": "https://localhost:8080/",
          "height": 281
        },
        "id": "9cMWvBkKaKSN",
        "outputId": "0e12af3a-b99f-4d6e-e20e-066446748681"
      },
      "source": [
        "property_df=pd.read_csv(\"/content/properties_2016.csv\")\n",
        "print(\"shape : \",property_df.shape)\n",
        "property_df.head()"
      ],
      "execution_count": 3,
      "outputs": [
        {
          "output_type": "stream",
          "name": "stdout",
          "text": [
            "shape :  (312797, 58)\n"
          ]
        },
        {
          "output_type": "stream",
          "name": "stderr",
          "text": [
            "/usr/local/lib/python3.7/dist-packages/IPython/core/interactiveshell.py:2718: DtypeWarning: Columns (49) have mixed types.Specify dtype option on import or set low_memory=False.\n",
            "  interactivity=interactivity, compiler=compiler, result=result)\n"
          ]
        },
        {
          "output_type": "execute_result",
          "data": {
            "text/html": [
              "<div>\n",
              "<style scoped>\n",
              "    .dataframe tbody tr th:only-of-type {\n",
              "        vertical-align: middle;\n",
              "    }\n",
              "\n",
              "    .dataframe tbody tr th {\n",
              "        vertical-align: top;\n",
              "    }\n",
              "\n",
              "    .dataframe thead th {\n",
              "        text-align: right;\n",
              "    }\n",
              "</style>\n",
              "<table border=\"1\" class=\"dataframe\">\n",
              "  <thead>\n",
              "    <tr style=\"text-align: right;\">\n",
              "      <th></th>\n",
              "      <th>parcelid</th>\n",
              "      <th>airconditioningtypeid</th>\n",
              "      <th>architecturalstyletypeid</th>\n",
              "      <th>basementsqft</th>\n",
              "      <th>bathroomcnt</th>\n",
              "      <th>bedroomcnt</th>\n",
              "      <th>buildingclasstypeid</th>\n",
              "      <th>buildingqualitytypeid</th>\n",
              "      <th>calculatedbathnbr</th>\n",
              "      <th>decktypeid</th>\n",
              "      <th>finishedfloor1squarefeet</th>\n",
              "      <th>calculatedfinishedsquarefeet</th>\n",
              "      <th>finishedsquarefeet12</th>\n",
              "      <th>finishedsquarefeet13</th>\n",
              "      <th>finishedsquarefeet15</th>\n",
              "      <th>finishedsquarefeet50</th>\n",
              "      <th>finishedsquarefeet6</th>\n",
              "      <th>fips</th>\n",
              "      <th>fireplacecnt</th>\n",
              "      <th>fullbathcnt</th>\n",
              "      <th>garagecarcnt</th>\n",
              "      <th>garagetotalsqft</th>\n",
              "      <th>hashottuborspa</th>\n",
              "      <th>heatingorsystemtypeid</th>\n",
              "      <th>latitude</th>\n",
              "      <th>longitude</th>\n",
              "      <th>lotsizesquarefeet</th>\n",
              "      <th>poolcnt</th>\n",
              "      <th>poolsizesum</th>\n",
              "      <th>pooltypeid10</th>\n",
              "      <th>pooltypeid2</th>\n",
              "      <th>pooltypeid7</th>\n",
              "      <th>propertycountylandusecode</th>\n",
              "      <th>propertylandusetypeid</th>\n",
              "      <th>propertyzoningdesc</th>\n",
              "      <th>rawcensustractandblock</th>\n",
              "      <th>regionidcity</th>\n",
              "      <th>regionidcounty</th>\n",
              "      <th>regionidneighborhood</th>\n",
              "      <th>regionidzip</th>\n",
              "      <th>roomcnt</th>\n",
              "      <th>storytypeid</th>\n",
              "      <th>threequarterbathnbr</th>\n",
              "      <th>typeconstructiontypeid</th>\n",
              "      <th>unitcnt</th>\n",
              "      <th>yardbuildingsqft17</th>\n",
              "      <th>yardbuildingsqft26</th>\n",
              "      <th>yearbuilt</th>\n",
              "      <th>numberofstories</th>\n",
              "      <th>fireplaceflag</th>\n",
              "      <th>structuretaxvaluedollarcnt</th>\n",
              "      <th>taxvaluedollarcnt</th>\n",
              "      <th>assessmentyear</th>\n",
              "      <th>landtaxvaluedollarcnt</th>\n",
              "      <th>taxamount</th>\n",
              "      <th>taxdelinquencyflag</th>\n",
              "      <th>taxdelinquencyyear</th>\n",
              "      <th>censustractandblock</th>\n",
              "    </tr>\n",
              "  </thead>\n",
              "  <tbody>\n",
              "    <tr>\n",
              "      <th>0</th>\n",
              "      <td>10754147</td>\n",
              "      <td>NaN</td>\n",
              "      <td>NaN</td>\n",
              "      <td>NaN</td>\n",
              "      <td>0.0</td>\n",
              "      <td>0.0</td>\n",
              "      <td>NaN</td>\n",
              "      <td>NaN</td>\n",
              "      <td>NaN</td>\n",
              "      <td>NaN</td>\n",
              "      <td>NaN</td>\n",
              "      <td>NaN</td>\n",
              "      <td>NaN</td>\n",
              "      <td>NaN</td>\n",
              "      <td>NaN</td>\n",
              "      <td>NaN</td>\n",
              "      <td>NaN</td>\n",
              "      <td>6037</td>\n",
              "      <td>NaN</td>\n",
              "      <td>NaN</td>\n",
              "      <td>NaN</td>\n",
              "      <td>NaN</td>\n",
              "      <td>NaN</td>\n",
              "      <td>NaN</td>\n",
              "      <td>34144442.0</td>\n",
              "      <td>-118654084.0</td>\n",
              "      <td>85768.0</td>\n",
              "      <td>NaN</td>\n",
              "      <td>NaN</td>\n",
              "      <td>NaN</td>\n",
              "      <td>NaN</td>\n",
              "      <td>NaN</td>\n",
              "      <td>010D</td>\n",
              "      <td>269.0</td>\n",
              "      <td>NaN</td>\n",
              "      <td>6.037800e+07</td>\n",
              "      <td>37688.0</td>\n",
              "      <td>3101.0</td>\n",
              "      <td>NaN</td>\n",
              "      <td>96337.0</td>\n",
              "      <td>0.0</td>\n",
              "      <td>NaN</td>\n",
              "      <td>NaN</td>\n",
              "      <td>NaN</td>\n",
              "      <td>NaN</td>\n",
              "      <td>NaN</td>\n",
              "      <td>NaN</td>\n",
              "      <td>NaN</td>\n",
              "      <td>NaN</td>\n",
              "      <td>NaN</td>\n",
              "      <td>NaN</td>\n",
              "      <td>9.0</td>\n",
              "      <td>2015.0</td>\n",
              "      <td>9.0</td>\n",
              "      <td>NaN</td>\n",
              "      <td>NaN</td>\n",
              "      <td>NaN</td>\n",
              "      <td>NaN</td>\n",
              "    </tr>\n",
              "    <tr>\n",
              "      <th>1</th>\n",
              "      <td>10759547</td>\n",
              "      <td>NaN</td>\n",
              "      <td>NaN</td>\n",
              "      <td>NaN</td>\n",
              "      <td>0.0</td>\n",
              "      <td>0.0</td>\n",
              "      <td>NaN</td>\n",
              "      <td>NaN</td>\n",
              "      <td>NaN</td>\n",
              "      <td>NaN</td>\n",
              "      <td>NaN</td>\n",
              "      <td>NaN</td>\n",
              "      <td>NaN</td>\n",
              "      <td>NaN</td>\n",
              "      <td>NaN</td>\n",
              "      <td>NaN</td>\n",
              "      <td>NaN</td>\n",
              "      <td>6037</td>\n",
              "      <td>NaN</td>\n",
              "      <td>NaN</td>\n",
              "      <td>NaN</td>\n",
              "      <td>NaN</td>\n",
              "      <td>NaN</td>\n",
              "      <td>NaN</td>\n",
              "      <td>34140430.0</td>\n",
              "      <td>-118625364.0</td>\n",
              "      <td>4083.0</td>\n",
              "      <td>NaN</td>\n",
              "      <td>NaN</td>\n",
              "      <td>NaN</td>\n",
              "      <td>NaN</td>\n",
              "      <td>NaN</td>\n",
              "      <td>0109</td>\n",
              "      <td>261.0</td>\n",
              "      <td>LCA11*</td>\n",
              "      <td>6.037800e+07</td>\n",
              "      <td>37688.0</td>\n",
              "      <td>3101.0</td>\n",
              "      <td>NaN</td>\n",
              "      <td>96337.0</td>\n",
              "      <td>0.0</td>\n",
              "      <td>NaN</td>\n",
              "      <td>NaN</td>\n",
              "      <td>NaN</td>\n",
              "      <td>NaN</td>\n",
              "      <td>NaN</td>\n",
              "      <td>NaN</td>\n",
              "      <td>NaN</td>\n",
              "      <td>NaN</td>\n",
              "      <td>NaN</td>\n",
              "      <td>NaN</td>\n",
              "      <td>27516.0</td>\n",
              "      <td>2015.0</td>\n",
              "      <td>27516.0</td>\n",
              "      <td>NaN</td>\n",
              "      <td>NaN</td>\n",
              "      <td>NaN</td>\n",
              "      <td>NaN</td>\n",
              "    </tr>\n",
              "    <tr>\n",
              "      <th>2</th>\n",
              "      <td>10843547</td>\n",
              "      <td>NaN</td>\n",
              "      <td>NaN</td>\n",
              "      <td>NaN</td>\n",
              "      <td>0.0</td>\n",
              "      <td>0.0</td>\n",
              "      <td>NaN</td>\n",
              "      <td>NaN</td>\n",
              "      <td>NaN</td>\n",
              "      <td>NaN</td>\n",
              "      <td>NaN</td>\n",
              "      <td>73026.0</td>\n",
              "      <td>NaN</td>\n",
              "      <td>NaN</td>\n",
              "      <td>73026.0</td>\n",
              "      <td>NaN</td>\n",
              "      <td>NaN</td>\n",
              "      <td>6037</td>\n",
              "      <td>NaN</td>\n",
              "      <td>NaN</td>\n",
              "      <td>NaN</td>\n",
              "      <td>NaN</td>\n",
              "      <td>NaN</td>\n",
              "      <td>NaN</td>\n",
              "      <td>33989359.0</td>\n",
              "      <td>-118394633.0</td>\n",
              "      <td>63085.0</td>\n",
              "      <td>NaN</td>\n",
              "      <td>NaN</td>\n",
              "      <td>NaN</td>\n",
              "      <td>NaN</td>\n",
              "      <td>NaN</td>\n",
              "      <td>1200</td>\n",
              "      <td>47.0</td>\n",
              "      <td>LAC2</td>\n",
              "      <td>6.037703e+07</td>\n",
              "      <td>51617.0</td>\n",
              "      <td>3101.0</td>\n",
              "      <td>NaN</td>\n",
              "      <td>96095.0</td>\n",
              "      <td>0.0</td>\n",
              "      <td>NaN</td>\n",
              "      <td>NaN</td>\n",
              "      <td>NaN</td>\n",
              "      <td>2.0</td>\n",
              "      <td>NaN</td>\n",
              "      <td>NaN</td>\n",
              "      <td>NaN</td>\n",
              "      <td>NaN</td>\n",
              "      <td>NaN</td>\n",
              "      <td>650756.0</td>\n",
              "      <td>1413387.0</td>\n",
              "      <td>2015.0</td>\n",
              "      <td>762631.0</td>\n",
              "      <td>20800.37</td>\n",
              "      <td>NaN</td>\n",
              "      <td>NaN</td>\n",
              "      <td>NaN</td>\n",
              "    </tr>\n",
              "    <tr>\n",
              "      <th>3</th>\n",
              "      <td>10859147</td>\n",
              "      <td>NaN</td>\n",
              "      <td>NaN</td>\n",
              "      <td>NaN</td>\n",
              "      <td>0.0</td>\n",
              "      <td>0.0</td>\n",
              "      <td>3.0</td>\n",
              "      <td>7.0</td>\n",
              "      <td>NaN</td>\n",
              "      <td>NaN</td>\n",
              "      <td>NaN</td>\n",
              "      <td>5068.0</td>\n",
              "      <td>NaN</td>\n",
              "      <td>NaN</td>\n",
              "      <td>5068.0</td>\n",
              "      <td>NaN</td>\n",
              "      <td>NaN</td>\n",
              "      <td>6037</td>\n",
              "      <td>NaN</td>\n",
              "      <td>NaN</td>\n",
              "      <td>NaN</td>\n",
              "      <td>NaN</td>\n",
              "      <td>NaN</td>\n",
              "      <td>NaN</td>\n",
              "      <td>34148863.0</td>\n",
              "      <td>-118437206.0</td>\n",
              "      <td>7521.0</td>\n",
              "      <td>NaN</td>\n",
              "      <td>NaN</td>\n",
              "      <td>NaN</td>\n",
              "      <td>NaN</td>\n",
              "      <td>NaN</td>\n",
              "      <td>1200</td>\n",
              "      <td>47.0</td>\n",
              "      <td>LAC2</td>\n",
              "      <td>6.037141e+07</td>\n",
              "      <td>12447.0</td>\n",
              "      <td>3101.0</td>\n",
              "      <td>27080.0</td>\n",
              "      <td>96424.0</td>\n",
              "      <td>0.0</td>\n",
              "      <td>NaN</td>\n",
              "      <td>NaN</td>\n",
              "      <td>NaN</td>\n",
              "      <td>NaN</td>\n",
              "      <td>NaN</td>\n",
              "      <td>NaN</td>\n",
              "      <td>1948.0</td>\n",
              "      <td>1.0</td>\n",
              "      <td>NaN</td>\n",
              "      <td>571346.0</td>\n",
              "      <td>1156834.0</td>\n",
              "      <td>2015.0</td>\n",
              "      <td>585488.0</td>\n",
              "      <td>14557.57</td>\n",
              "      <td>NaN</td>\n",
              "      <td>NaN</td>\n",
              "      <td>NaN</td>\n",
              "    </tr>\n",
              "    <tr>\n",
              "      <th>4</th>\n",
              "      <td>10879947</td>\n",
              "      <td>NaN</td>\n",
              "      <td>NaN</td>\n",
              "      <td>NaN</td>\n",
              "      <td>0.0</td>\n",
              "      <td>0.0</td>\n",
              "      <td>4.0</td>\n",
              "      <td>NaN</td>\n",
              "      <td>NaN</td>\n",
              "      <td>NaN</td>\n",
              "      <td>NaN</td>\n",
              "      <td>1776.0</td>\n",
              "      <td>NaN</td>\n",
              "      <td>NaN</td>\n",
              "      <td>1776.0</td>\n",
              "      <td>NaN</td>\n",
              "      <td>NaN</td>\n",
              "      <td>6037</td>\n",
              "      <td>NaN</td>\n",
              "      <td>NaN</td>\n",
              "      <td>NaN</td>\n",
              "      <td>NaN</td>\n",
              "      <td>NaN</td>\n",
              "      <td>NaN</td>\n",
              "      <td>34194168.0</td>\n",
              "      <td>-118385816.0</td>\n",
              "      <td>8512.0</td>\n",
              "      <td>NaN</td>\n",
              "      <td>NaN</td>\n",
              "      <td>NaN</td>\n",
              "      <td>NaN</td>\n",
              "      <td>NaN</td>\n",
              "      <td>1210</td>\n",
              "      <td>31.0</td>\n",
              "      <td>LAM1</td>\n",
              "      <td>6.037123e+07</td>\n",
              "      <td>12447.0</td>\n",
              "      <td>3101.0</td>\n",
              "      <td>46795.0</td>\n",
              "      <td>96450.0</td>\n",
              "      <td>0.0</td>\n",
              "      <td>NaN</td>\n",
              "      <td>NaN</td>\n",
              "      <td>NaN</td>\n",
              "      <td>1.0</td>\n",
              "      <td>NaN</td>\n",
              "      <td>NaN</td>\n",
              "      <td>1947.0</td>\n",
              "      <td>NaN</td>\n",
              "      <td>NaN</td>\n",
              "      <td>193796.0</td>\n",
              "      <td>433491.0</td>\n",
              "      <td>2015.0</td>\n",
              "      <td>239695.0</td>\n",
              "      <td>5725.17</td>\n",
              "      <td>NaN</td>\n",
              "      <td>NaN</td>\n",
              "      <td>NaN</td>\n",
              "    </tr>\n",
              "  </tbody>\n",
              "</table>\n",
              "</div>"
            ],
            "text/plain": [
              "   parcelid  airconditioningtypeid  architecturalstyletypeid  basementsqft  \\\n",
              "0  10754147                    NaN                       NaN           NaN   \n",
              "1  10759547                    NaN                       NaN           NaN   \n",
              "2  10843547                    NaN                       NaN           NaN   \n",
              "3  10859147                    NaN                       NaN           NaN   \n",
              "4  10879947                    NaN                       NaN           NaN   \n",
              "\n",
              "   bathroomcnt  bedroomcnt  buildingclasstypeid  buildingqualitytypeid  \\\n",
              "0          0.0         0.0                  NaN                    NaN   \n",
              "1          0.0         0.0                  NaN                    NaN   \n",
              "2          0.0         0.0                  NaN                    NaN   \n",
              "3          0.0         0.0                  3.0                    7.0   \n",
              "4          0.0         0.0                  4.0                    NaN   \n",
              "\n",
              "   calculatedbathnbr  decktypeid  finishedfloor1squarefeet  \\\n",
              "0                NaN         NaN                       NaN   \n",
              "1                NaN         NaN                       NaN   \n",
              "2                NaN         NaN                       NaN   \n",
              "3                NaN         NaN                       NaN   \n",
              "4                NaN         NaN                       NaN   \n",
              "\n",
              "   calculatedfinishedsquarefeet  finishedsquarefeet12  finishedsquarefeet13  \\\n",
              "0                           NaN                   NaN                   NaN   \n",
              "1                           NaN                   NaN                   NaN   \n",
              "2                       73026.0                   NaN                   NaN   \n",
              "3                        5068.0                   NaN                   NaN   \n",
              "4                        1776.0                   NaN                   NaN   \n",
              "\n",
              "   finishedsquarefeet15  finishedsquarefeet50  finishedsquarefeet6  fips  \\\n",
              "0                   NaN                   NaN                  NaN  6037   \n",
              "1                   NaN                   NaN                  NaN  6037   \n",
              "2               73026.0                   NaN                  NaN  6037   \n",
              "3                5068.0                   NaN                  NaN  6037   \n",
              "4                1776.0                   NaN                  NaN  6037   \n",
              "\n",
              "   fireplacecnt  fullbathcnt  garagecarcnt  garagetotalsqft hashottuborspa  \\\n",
              "0           NaN          NaN           NaN              NaN            NaN   \n",
              "1           NaN          NaN           NaN              NaN            NaN   \n",
              "2           NaN          NaN           NaN              NaN            NaN   \n",
              "3           NaN          NaN           NaN              NaN            NaN   \n",
              "4           NaN          NaN           NaN              NaN            NaN   \n",
              "\n",
              "   heatingorsystemtypeid    latitude    longitude  lotsizesquarefeet  poolcnt  \\\n",
              "0                    NaN  34144442.0 -118654084.0            85768.0      NaN   \n",
              "1                    NaN  34140430.0 -118625364.0             4083.0      NaN   \n",
              "2                    NaN  33989359.0 -118394633.0            63085.0      NaN   \n",
              "3                    NaN  34148863.0 -118437206.0             7521.0      NaN   \n",
              "4                    NaN  34194168.0 -118385816.0             8512.0      NaN   \n",
              "\n",
              "   poolsizesum  pooltypeid10  pooltypeid2  pooltypeid7  \\\n",
              "0          NaN           NaN          NaN          NaN   \n",
              "1          NaN           NaN          NaN          NaN   \n",
              "2          NaN           NaN          NaN          NaN   \n",
              "3          NaN           NaN          NaN          NaN   \n",
              "4          NaN           NaN          NaN          NaN   \n",
              "\n",
              "  propertycountylandusecode  propertylandusetypeid propertyzoningdesc  \\\n",
              "0                      010D                  269.0                NaN   \n",
              "1                      0109                  261.0             LCA11*   \n",
              "2                      1200                   47.0               LAC2   \n",
              "3                      1200                   47.0               LAC2   \n",
              "4                      1210                   31.0               LAM1   \n",
              "\n",
              "   rawcensustractandblock  regionidcity  regionidcounty  regionidneighborhood  \\\n",
              "0            6.037800e+07       37688.0          3101.0                   NaN   \n",
              "1            6.037800e+07       37688.0          3101.0                   NaN   \n",
              "2            6.037703e+07       51617.0          3101.0                   NaN   \n",
              "3            6.037141e+07       12447.0          3101.0               27080.0   \n",
              "4            6.037123e+07       12447.0          3101.0               46795.0   \n",
              "\n",
              "   regionidzip  roomcnt  storytypeid  threequarterbathnbr  \\\n",
              "0      96337.0      0.0          NaN                  NaN   \n",
              "1      96337.0      0.0          NaN                  NaN   \n",
              "2      96095.0      0.0          NaN                  NaN   \n",
              "3      96424.0      0.0          NaN                  NaN   \n",
              "4      96450.0      0.0          NaN                  NaN   \n",
              "\n",
              "   typeconstructiontypeid  unitcnt  yardbuildingsqft17  yardbuildingsqft26  \\\n",
              "0                     NaN      NaN                 NaN                 NaN   \n",
              "1                     NaN      NaN                 NaN                 NaN   \n",
              "2                     NaN      2.0                 NaN                 NaN   \n",
              "3                     NaN      NaN                 NaN                 NaN   \n",
              "4                     NaN      1.0                 NaN                 NaN   \n",
              "\n",
              "   yearbuilt  numberofstories fireplaceflag  structuretaxvaluedollarcnt  \\\n",
              "0        NaN              NaN           NaN                         NaN   \n",
              "1        NaN              NaN           NaN                         NaN   \n",
              "2        NaN              NaN           NaN                    650756.0   \n",
              "3     1948.0              1.0           NaN                    571346.0   \n",
              "4     1947.0              NaN           NaN                    193796.0   \n",
              "\n",
              "   taxvaluedollarcnt  assessmentyear  landtaxvaluedollarcnt  taxamount  \\\n",
              "0                9.0          2015.0                    9.0        NaN   \n",
              "1            27516.0          2015.0                27516.0        NaN   \n",
              "2          1413387.0          2015.0               762631.0   20800.37   \n",
              "3          1156834.0          2015.0               585488.0   14557.57   \n",
              "4           433491.0          2015.0               239695.0    5725.17   \n",
              "\n",
              "  taxdelinquencyflag  taxdelinquencyyear  censustractandblock  \n",
              "0                NaN                 NaN                  NaN  \n",
              "1                NaN                 NaN                  NaN  \n",
              "2                NaN                 NaN                  NaN  \n",
              "3                NaN                 NaN                  NaN  \n",
              "4                NaN                 NaN                  NaN  "
            ]
          },
          "metadata": {},
          "execution_count": 3
        }
      ]
    },
    {
      "cell_type": "markdown",
      "metadata": {
        "id": "pEGWBQ_8RP88"
      },
      "source": [
        "## Train dataset"
      ]
    },
    {
      "cell_type": "code",
      "metadata": {
        "colab": {
          "base_uri": "https://localhost:8080/"
        },
        "id": "8wH88p9_R2vP",
        "outputId": "08458f45-87ef-4e7d-8af0-974275d06e7b"
      },
      "source": [
        "train_df.columns"
      ],
      "execution_count": 5,
      "outputs": [
        {
          "output_type": "execute_result",
          "data": {
            "text/plain": [
              "Index(['parcelid', 'logerror', 'transactiondate'], dtype='object')"
            ]
          },
          "metadata": {},
          "execution_count": 5
        }
      ]
    },
    {
      "cell_type": "markdown",
      "metadata": {
        "id": "EcrHbwWHPvSW"
      },
      "source": [
        "### Logerror<br>\n",
        "target variable for this competition\n"
      ]
    },
    {
      "cell_type": "code",
      "metadata": {
        "id": "-ubtGm3xP58l"
      },
      "source": [
        ""
      ],
      "execution_count": null,
      "outputs": []
    },
    {
      "cell_type": "code",
      "metadata": {
        "id": "Gul6wndkaPnZ"
      },
      "source": [
        ""
      ],
      "execution_count": null,
      "outputs": []
    },
    {
      "cell_type": "markdown",
      "metadata": {
        "id": "Fu5ofJTeP1sK"
      },
      "source": [
        "### Transaction Date<br>\n",
        "check # of transaction in each month"
      ]
    },
    {
      "cell_type": "code",
      "metadata": {
        "id": "HmdeNxd9Qkxn"
      },
      "source": [
        ""
      ],
      "execution_count": null,
      "outputs": []
    },
    {
      "cell_type": "markdown",
      "metadata": {
        "id": "7AIPqqPnQmSJ"
      },
      "source": [
        "### Pracel Id"
      ]
    },
    {
      "cell_type": "code",
      "metadata": {
        "id": "bx_mQSq4QoSp"
      },
      "source": [
        ""
      ],
      "execution_count": null,
      "outputs": []
    },
    {
      "cell_type": "markdown",
      "metadata": {
        "id": "edsoU8keQuJH"
      },
      "source": [
        "## Properties 2016<br>\n"
      ]
    },
    {
      "cell_type": "markdown",
      "metadata": {
        "id": "tdxrJxgUQ7Hw"
      },
      "source": [
        "check NaN values in dataset"
      ]
    },
    {
      "cell_type": "code",
      "metadata": {
        "colab": {
          "base_uri": "https://localhost:8080/"
        },
        "id": "irIgCJqBQ6pJ",
        "outputId": "5db373a4-3073-4f7d-edfd-53705f3d5756"
      },
      "source": [
        "property_df.columns"
      ],
      "execution_count": 4,
      "outputs": [
        {
          "output_type": "execute_result",
          "data": {
            "text/plain": [
              "Index(['parcelid', 'airconditioningtypeid', 'architecturalstyletypeid',\n",
              "       'basementsqft', 'bathroomcnt', 'bedroomcnt', 'buildingclasstypeid',\n",
              "       'buildingqualitytypeid', 'calculatedbathnbr', 'decktypeid',\n",
              "       'finishedfloor1squarefeet', 'calculatedfinishedsquarefeet',\n",
              "       'finishedsquarefeet12', 'finishedsquarefeet13', 'finishedsquarefeet15',\n",
              "       'finishedsquarefeet50', 'finishedsquarefeet6', 'fips', 'fireplacecnt',\n",
              "       'fullbathcnt', 'garagecarcnt', 'garagetotalsqft', 'hashottuborspa',\n",
              "       'heatingorsystemtypeid', 'latitude', 'longitude', 'lotsizesquarefeet',\n",
              "       'poolcnt', 'poolsizesum', 'pooltypeid10', 'pooltypeid2', 'pooltypeid7',\n",
              "       'propertycountylandusecode', 'propertylandusetypeid',\n",
              "       'propertyzoningdesc', 'rawcensustractandblock', 'regionidcity',\n",
              "       'regionidcounty', 'regionidneighborhood', 'regionidzip', 'roomcnt',\n",
              "       'storytypeid', 'threequarterbathnbr', 'typeconstructiontypeid',\n",
              "       'unitcnt', 'yardbuildingsqft17', 'yardbuildingsqft26', 'yearbuilt',\n",
              "       'numberofstories', 'fireplaceflag', 'structuretaxvaluedollarcnt',\n",
              "       'taxvaluedollarcnt', 'assessmentyear', 'landtaxvaluedollarcnt',\n",
              "       'taxamount', 'taxdelinquencyflag', 'taxdelinquencyyear',\n",
              "       'censustractandblock'],\n",
              "      dtype='object')"
            ]
          },
          "metadata": {},
          "execution_count": 4
        }
      ]
    },
    {
      "cell_type": "code",
      "metadata": {
        "id": "vPi0F4ElRGz7"
      },
      "source": [
        ""
      ],
      "execution_count": null,
      "outputs": []
    },
    {
      "cell_type": "markdown",
      "metadata": {
        "id": "SgFlW33rRJMz"
      },
      "source": [
        "### longitude & latitude"
      ]
    },
    {
      "cell_type": "code",
      "metadata": {
        "id": "J45-qEo4ROK3"
      },
      "source": [
        ""
      ],
      "execution_count": null,
      "outputs": []
    },
    {
      "cell_type": "markdown",
      "metadata": {
        "id": "DbqA-EF6RpjH"
      },
      "source": [
        "### check data type"
      ]
    },
    {
      "cell_type": "code",
      "metadata": {
        "id": "DbC35axPRshk"
      },
      "source": [
        ""
      ],
      "execution_count": null,
      "outputs": []
    },
    {
      "cell_type": "markdown",
      "metadata": {
        "id": "jZf5umgOSA7I"
      },
      "source": [
        "## Univariate Analysis : 단변량 분석\n",
        "feature와 target 사이에 주용한 통계적 관계 계산하고 관련성 판단해 feature 선택 "
      ]
    },
    {
      "cell_type": "code",
      "metadata": {
        "id": "c8KdXYDLSAkP"
      },
      "source": [
        ""
      ],
      "execution_count": null,
      "outputs": []
    },
    {
      "cell_type": "markdown",
      "metadata": {
        "id": "8Pc7dOC7Sfhc"
      },
      "source": [
        "## Finished SquareFeet 12"
      ]
    },
    {
      "cell_type": "code",
      "metadata": {
        "id": "TTGk5XHoSfUf"
      },
      "source": [
        ""
      ],
      "execution_count": null,
      "outputs": []
    },
    {
      "cell_type": "markdown",
      "metadata": {
        "id": "2TboU1-KSnhv"
      },
      "source": [
        "## Calculated finished squareFeet"
      ]
    },
    {
      "cell_type": "code",
      "metadata": {
        "id": "lDjM14zuSnC-"
      },
      "source": [
        ""
      ],
      "execution_count": null,
      "outputs": []
    },
    {
      "cell_type": "markdown",
      "metadata": {
        "id": "rxkv0MzxSxsR"
      },
      "source": [
        "## Bathroom count "
      ]
    },
    {
      "cell_type": "code",
      "metadata": {
        "id": "IseGHEIISzcU"
      },
      "source": [
        ""
      ],
      "execution_count": null,
      "outputs": []
    },
    {
      "cell_type": "markdown",
      "metadata": {
        "id": "74ixCtShS3dw"
      },
      "source": [
        "## Bedroom count"
      ]
    },
    {
      "cell_type": "code",
      "metadata": {
        "id": "UuYsiV4iS5_d"
      },
      "source": [
        ""
      ],
      "execution_count": null,
      "outputs": []
    },
    {
      "cell_type": "markdown",
      "metadata": {
        "id": "2d9gRmShS8tn"
      },
      "source": [
        "## YearBuilt"
      ]
    },
    {
      "cell_type": "code",
      "metadata": {
        "id": "94XfnZwkS-PL"
      },
      "source": [
        ""
      ],
      "execution_count": null,
      "outputs": []
    },
    {
      "cell_type": "markdown",
      "metadata": {
        "id": "NiLAqACATF3N"
      },
      "source": [
        "## Ensemble : ExtraTreeRegressor"
      ]
    },
    {
      "cell_type": "code",
      "metadata": {
        "id": "aYTmb7-1TR2I"
      },
      "source": [
        ""
      ],
      "execution_count": null,
      "outputs": []
    },
    {
      "cell_type": "markdown",
      "metadata": {
        "id": "5Q-T4z9dTUTa"
      },
      "source": [
        "## Xgboost : DMatrix"
      ]
    },
    {
      "cell_type": "code",
      "metadata": {
        "id": "W6s0k00fTYpt"
      },
      "source": [
        ""
      ],
      "execution_count": null,
      "outputs": []
    }
  ]
}