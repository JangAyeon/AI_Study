{
  "nbformat": 4,
  "nbformat_minor": 0,
  "metadata": {
    "colab": {
      "name": "6_1_using_word_embeddings.ipynb",
      "provenance": [],
      "collapsed_sections": [],
      "mount_file_id": "1P1iQ8nkk6s3IN7bR_kOJhp8phfZfbpnl",
      "authorship_tag": "ABX9TyPw8l2JZh8MrdGi4Zr4fq1J",
      "include_colab_link": true
    },
    "kernelspec": {
      "name": "python3",
      "display_name": "Python 3"
    },
    "language_info": {
      "name": "python"
    }
  },
  "cells": [
    {
      "cell_type": "markdown",
      "metadata": {
        "id": "view-in-github",
        "colab_type": "text"
      },
      "source": [
        "<a href=\"https://colab.research.google.com/github/JangAyeon/TIL/blob/main/6_1_using_word_embeddings.ipynb\" target=\"_parent\"><img src=\"https://colab.research.google.com/assets/colab-badge.svg\" alt=\"Open In Colab\"/></a>"
      ]
    },
    {
      "cell_type": "code",
      "metadata": {
        "colab": {
          "base_uri": "https://localhost:8080/",
          "height": 34
        },
        "id": "tm7j5F5zU3AZ",
        "outputId": "519f7909-f921-4e9e-8e88-e8116634447d"
      },
      "source": [
        "import keras\n",
        "keras.__version__"
      ],
      "execution_count": 2,
      "outputs": [
        {
          "output_type": "execute_result",
          "data": {
            "application/vnd.google.colaboratory.intrinsic+json": {
              "type": "string"
            },
            "text/plain": [
              "'2.6.0'"
            ]
          },
          "metadata": {},
          "execution_count": 2
        }
      ]
    },
    {
      "cell_type": "markdown",
      "metadata": {
        "id": "YTnbRSrNUwqp"
      },
      "source": [
        "# 6-1-1 : 단어와 문자의 원-핫 인코딩"
      ]
    },
    {
      "cell_type": "code",
      "metadata": {
        "id": "4a4D5YegVA6w"
      },
      "source": [
        "import numpy as np\n",
        "import string\n",
        "from keras.preprocessing.text import Tokenizer"
      ],
      "execution_count": 3,
      "outputs": []
    },
    {
      "cell_type": "markdown",
      "metadata": {
        "id": "RMw0YtQiW-Nw"
      },
      "source": [
        "**단어 수준의 원-핫 인코딩**"
      ]
    },
    {
      "cell_type": "code",
      "metadata": {
        "id": "tgKSmESDUwF4"
      },
      "source": [
        "\n",
        "samples=[\"The cat sat on the mat.\", \"The dog ate my homework.\"]\n",
        "#초기 데이터 : 각 원소가 sample\n",
        "#이 예시에서는 하나의 샘플 = 하나의 문장, 그러나 문서 전체도 샘플로 사용 가능\n",
        "\n",
        "token_index={} #데이터에 있는 모든 토큰의 인덱스 구축\n",
        "\n",
        "for sample in samples:\n",
        "  for word in sample.split(): \n",
        "    #split()을 사용해 sample을 토큰으로 나눔 (실전에서는 구둣점과 특수문자로 split 진행)\n",
        "    if word not in token_index:\n",
        "      #단어마다 고유한 인덱스 할당\n",
        "      token_index[word]=len(token_index)+1\n",
        "      #인덱스는 0 사용하지 X\n",
        "\n",
        "max_length=10\n",
        "#sample을 벡터로 변환\n",
        "#각 sample에서 max_length까지 단어만 사용\n",
        "\n",
        "result=np.zeros((len(samples),max_length,max(token_index.values())+1))\n",
        "#결과 저장할 배열\n",
        "for i,sample in enumerate(samples):\n",
        "  for j,word in list(enumerate(sample.split()))[:max_length]:\n",
        "    index=token_index.get(word)\n",
        "    result[i,j,index]=1."
      ],
      "execution_count": 37,
      "outputs": []
    },
    {
      "cell_type": "markdown",
      "metadata": {
        "id": "dXAkfxWNXCck"
      },
      "source": [
        "**문자 수준 원-핫 인코딩**"
      ]
    },
    {
      "cell_type": "code",
      "metadata": {
        "id": "DUXGCnmlWtzh"
      },
      "source": [
        "samples=[\"The cat sat on the mat.\", \"The dog ate my homework.\"]\n",
        "characters=string.printable #출력 가능한 모든 아스키 문자\n",
        "token_index=dict(zip(characters, range(1,len(characters)+1)))\n",
        "\n",
        "max_length=50\n",
        "results=np.zeros((len(samples),max_length,max(token_index.values())+1))\n",
        "for i,sample in enumerate(samples):\n",
        "  for j,character in enumerate(sample[:max_length]):\n",
        "    index=token_index.get(character)\n",
        "    results[i,j,index]=1."
      ],
      "execution_count": 38,
      "outputs": []
    },
    {
      "cell_type": "markdown",
      "metadata": {
        "id": "F9Xyl4--X7vO"
      },
      "source": [
        "**케라스를 사용한 단어 수준의 원-핫 인코딩**"
      ]
    },
    {
      "cell_type": "code",
      "metadata": {
        "id": "tJOnIoEKX1k3",
        "colab": {
          "base_uri": "https://localhost:8080/"
        },
        "outputId": "1aa61228-6f01-44f9-82b9-d9c43c7ce485"
      },
      "source": [
        "samples = ['The cat sat on the mat.', 'The dog ate my homework.']\n",
        "\n",
        "tokenizer=Tokenizer(num_words=1000)\n",
        "#가장 빈도가 높은 1000개의 단어 선택하는 Tokenizer 객체 생성\n",
        "\n",
        "tokenizer.fit_on_texts(samples)\n",
        "#단어 인덱스 구축\n",
        "\n",
        "sequences=tokenizer.texts_to_sequences(samples)\n",
        "#문자열을 정수 인덱스의 리스트로 변환\n",
        "\n",
        "one_hot_results=tokenizer.texts_to_matrix(samples,mode=\"binary\")\n",
        "#직접 원-핫 이진 벡터 표현 얻음 (이 외 다른 벡터화 방법 제공)\n",
        "\n",
        "word_index=tokenizer.word_index\n",
        "#계산된 단어 인덱스\n",
        "\n",
        "print(\"Found %s unique tokens.\" %len(word_index))"
      ],
      "execution_count": 39,
      "outputs": [
        {
          "output_type": "stream",
          "name": "stdout",
          "text": [
            "Found 9 unique tokens.\n"
          ]
        }
      ]
    },
    {
      "cell_type": "markdown",
      "metadata": {
        "id": "3n8A1mc3YBRq"
      },
      "source": [
        "**해싱 기법을 사용한 단어 수준의 원-핫 인코딩**"
      ]
    },
    {
      "cell_type": "code",
      "metadata": {
        "id": "Zw4rgEh7YFJi"
      },
      "source": [
        "samples = ['The cat sat on the mat.', 'The dog ate my homework.']\n",
        "\n",
        "dimensionality=1000\n",
        "#단어를 크기 1000인 벡터로 저장 (그 이상의 단어 존재시, 해싱 충돌 발생 & 인코딩 정확도 감소)\n",
        "max_length=10\n",
        "\n",
        "results=np.zeros((len(samples),max_length,dimensionality))\n",
        "for i, sample in enumerate(samples):\n",
        "  for j,word in list(enumerate(sample.split()))[:max_length]:\n",
        "    #단어를 해싱하여 0과 1000 사이의 랜덤한 정수 인덱스로 변환\n",
        "    index=abs(hash(word))%dimensionality\n",
        "    results[i,j,index]=1."
      ],
      "execution_count": 40,
      "outputs": []
    },
    {
      "cell_type": "markdown",
      "metadata": {
        "id": "sh32tNFRfmVS"
      },
      "source": [
        "# 6-1-2 : 단어 임베딩 사용"
      ]
    },
    {
      "cell_type": "markdown",
      "metadata": {
        "id": "GHS5XAh6inzN"
      },
      "source": [
        "**Embedding 층을 사용해 단어 임베딩 학습**"
      ]
    },
    {
      "cell_type": "code",
      "metadata": {
        "id": "qT5z0Yi7fO9b"
      },
      "source": [
        "from keras.datasets import imdb\n",
        "from keras import preprocessing\n",
        "from keras.models import Sequential\n",
        "from keras.layers import Flatten, Dense, Embedding"
      ],
      "execution_count": 8,
      "outputs": []
    },
    {
      "cell_type": "code",
      "metadata": {
        "id": "ibCMRnlLgCKG"
      },
      "source": [
        "max_features=10000 #특성으로 사용할 단어 수\n",
        "maxlen=20 # 사용할 텍스트 길이 (가장 빈번한 max_features개의 단어만 사용)\n",
        "\n",
        "(x_train, y_train), (x_test,y_test)=imdb.load_data(num_words=max_features)\n",
        "#정수 리스트로 데이터 로드\n",
        "\n",
        "x_train=preprocessing.sequence.pad_sequences(x_train,maxlen=maxlen)\n",
        "x_test=preprocessing.sequence.pad_sequences(x_test,maxlen=maxlen)\n",
        "#리스트를 (samples,maxlen) 크기의 2D 정수 텐서로 변환"
      ],
      "execution_count": 41,
      "outputs": []
    },
    {
      "cell_type": "code",
      "metadata": {
        "colab": {
          "base_uri": "https://localhost:8080/"
        },
        "id": "wUVofil1gayV",
        "outputId": "ccfa3204-581e-4c5e-e0cf-c7e92cbae3f5"
      },
      "source": [
        "model=Sequential()\n",
        "\n",
        "model.add(Embedding(10000,8,input_length=maxlen))\n",
        "#임베딩된 입력을 Flatten층에서 펼치기 위해 Embedding 층에서 input_length 지정\n",
        "#Embedding 층의 출력 크기 (samples, maxlen, 8)\n",
        "\n",
        "model.add(Flatten())\n",
        "#3D 임베딩 텐설르 (samples,maxlen*8)의 2D 텐서로 펼쳐짐\n",
        "\n",
        "model.add(Dense(1,activation=\"sigmoid\"))\n",
        "model.compile(optimizer=\"rmsprop\",\n",
        "              loss=\"binary_crossentropy\",\n",
        "              metrics=[\"accuracy\"])\n",
        "model.summary()\n",
        "#분류기 추가\n",
        "\n",
        "\n",
        "history=model.fit(x_train,y_train,\n",
        "                  epochs=10, batch_size=32,\n",
        "                  validation_split=0.2)"
      ],
      "execution_count": 42,
      "outputs": [
        {
          "output_type": "stream",
          "name": "stdout",
          "text": [
            "Model: \"sequential_5\"\n",
            "_________________________________________________________________\n",
            "Layer (type)                 Output Shape              Param #   \n",
            "=================================================================\n",
            "embedding_5 (Embedding)      (None, 20, 8)             80000     \n",
            "_________________________________________________________________\n",
            "flatten_4 (Flatten)          (None, 160)               0         \n",
            "_________________________________________________________________\n",
            "dense_5 (Dense)              (None, 1)                 161       \n",
            "=================================================================\n",
            "Total params: 80,161\n",
            "Trainable params: 80,161\n",
            "Non-trainable params: 0\n",
            "_________________________________________________________________\n",
            "Epoch 1/10\n",
            "625/625 [==============================] - 2s 2ms/step - loss: 0.6739 - accuracy: 0.6077 - val_loss: 0.6263 - val_accuracy: 0.6996\n",
            "Epoch 2/10\n",
            "625/625 [==============================] - 1s 2ms/step - loss: 0.5469 - accuracy: 0.7500 - val_loss: 0.5265 - val_accuracy: 0.7318\n",
            "Epoch 3/10\n",
            "625/625 [==============================] - 1s 2ms/step - loss: 0.4629 - accuracy: 0.7867 - val_loss: 0.4990 - val_accuracy: 0.7470\n",
            "Epoch 4/10\n",
            "625/625 [==============================] - 1s 2ms/step - loss: 0.4226 - accuracy: 0.8071 - val_loss: 0.4926 - val_accuracy: 0.7514\n",
            "Epoch 5/10\n",
            "625/625 [==============================] - 1s 2ms/step - loss: 0.3962 - accuracy: 0.8231 - val_loss: 0.4929 - val_accuracy: 0.7570\n",
            "Epoch 6/10\n",
            "625/625 [==============================] - 1s 2ms/step - loss: 0.3743 - accuracy: 0.8347 - val_loss: 0.4948 - val_accuracy: 0.7576\n",
            "Epoch 7/10\n",
            "625/625 [==============================] - 1s 2ms/step - loss: 0.3557 - accuracy: 0.8450 - val_loss: 0.5025 - val_accuracy: 0.7574\n",
            "Epoch 8/10\n",
            "625/625 [==============================] - 1s 2ms/step - loss: 0.3384 - accuracy: 0.8558 - val_loss: 0.5083 - val_accuracy: 0.7566\n",
            "Epoch 9/10\n",
            "625/625 [==============================] - 1s 2ms/step - loss: 0.3213 - accuracy: 0.8648 - val_loss: 0.5159 - val_accuracy: 0.7524\n",
            "Epoch 10/10\n",
            "625/625 [==============================] - 1s 2ms/step - loss: 0.3049 - accuracy: 0.8747 - val_loss: 0.5249 - val_accuracy: 0.7488\n"
          ]
        }
      ]
    },
    {
      "cell_type": "markdown",
      "metadata": {
        "id": "vknc_F_MitYk"
      },
      "source": [
        "**사전 훈련된 단어 임베딩 사용**"
      ]
    },
    {
      "cell_type": "markdown",
      "metadata": {
        "id": "n5kMIjUci1w9"
      },
      "source": [
        "# 6-1-3 : 모든 내용 적용 <원본 텍스트에서 단어 임베딩까지>"
      ]
    },
    {
      "cell_type": "code",
      "metadata": {
        "id": "Jz8LCqdrjllN"
      },
      "source": [
        "import os\n",
        "\n",
        "from keras.preprocessing.text import Tokenizer\n",
        "from keras.preprocessing.sequence import pad_sequences\n",
        "\n",
        "import numpy as np\n",
        "\n",
        "\n",
        "from keras.models import Sequential\n",
        "from keras.layers import Embedding, Flatten, Dense\n",
        "\n",
        "import matplotlib.pyplot as plt"
      ],
      "execution_count": 11,
      "outputs": []
    },
    {
      "cell_type": "markdown",
      "metadata": {
        "id": "qUpa_qgZjIRB"
      },
      "source": [
        "**원본 IMDB 텍스트 다운로드하기**"
      ]
    },
    {
      "cell_type": "code",
      "metadata": {
        "colab": {
          "base_uri": "https://localhost:8080/"
        },
        "id": "xT9T72MPkOwW",
        "outputId": "94981660-5e49-41ca-f851-bb5c15a5546d"
      },
      "source": [
        "!wget http://s3.amazonaws.com/text-datasets/aclImdb.zip"
      ],
      "execution_count": 17,
      "outputs": [
        {
          "output_type": "stream",
          "name": "stdout",
          "text": [
            "--2021-09-23 07:54:48--  http://s3.amazonaws.com/text-datasets/aclImdb.zip\n",
            "Resolving s3.amazonaws.com (s3.amazonaws.com)... 52.216.184.205\n",
            "Connecting to s3.amazonaws.com (s3.amazonaws.com)|52.216.184.205|:80... connected.\n",
            "HTTP request sent, awaiting response... 200 OK\n",
            "Length: 60711700 (58M) [application/zip]\n",
            "Saving to: ‘aclImdb.zip’\n",
            "\n",
            "aclImdb.zip         100%[===================>]  57.90M  24.0MB/s    in 2.4s    \n",
            "\n",
            "2021-09-23 07:54:51 (24.0 MB/s) - ‘aclImdb.zip’ saved [60711700/60711700]\n",
            "\n"
          ]
        }
      ]
    },
    {
      "cell_type": "code",
      "metadata": {
        "id": "ooOPgUnfmGyA"
      },
      "source": [
        "!unzip -qq /content/aclImdb.zip"
      ],
      "execution_count": 18,
      "outputs": []
    },
    {
      "cell_type": "code",
      "metadata": {
        "id": "E320PhCPidFi"
      },
      "source": [
        "imdb_dir = '/content/aclImdb'\n",
        "train_dir = os.path.join(imdb_dir, 'train')\n",
        "\n",
        "labels = []\n",
        "texts = []\n",
        "for label_type in ['neg', 'pos']:\n",
        "    dir_name = os.path.join(train_dir, label_type)\n",
        "    for fname in os.listdir(dir_name) :\n",
        "        if fname[-4:] == '.txt':\n",
        "            f = open(os.path.join(dir_name, fname), encoding = 'utf8')\n",
        "            texts.append(f.read())\n",
        "            f.close()\n",
        "            if label_type == 'neg':\n",
        "                labels.append(0)\n",
        "            else :\n",
        "                labels.append(1)"
      ],
      "execution_count": 43,
      "outputs": []
    },
    {
      "cell_type": "markdown",
      "metadata": {
        "id": "3fhaMfJNjMOD"
      },
      "source": [
        "**데이터 토큰화**"
      ]
    },
    {
      "cell_type": "code",
      "metadata": {
        "id": "OfSVy6eOjPDp",
        "colab": {
          "base_uri": "https://localhost:8080/"
        },
        "outputId": "e8d5180f-1e64-476b-83bf-de4ef8d73937"
      },
      "source": [
        "maxlen=100 # 100개 단어 이후는 버림\n",
        "training_samples = 200 # 훈련 샘플은 200ro\n",
        "validation_samples = 10000 # 검증샘플\n",
        "max_words = 10000 # 가장 빈도 높은 10000개 단어만\n",
        "\n",
        "tokenizer = Tokenizer(num_words = max_words)\n",
        "tokenizer.fit_on_texts(texts)\n",
        "sequences = tokenizer.texts_to_sequences(texts)\n",
        "\n",
        "word_index = tokenizer.word_index\n",
        "print('%s개의 고유한 토큰을 찾았습니다.' % len(word_index))\n",
        "\n",
        "data=pad_sequences(sequences,maxlen=maxlen)\n",
        "\n",
        "labels=np.asarray(labels)\n",
        "print(\"데이터 텐서의 크기 : \",data.shape)\n",
        "print(\"레이블 텐서의 크기 : \",labels.shape)\n",
        "\n",
        "indices=np.arange(data.shape[0])\n",
        "np.random.shuffle(indices)\n",
        "data=data[indices]\n",
        "labels=labels[indices]\n",
        "\n",
        "x_train=data[:training_samples]\n",
        "y_train = labels[:training_samples]\n",
        "\n",
        "x_val=data[training_samples:training_samples+validation_samples]\n",
        "y_val=labels[training_samples:training_samples+validation_samples]"
      ],
      "execution_count": 47,
      "outputs": [
        {
          "output_type": "stream",
          "name": "stdout",
          "text": [
            "88582개의 고유한 토큰을 찾았습니다.\n",
            "데이터 텐서의 크기 :  (25000, 100)\n",
            "레이블 텐서의 크기 :  (25000,)\n"
          ]
        }
      ]
    },
    {
      "cell_type": "code",
      "metadata": {
        "colab": {
          "base_uri": "https://localhost:8080/"
        },
        "id": "gN7pRb9quG3n",
        "outputId": "2046490b-3fee-4b32-9fa0-952002653161"
      },
      "source": [
        "x_train.shape"
      ],
      "execution_count": 48,
      "outputs": [
        {
          "output_type": "execute_result",
          "data": {
            "text/plain": [
              "(200, 100)"
            ]
          },
          "metadata": {},
          "execution_count": 48
        }
      ]
    },
    {
      "cell_type": "code",
      "metadata": {
        "colab": {
          "base_uri": "https://localhost:8080/"
        },
        "id": "ineBfcFSuJQX",
        "outputId": "ee1a0ed2-15a3-42c2-b652-22b0fd95cf33"
      },
      "source": [
        "y_train.shape"
      ],
      "execution_count": 49,
      "outputs": [
        {
          "output_type": "execute_result",
          "data": {
            "text/plain": [
              "(200,)"
            ]
          },
          "metadata": {},
          "execution_count": 49
        }
      ]
    },
    {
      "cell_type": "code",
      "metadata": {
        "colab": {
          "base_uri": "https://localhost:8080/"
        },
        "id": "WtEQbhz6tFig",
        "outputId": "4d421691-65c8-4607-e45e-1c5ad8a1f458"
      },
      "source": [
        "x_val.shape"
      ],
      "execution_count": 50,
      "outputs": [
        {
          "output_type": "execute_result",
          "data": {
            "text/plain": [
              "(10000, 100)"
            ]
          },
          "metadata": {},
          "execution_count": 50
        }
      ]
    },
    {
      "cell_type": "code",
      "metadata": {
        "colab": {
          "base_uri": "https://localhost:8080/"
        },
        "id": "RgPXCtkMtiCd",
        "outputId": "0c0faf26-3332-4ab4-93c3-7787b4b70c67"
      },
      "source": [
        "y_val.shape"
      ],
      "execution_count": 51,
      "outputs": [
        {
          "output_type": "execute_result",
          "data": {
            "text/plain": [
              "(10000,)"
            ]
          },
          "metadata": {},
          "execution_count": 51
        }
      ]
    },
    {
      "cell_type": "markdown",
      "metadata": {
        "id": "oPK6bO1gjQjZ"
      },
      "source": [
        "**GloVe 단어 임베딩 내려받기**"
      ]
    },
    {
      "cell_type": "code",
      "metadata": {
        "id": "rlOfyphKjT1H",
        "colab": {
          "base_uri": "https://localhost:8080/"
        },
        "outputId": "e6771078-2915-43d1-c777-86a089e87296"
      },
      "source": [
        "!wget http://nlp.stanford.edu/data/glove.6B.zip\n",
        "!unzip glove.6B.zip -d datasets"
      ],
      "execution_count": 21,
      "outputs": [
        {
          "output_type": "stream",
          "name": "stdout",
          "text": [
            "--2021-09-23 07:56:03--  http://nlp.stanford.edu/data/glove.6B.zip\n",
            "Resolving nlp.stanford.edu (nlp.stanford.edu)... 171.64.67.140\n",
            "Connecting to nlp.stanford.edu (nlp.stanford.edu)|171.64.67.140|:80... connected.\n",
            "HTTP request sent, awaiting response... 302 Found\n",
            "Location: https://nlp.stanford.edu/data/glove.6B.zip [following]\n",
            "--2021-09-23 07:56:03--  https://nlp.stanford.edu/data/glove.6B.zip\n",
            "Connecting to nlp.stanford.edu (nlp.stanford.edu)|171.64.67.140|:443... connected.\n",
            "HTTP request sent, awaiting response... 301 Moved Permanently\n",
            "Location: http://downloads.cs.stanford.edu/nlp/data/glove.6B.zip [following]\n",
            "--2021-09-23 07:56:04--  http://downloads.cs.stanford.edu/nlp/data/glove.6B.zip\n",
            "Resolving downloads.cs.stanford.edu (downloads.cs.stanford.edu)... 171.64.64.22\n",
            "Connecting to downloads.cs.stanford.edu (downloads.cs.stanford.edu)|171.64.64.22|:80... connected.\n",
            "HTTP request sent, awaiting response... 200 OK\n",
            "Length: 862182613 (822M) [application/zip]\n",
            "Saving to: ‘glove.6B.zip’\n",
            "\n",
            "glove.6B.zip        100%[===================>] 822.24M  4.95MB/s    in 4m 47s  \n",
            "\n",
            "2021-09-23 08:00:51 (2.86 MB/s) - ‘glove.6B.zip’ saved [862182613/862182613]\n",
            "\n",
            "Archive:  glove.6B.zip\n",
            "  inflating: datasets/glove.6B.50d.txt  \n",
            "  inflating: datasets/glove.6B.100d.txt  \n",
            "  inflating: datasets/glove.6B.200d.txt  \n",
            "  inflating: datasets/glove.6B.300d.txt  \n"
          ]
        }
      ]
    },
    {
      "cell_type": "markdown",
      "metadata": {
        "id": "OD9ndLZUjUjE"
      },
      "source": [
        "**임베딩 전처리**"
      ]
    },
    {
      "cell_type": "code",
      "metadata": {
        "id": "w4uzqsLYjVuV",
        "colab": {
          "base_uri": "https://localhost:8080/"
        },
        "outputId": "dc3eb082-0fc0-4b96-83a2-3994a5e87bb0"
      },
      "source": [
        "glove_dir = '/content/datasets'\n",
        "\n",
        "embeddings_index = {}\n",
        "f = open(os.path.join(glove_dir, 'glove.6B.100d.txt'),\n",
        "        encoding=\"utf8\")\n",
        "\n",
        "for line in f:\n",
        "    values = line.split()\n",
        "    word = values[0]\n",
        "    coefs = np.asarray(values[1:], dtype='float32')\n",
        "    embeddings_index[word] = coefs\n",
        "f.close()\n",
        "\n",
        "print(\"%s개의 단어 벡터를 찾았습니다.\" %len(embeddings_index))"
      ],
      "execution_count": 52,
      "outputs": [
        {
          "output_type": "stream",
          "name": "stdout",
          "text": [
            "400000개의 단어 벡터를 찾았습니다.\n"
          ]
        }
      ]
    },
    {
      "cell_type": "code",
      "metadata": {
        "id": "e-m7tUzenUgc"
      },
      "source": [
        "embedding_dim = 100\n",
        "\n",
        "embedding_matrix = np.zeros((max_words, embedding_dim))\n",
        "for word, i in word_index.items() :\n",
        "    embedding_vector = embeddings_index.get(word)\n",
        "    if i<max_words :\n",
        "        if embedding_vector is not None:\n",
        "            embedding_matrix[i] = embedding_vector"
      ],
      "execution_count": 53,
      "outputs": []
    },
    {
      "cell_type": "code",
      "metadata": {
        "colab": {
          "base_uri": "https://localhost:8080/"
        },
        "id": "PtuOEwNVrRyj",
        "outputId": "ffe090fe-0209-4db6-cd92-02deb0483302"
      },
      "source": [
        "embedding_matrix.shape"
      ],
      "execution_count": 56,
      "outputs": [
        {
          "output_type": "execute_result",
          "data": {
            "text/plain": [
              "(10000, 100)"
            ]
          },
          "metadata": {},
          "execution_count": 56
        }
      ]
    },
    {
      "cell_type": "markdown",
      "metadata": {
        "id": "hUY3seZdjXCm"
      },
      "source": [
        "**모델 정의하기**"
      ]
    },
    {
      "cell_type": "code",
      "metadata": {
        "id": "SGvorfhPjYXk",
        "colab": {
          "base_uri": "https://localhost:8080/"
        },
        "outputId": "8ccec5f5-9798-4c04-f751-b21f18924f85"
      },
      "source": [
        "model = Sequential()\n",
        "model.add(Embedding(max_words, embedding_dim,\n",
        "                   input_length=maxlen))\n",
        "model.add(Flatten())\n",
        "model.add(Dense(32, activation='relu'))\n",
        "model.add(Dense(1, activation='sigmoid'))\n",
        "model.summary()"
      ],
      "execution_count": 58,
      "outputs": [
        {
          "output_type": "stream",
          "name": "stdout",
          "text": [
            "Model: \"sequential_7\"\n",
            "_________________________________________________________________\n",
            "Layer (type)                 Output Shape              Param #   \n",
            "=================================================================\n",
            "embedding_7 (Embedding)      (None, 100, 100)          1000000   \n",
            "_________________________________________________________________\n",
            "flatten_6 (Flatten)          (None, 10000)             0         \n",
            "_________________________________________________________________\n",
            "dense_7 (Dense)              (None, 32)                320032    \n",
            "_________________________________________________________________\n",
            "dense_8 (Dense)              (None, 1)                 33        \n",
            "=================================================================\n",
            "Total params: 1,320,065\n",
            "Trainable params: 1,320,065\n",
            "Non-trainable params: 0\n",
            "_________________________________________________________________\n"
          ]
        }
      ]
    },
    {
      "cell_type": "markdown",
      "metadata": {
        "id": "Hmhrnxe3jZcX"
      },
      "source": [
        "**모델에 Glove 임베딩 로드하기**"
      ]
    },
    {
      "cell_type": "code",
      "metadata": {
        "id": "IPBxzLofjcU2"
      },
      "source": [
        "model.layers[0].set_weights([embedding_matrix])\n",
        "model.layers[0].trainable = False"
      ],
      "execution_count": 59,
      "outputs": []
    },
    {
      "cell_type": "markdown",
      "metadata": {
        "id": "bn5HKeW2jdWX"
      },
      "source": [
        "**모델 훈련과 평가**"
      ]
    },
    {
      "cell_type": "code",
      "metadata": {
        "id": "nBzBKpunjfWR",
        "colab": {
          "base_uri": "https://localhost:8080/"
        },
        "outputId": "ac8064af-6452-4172-ee15-2a1da1f2462f"
      },
      "source": [
        "model.compile(optimizer='rmsprop',\n",
        "              loss='binary_crossentropy',\n",
        "              metrics=['acc']) \n",
        "history = model.fit(x_train, y_train, \n",
        "                    epochs=10, batch_size=32, \n",
        "                    validation_data=(x_val, y_val)) \n",
        "model.save_weights('pre_trained_glove_model.h5')"
      ],
      "execution_count": 60,
      "outputs": [
        {
          "output_type": "stream",
          "name": "stdout",
          "text": [
            "Epoch 1/10\n",
            "7/7 [==============================] - 1s 122ms/step - loss: 2.4141 - acc: 0.5350 - val_loss: 1.1142 - val_acc: 0.5073\n",
            "Epoch 2/10\n",
            "7/7 [==============================] - 1s 101ms/step - loss: 0.6617 - acc: 0.6450 - val_loss: 1.5099 - val_acc: 0.4932\n",
            "Epoch 3/10\n",
            "7/7 [==============================] - 1s 113ms/step - loss: 0.4949 - acc: 0.7250 - val_loss: 0.9211 - val_acc: 0.4929\n",
            "Epoch 4/10\n",
            "7/7 [==============================] - 1s 112ms/step - loss: 0.2020 - acc: 0.9200 - val_loss: 1.2613 - val_acc: 0.4937\n",
            "Epoch 5/10\n",
            "7/7 [==============================] - 1s 97ms/step - loss: 0.1495 - acc: 0.9800 - val_loss: 0.7918 - val_acc: 0.5017\n",
            "Epoch 6/10\n",
            "7/7 [==============================] - 1s 112ms/step - loss: 0.0836 - acc: 0.9950 - val_loss: 2.5464 - val_acc: 0.4931\n",
            "Epoch 7/10\n",
            "7/7 [==============================] - 1s 98ms/step - loss: 0.4424 - acc: 0.7800 - val_loss: 0.8801 - val_acc: 0.4968\n",
            "Epoch 8/10\n",
            "7/7 [==============================] - 1s 113ms/step - loss: 0.0559 - acc: 0.9950 - val_loss: 0.8498 - val_acc: 0.4934\n",
            "Epoch 9/10\n",
            "7/7 [==============================] - 1s 113ms/step - loss: 0.0265 - acc: 1.0000 - val_loss: 1.8115 - val_acc: 0.4937\n",
            "Epoch 10/10\n",
            "7/7 [==============================] - 1s 99ms/step - loss: 0.0581 - acc: 0.9950 - val_loss: 1.2459 - val_acc: 0.4966\n"
          ]
        }
      ]
    },
    {
      "cell_type": "code",
      "metadata": {
        "id": "KlLEWYTcpOcd",
        "colab": {
          "base_uri": "https://localhost:8080/",
          "height": 545
        },
        "outputId": "a3062b67-f49b-4bb5-a813-a479e2208a33"
      },
      "source": [
        "acc=history.history[\"acc\"]\n",
        "val_acc=history.history[\"val_acc\"]\n",
        "loss=history.history[\"loss\"]\n",
        "val_loss=history.history[\"val_loss\"]\n",
        "\n",
        "epochs=range(1,len(acc)+1)\n",
        "\n",
        "plt.plot(epochs,acc,\"bo\",label=\"Training acc\")\n",
        "plt.plot(epochs, val_acc,\"b\",label=\"Validation acc\")\n",
        "plt.title(\"Training and Validation accuracy\")\n",
        "plt.legend()\n",
        "\n",
        "plt.figure()\n",
        "\n",
        "plt.plot(epochs,loss,\"bo\",label=\"Training loss\")\n",
        "plt.plot(epochs,val_loss,\"b\",label=\"Validation loss\")\n",
        "plt.title(\"Training and Validation Loss\")\n",
        "plt.legend()\n",
        "\n",
        "plt.show()"
      ],
      "execution_count": 63,
      "outputs": [
        {
          "output_type": "display_data",
          "data": {
            "image/png": "[encoded data removed]",
            "text/plain": [
              "<Figure size 432x288 with 1 Axes>"
            ]
          },
          "metadata": {
            "needs_background": "light"
          }
        },
        {
          "output_type": "display_data",
          "data": {
            "image/png": "[encoded data removed]",
            "text/plain": [
              "<Figure size 432x288 with 1 Axes>"
            ]
          },
          "metadata": {
            "needs_background": "light"
          }
        }
      ]
    },
    {
      "cell_type": "code",
      "metadata": {
        "colab": {
          "base_uri": "https://localhost:8080/"
        },
        "id": "XVJ7hwvEu9mp",
        "outputId": "682dd821-83a6-475d-8645-4feea2e8e393"
      },
      "source": [
        "model=Sequential()\n",
        "model.add(Embedding(max_words,embedding_dim,input_length=maxlen))\n",
        "model.add(Flatten())\n",
        "model.add(Dense(32,activation=\"relu\"))\n",
        "model.add(Dense(1,activation=\"sigmoid\"))\n",
        "model.summary()"
      ],
      "execution_count": 64,
      "outputs": [
        {
          "output_type": "stream",
          "name": "stdout",
          "text": [
            "Model: \"sequential_8\"\n",
            "_________________________________________________________________\n",
            "Layer (type)                 Output Shape              Param #   \n",
            "=================================================================\n",
            "embedding_8 (Embedding)      (None, 100, 100)          1000000   \n",
            "_________________________________________________________________\n",
            "flatten_7 (Flatten)          (None, 10000)             0         \n",
            "_________________________________________________________________\n",
            "dense_9 (Dense)              (None, 32)                320032    \n",
            "_________________________________________________________________\n",
            "dense_10 (Dense)             (None, 1)                 33        \n",
            "=================================================================\n",
            "Total params: 1,320,065\n",
            "Trainable params: 1,320,065\n",
            "Non-trainable params: 0\n",
            "_________________________________________________________________\n"
          ]
        }
      ]
    },
    {
      "cell_type": "code",
      "metadata": {
        "colab": {
          "base_uri": "https://localhost:8080/"
        },
        "id": "avLuJpv_wO6q",
        "outputId": "c9c0b907-0ca1-4d70-f038-8e0b3441d158"
      },
      "source": [
        "model.compile(optimizer=\"rmsprop\",\n",
        "              loss=\"binary_crossentropy\",\n",
        "              metrics=[\"acc\"])\n",
        "history=model.fit(x_train,y_train,\n",
        "                  epochs=10,\n",
        "                  batch_size=32,\n",
        "                  validation_data=(x_val,y_val))"
      ],
      "execution_count": 65,
      "outputs": [
        {
          "output_type": "stream",
          "name": "stdout",
          "text": [
            "Epoch 1/10\n",
            "7/7 [==============================] - 3s 266ms/step - loss: 0.6896 - acc: 0.5550 - val_loss: 0.6952 - val_acc: 0.4959\n",
            "Epoch 2/10\n",
            "7/7 [==============================] - 1s 231ms/step - loss: 0.5078 - acc: 0.9800 - val_loss: 0.7166 - val_acc: 0.4958\n",
            "Epoch 3/10\n",
            "7/7 [==============================] - 1s 229ms/step - loss: 0.2894 - acc: 0.9850 - val_loss: 0.7214 - val_acc: 0.4973\n",
            "Epoch 4/10\n",
            "7/7 [==============================] - 1s 243ms/step - loss: 0.1320 - acc: 1.0000 - val_loss: 0.7267 - val_acc: 0.4988\n",
            "Epoch 5/10\n",
            "7/7 [==============================] - 1s 118ms/step - loss: 0.0655 - acc: 1.0000 - val_loss: 0.7401 - val_acc: 0.4982\n",
            "Epoch 6/10\n",
            "7/7 [==============================] - 1s 103ms/step - loss: 0.0322 - acc: 1.0000 - val_loss: 0.7619 - val_acc: 0.4989\n",
            "Epoch 7/10\n",
            "7/7 [==============================] - 1s 104ms/step - loss: 0.0181 - acc: 1.0000 - val_loss: 0.7705 - val_acc: 0.4994\n",
            "Epoch 8/10\n",
            "7/7 [==============================] - 1s 119ms/step - loss: 0.0104 - acc: 1.0000 - val_loss: 0.7691 - val_acc: 0.4985\n",
            "Epoch 9/10\n",
            "7/7 [==============================] - 1s 101ms/step - loss: 0.0063 - acc: 1.0000 - val_loss: 0.7911 - val_acc: 0.4980\n",
            "Epoch 10/10\n",
            "7/7 [==============================] - 1s 119ms/step - loss: 0.0038 - acc: 1.0000 - val_loss: 0.8077 - val_acc: 0.4982\n"
          ]
        }
      ]
    },
    {
      "cell_type": "code",
      "metadata": {
        "colab": {
          "base_uri": "https://localhost:8080/",
          "height": 545
        },
        "id": "tyNcQ_Xgwm9J",
        "outputId": "ceff3aaf-5975-4dbb-9f93-c5148a4f5190"
      },
      "source": [
        "acc = history.history['acc']\n",
        "val_acc = history.history['val_acc']\n",
        "loss = history.history['loss']\n",
        "val_loss = history.history['val_loss']\n",
        "\n",
        "epochs = range(1, len(acc) + 1)\n",
        "\n",
        "plt.plot(epochs, acc, 'bo', label='Training acc')\n",
        "plt.plot(epochs, val_acc, 'b', label='Validation acc')\n",
        "plt.title('Training and validation accuracy')\n",
        "plt.legend()\n",
        "\n",
        "plt.figure()\n",
        "\n",
        "plt.plot(epochs, loss, 'bo', label='Training loss')\n",
        "plt.plot(epochs, val_loss, 'b', label='Validation loss')\n",
        "plt.title('Training and validation loss')\n",
        "plt.legend()\n",
        "\n",
        "plt.show()"
      ],
      "execution_count": 66,
      "outputs": [
        {
          "output_type": "display_data",
          "data": {
            "image/png": "[encoded data removed]",
            "text/plain": [
              "<Figure size 432x288 with 1 Axes>"
            ]
          },
          "metadata": {
            "needs_background": "light"
          }
        },
        {
          "output_type": "display_data",
          "data": {
            "image/png": "[encoded data removed]",
            "text/plain": [
              "<Figure size 432x288 with 1 Axes>"
            ]
          },
          "metadata": {
            "needs_background": "light"
          }
        }
      ]
    },
    {
      "cell_type": "code",
      "metadata": {
        "id": "jstXl2c-wuXG"
      },
      "source": [
        "training_samples=2000\n",
        "x_train=data[:training_samples]\n",
        "y_train=labels[:training_samples]\n",
        "x_val=data[training_samples:training_samples+validation_samples]\n",
        "y_val=labels[training_samples:training_samples+validation_samples]"
      ],
      "execution_count": 67,
      "outputs": []
    },
    {
      "cell_type": "code",
      "metadata": {
        "colab": {
          "base_uri": "https://localhost:8080/"
        },
        "id": "JhMVcEftxNsr",
        "outputId": "6776245a-5100-44ae-c82b-e1d7754de105"
      },
      "source": [
        "print(x_train.shape,y_train.shape)\n",
        "print(x_val.shape,y_val.shape)"
      ],
      "execution_count": 69,
      "outputs": [
        {
          "output_type": "stream",
          "name": "stdout",
          "text": [
            "(2000, 100) (2000,)\n",
            "(10000, 100) (10000,)\n"
          ]
        }
      ]
    },
    {
      "cell_type": "code",
      "metadata": {
        "colab": {
          "base_uri": "https://localhost:8080/"
        },
        "id": "w5ADEGz-xSCt",
        "outputId": "6ef2e060-686f-4023-8fe4-d5e73584b7bd"
      },
      "source": [
        "history=model.fit(x_train,y_train,\n",
        "                  epochs=10,\n",
        "                  batch_size=32,\n",
        "                  validation_data=(x_val,y_val))"
      ],
      "execution_count": 70,
      "outputs": [
        {
          "output_type": "stream",
          "name": "stdout",
          "text": [
            "Epoch 1/10\n",
            "63/63 [==============================] - 2s 38ms/step - loss: 0.6657 - acc: 0.5680 - val_loss: 0.8481 - val_acc: 0.4999\n",
            "Epoch 2/10\n",
            "63/63 [==============================] - 2s 30ms/step - loss: 0.2371 - acc: 0.9800 - val_loss: 0.8225 - val_acc: 0.4949\n",
            "Epoch 3/10\n",
            "63/63 [==============================] - 2s 37ms/step - loss: 0.0369 - acc: 0.9995 - val_loss: 0.9706 - val_acc: 0.4929\n",
            "Epoch 4/10\n",
            "63/63 [==============================] - 2s 38ms/step - loss: 0.0039 - acc: 1.0000 - val_loss: 1.1322 - val_acc: 0.4950\n",
            "Epoch 5/10\n",
            "63/63 [==============================] - 2s 30ms/step - loss: 3.2757e-04 - acc: 1.0000 - val_loss: 1.3082 - val_acc: 0.4924\n",
            "Epoch 6/10\n",
            "63/63 [==============================] - 1s 20ms/step - loss: 3.4886e-05 - acc: 1.0000 - val_loss: 1.4354 - val_acc: 0.4945\n",
            "Epoch 7/10\n",
            "63/63 [==============================] - 1s 22ms/step - loss: 4.4980e-06 - acc: 1.0000 - val_loss: 1.5666 - val_acc: 0.4926\n",
            "Epoch 8/10\n",
            "63/63 [==============================] - 1s 21ms/step - loss: 6.5585e-07 - acc: 1.0000 - val_loss: 1.6887 - val_acc: 0.4926\n",
            "Epoch 9/10\n",
            "63/63 [==============================] - 1s 21ms/step - loss: 1.5003e-07 - acc: 1.0000 - val_loss: 1.8167 - val_acc: 0.4932\n",
            "Epoch 10/10\n",
            "63/63 [==============================] - 1s 22ms/step - loss: 4.6865e-08 - acc: 1.0000 - val_loss: 1.9010 - val_acc: 0.4933\n"
          ]
        }
      ]
    },
    {
      "cell_type": "code",
      "metadata": {
        "colab": {
          "base_uri": "https://localhost:8080/",
          "height": 545
        },
        "id": "o-Ue_lL0xiwN",
        "outputId": "f08f818a-2008-401e-fc53-b55a3bd5687d"
      },
      "source": [
        "acc = history.history['acc']\n",
        "val_acc = history.history['val_acc']\n",
        "loss = history.history['loss']\n",
        "val_loss = history.history['val_loss']\n",
        "\n",
        "epochs = range(1, len(acc) + 1)\n",
        "\n",
        "plt.plot(epochs, acc, 'bo', label='Training acc')\n",
        "plt.plot(epochs, val_acc, 'b', label='Validation acc')\n",
        "plt.title('Training and validation accuracy')\n",
        "plt.legend()\n",
        "\n",
        "plt.figure()\n",
        "\n",
        "plt.plot(epochs, loss, 'bo', label='Training loss')\n",
        "plt.plot(epochs, val_loss, 'b', label='Validation loss')\n",
        "plt.title('Training and validation loss')\n",
        "plt.legend()\n",
        "\n",
        "plt.show()"
      ],
      "execution_count": 71,
      "outputs": [
        {
          "output_type": "display_data",
          "data": {
            "image/png": "[encoded data removed]",
            "text/plain": [
              "<Figure size 432x288 with 1 Axes>"
            ]
          },
          "metadata": {
            "needs_background": "light"
          }
        },
        {
          "output_type": "display_data",
          "data": {
            "image/png": "[encoded data removed]",
            "text/plain": [
              "<Figure size 432x288 with 1 Axes>"
            ]
          },
          "metadata": {
            "needs_background": "light"
          }
        }
      ]
    },
    {
      "cell_type": "code",
      "metadata": {
        "id": "rVVscAeSxom7"
      },
      "source": [
        "test_dir=os.path.join(imdb_dir,\"test\")\n",
        "labels=[]\n",
        "texts=[]\n",
        "\n",
        "for label_type in [\"neg\",\"pos\"]:\n",
        "  dir_name=os.path.join(test_dir,label_type)\n",
        "  for fname in sorted(os.listdir(dir_name)):\n",
        "    if fname[-4:]==\".txt\":\n",
        "      f=open(os.path.join(dir_name,fname),encoding=\"utf8\")\n",
        "      texts.append(f.read())\n",
        "      f.close()\n",
        "      if label_type==\"neg\":\n",
        "        labels.append(0)\n",
        "      else:\n",
        "        labels.append(1)\n",
        "\n",
        "\n",
        "sequences=tokenizer.texts_to_sequences(texts)\n",
        "x_test=pad_sequences(sequences,maxlen=maxlen)\n",
        "y_test=np.asarray(labels)"
      ],
      "execution_count": 72,
      "outputs": []
    },
    {
      "cell_type": "code",
      "metadata": {
        "colab": {
          "base_uri": "https://localhost:8080/"
        },
        "id": "g84zE8XXys-A",
        "outputId": "75da2915-6580-4b6c-ff99-1ca80685ed06"
      },
      "source": [
        "model.load_weights('pre_trained_glove_model.h5')\n",
        "model.evaluate(x_test, y_test)"
      ],
      "execution_count": 73,
      "outputs": [
        {
          "output_type": "stream",
          "name": "stdout",
          "text": [
            "782/782 [==============================] - 2s 3ms/step - loss: 1.2206 - acc: 0.5000\n"
          ]
        },
        {
          "output_type": "execute_result",
          "data": {
            "text/plain": [
              "[1.220556616783142, 0.5000399947166443]"
            ]
          },
          "metadata": {},
          "execution_count": 73
        }
      ]
    },
    {
      "cell_type": "code",
      "metadata": {
        "id": "mkjwhn7SywXt"
      },
      "source": [
        ""
      ],
      "execution_count": null,
      "outputs": []
    }
  ]
}