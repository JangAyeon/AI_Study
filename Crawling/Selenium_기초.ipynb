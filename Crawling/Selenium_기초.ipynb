{
  "nbformat": 4,
  "nbformat_minor": 0,
  "metadata": {
    "colab": {
      "name": "Selenium 기초.ipynb",
      "provenance": [],
      "authorship_tag": "ABX9TyMIRoZgJtB4CnKwxwp6bT/W",
      "include_colab_link": true
    },
    "kernelspec": {
      "name": "python3",
      "display_name": "Python 3"
    },
    "language_info": {
      "name": "python"
    }
  },
  "cells": [
    {
      "cell_type": "markdown",
      "metadata": {
        "id": "view-in-github",
        "colab_type": "text"
      },
      "source": [
        "<a href=\"https://colab.research.google.com/github/JangAyeon/TIL/blob/main/Selenium_%EA%B8%B0%EC%B4%88.ipynb\" target=\"_parent\"><img src=\"https://colab.research.google.com/assets/colab-badge.svg\" alt=\"Open In Colab\"/></a>"
      ]
    },
    {
      "cell_type": "markdown",
      "metadata": {
        "id": "plH6PElfqA_p"
      },
      "source": [
        "# Selenium 기초"
      ]
    },
    {
      "cell_type": "markdown",
      "metadata": {
        "id": "zM2Qnq17qEjh"
      },
      "source": [
        "## 1. Selenium 및 웹 드라이버 설치"
      ]
    },
    {
      "cell_type": "code",
      "metadata": {
        "colab": {
          "base_uri": "https://localhost:8080/"
        },
        "id": "RKi_Qjc8p9bZ",
        "outputId": "a812c1e6-084a-409f-84f1-3b8e2af64581"
      },
      "source": [
        "!pip install Selenium"
      ],
      "execution_count": 1,
      "outputs": [
        {
          "output_type": "stream",
          "name": "stdout",
          "text": [
            "Collecting Selenium\n",
            "  Downloading selenium-3.141.0-py2.py3-none-any.whl (904 kB)\n",
            "\u001b[?25l\r\u001b[K     |▍                               | 10 kB 24.6 MB/s eta 0:00:01\r\u001b[K     |▊                               | 20 kB 11.3 MB/s eta 0:00:01\r\u001b[K     |█                               | 30 kB 9.0 MB/s eta 0:00:01\r\u001b[K     |█▌                              | 40 kB 8.3 MB/s eta 0:00:01\r\u001b[K     |█▉                              | 51 kB 5.0 MB/s eta 0:00:01\r\u001b[K     |██▏                             | 61 kB 5.5 MB/s eta 0:00:01\r\u001b[K     |██▌                             | 71 kB 5.5 MB/s eta 0:00:01\r\u001b[K     |███                             | 81 kB 6.2 MB/s eta 0:00:01\r\u001b[K     |███▎                            | 92 kB 6.0 MB/s eta 0:00:01\r\u001b[K     |███▋                            | 102 kB 5.2 MB/s eta 0:00:01\r\u001b[K     |████                            | 112 kB 5.2 MB/s eta 0:00:01\r\u001b[K     |████▍                           | 122 kB 5.2 MB/s eta 0:00:01\r\u001b[K     |████▊                           | 133 kB 5.2 MB/s eta 0:00:01\r\u001b[K     |█████                           | 143 kB 5.2 MB/s eta 0:00:01\r\u001b[K     |█████▍                          | 153 kB 5.2 MB/s eta 0:00:01\r\u001b[K     |█████▉                          | 163 kB 5.2 MB/s eta 0:00:01\r\u001b[K     |██████▏                         | 174 kB 5.2 MB/s eta 0:00:01\r\u001b[K     |██████▌                         | 184 kB 5.2 MB/s eta 0:00:01\r\u001b[K     |██████▉                         | 194 kB 5.2 MB/s eta 0:00:01\r\u001b[K     |███████▎                        | 204 kB 5.2 MB/s eta 0:00:01\r\u001b[K     |███████▋                        | 215 kB 5.2 MB/s eta 0:00:01\r\u001b[K     |████████                        | 225 kB 5.2 MB/s eta 0:00:01\r\u001b[K     |████████▎                       | 235 kB 5.2 MB/s eta 0:00:01\r\u001b[K     |████████▊                       | 245 kB 5.2 MB/s eta 0:00:01\r\u001b[K     |█████████                       | 256 kB 5.2 MB/s eta 0:00:01\r\u001b[K     |█████████▍                      | 266 kB 5.2 MB/s eta 0:00:01\r\u001b[K     |█████████▉                      | 276 kB 5.2 MB/s eta 0:00:01\r\u001b[K     |██████████▏                     | 286 kB 5.2 MB/s eta 0:00:01\r\u001b[K     |██████████▌                     | 296 kB 5.2 MB/s eta 0:00:01\r\u001b[K     |██████████▉                     | 307 kB 5.2 MB/s eta 0:00:01\r\u001b[K     |███████████▎                    | 317 kB 5.2 MB/s eta 0:00:01\r\u001b[K     |███████████▋                    | 327 kB 5.2 MB/s eta 0:00:01\r\u001b[K     |████████████                    | 337 kB 5.2 MB/s eta 0:00:01\r\u001b[K     |████████████▎                   | 348 kB 5.2 MB/s eta 0:00:01\r\u001b[K     |████████████▊                   | 358 kB 5.2 MB/s eta 0:00:01\r\u001b[K     |█████████████                   | 368 kB 5.2 MB/s eta 0:00:01\r\u001b[K     |█████████████▍                  | 378 kB 5.2 MB/s eta 0:00:01\r\u001b[K     |█████████████▊                  | 389 kB 5.2 MB/s eta 0:00:01\r\u001b[K     |██████████████▏                 | 399 kB 5.2 MB/s eta 0:00:01\r\u001b[K     |██████████████▌                 | 409 kB 5.2 MB/s eta 0:00:01\r\u001b[K     |██████████████▉                 | 419 kB 5.2 MB/s eta 0:00:01\r\u001b[K     |███████████████▏                | 430 kB 5.2 MB/s eta 0:00:01\r\u001b[K     |███████████████▋                | 440 kB 5.2 MB/s eta 0:00:01\r\u001b[K     |████████████████                | 450 kB 5.2 MB/s eta 0:00:01\r\u001b[K     |████████████████▎               | 460 kB 5.2 MB/s eta 0:00:01\r\u001b[K     |████████████████▋               | 471 kB 5.2 MB/s eta 0:00:01\r\u001b[K     |█████████████████               | 481 kB 5.2 MB/s eta 0:00:01\r\u001b[K     |█████████████████▍              | 491 kB 5.2 MB/s eta 0:00:01\r\u001b[K     |█████████████████▊              | 501 kB 5.2 MB/s eta 0:00:01\r\u001b[K     |██████████████████▏             | 512 kB 5.2 MB/s eta 0:00:01\r\u001b[K     |██████████████████▌             | 522 kB 5.2 MB/s eta 0:00:01\r\u001b[K     |██████████████████▉             | 532 kB 5.2 MB/s eta 0:00:01\r\u001b[K     |███████████████████▏            | 542 kB 5.2 MB/s eta 0:00:01\r\u001b[K     |███████████████████▋            | 552 kB 5.2 MB/s eta 0:00:01\r\u001b[K     |████████████████████            | 563 kB 5.2 MB/s eta 0:00:01\r\u001b[K     |████████████████████▎           | 573 kB 5.2 MB/s eta 0:00:01\r\u001b[K     |████████████████████▋           | 583 kB 5.2 MB/s eta 0:00:01\r\u001b[K     |█████████████████████           | 593 kB 5.2 MB/s eta 0:00:01\r\u001b[K     |█████████████████████▍          | 604 kB 5.2 MB/s eta 0:00:01\r\u001b[K     |█████████████████████▊          | 614 kB 5.2 MB/s eta 0:00:01\r\u001b[K     |██████████████████████          | 624 kB 5.2 MB/s eta 0:00:01\r\u001b[K     |██████████████████████▌         | 634 kB 5.2 MB/s eta 0:00:01\r\u001b[K     |██████████████████████▉         | 645 kB 5.2 MB/s eta 0:00:01\r\u001b[K     |███████████████████████▏        | 655 kB 5.2 MB/s eta 0:00:01\r\u001b[K     |███████████████████████▌        | 665 kB 5.2 MB/s eta 0:00:01\r\u001b[K     |████████████████████████        | 675 kB 5.2 MB/s eta 0:00:01\r\u001b[K     |████████████████████████▎       | 686 kB 5.2 MB/s eta 0:00:01\r\u001b[K     |████████████████████████▋       | 696 kB 5.2 MB/s eta 0:00:01\r\u001b[K     |█████████████████████████       | 706 kB 5.2 MB/s eta 0:00:01\r\u001b[K     |█████████████████████████▍      | 716 kB 5.2 MB/s eta 0:00:01\r\u001b[K     |█████████████████████████▊      | 727 kB 5.2 MB/s eta 0:00:01\r\u001b[K     |██████████████████████████      | 737 kB 5.2 MB/s eta 0:00:01\r\u001b[K     |██████████████████████████▍     | 747 kB 5.2 MB/s eta 0:00:01\r\u001b[K     |██████████████████████████▉     | 757 kB 5.2 MB/s eta 0:00:01\r\u001b[K     |███████████████████████████▏    | 768 kB 5.2 MB/s eta 0:00:01\r\u001b[K     |███████████████████████████▌    | 778 kB 5.2 MB/s eta 0:00:01\r\u001b[K     |████████████████████████████    | 788 kB 5.2 MB/s eta 0:00:01\r\u001b[K     |████████████████████████████▎   | 798 kB 5.2 MB/s eta 0:00:01\r\u001b[K     |████████████████████████████▋   | 808 kB 5.2 MB/s eta 0:00:01\r\u001b[K     |█████████████████████████████   | 819 kB 5.2 MB/s eta 0:00:01\r\u001b[K     |█████████████████████████████▍  | 829 kB 5.2 MB/s eta 0:00:01\r\u001b[K     |█████████████████████████████▊  | 839 kB 5.2 MB/s eta 0:00:01\r\u001b[K     |██████████████████████████████  | 849 kB 5.2 MB/s eta 0:00:01\r\u001b[K     |██████████████████████████████▍ | 860 kB 5.2 MB/s eta 0:00:01\r\u001b[K     |██████████████████████████████▉ | 870 kB 5.2 MB/s eta 0:00:01\r\u001b[K     |███████████████████████████████▏| 880 kB 5.2 MB/s eta 0:00:01\r\u001b[K     |███████████████████████████████▌| 890 kB 5.2 MB/s eta 0:00:01\r\u001b[K     |███████████████████████████████▉| 901 kB 5.2 MB/s eta 0:00:01\r\u001b[K     |████████████████████████████████| 904 kB 5.2 MB/s \n",
            "\u001b[?25hRequirement already satisfied: urllib3 in /usr/local/lib/python3.7/dist-packages (from Selenium) (1.24.3)\n",
            "Installing collected packages: Selenium\n",
            "Successfully installed Selenium-3.141.0\n"
          ]
        }
      ]
    },
    {
      "cell_type": "code",
      "metadata": {
        "colab": {
          "base_uri": "https://localhost:8080/"
        },
        "id": "tOM3u8jMqLRN",
        "outputId": "cc0cdce5-1ce2-4475-f300-579356289725"
      },
      "source": [
        "!apt-get update\n",
        "!apt install chromium-chromedriver\n",
        "!cp /usr/lib/chromium-browser/chromedriver /usr/bin"
      ],
      "execution_count": 3,
      "outputs": [
        {
          "output_type": "stream",
          "name": "stdout",
          "text": [
            "\r0% [Working]\r            \rHit:1 http://security.ubuntu.com/ubuntu bionic-security InRelease\n",
            "\r0% [Connecting to archive.ubuntu.com] [Connecting to cloud.r-project.org] [Conn\r0% [1 InRelease gpgv 88.7 kB] [Connecting to archive.ubuntu.com] [Connecting to\r                                                                               \rIgn:2 https://developer.download.nvidia.com/compute/cuda/repos/ubuntu1804/x86_64  InRelease\n",
            "\r0% [1 InRelease gpgv 88.7 kB] [Connecting to archive.ubuntu.com (91.189.88.142)\r                                                                               \rHit:3 https://cloud.r-project.org/bin/linux/ubuntu bionic-cran40/ InRelease\n",
            "Hit:4 http://ppa.launchpad.net/c2d4u.team/c2d4u4.0+/ubuntu bionic InRelease\n",
            "Ign:5 https://developer.download.nvidia.com/compute/machine-learning/repos/ubuntu1804/x86_64  InRelease\n",
            "Hit:6 https://developer.download.nvidia.com/compute/cuda/repos/ubuntu1804/x86_64  Release\n",
            "Hit:7 https://developer.download.nvidia.com/compute/machine-learning/repos/ubuntu1804/x86_64  Release\n",
            "Hit:8 http://archive.ubuntu.com/ubuntu bionic InRelease\n",
            "Hit:9 http://archive.ubuntu.com/ubuntu bionic-updates InRelease\n",
            "Hit:10 http://ppa.launchpad.net/cran/libgit2/ubuntu bionic InRelease\n",
            "Hit:11 http://archive.ubuntu.com/ubuntu bionic-backports InRelease\n",
            "Hit:12 http://ppa.launchpad.net/deadsnakes/ppa/ubuntu bionic InRelease\n",
            "Hit:13 http://ppa.launchpad.net/graphics-drivers/ppa/ubuntu bionic InRelease\n",
            "Reading package lists... Done\n",
            "Reading package lists... Done\n",
            "Building dependency tree       \n",
            "Reading state information... Done\n",
            "chromium-chromedriver is already the newest version (94.0.4606.71-0ubuntu0.18.04.1).\n",
            "0 upgraded, 0 newly installed, 0 to remove and 39 not upgraded.\n",
            "cp: '/usr/lib/chromium-browser/chromedriver' and '/usr/bin/chromedriver' are the same file\n"
          ]
        }
      ]
    },
    {
      "cell_type": "code",
      "metadata": {
        "id": "iDUFCZdQqxfe"
      },
      "source": [
        "import sys\n",
        "sys.path.insert(0,\"usr/lib/chromium-browser/chromedriver\")"
      ],
      "execution_count": 5,
      "outputs": []
    },
    {
      "cell_type": "markdown",
      "metadata": {
        "id": "zgdvtFqKrfYk"
      },
      "source": [
        "## 웹 드라이버 설정\n",
        "* 웹 직접 띄우지 않고 내부적으로 돌아가게 설정"
      ]
    },
    {
      "cell_type": "code",
      "metadata": {
        "id": "__Dm_ClbrRxM"
      },
      "source": [
        "from selenium import webdriver\n",
        "\n",
        "chrome_options=webdriver.ChromeOptions()\n",
        "chrome_options.add_argument(\"--headless\")\n",
        "chrome_options.add_argument(\"--no-sandbox\")\n",
        "chrome_options.add_argument(\"--disable-dev-shm-usage\")"
      ],
      "execution_count": 6,
      "outputs": []
    },
    {
      "cell_type": "markdown",
      "metadata": {
        "id": "Btt66eSqsFAs"
      },
      "source": [
        "## 웹 드라이버 객체 생성"
      ]
    },
    {
      "cell_type": "code",
      "metadata": {
        "id": "lO01Vqhrr9mE"
      },
      "source": [
        "wd=webdriver.Chrome(\"chromedriver\",options=chrome_options)"
      ],
      "execution_count": 7,
      "outputs": []
    },
    {
      "cell_type": "markdown",
      "metadata": {
        "id": "XKv24ViMsam7"
      },
      "source": [
        "## Selenium 실행"
      ]
    },
    {
      "cell_type": "code",
      "metadata": {
        "id": "UuuS2bCFsWQA"
      },
      "source": [
        "#url load\n",
        "wd.get(\"http://suanlab.com/\")"
      ],
      "execution_count": 8,
      "outputs": []
    },
    {
      "cell_type": "code",
      "metadata": {
        "colab": {
          "base_uri": "https://localhost:8080/"
        },
        "id": "ySY_sqLssrbu",
        "outputId": "c7e0c94f-1d57-41e1-cb7a-181fc6965260"
      },
      "source": [
        "#웹 스크린 캡쳐 저장 (초기 설정은 작은 화면 상태로 되어 있음)\n",
        "wd.get_screenshot_as_file(\"suanlab.png\")"
      ],
      "execution_count": 9,
      "outputs": [
        {
          "output_type": "execute_result",
          "data": {
            "text/plain": [
              "True"
            ]
          },
          "metadata": {},
          "execution_count": 9
        }
      ]
    },
    {
      "cell_type": "code",
      "metadata": {
        "colab": {
          "base_uri": "https://localhost:8080/",
          "height": 17
        },
        "id": "p-xwku3Ys_F3",
        "outputId": "23ae7483-f000-4571-ba24-1d36b28b1942"
      },
      "source": [
        "from google.colab import files\n",
        "files.download(\"suanlab.png\")"
      ],
      "execution_count": 10,
      "outputs": [
        {
          "output_type": "display_data",
          "data": {
            "application/javascript": [
              "\n",
              "    async function download(id, filename, size) {\n",
              "      if (!google.colab.kernel.accessAllowed) {\n",
              "        return;\n",
              "      }\n",
              "      const div = document.createElement('div');\n",
              "      const label = document.createElement('label');\n",
              "      label.textContent = `Downloading \"${filename}\": `;\n",
              "      div.appendChild(label);\n",
              "      const progress = document.createElement('progress');\n",
              "      progress.max = size;\n",
              "      div.appendChild(progress);\n",
              "      document.body.appendChild(div);\n",
              "\n",
              "      const buffers = [];\n",
              "      let downloaded = 0;\n",
              "\n",
              "      const channel = await google.colab.kernel.comms.open(id);\n",
              "      // Send a message to notify the kernel that we're ready.\n",
              "      channel.send({})\n",
              "\n",
              "      for await (const message of channel.messages) {\n",
              "        // Send a message to notify the kernel that we're ready.\n",
              "        channel.send({})\n",
              "        if (message.buffers) {\n",
              "          for (const buffer of message.buffers) {\n",
              "            buffers.push(buffer);\n",
              "            downloaded += buffer.byteLength;\n",
              "            progress.value = downloaded;\n",
              "          }\n",
              "        }\n",
              "      }\n",
              "      const blob = new Blob(buffers, {type: 'application/binary'});\n",
              "      const a = document.createElement('a');\n",
              "      a.href = window.URL.createObjectURL(blob);\n",
              "      a.download = filename;\n",
              "      div.appendChild(a);\n",
              "      a.click();\n",
              "      div.remove();\n",
              "    }\n",
              "  "
            ],
            "text/plain": [
              "<IPython.core.display.Javascript object>"
            ]
          },
          "metadata": {}
        },
        {
          "output_type": "display_data",
          "data": {
            "application/javascript": [
              "download(\"download_d68681d9-fd4c-43bf-b69a-2064c42de9b2\", \"suanlab.png\", 281738)"
            ],
            "text/plain": [
              "<IPython.core.display.Javascript object>"
            ]
          },
          "metadata": {}
        }
      ]
    },
    {
      "cell_type": "markdown",
      "metadata": {
        "id": "CBOekiGMtt5R"
      },
      "source": [
        "![image.png](data:image/png;base64,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)"
      ]
    },
    {
      "cell_type": "code",
      "metadata": {
        "colab": {
          "base_uri": "https://localhost:8080/"
        },
        "id": "0_RK3It0tF3S",
        "outputId": "14a16dca-2032-4047-f99e-02240694dee2"
      },
      "source": [
        "for label in wd.find_elements_by_tag_name(\"label\"):\n",
        "  print(label.text)"
      ],
      "execution_count": 12,
      "outputs": [
        {
          "output_type": "stream",
          "name": "stdout",
          "text": [
            "[2020-04-14] \"메타버스 시대가 오고 있다\"\n",
            "[2020-01-20] \"바이러스 연구부터 뷰티·배달 AI 결합한 비즈니스...\"\n",
            "[2020-10-07] \"이력서 작성·레시피 제공 다양하게 활용되는 GPT3\"\n",
            "[2020-05-20] \"인공지능의 보안 위협\"\n",
            "[2020-03-04] \"데이터 경제 시대\"\n",
            "[2019-12-25] \"마이데이터 시대의 도래 데이터 주권과 새로운 가치\"\n",
            "[2019-09-04] \"농업으로 들어간 인공지능\"\n",
            "[2019-08-07] \"AI시대 지배할 것인가 지배당하며 살 것인가\"\n"
          ]
        }
      ]
    },
    {
      "cell_type": "code",
      "metadata": {
        "colab": {
          "base_uri": "https://localhost:8080/"
        },
        "id": "g3hWrfq0t5-F",
        "outputId": "0eaf2b2b-9eea-4fcb-a6d6-7bd5a4219766"
      },
      "source": [
        "for label in wd.find_elements_by_css_selector(\"#wrapper > section > div > div > div> div > div > label\"):\n",
        "  print(label.text)"
      ],
      "execution_count": 13,
      "outputs": [
        {
          "output_type": "stream",
          "name": "stdout",
          "text": [
            "[2020-04-14] \"메타버스 시대가 오고 있다\"\n",
            "[2020-01-20] \"바이러스 연구부터 뷰티·배달 AI 결합한 비즈니스...\"\n",
            "[2020-10-07] \"이력서 작성·레시피 제공 다양하게 활용되는 GPT3\"\n",
            "[2020-05-20] \"인공지능의 보안 위협\"\n",
            "[2020-03-04] \"데이터 경제 시대\"\n",
            "[2019-12-25] \"마이데이터 시대의 도래 데이터 주권과 새로운 가치\"\n",
            "[2019-09-04] \"농업으로 들어간 인공지능\"\n",
            "[2019-08-07] \"AI시대 지배할 것인가 지배당하며 살 것인가\"\n"
          ]
        }
      ]
    },
    {
      "cell_type": "code",
      "metadata": {
        "colab": {
          "base_uri": "https://localhost:8080/"
        },
        "id": "ryUarRpWvOT6",
        "outputId": "3b847e95-ba04-4e2b-905f-c7594006bc3b"
      },
      "source": [
        "for label in wd.find_elements_by_xpath('//*[@id=\"wrapper\"]/section/div/div/div/div/div/label'):\n",
        "  print(label.text)"
      ],
      "execution_count": 16,
      "outputs": [
        {
          "output_type": "stream",
          "name": "stdout",
          "text": [
            "[2020-04-14] \"메타버스 시대가 오고 있다\"\n",
            "[2020-01-20] \"바이러스 연구부터 뷰티·배달 AI 결합한 비즈니스...\"\n",
            "[2020-10-07] \"이력서 작성·레시피 제공 다양하게 활용되는 GPT3\"\n",
            "[2020-05-20] \"인공지능의 보안 위협\"\n",
            "[2020-03-04] \"데이터 경제 시대\"\n",
            "[2019-12-25] \"마이데이터 시대의 도래 데이터 주권과 새로운 가치\"\n",
            "[2019-09-04] \"농업으로 들어간 인공지능\"\n",
            "[2019-08-07] \"AI시대 지배할 것인가 지배당하며 살 것인가\"\n"
          ]
        }
      ]
    },
    {
      "cell_type": "code",
      "metadata": {
        "colab": {
          "base_uri": "https://localhost:8080/"
        },
        "id": "X9aLaG90vnTK",
        "outputId": "f67e121f-c4b1-4eea-807b-d1cada97a035"
      },
      "source": [
        "toggle_class = wd.find_element_by_css_selector(\"#wrapper > section > div > div > div > div\")\n",
        "for label in toggle_class.find_elements_by_class_name(\"toggle\"):\n",
        "  print(label.text)"
      ],
      "execution_count": 18,
      "outputs": [
        {
          "output_type": "stream",
          "name": "stdout",
          "text": [
            "[2020-04-14] \"메타버스 시대가 오고 있다\"\n",
            "[2020-01-20] \"바이러스 연구부터 뷰티·배달 AI 결합한 비즈니스...\"\n",
            "[2020-10-07] \"이력서 작성·레시피 제공 다양하게 활용되는 GPT3\"\n",
            "[2020-05-20] \"인공지능의 보안 위협\"\n",
            "[2020-03-04] \"데이터 경제 시대\"\n",
            "[2019-12-25] \"마이데이터 시대의 도래 데이터 주권과 새로운 가치\"\n",
            "[2019-09-04] \"농업으로 들어간 인공지능\"\n",
            "[2019-08-07] \"AI시대 지배할 것인가 지배당하며 살 것인가\"\n"
          ]
        }
      ]
    },
    {
      "cell_type": "code",
      "metadata": {
        "colab": {
          "base_uri": "https://localhost:8080/"
        },
        "id": "-WG1CT1CwdyH",
        "outputId": "81374254-ad6c-4b32-a01f-ddfdd1d25431"
      },
      "source": [
        "from selenium.webdriver.common.by import By\n",
        "\n",
        "for label in wd.find_elements(By.TAG_NAME,\"label\"):\n",
        "  print(label.text)"
      ],
      "execution_count": 19,
      "outputs": [
        {
          "output_type": "stream",
          "name": "stdout",
          "text": [
            "[2020-04-14] \"메타버스 시대가 오고 있다\"\n",
            "[2020-01-20] \"바이러스 연구부터 뷰티·배달 AI 결합한 비즈니스...\"\n",
            "[2020-10-07] \"이력서 작성·레시피 제공 다양하게 활용되는 GPT3\"\n",
            "[2020-05-20] \"인공지능의 보안 위협\"\n",
            "[2020-03-04] \"데이터 경제 시대\"\n",
            "[2019-12-25] \"마이데이터 시대의 도래 데이터 주권과 새로운 가치\"\n",
            "[2019-09-04] \"농업으로 들어간 인공지능\"\n",
            "[2019-08-07] \"AI시대 지배할 것인가 지배당하며 살 것인가\"\n"
          ]
        }
      ]
    },
    {
      "cell_type": "code",
      "metadata": {
        "colab": {
          "base_uri": "https://localhost:8080/"
        },
        "id": "OsdEAUVTxEtf",
        "outputId": "70eda390-8b39-44f1-e40c-3b32c52b7f27"
      },
      "source": [
        "for label in wd.find_elements(By.CSS_SELECTOR,\"#wrapper > section > div > div > div > div\"):\n",
        "  print(label.text)"
      ],
      "execution_count": 20,
      "outputs": [
        {
          "output_type": "stream",
          "name": "stdout",
          "text": [
            "[2020-04-14] \"메타버스 시대가 오고 있다\"\n",
            "\n",
            "[2020-01-20] \"바이러스 연구부터 뷰티·배달 AI 결합한 비즈니스...\"\n",
            "\n",
            "[2020-10-07] \"이력서 작성·레시피 제공 다양하게 활용되는 GPT3\"\n",
            "\n",
            "[2020-05-20] \"인공지능의 보안 위협\"\n",
            "\n",
            "[2020-03-04] \"데이터 경제 시대\"\n",
            "\n",
            "[2019-12-25] \"마이데이터 시대의 도래 데이터 주권과 새로운 가치\"\n",
            "\n",
            "[2019-09-04] \"농업으로 들어간 인공지능\"\n",
            "\n",
            "[2019-08-07] \"AI시대 지배할 것인가 지배당하며 살 것인가\"\n",
            "\n"
          ]
        }
      ]
    },
    {
      "cell_type": "code",
      "metadata": {
        "id": "5Axkcf0MxNpB"
      },
      "source": [
        ""
      ],
      "execution_count": null,
      "outputs": []
    }
  ]
}
