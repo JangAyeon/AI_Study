{
  "nbformat": 4,
  "nbformat_minor": 0,
  "metadata": {
    "colab": {
      "name": "crawling.ipynb",
      "provenance": [],
      "collapsed_sections": []
    },
    "kernelspec": {
      "name": "python3",
      "display_name": "Python 3"
    },
    "language_info": {
      "name": "python"
    }
  },
  "cells": [
    {
      "cell_type": "markdown",
      "metadata": {
        "id": "Xo1tqEusUxqS"
      },
      "source": [
        "## 웹드라이버 설정"
      ]
    },
    {
      "cell_type": "code",
      "metadata": {
        "colab": {
          "base_uri": "https://localhost:8080/"
        },
        "id": "YQuGNQVyUJGp",
        "outputId": "fbdf2245-f0ad-4e7e-e36e-5911642c4d4c"
      },
      "source": [
        "#Selenium 설치\n",
        "!pip install Selenium"
      ],
      "execution_count": 1,
      "outputs": [
        {
          "output_type": "stream",
          "name": "stdout",
          "text": [
            "Collecting Selenium\n",
            "  Downloading selenium-4.0.0-py3-none-any.whl (954 kB)\n",
            "\u001b[K     |████████████████████████████████| 954 kB 7.9 MB/s \n",
            "\u001b[?25hCollecting trio-websocket~=0.9\n",
            "  Downloading trio_websocket-0.9.2-py3-none-any.whl (16 kB)\n",
            "Collecting trio~=0.17\n",
            "  Downloading trio-0.19.0-py3-none-any.whl (356 kB)\n",
            "\u001b[K     |████████████████████████████████| 356 kB 46.8 MB/s \n",
            "\u001b[?25hCollecting urllib3[secure]~=1.26\n",
            "  Downloading urllib3-1.26.7-py2.py3-none-any.whl (138 kB)\n",
            "\u001b[K     |████████████████████████████████| 138 kB 60.6 MB/s \n",
            "\u001b[?25hCollecting sniffio\n",
            "  Downloading sniffio-1.2.0-py3-none-any.whl (10 kB)\n",
            "Requirement already satisfied: attrs>=19.2.0 in /usr/local/lib/python3.7/dist-packages (from trio~=0.17->Selenium) (21.2.0)\n",
            "Requirement already satisfied: idna in /usr/local/lib/python3.7/dist-packages (from trio~=0.17->Selenium) (2.10)\n",
            "Collecting outcome\n",
            "  Downloading outcome-1.1.0-py2.py3-none-any.whl (9.7 kB)\n",
            "Collecting async-generator>=1.9\n",
            "  Downloading async_generator-1.10-py3-none-any.whl (18 kB)\n",
            "Requirement already satisfied: sortedcontainers in /usr/local/lib/python3.7/dist-packages (from trio~=0.17->Selenium) (2.4.0)\n",
            "Collecting wsproto>=0.14\n",
            "  Downloading wsproto-1.0.0-py3-none-any.whl (24 kB)\n",
            "Collecting cryptography>=1.3.4\n",
            "  Downloading cryptography-35.0.0-cp36-abi3-manylinux_2_24_x86_64.whl (3.5 MB)\n",
            "\u001b[K     |████████████████████████████████| 3.5 MB 36.5 MB/s \n",
            "\u001b[?25hCollecting pyOpenSSL>=0.14\n",
            "  Downloading pyOpenSSL-21.0.0-py2.py3-none-any.whl (55 kB)\n",
            "\u001b[K     |████████████████████████████████| 55 kB 4.1 MB/s \n",
            "\u001b[?25hRequirement already satisfied: certifi in /usr/local/lib/python3.7/dist-packages (from urllib3[secure]~=1.26->Selenium) (2021.10.8)\n",
            "Requirement already satisfied: cffi>=1.12 in /usr/local/lib/python3.7/dist-packages (from cryptography>=1.3.4->urllib3[secure]~=1.26->Selenium) (1.15.0)\n",
            "Requirement already satisfied: pycparser in /usr/local/lib/python3.7/dist-packages (from cffi>=1.12->cryptography>=1.3.4->urllib3[secure]~=1.26->Selenium) (2.21)\n",
            "Requirement already satisfied: six>=1.5.2 in /usr/local/lib/python3.7/dist-packages (from pyOpenSSL>=0.14->urllib3[secure]~=1.26->Selenium) (1.15.0)\n",
            "Collecting h11<1,>=0.9.0\n",
            "  Downloading h11-0.12.0-py3-none-any.whl (54 kB)\n",
            "\u001b[K     |████████████████████████████████| 54 kB 3.9 MB/s \n",
            "\u001b[?25hInstalling collected packages: sniffio, outcome, h11, cryptography, async-generator, wsproto, urllib3, trio, pyOpenSSL, trio-websocket, Selenium\n",
            "  Attempting uninstall: urllib3\n",
            "    Found existing installation: urllib3 1.24.3\n",
            "    Uninstalling urllib3-1.24.3:\n",
            "      Successfully uninstalled urllib3-1.24.3\n",
            "\u001b[31mERROR: pip's dependency resolver does not currently take into account all the packages that are installed. This behaviour is the source of the following dependency conflicts.\n",
            "requests 2.23.0 requires urllib3!=1.25.0,!=1.25.1,<1.26,>=1.21.1, but you have urllib3 1.26.7 which is incompatible.\n",
            "datascience 0.10.6 requires folium==0.2.1, but you have folium 0.8.3 which is incompatible.\u001b[0m\n",
            "Successfully installed Selenium-4.0.0 async-generator-1.10 cryptography-35.0.0 h11-0.12.0 outcome-1.1.0 pyOpenSSL-21.0.0 sniffio-1.2.0 trio-0.19.0 trio-websocket-0.9.2 urllib3-1.26.7 wsproto-1.0.0\n"
          ]
        }
      ]
    },
    {
      "cell_type": "code",
      "metadata": {
        "colab": {
          "base_uri": "https://localhost:8080/"
        },
        "id": "NtvHcwRTUK0e",
        "outputId": "b68acf26-3cd2-4168-ce09-b6b169387812"
      },
      "source": [
        "#chrome web driver 설치\n",
        "!apt-get update\n",
        "!apt install chromium-chromedriver\n",
        "!cp /usr/lib/chromium-browser/chromedriver /usr/bin"
      ],
      "execution_count": 2,
      "outputs": [
        {
          "output_type": "stream",
          "name": "stdout",
          "text": [
            "\r0% [Working]\r            \rIgn:1 https://developer.download.nvidia.com/compute/cuda/repos/ubuntu1804/x86_64  InRelease\n",
            "\r0% [Connecting to archive.ubuntu.com (91.189.88.152)] [Connecting to security.u\r                                                                               \rGet:2 https://cloud.r-project.org/bin/linux/ubuntu bionic-cran40/ InRelease [3,626 B]\n",
            "\r0% [Connecting to archive.ubuntu.com (91.189.88.152)] [Connecting to security.u\r0% [Connecting to archive.ubuntu.com (91.189.88.152)] [Connecting to security.u\r0% [2 InRelease gpgv 3,626 B] [Connecting to archive.ubuntu.com (91.189.88.152)\r                                                                               \rIgn:3 https://developer.download.nvidia.com/compute/machine-learning/repos/ubuntu1804/x86_64  InRelease\n",
            "\r0% [2 InRelease gpgv 3,626 B] [Connecting to archive.ubuntu.com (91.189.88.152)\r                                                                               \rGet:4 https://developer.download.nvidia.com/compute/cuda/repos/ubuntu1804/x86_64  Release [696 B]\n",
            "\r0% [2 InRelease gpgv 3,626 B] [Connecting to archive.ubuntu.com (91.189.88.152)\r                                                                               \rHit:5 https://developer.download.nvidia.com/compute/machine-learning/repos/ubuntu1804/x86_64  Release\n",
            "Get:6 https://developer.download.nvidia.com/compute/cuda/repos/ubuntu1804/x86_64  Release.gpg [836 B]\n",
            "Get:7 http://security.ubuntu.com/ubuntu bionic-security InRelease [88.7 kB]\n",
            "Get:8 http://ppa.launchpad.net/c2d4u.team/c2d4u4.0+/ubuntu bionic InRelease [15.9 kB]\n",
            "Hit:9 http://archive.ubuntu.com/ubuntu bionic InRelease\n",
            "Get:10 https://cloud.r-project.org/bin/linux/ubuntu bionic-cran40/ Packages [73.0 kB]\n",
            "Get:11 http://archive.ubuntu.com/ubuntu bionic-updates InRelease [88.7 kB]\n",
            "Hit:13 http://ppa.launchpad.net/cran/libgit2/ubuntu bionic InRelease\n",
            "Get:14 https://developer.download.nvidia.com/compute/cuda/repos/ubuntu1804/x86_64  Packages [808 kB]\n",
            "Get:15 http://archive.ubuntu.com/ubuntu bionic-backports InRelease [74.6 kB]\n",
            "Get:16 http://ppa.launchpad.net/deadsnakes/ppa/ubuntu bionic InRelease [15.9 kB]\n",
            "Get:17 http://security.ubuntu.com/ubuntu bionic-security/main amd64 Packages [2,430 kB]\n",
            "Hit:18 http://ppa.launchpad.net/graphics-drivers/ppa/ubuntu bionic InRelease\n",
            "Get:19 http://ppa.launchpad.net/c2d4u.team/c2d4u4.0+/ubuntu bionic/main Sources [1,811 kB]\n",
            "Get:20 http://security.ubuntu.com/ubuntu bionic-security/restricted amd64 Packages [666 kB]\n",
            "Get:21 http://security.ubuntu.com/ubuntu bionic-security/multiverse amd64 Packages [26.8 kB]\n",
            "Get:22 http://security.ubuntu.com/ubuntu bionic-security/universe amd64 Packages [1,442 kB]\n",
            "Get:23 http://archive.ubuntu.com/ubuntu bionic-updates/universe amd64 Packages [2,222 kB]\n",
            "Get:24 http://archive.ubuntu.com/ubuntu bionic-updates/main amd64 Packages [2,867 kB]\n",
            "Get:25 http://ppa.launchpad.net/c2d4u.team/c2d4u4.0+/ubuntu bionic/main amd64 Packages [928 kB]\n",
            "Get:26 http://archive.ubuntu.com/ubuntu bionic-updates/restricted amd64 Packages [699 kB]\n",
            "Get:27 http://archive.ubuntu.com/ubuntu bionic-updates/multiverse amd64 Packages [34.4 kB]\n",
            "Get:28 http://ppa.launchpad.net/deadsnakes/ppa/ubuntu bionic/main amd64 Packages [45.9 kB]\n",
            "Fetched 14.3 MB in 4s (3,390 kB/s)\n",
            "Reading package lists... Done\n",
            "Reading package lists... Done\n",
            "Building dependency tree       \n",
            "Reading state information... Done\n",
            "The following additional packages will be installed:\n",
            "  chromium-browser chromium-browser-l10n chromium-codecs-ffmpeg-extra\n",
            "Suggested packages:\n",
            "  webaccounts-chromium-extension unity-chromium-extension\n",
            "The following NEW packages will be installed:\n",
            "  chromium-browser chromium-browser-l10n chromium-chromedriver\n",
            "  chromium-codecs-ffmpeg-extra\n",
            "0 upgraded, 4 newly installed, 0 to remove and 64 not upgraded.\n",
            "Need to get 94.0 MB of archives.\n",
            "After this operation, 324 MB of additional disk space will be used.\n",
            "Get:1 http://archive.ubuntu.com/ubuntu bionic-updates/universe amd64 chromium-codecs-ffmpeg-extra amd64 95.0.4638.69-0ubuntu0.18.04.1 [1,135 kB]\n",
            "Get:2 http://archive.ubuntu.com/ubuntu bionic-updates/universe amd64 chromium-browser amd64 95.0.4638.69-0ubuntu0.18.04.1 [83.6 MB]\n",
            "Get:3 http://archive.ubuntu.com/ubuntu bionic-updates/universe amd64 chromium-browser-l10n all 95.0.4638.69-0ubuntu0.18.04.1 [4,249 kB]\n",
            "Get:4 http://archive.ubuntu.com/ubuntu bionic-updates/universe amd64 chromium-chromedriver amd64 95.0.4638.69-0ubuntu0.18.04.1 [4,986 kB]\n",
            "Fetched 94.0 MB in 6s (16.4 MB/s)\n",
            "Selecting previously unselected package chromium-codecs-ffmpeg-extra.\n",
            "(Reading database ... 155219 files and directories currently installed.)\n",
            "Preparing to unpack .../chromium-codecs-ffmpeg-extra_95.0.4638.69-0ubuntu0.18.04.1_amd64.deb ...\n",
            "Unpacking chromium-codecs-ffmpeg-extra (95.0.4638.69-0ubuntu0.18.04.1) ...\n",
            "Selecting previously unselected package chromium-browser.\n",
            "Preparing to unpack .../chromium-browser_95.0.4638.69-0ubuntu0.18.04.1_amd64.deb ...\n",
            "Unpacking chromium-browser (95.0.4638.69-0ubuntu0.18.04.1) ...\n",
            "Selecting previously unselected package chromium-browser-l10n.\n",
            "Preparing to unpack .../chromium-browser-l10n_95.0.4638.69-0ubuntu0.18.04.1_all.deb ...\n",
            "Unpacking chromium-browser-l10n (95.0.4638.69-0ubuntu0.18.04.1) ...\n",
            "Selecting previously unselected package chromium-chromedriver.\n",
            "Preparing to unpack .../chromium-chromedriver_95.0.4638.69-0ubuntu0.18.04.1_amd64.deb ...\n",
            "Unpacking chromium-chromedriver (95.0.4638.69-0ubuntu0.18.04.1) ...\n",
            "Setting up chromium-codecs-ffmpeg-extra (95.0.4638.69-0ubuntu0.18.04.1) ...\n",
            "Setting up chromium-browser (95.0.4638.69-0ubuntu0.18.04.1) ...\n",
            "update-alternatives: using /usr/bin/chromium-browser to provide /usr/bin/x-www-browser (x-www-browser) in auto mode\n",
            "update-alternatives: using /usr/bin/chromium-browser to provide /usr/bin/gnome-www-browser (gnome-www-browser) in auto mode\n",
            "Setting up chromium-chromedriver (95.0.4638.69-0ubuntu0.18.04.1) ...\n",
            "Setting up chromium-browser-l10n (95.0.4638.69-0ubuntu0.18.04.1) ...\n",
            "Processing triggers for man-db (2.8.3-2ubuntu0.1) ...\n",
            "Processing triggers for hicolor-icon-theme (0.17-2) ...\n",
            "Processing triggers for mime-support (3.60ubuntu1) ...\n",
            "Processing triggers for libc-bin (2.27-3ubuntu1.3) ...\n",
            "/sbin/ldconfig.real: /usr/local/lib/python3.7/dist-packages/ideep4py/lib/libmkldnn.so.0 is not a symbolic link\n",
            "\n",
            "cp: '/usr/lib/chromium-browser/chromedriver' and '/usr/bin/chromedriver' are the same file\n"
          ]
        }
      ]
    },
    {
      "cell_type": "code",
      "metadata": {
        "id": "9LwBTxqoUMKa"
      },
      "source": [
        "import sys\n",
        "sys.path.insert(0,\"usr/lib/chromium-browser/chromedriver\")"
      ],
      "execution_count": 3,
      "outputs": []
    },
    {
      "cell_type": "code",
      "metadata": {
        "id": "455gU_fcUN8W"
      },
      "source": [
        "from selenium import webdriver\n",
        "\n",
        "chrome_options=webdriver.ChromeOptions()\n",
        "chrome_options.add_argument(\"--headless\")\n",
        "chrome_options.add_argument(\"--no-sandbox\")\n",
        "#chrome_options.add_argument(\"--disable-dev-shm-usage\")"
      ],
      "execution_count": 4,
      "outputs": []
    },
    {
      "cell_type": "code",
      "metadata": {
        "id": "d1mh6DWNUQVB"
      },
      "source": [
        "wd=webdriver.Chrome(\"chromedriver\",options=chrome_options)"
      ],
      "execution_count": 5,
      "outputs": []
    },
    {
      "cell_type": "markdown",
      "metadata": {
        "id": "jxSrVVi3U0lj"
      },
      "source": [
        "## load library"
      ]
    },
    {
      "cell_type": "code",
      "metadata": {
        "id": "A4iOGP3iT6PL"
      },
      "source": [
        "from bs4 import BeautifulSoup\n",
        "import pandas as pd\n",
        "from selenium import webdriver\n",
        "import time\n",
        "import re\n",
        "from selenium.webdriver.support.ui import WebDriverWait\n",
        "from selenium.webdriver.support import expected_conditions as EC\n",
        "import pandas as pd\n",
        "import requests"
      ],
      "execution_count": 8,
      "outputs": []
    },
    {
      "cell_type": "markdown",
      "metadata": {
        "id": "4s3zKkYRjv5G"
      },
      "source": [
        "## 코드1\n",
        "* 단순 `비건` 키워드 검색 : \n",
        "하나의 키워드에 대한 최대 갯수가 100개라서 최대 100개까지 산출됨"
      ]
    },
    {
      "cell_type": "code",
      "metadata": {
        "colab": {
          "base_uri": "https://localhost:8080/"
        },
        "id": "kz5eaXm1WjRm",
        "outputId": "8d4bd4b9-3a98-4cc8-eb7c-9fd2aa629642"
      },
      "source": [
        "base_url = \"https://www.diningcode.com/2018/ajax/list.php\"\n",
        "query_1=비건\n",
        "total_cafe = []\n",
        "\n",
        "   \n",
        "# ---------카페 이름, 링크 크롤링 ----------------\n",
        "# 각 카페의 이름을 가져옵니다.\n",
        "#for gu in gu_list:\n",
        "#  print(gu)\n",
        "page = 1 # 한 페이지에 10개씩 보여줍니다.\n",
        "\n",
        "while(True):\n",
        "    print(page)\n",
        "    url = base_url + '?' + 'query=' +\"비건\" + '&' + 'page=' + str(page) # 주소 설정\n",
        "    wd.get(url) # 크롬으로 페이지 접속\n",
        "    html = wd.page_source # 페이지 소스 저장\n",
        "    soup = BeautifulSoup(html, 'html.parser') # 스프로 파싱\n",
        "      \n",
        "    # 데이터에서 텍스트를 추출합니다\n",
        "    cafe_list = [data.text.split(' ', 1)[1] for data in soup.find_all(\"span\", class_=\"btxt\")]\n",
        "    cafe_link = [data.get(\"href\") for data in soup.find_all(\"a\", class_='blink')]\n",
        "    review_counts = [int(data.text) for data in soup.find_all(\"span\", class_=\"review button\")]\n",
        "        \n",
        "    # 추출한 데이터를 묶어서 반복합니다.\n",
        "    for pair in zip(cafe_list, cafe_link, review_counts):\n",
        "            \n",
        "        if pair[2] != 0: # 리뷰가 있는 카페만 크롤링합니다.\n",
        "            # 데이터 저장용 딕셔너리를 생성합니다\n",
        "            cafe_dict = {\n",
        "                    'name': pair[0],\n",
        "                    'link': pair[1]\n",
        "            }\n",
        "\n",
        "                # 만든 딕셔너리가 배열에 없으면 추가합니다.\n",
        "            if cafe_dict not in total_cafe:\n",
        "                total_cafe.append(cafe_dict)\n",
        "        \n",
        "    if len(cafe_list) != 10: break # 목록이 10개 미만이면 최대 개수에 도달했다는 뜻입니다.   \n",
        "    page += 1"
      ],
      "execution_count": null,
      "outputs": [
        {
          "output_type": "stream",
          "name": "stdout",
          "text": [
            "1\n",
            "2\n",
            "3\n",
            "4\n",
            "5\n",
            "6\n",
            "7\n",
            "8\n",
            "9\n",
            "10\n",
            "11\n"
          ]
        }
      ]
    },
    {
      "cell_type": "code",
      "metadata": {
        "colab": {
          "base_uri": "https://localhost:8080/"
        },
        "id": "RReIguWxhDUT",
        "outputId": "424b9423-9e32-465d-e7a6-0a5a1df638ec"
      },
      "source": [
        "len(total_cafe)"
      ],
      "execution_count": null,
      "outputs": [
        {
          "output_type": "execute_result",
          "data": {
            "text/plain": [
              "[{'link': '/profile.php?rid=NO4SwbBqNHzN', 'name': '칙피스'},\n",
              " {'link': '/profile.php?rid=zoUYnFQvJWWu', 'name': '뉴질랜드스토리'},\n",
              " {'link': '/profile.php?rid=wtCawt7e9txZ', 'name': '닥터로빈 광화문점'},\n",
              " {'link': '/profile.php?rid=VwYHjR87Qimm', 'name': 'MTL'},\n",
              " {'link': '/profile.php?rid=ZOI9ZIkdqZHw', 'name': '모멘토'},\n",
              " {'link': '/profile.php?rid=M6AqqsBZm29t', 'name': '로컬릿'},\n",
              " {'link': '/profile.php?rid=0yL4wKOADlgU', 'name': '쥬에'},\n",
              " {'link': '/profile.php?rid=zdeUxCeQTLlC', 'name': '산촌'},\n",
              " {'link': '/profile.php?rid=rOLdQ8mQg3d7', 'name': '몽크스 부처'},\n",
              " {'link': '/profile.php?rid=NURTKvtk4zXC', 'name': '거북이'},\n",
              " {'link': '/profile.php?rid=UYiV0iQSAKck', 'name': '무대륙'},\n",
              " {'link': '/profile.php?rid=W9lHy1BmtWy1', 'name': '어라운드 그린'},\n",
              " {'link': '/profile.php?rid=lOMwZR6Qerme', 'name': '후스테이블'},\n",
              " {'link': '/profile.php?rid=eVJIAipD0nuj', 'name': '다이너재키'},\n",
              " {'link': '/profile.php?rid=74tlRziwD6Qu', 'name': '가원'},\n",
              " {'link': '/profile.php?rid=h57PZF709BYz', 'name': '헤이 보울'},\n",
              " {'link': '/profile.php?rid=wS08XZBM2VGL', 'name': '두화당'},\n",
              " {'link': '/profile.php?rid=qT1hhfF11Itz', 'name': '모로코코 카페'},\n",
              " {'link': '/profile.php?rid=v3vAhW0U99tJ', 'name': '베이스이즈나이스'},\n",
              " {'link': '/profile.php?rid=O7LHARXBYJNm', 'name': '그릴도하'},\n",
              " {'link': '/profile.php?rid=6AQc2KZbAOQX', 'name': '연우김밥'},\n",
              " {'link': '/profile.php?rid=k3J1uhPCeMUV', 'name': '이밥'},\n",
              " {'link': '/profile.php?rid=xUwBJGkULuEq', 'name': 'mtl 효창'},\n",
              " {'link': '/profile.php?rid=hm8yymbTHsoU', 'name': '라스투어'},\n",
              " {'link': '/profile.php?rid=aGvbCzqdowD7', 'name': '악어'},\n",
              " {'link': '/profile.php?rid=vuqznBJH0IUR', 'name': '썬더버드 청담점'},\n",
              " {'link': '/profile.php?rid=CHMjKO2iPwfd', 'name': '라미스콘'},\n",
              " {'link': '/profile.php?rid=zUKqsLouzwuw', 'name': '톰톰카레'},\n",
              " {'link': '/profile.php?rid=GvVzPal07eia', 'name': '카우떡볶이'},\n",
              " {'link': '/profile.php?rid=UAcDBmWKK8fK', 'name': '플랜트'},\n",
              " {'link': '/profile.php?rid=tdxy5IrPwCGT', 'name': '키에리'},\n",
              " {'link': '/profile.php?rid=y1M2YgB11Ed9', 'name': '레니엡'},\n",
              " {'link': '/profile.php?rid=5sESL9W9pnyQ', 'name': '한민이의 마크로비오틱'},\n",
              " {'link': '/profile.php?rid=hlaFHotow0ZR', 'name': '오세계향'},\n",
              " {'link': '/profile.php?rid=ZBpb1wnH1uVL', 'name': '푸드 더즈 매터'},\n",
              " {'link': '/profile.php?rid=W9H0IAJm5DhE', 'name': '스타벅스 정동점'},\n",
              " {'link': '/profile.php?rid=8vVZFZhqO1tm', 'name': '하노이바게트'},\n",
              " {'link': '/profile.php?rid=jqcO9IwfZvHO', 'name': '카페 페퍼'},\n",
              " {'link': '/profile.php?rid=OSHBgosyUVce', 'name': '손오공마라탕 서교점'},\n",
              " {'link': '/profile.php?rid=8wiVpoBMJaDx', 'name': '산촌미학'},\n",
              " {'link': '/profile.php?rid=TiVGTlLWROag', 'name': '하이타이'},\n",
              " {'link': '/profile.php?rid=6jRqK6Rd1uqL', 'name': '마을찻집 마주이야기'},\n",
              " {'link': '/profile.php?rid=gFxIOnl6TMQV', 'name': '발우공양'},\n",
              " {'link': '/profile.php?rid=RkIkgWwNPS4w', 'name': '비밀'},\n",
              " {'link': '/profile.php?rid=s0DBKuBIsWOd', 'name': '씨젬므 쥬르'},\n",
              " {'link': '/profile.php?rid=EegUGjDmTIS2', 'name': '마치래빗'},\n",
              " {'link': '/profile.php?rid=skbgpmQUtRga', 'name': '드렁큰비건'},\n",
              " {'link': '/profile.php?rid=DNekVns8QRew', 'name': '무화당 베이커리'},\n",
              " {'link': '/profile.php?rid=SvRBrH6GnTXg', 'name': '바이두부'},\n",
              " {'link': '/profile.php?rid=wsGMdnEbzToJ', 'name': '디톡스마켓 NC신구로점'},\n",
              " {'link': '/profile.php?rid=rRkynFz4YGYl', 'name': '히피스베이글'},\n",
              " {'link': '/profile.php?rid=z1PvQ9uzD8xE', 'name': '알디프 티 바 & 라운지'},\n",
              " {'link': '/profile.php?rid=DJRCDKk9nBt5', 'name': '베제투스'},\n",
              " {'link': '/profile.php?rid=dcnSMp0QsX0k', 'name': '캘리포니아피자키친'},\n",
              " {'link': '/profile.php?rid=5DgSieuYmNRf', 'name': '남미 플랜트랩'},\n",
              " {'link': '/profile.php?rid=rU5G1pIqjA3N', 'name': '태화원'},\n",
              " {'link': '/profile.php?rid=1SZyAbp9XRDH', 'name': '알로하포케'},\n",
              " {'link': '/profile.php?rid=jRyUf6ntVDYw', 'name': '보틀라운지'},\n",
              " {'link': '/profile.php?rid=VpydRV9sn6tL', 'name': '밥먹는술집 광장'},\n",
              " {'link': '/profile.php?rid=tEpm9UDs7FYV', 'name': '연우네'},\n",
              " {'link': '/profile.php?rid=LCmpMDBMiNno', 'name': '신동양반점'},\n",
              " {'link': '/profile.php?rid=KCBUA7adGdR2', 'name': '카페 스프라우츠'},\n",
              " {'link': '/profile.php?rid=zYcEGGwplJxX', 'name': '리틀마나님'},\n",
              " {'link': '/profile.php?rid=CG1BujI0iVJb', 'name': '디스베리데이'},\n",
              " {'link': '/profile.php?rid=RM45xPc2quDi', 'name': '카페 시트로네'},\n",
              " {'link': '/profile.php?rid=UjfjRZwGmg6D', 'name': '뷰티그로서리'},\n",
              " {'link': '/profile.php?rid=gbbpLSGIkxWG', 'name': 'SF베이글'},\n",
              " {'link': '/profile.php?rid=EeI5si4CWjdV', 'name': '스타벅스 인천터미널사거리점'},\n",
              " {'link': '/profile.php?rid=nJR4LQhYeW08', 'name': '카페 샘 그리고 밭'},\n",
              " {'link': '/profile.php?rid=cyeGODQwZwUR', 'name': '카페엠'},\n",
              " {'link': '/profile.php?rid=YLG4C54g45EB', 'name': '청국장과보리밥'},\n",
              " {'link': '/profile.php?rid=ZREm0QfiWjPy', 'name': '평상시'},\n",
              " {'link': '/profile.php?rid=ujXAeiiGcLa0', 'name': '스타벅스'},\n",
              " {'link': '/profile.php?rid=WgnQESJfHYfb', 'name': '남산분식당'},\n",
              " {'link': '/profile.php?rid=gZGsjyDN46ux', 'name': '쁘띠통'},\n",
              " {'link': '/profile.php?rid=iL7jhK2fW85R', 'name': '카페 반창고'},\n",
              " {'link': '/profile.php?rid=XHIfS1U29j27', 'name': '반미리'},\n",
              " {'link': '/profile.php?rid=2rFpJjvbJePB', 'name': '필로'},\n",
              " {'link': '/profile.php?rid=f7d0WNaUpHuz', 'name': '베지나랑'},\n",
              " {'link': '/profile.php?rid=mgIhTjp2rADz', 'name': '사월제과'},\n",
              " {'link': '/profile.php?rid=DUMST6zICzjx', 'name': '빕스얌딜리버리 하남미사점'},\n",
              " {'link': '/profile.php?rid=prrErC7GYVjG', 'name': '칙피스  성수점'},\n",
              " {'link': '/profile.php?rid=sBW15Sp4AyN2', 'name': '루트 에브리데이 한남점'},\n",
              " {'link': '/profile.php?rid=VIXQWUek66tk', 'name': '띵크비건'},\n",
              " {'link': '/profile.php?rid=gGhLmScmUDtr', 'name': '이로울리'},\n",
              " {'link': '/profile.php?rid=hmOtSw9FVXLW', 'name': '펠앤콜'},\n",
              " {'link': '/profile.php?rid=WxRdKoLTG5rQ', 'name': '서브웨이'},\n",
              " {'link': '/profile.php?rid=cSRJiGqG1T7a', 'name': '파파디파스타'},\n",
              " {'link': '/profile.php?rid=7qVrIhwm1x01', 'name': '평상시'},\n",
              " {'link': '/profile.php?rid=75EMRB6qZEz6', 'name': '포프트 커피'},\n",
              " {'link': '/profile.php?rid=Hcy11Pv8nRyB', 'name': '미스터리 Mr.lee'},\n",
              " {'link': '/profile.php?rid=oqDqduXs2zik', 'name': '나뚜루팝'},\n",
              " {'link': '/profile.php?rid=145MmhiuOmuz', 'name': '도시농가코페도코'},\n",
              " {'link': '/profile.php?rid=i1aBhjbJo5Uy', 'name': '죠티 인도레스토랑 종로점'},\n",
              " {'link': '/profile.php?rid=1s1JrDpMZSKa', 'name': '레헴케이크'},\n",
              " {'link': '/profile.php?rid=gdh41HfRi8NT', 'name': '니니네'},\n",
              " {'link': '/profile.php?rid=5zRf1CFWrj09', 'name': '해밀 비건베이커리'},\n",
              " {'link': '/profile.php?rid=fC9ohrQcwpv0', 'name': '르카페'},\n",
              " {'link': '/profile.php?rid=RBxaF409xwa0', 'name': '앤테이블'},\n",
              " {'link': '/profile.php?rid=hdzfQRYgKLiJ', 'name': '카페 크라운'}]"
            ]
          },
          "metadata": {},
          "execution_count": 91
        }
      ]
    },
    {
      "cell_type": "markdown",
      "metadata": {
        "id": "e1DaJZwKlRCL"
      },
      "source": [
        "## 코드2"
      ]
    },
    {
      "cell_type": "code",
      "metadata": {
        "colab": {
          "base_uri": "https://localhost:8080/"
        },
        "id": "BuSR8KXMlgye",
        "outputId": "ee1d6b20-90ee-4820-eb7f-b2605872bd07"
      },
      "source": [
        "base_url = \"https://www.diningcode.com/2018/ajax/list.php\"\n",
        "total_cafe = []\n",
        "\n",
        "   \n",
        "# ---------카페 이름, 링크 크롤링 ----------------\n",
        "# 각 카페의 이름을 가져옵니다.\n",
        "for gu in gu_list:\n",
        "  print(gu)\n",
        "  page = 1 # 한 페이지에 10개씩 보여줍니다.\n",
        "\n",
        "  while(True):\n",
        "      print(page)\n",
        "      url = base_url + '?' + 'query=' +gu+\"브런치\" + '&' + 'page=' + str(page) # 주소 설정\n",
        "      wd.get(url) # 크롬으로 페이지 접속\n",
        "      html = wd.page_source # 페이지 소스 저장\n",
        "      time.sleep(20)\n",
        "      soup = BeautifulSoup(html, 'html.parser') # 스프로 파싱\n",
        "        \n",
        "      # 데이터에서 텍스트를 추출합니다\n",
        "      cafe_list = [data.text.split(' ', 1)[1] for data in soup.find_all(\"span\", class_=\"btxt\")]\n",
        "      cafe_link = [data.get(\"href\") for data in soup.find_all(\"a\", class_='blink')]\n",
        "      review_counts = [int(data.text) for data in soup.find_all(\"span\", class_=\"review button\")]\n",
        "          \n",
        "      # 추출한 데이터를 묶어서 반복합니다.\n",
        "      for pair in zip(cafe_list, cafe_link, review_counts):\n",
        "              \n",
        "          if pair[2] != 0: # 리뷰가 있는 카페만 크롤링합니다.\n",
        "              # 데이터 저장용 딕셔너리를 생성합니다\n",
        "              cafe_dict = {\n",
        "                      'name': pair[0],\n",
        "                      'link': pair[1]\n",
        "              }\n",
        "\n",
        "                  # 만든 딕셔너리가 배열에 없으면 추가합니다.\n",
        "              if cafe_dict not in total_cafe:\n",
        "                  total_cafe.append(cafe_dict)\n",
        "                  print(\"len : \",len(total_cafe))\n",
        "          \n",
        "      if len(cafe_list) != 10: break # 목록이 10개 미만이면 최대 개수에 도달했다는 뜻입니다.   \n",
        "      page += 1"
      ],
      "execution_count": null,
      "outputs": [
        {
          "output_type": "stream",
          "name": "stdout",
          "text": [
            "마포구\n",
            "1\n",
            "len :  1\n",
            "len :  2\n",
            "len :  3\n",
            "len :  4\n",
            "len :  5\n",
            "len :  6\n",
            "len :  7\n",
            "len :  8\n",
            "len :  9\n",
            "len :  10\n",
            "2\n"
          ]
        }
      ]
    },
    {
      "cell_type": "code",
      "metadata": {
        "colab": {
          "base_uri": "https://localhost:8080/"
        },
        "id": "4fDDUJQml9E8",
        "outputId": "9a7bbe58-347a-4df2-a766-412c5ecfd2b0"
      },
      "source": [
        "len(total_cafe)"
      ],
      "execution_count": null,
      "outputs": [
        {
          "output_type": "execute_result",
          "data": {
            "text/plain": [
              "0"
            ]
          },
          "metadata": {},
          "execution_count": 18
        }
      ]
    },
    {
      "cell_type": "markdown",
      "metadata": {
        "id": "5MZ1uLA0ueJ8"
      },
      "source": [
        "## 지역별 행정구역명\n",
        "[link](https://www.laiis.go.kr/lips/mlo/wco/wholeCountryList.do)"
      ]
    },
    {
      "cell_type": "code",
      "metadata": {
        "id": "YP4NBv7Giees"
      },
      "source": [
        "#서울시\n",
        "gu_seoul = [\"마포구\",\"서대문구\",'은평구','종로구','중구','용산구','성동구','광진구',\n",
        "           '동대문구','성북구','강북구','도봉구','노원구','중랑구','강동구','송파구',\n",
        "           '강남구','서초구','관악구','동작구','영등포구','금천구','구로구','양천구',\n",
        "           '강서구']\n",
        "#363개"
      ],
      "execution_count": 70,
      "outputs": []
    },
    {
      "cell_type": "code",
      "metadata": {
        "id": "7gjV8VCrkq85"
      },
      "source": [
        "#경기도\n",
        "gu_gyeonggi=[\t\n",
        "\"고양\",\"과천\",\"광명\",\"경기도 광주\",\"구리\",\"군포\",\"김포\",\"남양주\",\"동두천\",\"부천\",\"성남\",\"수원\",\"시흥\",\n",
        "\"안산\",\"안성\",\"안양\",\"양주\",\"여주\",\"오산\",\"용인\",\"의왕\",\"의정부\",\"이천\",\"파주\",\"평택\",\"포천\",\"하남\",\"화성\"]\n",
        "#172개\n",
        "#광주광역시와 혼돈 피하기 위해 광주시 -> 경기도 광주"
      ],
      "execution_count": 71,
      "outputs": []
    },
    {
      "cell_type": "code",
      "metadata": {
        "id": "Wbv2FwtDlub_"
      },
      "source": [
        "#광역시/특별시\n",
        "metropol=[\"부산\", \"인천\", \"대구\", \"대전\", \"광주\", \"울산\",\"세종\",\"제주\"]#208개\n",
        "\n",
        "gu_busan=[\"부산 중구\",\"부산 서구\",\"부산 동구\",\"영도구\",\"부산진구\",\"동래구\",\"부산 남구\", \"부산 북구\",\"해운대구\",\"사하구\",\"금정구\",\"강서구\",\"연제구\",\"수영구\",\"사상구\"]\n",
        "gu_incheon=[\"인천 중구\",\"인천 동구\",\"미추홀구\",\"연수구\",\"남동구\",\"부평구\",\"계양구\",\"인천 서구\"]\n",
        "gu_daegu=[\"대구 중구\",\"대구 동구\", \"대구 서구\", \"대구 남구\",\"대구 북구\", \"수성구\",\"달서구\"]\n",
        "gu_daejeon=[\"대전 동구\",\"대전 중구\", \"대전 서구\",\"유성구\",\"대덕구\"]\n",
        "gu_gwangju=[\"광주 동구\",\"광주 서구\", \"광주 남구\",\"광주 북구\",\"광주 광산구\"]\n",
        "gu_ulsan=[\"울산 중구\",\"울산 남구\",\"울산 동구\",\"울산 북구\"]\n",
        "\n",
        "si_jeju=[\"제주시\",\"서귀포시\"]\n",
        "sejong=[\"세종\"]\n",
        "metropol_list=gu_busan+gu_incheon+gu_daegu+gu_daejeon+gu_gwangju+gu_ulsan+si_jeju+sejong #307개"
      ],
      "execution_count": 72,
      "outputs": []
    },
    {
      "cell_type": "code",
      "metadata": {
        "id": "MzgHHmJsnLEA"
      },
      "source": [
        "#경기도는 제외 (구 단위로 들어감)\n",
        "#시까지만.. 군부터는 제외\n",
        "si_kangaondo=[\"춘천\",\"원주\",\"강릉\",\"동해\",\"태백\",\"속초\",\"삼척\"] #25개\n",
        "si_chungcheong_bukdo=[\"청주\",\"충주\",\"제천\"] #9\n",
        "si_chungcheong_namdo=[\"천안\",\"공주\",\"보령\",\"아산\",\"서산\",\"논산\",\"계룡\",\"당진\"] #15\n",
        "si_jeolla_bukdo=[\"전주\",\"군산\",\"익산\",\"정읍\",\"남원\",\"김제\"] #37\n",
        "si_jeolla_namdo=[\"목포\",\"여수\",\"순천\",\"나주\"] #8\n",
        "si_gyeongsang_bukdo=[\"포항\",'경주','김천','안동','구미','영주','영천','상주','문경','경산'] #50\n",
        "si_gyeongsang_namdo=[\"창원\",\"진주\",\"통영\",\"사천\",\"김해\",\"밀양\",\"거제\",\"양산\"] #44\n",
        "\n",
        "\n",
        "si=[\"강원도\", \"충청북도\", \"충청남도\", \"전라북도\", \"전라남도\", \"경상북도\", \"경상남도\"]\n",
        "si_list=si_kangaondo+si_chungcheong_bukdo+si_chungcheong_namdo+si_jeolla_bukdo+si_jeolla_namdo+si_gyeongsang_bukdo+si_gyeongsang_namdo #188개\n"
      ],
      "execution_count": 73,
      "outputs": []
    },
    {
      "cell_type": "code",
      "metadata": {
        "id": "qYHdxtOw1JEp"
      },
      "source": [
        "total_list=gu_seoul+gu_gyeonggi+gu_busan+gu_incheon+gu_daegu+gu_daejeon+gu_gwangju+gu_ulsan+si_kangaondo+si_chungcheong_bukdo+si_chungcheong_namdo+si_jeolla_bukdo+si_jeolla_namdo+si_gyeongsang_bukdo+si_gyeongsang_namdo+si_jeju+sejong"
      ],
      "execution_count": 77,
      "outputs": []
    },
    {
      "cell_type": "code",
      "metadata": {
        "colab": {
          "base_uri": "https://localhost:8080/"
        },
        "id": "MExB1QuS6CrP",
        "outputId": "6860ac78-a7fc-4565-b1e1-7c3b8cd2c2dc"
      },
      "source": [
        "print(len(metropol_list))\n",
        "print(len(gu_seoul))\n",
        "print(len(gu_gyeonggi))\n",
        "print(len(si_list))\n",
        "print(len(total_list))"
      ],
      "execution_count": 78,
      "outputs": [
        {
          "output_type": "stream",
          "name": "stdout",
          "text": [
            "47\n",
            "25\n",
            "28\n",
            "46\n",
            "146\n"
          ]
        }
      ]
    },
    {
      "cell_type": "markdown",
      "metadata": {
        "id": "HNnHfRK8xfMP"
      },
      "source": [
        "## 코드 3\n",
        "Requests를 이용한 크롤링"
      ]
    },
    {
      "cell_type": "code",
      "metadata": {
        "colab": {
          "base_uri": "https://localhost:8080/"
        },
        "id": "OF8xUgfdiOJK",
        "outputId": "c7a25a68-51ac-47d8-fce5-b926621848a8"
      },
      "source": [
        "#SSL Verify 경고 끄기\n",
        "requests.packages.urllib3.disable_warnings(requests.packages.urllib3.exceptions.InsecureRequestWarning)\n",
        "\n",
        "\n",
        "results = []\n",
        "for gu in total_list:\n",
        "  for page_no in range(1, 11):\n",
        "      \n",
        "      url = \"https://www.diningcode.com/2018/ajax/list.php?query=\"+gu+\" 비건&page=\"+str(page_no)\n",
        "      response = requests.get(url, verify = False)\n",
        "      html = response.text\n",
        "      soup = BeautifulSoup(html, \"html.parser\")\n",
        "      items = soup.select(\".blink\")\n",
        "     \n",
        "      for item in items:\n",
        "          print(\"{}페이지 크롤링 중...\".format(page_no), end=\"\\r\")\n",
        "          this_result_dict = {\n",
        "              \"이름\" : \"\".join(item.select(\".btxt\")[0].text.split(\". \")[1:]),\n",
        "              \"종류\" : item.select(\".stxt\")[0].text,\n",
        "              \"특징\" : item.select(\".ctxt\")[0].text,\n",
        "              \"링크\" : item[\"href\"]\n",
        "          }\n",
        "          if len(item.select(\".ctxt\")[1].select(\"i\"))>0:\n",
        "              this_result_dict[\"위치\"] = item.select(\".ctxt\")[1].select(\"i\")[0].text\n",
        "              item.select(\".ctxt\")[1].select(\"i\")[0].decompose()\n",
        "          this_result_dict[\"주소\"] = item.select(\".ctxt\")[1].text\n",
        "          results.append(this_result_dict)\n",
        "\n",
        "df = pd.DataFrame(results)"
      ],
      "execution_count": 79,
      "outputs": [
        {
          "output_type": "stream",
          "name": "stdout",
          "text": [
            ""
          ]
        }
      ]
    },
    {
      "cell_type": "code",
      "metadata": {
        "colab": {
          "base_uri": "https://localhost:8080/"
        },
        "id": "4XDKr73hitir",
        "outputId": "9b739e48-aa00-435e-fb05-3fdae4f054d2"
      },
      "source": [
        "df.shape"
      ],
      "execution_count": 80,
      "outputs": [
        {
          "output_type": "execute_result",
          "data": {
            "text/plain": [
              "(1017, 6)"
            ]
          },
          "metadata": {},
          "execution_count": 80
        }
      ]
    },
    {
      "cell_type": "code",
      "metadata": {
        "colab": {
          "base_uri": "https://localhost:8080/",
          "height": 206
        },
        "id": "ZkU_6n0G_X-Q",
        "outputId": "9cd8a1dd-2fc1-46ac-d5bf-36a8a8edad32"
      },
      "source": [
        "df.head()"
      ],
      "execution_count": 82,
      "outputs": [
        {
          "output_type": "execute_result",
          "data": {
            "text/html": [
              "<div>\n",
              "<style scoped>\n",
              "    .dataframe tbody tr th:only-of-type {\n",
              "        vertical-align: middle;\n",
              "    }\n",
              "\n",
              "    .dataframe tbody tr th {\n",
              "        vertical-align: top;\n",
              "    }\n",
              "\n",
              "    .dataframe thead th {\n",
              "        text-align: right;\n",
              "    }\n",
              "</style>\n",
              "<table border=\"1\" class=\"dataframe\">\n",
              "  <thead>\n",
              "    <tr style=\"text-align: right;\">\n",
              "      <th></th>\n",
              "      <th>이름</th>\n",
              "      <th>종류</th>\n",
              "      <th>특징</th>\n",
              "      <th>링크</th>\n",
              "      <th>위치</th>\n",
              "      <th>주소</th>\n",
              "    </tr>\n",
              "  </thead>\n",
              "  <tbody>\n",
              "    <tr>\n",
              "      <th>0</th>\n",
              "      <td>무대륙</td>\n",
              "      <td>카페, 아메리카노, 채식</td>\n",
              "      <td>데이트, 무료주차, 애완동물동반</td>\n",
              "      <td>/profile.php?rid=UYiV0iQSAKck</td>\n",
              "      <td>합정</td>\n",
              "      <td>서울특별시 마포구 합정동 357-7</td>\n",
              "    </tr>\n",
              "    <tr>\n",
              "      <th>1</th>\n",
              "      <td>어라운드 그린</td>\n",
              "      <td>비건, 버섯피자</td>\n",
              "      <td>데이트, 배달, 애완동물동반</td>\n",
              "      <td>/profile.php?rid=W9lHy1BmtWy1</td>\n",
              "      <td>망원동</td>\n",
              "      <td>서울특별시 마포구 망원동 423-15 3층</td>\n",
              "    </tr>\n",
              "    <tr>\n",
              "      <th>2</th>\n",
              "      <td>다이너재키</td>\n",
              "      <td>비건식당, 야채샐러드</td>\n",
              "      <td>데이트, 애완동물동반, 예쁜</td>\n",
              "      <td>/profile.php?rid=eVJIAipD0nuj</td>\n",
              "      <td>망원동</td>\n",
              "      <td>서울특별시 마포구 망원동 400-9</td>\n",
              "    </tr>\n",
              "    <tr>\n",
              "      <th>3</th>\n",
              "      <td>가원</td>\n",
              "      <td>비건, 탕수육, 채식</td>\n",
              "      <td>식사모임, 배달, 서민적인</td>\n",
              "      <td>/profile.php?rid=74tlRziwD6Qu</td>\n",
              "      <td>망원동</td>\n",
              "      <td>서울특별시 마포구 망원동 386-2</td>\n",
              "    </tr>\n",
              "    <tr>\n",
              "      <th>4</th>\n",
              "      <td>베이스이즈나이스</td>\n",
              "      <td>비건식당, 채식</td>\n",
              "      <td>데이트, 예쁜</td>\n",
              "      <td>/profile.php?rid=v3vAhW0U99tJ</td>\n",
              "      <td>마포</td>\n",
              "      <td>서울 마포구 도화동 7-6</td>\n",
              "    </tr>\n",
              "  </tbody>\n",
              "</table>\n",
              "</div>"
            ],
            "text/plain": [
              "         이름             종류  ...   위치                       주소\n",
              "0       무대륙  카페, 아메리카노, 채식  ...   합정      서울특별시 마포구 합정동 357-7\n",
              "1   어라운드 그린       비건, 버섯피자  ...  망원동  서울특별시 마포구 망원동 423-15 3층\n",
              "2     다이너재키    비건식당, 야채샐러드  ...  망원동      서울특별시 마포구 망원동 400-9\n",
              "3        가원    비건, 탕수육, 채식  ...  망원동      서울특별시 마포구 망원동 386-2\n",
              "4  베이스이즈나이스       비건식당, 채식  ...   마포           서울 마포구 도화동 7-6\n",
              "\n",
              "[5 rows x 6 columns]"
            ]
          },
          "metadata": {},
          "execution_count": 82
        }
      ]
    },
    {
      "cell_type": "markdown",
      "metadata": {
        "id": "OnRuq8GAxyIw"
      },
      "source": [
        "## 코드4\n",
        "Selenium으로 크롤링하기<br>\n",
        "*검색 키워드에 따라 더보기 버튼 누르는 부분에서 에러 발생*"
      ]
    },
    {
      "cell_type": "code",
      "metadata": {
        "colab": {
          "base_uri": "https://localhost:8080/",
          "height": 397
        },
        "id": "b7g3Q9aHbS7k",
        "outputId": "558d25ab-3f2d-4127-9709-63cbc5ac21df"
      },
      "source": [
        "\n",
        "for gu in gu_list:\n",
        "  wd.get(\"https://www.diningcode.com/\")\n",
        "  wd.find_element_by_css_selector(\"#txt_keyword\").send_keys(gu+\" 비건\")\n",
        "  wd.find_element_by_css_selector(\"#txt_keyword\").submit()\n",
        "  wd.find_element_by_css_selector(\"#btn_normal_list\").click()\n",
        "\n",
        "  for i in range(0, 10): #더보기 버튼을 눌러 추가로 데이터를 로드함. 10번 반복하여 총 100개의 데이터 로드\n",
        "      if(wd.find_element_by_css_selector(\"#div_list_more > .more-btn\")):\n",
        "        more_btn = wd.find_element_by_css_selector(\"#div_list_more > .more-btn\")\n",
        "        try:\n",
        "            more_btn.click()\n",
        "        except:\n",
        "            print(\"모든 데이터를 로드하였습니다.\")\n",
        "        time.sleep(2) #데이터 로드시간 편차가 있어 2초 정도 쉬어 줌\n",
        "      else:\n",
        "        break\n",
        "\n",
        "  html = wd.page_source\n",
        "  soup = BeautifulSoup(html, \"html.parser\")\n",
        "  items = soup.select(\".blink\")\n",
        "  results = []\n",
        "  for item in items:\n",
        "      this_result_dict = {\n",
        "          \"이름\" : \"\".join(item.select(\".btxt\")[0].text.split(\". \")[1:]),\n",
        "          \"종류\" : item.select(\".stxt\")[0].text,\n",
        "          \"특징\" : item.select(\".ctxt\")[0].text,\n",
        "          \"링크\" : item[\"href\"]\n",
        "      }\n",
        "      if len(item.select(\".ctxt\")[1].select(\"i\"))>0:\n",
        "          this_result_dict[\"위치\"] = item.select(\".ctxt\")[1].select(\"i\")[0].text\n",
        "          item.select(\".ctxt\")[1].select(\"i\")[0].decompose()\n",
        "      this_result_dict[\"주소\"] = item.select(\".ctxt\")[1].text\n",
        "      results.append(this_result_dict)\n",
        "      print(len(results))\n",
        "\n"
      ],
      "execution_count": null,
      "outputs": [
        {
          "output_type": "error",
          "ename": "KeyboardInterrupt",
          "evalue": "ignored",
          "traceback": [
            "\u001b[0;31m---------------------------------------------------------------------------\u001b[0m",
            "\u001b[0;31mKeyboardInterrupt\u001b[0m                         Traceback (most recent call last)",
            "\u001b[0;32m<ipython-input-52-b0080de6d5d9>\u001b[0m in \u001b[0;36m<module>\u001b[0;34m()\u001b[0m\n\u001b[1;32m      2\u001b[0m \u001b[0;34m\u001b[0m\u001b[0m\n\u001b[1;32m      3\u001b[0m \u001b[0;32mfor\u001b[0m \u001b[0mgu\u001b[0m \u001b[0;32min\u001b[0m \u001b[0mgu_list\u001b[0m\u001b[0;34m:\u001b[0m\u001b[0;34m\u001b[0m\u001b[0;34m\u001b[0m\u001b[0m\n\u001b[0;32m----> 4\u001b[0;31m   \u001b[0mwd\u001b[0m\u001b[0;34m.\u001b[0m\u001b[0mget\u001b[0m\u001b[0;34m(\u001b[0m\u001b[0;34m\"https://www.diningcode.com/\"\u001b[0m\u001b[0;34m)\u001b[0m\u001b[0;34m\u001b[0m\u001b[0;34m\u001b[0m\u001b[0m\n\u001b[0m\u001b[1;32m      5\u001b[0m   \u001b[0mwd\u001b[0m\u001b[0;34m.\u001b[0m\u001b[0mfind_element_by_css_selector\u001b[0m\u001b[0;34m(\u001b[0m\u001b[0;34m\"#txt_keyword\"\u001b[0m\u001b[0;34m)\u001b[0m\u001b[0;34m.\u001b[0m\u001b[0msend_keys\u001b[0m\u001b[0;34m(\u001b[0m\u001b[0mgu\u001b[0m\u001b[0;34m+\u001b[0m\u001b[0;34m\" 비건\"\u001b[0m\u001b[0;34m)\u001b[0m\u001b[0;34m\u001b[0m\u001b[0;34m\u001b[0m\u001b[0m\n\u001b[1;32m      6\u001b[0m   \u001b[0mwd\u001b[0m\u001b[0;34m.\u001b[0m\u001b[0mfind_element_by_css_selector\u001b[0m\u001b[0;34m(\u001b[0m\u001b[0;34m\"#txt_keyword\"\u001b[0m\u001b[0;34m)\u001b[0m\u001b[0;34m.\u001b[0m\u001b[0msubmit\u001b[0m\u001b[0;34m(\u001b[0m\u001b[0;34m)\u001b[0m\u001b[0;34m\u001b[0m\u001b[0;34m\u001b[0m\u001b[0m\n",
            "\u001b[0;32m/usr/local/lib/python3.7/dist-packages/selenium/webdriver/remote/webdriver.py\u001b[0m in \u001b[0;36mget\u001b[0;34m(self, url)\u001b[0m\n\u001b[1;32m    428\u001b[0m         \u001b[0mLoads\u001b[0m \u001b[0ma\u001b[0m \u001b[0mweb\u001b[0m \u001b[0mpage\u001b[0m \u001b[0;32min\u001b[0m \u001b[0mthe\u001b[0m \u001b[0mcurrent\u001b[0m \u001b[0mbrowser\u001b[0m \u001b[0msession\u001b[0m\u001b[0;34m.\u001b[0m\u001b[0;34m\u001b[0m\u001b[0;34m\u001b[0m\u001b[0m\n\u001b[1;32m    429\u001b[0m         \"\"\"\n\u001b[0;32m--> 430\u001b[0;31m         \u001b[0mself\u001b[0m\u001b[0;34m.\u001b[0m\u001b[0mexecute\u001b[0m\u001b[0;34m(\u001b[0m\u001b[0mCommand\u001b[0m\u001b[0;34m.\u001b[0m\u001b[0mGET\u001b[0m\u001b[0;34m,\u001b[0m \u001b[0;34m{\u001b[0m\u001b[0;34m'url'\u001b[0m\u001b[0;34m:\u001b[0m \u001b[0murl\u001b[0m\u001b[0;34m}\u001b[0m\u001b[0;34m)\u001b[0m\u001b[0;34m\u001b[0m\u001b[0;34m\u001b[0m\u001b[0m\n\u001b[0m\u001b[1;32m    431\u001b[0m \u001b[0;34m\u001b[0m\u001b[0m\n\u001b[1;32m    432\u001b[0m     \u001b[0;34m@\u001b[0m\u001b[0mproperty\u001b[0m\u001b[0;34m\u001b[0m\u001b[0;34m\u001b[0m\u001b[0m\n",
            "\u001b[0;32m/usr/local/lib/python3.7/dist-packages/selenium/webdriver/remote/webdriver.py\u001b[0m in \u001b[0;36mexecute\u001b[0;34m(self, driver_command, params)\u001b[0m\n\u001b[1;32m    414\u001b[0m \u001b[0;34m\u001b[0m\u001b[0m\n\u001b[1;32m    415\u001b[0m         \u001b[0mparams\u001b[0m \u001b[0;34m=\u001b[0m \u001b[0mself\u001b[0m\u001b[0;34m.\u001b[0m\u001b[0m_wrap_value\u001b[0m\u001b[0;34m(\u001b[0m\u001b[0mparams\u001b[0m\u001b[0;34m)\u001b[0m\u001b[0;34m\u001b[0m\u001b[0;34m\u001b[0m\u001b[0m\n\u001b[0;32m--> 416\u001b[0;31m         \u001b[0mresponse\u001b[0m \u001b[0;34m=\u001b[0m \u001b[0mself\u001b[0m\u001b[0;34m.\u001b[0m\u001b[0mcommand_executor\u001b[0m\u001b[0;34m.\u001b[0m\u001b[0mexecute\u001b[0m\u001b[0;34m(\u001b[0m\u001b[0mdriver_command\u001b[0m\u001b[0;34m,\u001b[0m \u001b[0mparams\u001b[0m\u001b[0;34m)\u001b[0m\u001b[0;34m\u001b[0m\u001b[0;34m\u001b[0m\u001b[0m\n\u001b[0m\u001b[1;32m    417\u001b[0m         \u001b[0;32mif\u001b[0m \u001b[0mresponse\u001b[0m\u001b[0;34m:\u001b[0m\u001b[0;34m\u001b[0m\u001b[0;34m\u001b[0m\u001b[0m\n\u001b[1;32m    418\u001b[0m             \u001b[0mself\u001b[0m\u001b[0;34m.\u001b[0m\u001b[0merror_handler\u001b[0m\u001b[0;34m.\u001b[0m\u001b[0mcheck_response\u001b[0m\u001b[0;34m(\u001b[0m\u001b[0mresponse\u001b[0m\u001b[0;34m)\u001b[0m\u001b[0;34m\u001b[0m\u001b[0;34m\u001b[0m\u001b[0m\n",
            "\u001b[0;32m/usr/local/lib/python3.7/dist-packages/selenium/webdriver/remote/remote_connection.py\u001b[0m in \u001b[0;36mexecute\u001b[0;34m(self, command, params)\u001b[0m\n\u001b[1;32m    396\u001b[0m         \u001b[0mdata\u001b[0m \u001b[0;34m=\u001b[0m \u001b[0mutils\u001b[0m\u001b[0;34m.\u001b[0m\u001b[0mdump_json\u001b[0m\u001b[0;34m(\u001b[0m\u001b[0mparams\u001b[0m\u001b[0;34m)\u001b[0m\u001b[0;34m\u001b[0m\u001b[0;34m\u001b[0m\u001b[0m\n\u001b[1;32m    397\u001b[0m         \u001b[0murl\u001b[0m \u001b[0;34m=\u001b[0m \u001b[0;34mf\"{self._url}{path}\"\u001b[0m\u001b[0;34m\u001b[0m\u001b[0;34m\u001b[0m\u001b[0m\n\u001b[0;32m--> 398\u001b[0;31m         \u001b[0;32mreturn\u001b[0m \u001b[0mself\u001b[0m\u001b[0;34m.\u001b[0m\u001b[0m_request\u001b[0m\u001b[0;34m(\u001b[0m\u001b[0mcommand_info\u001b[0m\u001b[0;34m[\u001b[0m\u001b[0;36m0\u001b[0m\u001b[0;34m]\u001b[0m\u001b[0;34m,\u001b[0m \u001b[0murl\u001b[0m\u001b[0;34m,\u001b[0m \u001b[0mbody\u001b[0m\u001b[0;34m=\u001b[0m\u001b[0mdata\u001b[0m\u001b[0;34m)\u001b[0m\u001b[0;34m\u001b[0m\u001b[0;34m\u001b[0m\u001b[0m\n\u001b[0m\u001b[1;32m    399\u001b[0m \u001b[0;34m\u001b[0m\u001b[0m\n\u001b[1;32m    400\u001b[0m     \u001b[0;32mdef\u001b[0m \u001b[0m_request\u001b[0m\u001b[0;34m(\u001b[0m\u001b[0mself\u001b[0m\u001b[0;34m,\u001b[0m \u001b[0mmethod\u001b[0m\u001b[0;34m,\u001b[0m \u001b[0murl\u001b[0m\u001b[0;34m,\u001b[0m \u001b[0mbody\u001b[0m\u001b[0;34m=\u001b[0m\u001b[0;32mNone\u001b[0m\u001b[0;34m)\u001b[0m\u001b[0;34m:\u001b[0m\u001b[0;34m\u001b[0m\u001b[0;34m\u001b[0m\u001b[0m\n",
            "\u001b[0;32m/usr/local/lib/python3.7/dist-packages/selenium/webdriver/remote/remote_connection.py\u001b[0m in \u001b[0;36m_request\u001b[0;34m(self, method, url, body)\u001b[0m\n\u001b[1;32m    418\u001b[0m \u001b[0;34m\u001b[0m\u001b[0m\n\u001b[1;32m    419\u001b[0m         \u001b[0;32mif\u001b[0m \u001b[0mself\u001b[0m\u001b[0;34m.\u001b[0m\u001b[0mkeep_alive\u001b[0m\u001b[0;34m:\u001b[0m\u001b[0;34m\u001b[0m\u001b[0;34m\u001b[0m\u001b[0m\n\u001b[0;32m--> 420\u001b[0;31m             \u001b[0mresp\u001b[0m \u001b[0;34m=\u001b[0m \u001b[0mself\u001b[0m\u001b[0;34m.\u001b[0m\u001b[0m_conn\u001b[0m\u001b[0;34m.\u001b[0m\u001b[0mrequest\u001b[0m\u001b[0;34m(\u001b[0m\u001b[0mmethod\u001b[0m\u001b[0;34m,\u001b[0m \u001b[0murl\u001b[0m\u001b[0;34m,\u001b[0m \u001b[0mbody\u001b[0m\u001b[0;34m=\u001b[0m\u001b[0mbody\u001b[0m\u001b[0;34m,\u001b[0m \u001b[0mheaders\u001b[0m\u001b[0;34m=\u001b[0m\u001b[0mheaders\u001b[0m\u001b[0;34m)\u001b[0m\u001b[0;34m\u001b[0m\u001b[0;34m\u001b[0m\u001b[0m\n\u001b[0m\u001b[1;32m    421\u001b[0m             \u001b[0mstatuscode\u001b[0m \u001b[0;34m=\u001b[0m \u001b[0mresp\u001b[0m\u001b[0;34m.\u001b[0m\u001b[0mstatus\u001b[0m\u001b[0;34m\u001b[0m\u001b[0;34m\u001b[0m\u001b[0m\n\u001b[1;32m    422\u001b[0m         \u001b[0;32melse\u001b[0m\u001b[0;34m:\u001b[0m\u001b[0;34m\u001b[0m\u001b[0;34m\u001b[0m\u001b[0m\n",
            "\u001b[0;32m/usr/local/lib/python3.7/dist-packages/urllib3/request.py\u001b[0m in \u001b[0;36mrequest\u001b[0;34m(self, method, url, fields, headers, **urlopen_kw)\u001b[0m\n\u001b[1;32m     77\u001b[0m         \u001b[0;32melse\u001b[0m\u001b[0;34m:\u001b[0m\u001b[0;34m\u001b[0m\u001b[0;34m\u001b[0m\u001b[0m\n\u001b[1;32m     78\u001b[0m             return self.request_encode_body(\n\u001b[0;32m---> 79\u001b[0;31m                 \u001b[0mmethod\u001b[0m\u001b[0;34m,\u001b[0m \u001b[0murl\u001b[0m\u001b[0;34m,\u001b[0m \u001b[0mfields\u001b[0m\u001b[0;34m=\u001b[0m\u001b[0mfields\u001b[0m\u001b[0;34m,\u001b[0m \u001b[0mheaders\u001b[0m\u001b[0;34m=\u001b[0m\u001b[0mheaders\u001b[0m\u001b[0;34m,\u001b[0m \u001b[0;34m**\u001b[0m\u001b[0murlopen_kw\u001b[0m\u001b[0;34m\u001b[0m\u001b[0;34m\u001b[0m\u001b[0m\n\u001b[0m\u001b[1;32m     80\u001b[0m             )\n\u001b[1;32m     81\u001b[0m \u001b[0;34m\u001b[0m\u001b[0m\n",
            "\u001b[0;32m/usr/local/lib/python3.7/dist-packages/urllib3/request.py\u001b[0m in \u001b[0;36mrequest_encode_body\u001b[0;34m(self, method, url, fields, headers, encode_multipart, multipart_boundary, **urlopen_kw)\u001b[0m\n\u001b[1;32m    168\u001b[0m         \u001b[0mextra_kw\u001b[0m\u001b[0;34m.\u001b[0m\u001b[0mupdate\u001b[0m\u001b[0;34m(\u001b[0m\u001b[0murlopen_kw\u001b[0m\u001b[0;34m)\u001b[0m\u001b[0;34m\u001b[0m\u001b[0;34m\u001b[0m\u001b[0m\n\u001b[1;32m    169\u001b[0m \u001b[0;34m\u001b[0m\u001b[0m\n\u001b[0;32m--> 170\u001b[0;31m         \u001b[0;32mreturn\u001b[0m \u001b[0mself\u001b[0m\u001b[0;34m.\u001b[0m\u001b[0murlopen\u001b[0m\u001b[0;34m(\u001b[0m\u001b[0mmethod\u001b[0m\u001b[0;34m,\u001b[0m \u001b[0murl\u001b[0m\u001b[0;34m,\u001b[0m \u001b[0;34m**\u001b[0m\u001b[0mextra_kw\u001b[0m\u001b[0;34m)\u001b[0m\u001b[0;34m\u001b[0m\u001b[0;34m\u001b[0m\u001b[0m\n\u001b[0m",
            "\u001b[0;32m/usr/local/lib/python3.7/dist-packages/urllib3/poolmanager.py\u001b[0m in \u001b[0;36murlopen\u001b[0;34m(self, method, url, redirect, **kw)\u001b[0m\n\u001b[1;32m    373\u001b[0m             \u001b[0mresponse\u001b[0m \u001b[0;34m=\u001b[0m \u001b[0mconn\u001b[0m\u001b[0;34m.\u001b[0m\u001b[0murlopen\u001b[0m\u001b[0;34m(\u001b[0m\u001b[0mmethod\u001b[0m\u001b[0;34m,\u001b[0m \u001b[0murl\u001b[0m\u001b[0;34m,\u001b[0m \u001b[0;34m**\u001b[0m\u001b[0mkw\u001b[0m\u001b[0;34m)\u001b[0m\u001b[0;34m\u001b[0m\u001b[0;34m\u001b[0m\u001b[0m\n\u001b[1;32m    374\u001b[0m         \u001b[0;32melse\u001b[0m\u001b[0;34m:\u001b[0m\u001b[0;34m\u001b[0m\u001b[0;34m\u001b[0m\u001b[0m\n\u001b[0;32m--> 375\u001b[0;31m             \u001b[0mresponse\u001b[0m \u001b[0;34m=\u001b[0m \u001b[0mconn\u001b[0m\u001b[0;34m.\u001b[0m\u001b[0murlopen\u001b[0m\u001b[0;34m(\u001b[0m\u001b[0mmethod\u001b[0m\u001b[0;34m,\u001b[0m \u001b[0mu\u001b[0m\u001b[0;34m.\u001b[0m\u001b[0mrequest_uri\u001b[0m\u001b[0;34m,\u001b[0m \u001b[0;34m**\u001b[0m\u001b[0mkw\u001b[0m\u001b[0;34m)\u001b[0m\u001b[0;34m\u001b[0m\u001b[0;34m\u001b[0m\u001b[0m\n\u001b[0m\u001b[1;32m    376\u001b[0m \u001b[0;34m\u001b[0m\u001b[0m\n\u001b[1;32m    377\u001b[0m         \u001b[0mredirect_location\u001b[0m \u001b[0;34m=\u001b[0m \u001b[0mredirect\u001b[0m \u001b[0;32mand\u001b[0m \u001b[0mresponse\u001b[0m\u001b[0;34m.\u001b[0m\u001b[0mget_redirect_location\u001b[0m\u001b[0;34m(\u001b[0m\u001b[0;34m)\u001b[0m\u001b[0;34m\u001b[0m\u001b[0;34m\u001b[0m\u001b[0m\n",
            "\u001b[0;32m/usr/local/lib/python3.7/dist-packages/urllib3/connectionpool.py\u001b[0m in \u001b[0;36murlopen\u001b[0;34m(self, method, url, body, headers, retries, redirect, assert_same_host, timeout, pool_timeout, release_conn, chunked, body_pos, **response_kw)\u001b[0m\n\u001b[1;32m    704\u001b[0m                 \u001b[0mbody\u001b[0m\u001b[0;34m=\u001b[0m\u001b[0mbody\u001b[0m\u001b[0;34m,\u001b[0m\u001b[0;34m\u001b[0m\u001b[0;34m\u001b[0m\u001b[0m\n\u001b[1;32m    705\u001b[0m                 \u001b[0mheaders\u001b[0m\u001b[0;34m=\u001b[0m\u001b[0mheaders\u001b[0m\u001b[0;34m,\u001b[0m\u001b[0;34m\u001b[0m\u001b[0;34m\u001b[0m\u001b[0m\n\u001b[0;32m--> 706\u001b[0;31m                 \u001b[0mchunked\u001b[0m\u001b[0;34m=\u001b[0m\u001b[0mchunked\u001b[0m\u001b[0;34m,\u001b[0m\u001b[0;34m\u001b[0m\u001b[0;34m\u001b[0m\u001b[0m\n\u001b[0m\u001b[1;32m    707\u001b[0m             )\n\u001b[1;32m    708\u001b[0m \u001b[0;34m\u001b[0m\u001b[0m\n",
            "\u001b[0;32m/usr/local/lib/python3.7/dist-packages/urllib3/connectionpool.py\u001b[0m in \u001b[0;36m_make_request\u001b[0;34m(self, conn, method, url, timeout, chunked, **httplib_request_kw)\u001b[0m\n\u001b[1;32m    443\u001b[0m                     \u001b[0;31m# Python 3 (including for exceptions like SystemExit).\u001b[0m\u001b[0;34m\u001b[0m\u001b[0;34m\u001b[0m\u001b[0;34m\u001b[0m\u001b[0m\n\u001b[1;32m    444\u001b[0m                     \u001b[0;31m# Otherwise it looks like a bug in the code.\u001b[0m\u001b[0;34m\u001b[0m\u001b[0;34m\u001b[0m\u001b[0;34m\u001b[0m\u001b[0m\n\u001b[0;32m--> 445\u001b[0;31m                     \u001b[0msix\u001b[0m\u001b[0;34m.\u001b[0m\u001b[0mraise_from\u001b[0m\u001b[0;34m(\u001b[0m\u001b[0me\u001b[0m\u001b[0;34m,\u001b[0m \u001b[0;32mNone\u001b[0m\u001b[0;34m)\u001b[0m\u001b[0;34m\u001b[0m\u001b[0;34m\u001b[0m\u001b[0m\n\u001b[0m\u001b[1;32m    446\u001b[0m         \u001b[0;32mexcept\u001b[0m \u001b[0;34m(\u001b[0m\u001b[0mSocketTimeout\u001b[0m\u001b[0;34m,\u001b[0m \u001b[0mBaseSSLError\u001b[0m\u001b[0;34m,\u001b[0m \u001b[0mSocketError\u001b[0m\u001b[0;34m)\u001b[0m \u001b[0;32mas\u001b[0m \u001b[0me\u001b[0m\u001b[0;34m:\u001b[0m\u001b[0;34m\u001b[0m\u001b[0;34m\u001b[0m\u001b[0m\n\u001b[1;32m    447\u001b[0m             \u001b[0mself\u001b[0m\u001b[0;34m.\u001b[0m\u001b[0m_raise_timeout\u001b[0m\u001b[0;34m(\u001b[0m\u001b[0merr\u001b[0m\u001b[0;34m=\u001b[0m\u001b[0me\u001b[0m\u001b[0;34m,\u001b[0m \u001b[0murl\u001b[0m\u001b[0;34m=\u001b[0m\u001b[0murl\u001b[0m\u001b[0;34m,\u001b[0m \u001b[0mtimeout_value\u001b[0m\u001b[0;34m=\u001b[0m\u001b[0mread_timeout\u001b[0m\u001b[0;34m)\u001b[0m\u001b[0;34m\u001b[0m\u001b[0;34m\u001b[0m\u001b[0m\n",
            "\u001b[0;32m/usr/local/lib/python3.7/dist-packages/urllib3/packages/six.py\u001b[0m in \u001b[0;36mraise_from\u001b[0;34m(value, from_value)\u001b[0m\n",
            "\u001b[0;32m/usr/local/lib/python3.7/dist-packages/urllib3/connectionpool.py\u001b[0m in \u001b[0;36m_make_request\u001b[0;34m(self, conn, method, url, timeout, chunked, **httplib_request_kw)\u001b[0m\n\u001b[1;32m    438\u001b[0m                 \u001b[0;31m# Python 3\u001b[0m\u001b[0;34m\u001b[0m\u001b[0;34m\u001b[0m\u001b[0;34m\u001b[0m\u001b[0m\n\u001b[1;32m    439\u001b[0m                 \u001b[0;32mtry\u001b[0m\u001b[0;34m:\u001b[0m\u001b[0;34m\u001b[0m\u001b[0;34m\u001b[0m\u001b[0m\n\u001b[0;32m--> 440\u001b[0;31m                     \u001b[0mhttplib_response\u001b[0m \u001b[0;34m=\u001b[0m \u001b[0mconn\u001b[0m\u001b[0;34m.\u001b[0m\u001b[0mgetresponse\u001b[0m\u001b[0;34m(\u001b[0m\u001b[0;34m)\u001b[0m\u001b[0;34m\u001b[0m\u001b[0;34m\u001b[0m\u001b[0m\n\u001b[0m\u001b[1;32m    441\u001b[0m                 \u001b[0;32mexcept\u001b[0m \u001b[0mBaseException\u001b[0m \u001b[0;32mas\u001b[0m \u001b[0me\u001b[0m\u001b[0;34m:\u001b[0m\u001b[0;34m\u001b[0m\u001b[0;34m\u001b[0m\u001b[0m\n\u001b[1;32m    442\u001b[0m                     \u001b[0;31m# Remove the TypeError from the exception chain in\u001b[0m\u001b[0;34m\u001b[0m\u001b[0;34m\u001b[0m\u001b[0;34m\u001b[0m\u001b[0m\n",
            "\u001b[0;32m/usr/lib/python3.7/http/client.py\u001b[0m in \u001b[0;36mgetresponse\u001b[0;34m(self)\u001b[0m\n\u001b[1;32m   1371\u001b[0m         \u001b[0;32mtry\u001b[0m\u001b[0;34m:\u001b[0m\u001b[0;34m\u001b[0m\u001b[0;34m\u001b[0m\u001b[0m\n\u001b[1;32m   1372\u001b[0m             \u001b[0;32mtry\u001b[0m\u001b[0;34m:\u001b[0m\u001b[0;34m\u001b[0m\u001b[0;34m\u001b[0m\u001b[0m\n\u001b[0;32m-> 1373\u001b[0;31m                 \u001b[0mresponse\u001b[0m\u001b[0;34m.\u001b[0m\u001b[0mbegin\u001b[0m\u001b[0;34m(\u001b[0m\u001b[0;34m)\u001b[0m\u001b[0;34m\u001b[0m\u001b[0;34m\u001b[0m\u001b[0m\n\u001b[0m\u001b[1;32m   1374\u001b[0m             \u001b[0;32mexcept\u001b[0m \u001b[0mConnectionError\u001b[0m\u001b[0;34m:\u001b[0m\u001b[0;34m\u001b[0m\u001b[0;34m\u001b[0m\u001b[0m\n\u001b[1;32m   1375\u001b[0m                 \u001b[0mself\u001b[0m\u001b[0;34m.\u001b[0m\u001b[0mclose\u001b[0m\u001b[0;34m(\u001b[0m\u001b[0;34m)\u001b[0m\u001b[0;34m\u001b[0m\u001b[0;34m\u001b[0m\u001b[0m\n",
            "\u001b[0;32m/usr/lib/python3.7/http/client.py\u001b[0m in \u001b[0;36mbegin\u001b[0;34m(self)\u001b[0m\n\u001b[1;32m    317\u001b[0m         \u001b[0;31m# read until we get a non-100 response\u001b[0m\u001b[0;34m\u001b[0m\u001b[0;34m\u001b[0m\u001b[0;34m\u001b[0m\u001b[0m\n\u001b[1;32m    318\u001b[0m         \u001b[0;32mwhile\u001b[0m \u001b[0;32mTrue\u001b[0m\u001b[0;34m:\u001b[0m\u001b[0;34m\u001b[0m\u001b[0;34m\u001b[0m\u001b[0m\n\u001b[0;32m--> 319\u001b[0;31m             \u001b[0mversion\u001b[0m\u001b[0;34m,\u001b[0m \u001b[0mstatus\u001b[0m\u001b[0;34m,\u001b[0m \u001b[0mreason\u001b[0m \u001b[0;34m=\u001b[0m \u001b[0mself\u001b[0m\u001b[0;34m.\u001b[0m\u001b[0m_read_status\u001b[0m\u001b[0;34m(\u001b[0m\u001b[0;34m)\u001b[0m\u001b[0;34m\u001b[0m\u001b[0;34m\u001b[0m\u001b[0m\n\u001b[0m\u001b[1;32m    320\u001b[0m             \u001b[0;32mif\u001b[0m \u001b[0mstatus\u001b[0m \u001b[0;34m!=\u001b[0m \u001b[0mCONTINUE\u001b[0m\u001b[0;34m:\u001b[0m\u001b[0;34m\u001b[0m\u001b[0;34m\u001b[0m\u001b[0m\n\u001b[1;32m    321\u001b[0m                 \u001b[0;32mbreak\u001b[0m\u001b[0;34m\u001b[0m\u001b[0;34m\u001b[0m\u001b[0m\n",
            "\u001b[0;32m/usr/lib/python3.7/http/client.py\u001b[0m in \u001b[0;36m_read_status\u001b[0;34m(self)\u001b[0m\n\u001b[1;32m    278\u001b[0m \u001b[0;34m\u001b[0m\u001b[0m\n\u001b[1;32m    279\u001b[0m     \u001b[0;32mdef\u001b[0m \u001b[0m_read_status\u001b[0m\u001b[0;34m(\u001b[0m\u001b[0mself\u001b[0m\u001b[0;34m)\u001b[0m\u001b[0;34m:\u001b[0m\u001b[0;34m\u001b[0m\u001b[0;34m\u001b[0m\u001b[0m\n\u001b[0;32m--> 280\u001b[0;31m         \u001b[0mline\u001b[0m \u001b[0;34m=\u001b[0m \u001b[0mstr\u001b[0m\u001b[0;34m(\u001b[0m\u001b[0mself\u001b[0m\u001b[0;34m.\u001b[0m\u001b[0mfp\u001b[0m\u001b[0;34m.\u001b[0m\u001b[0mreadline\u001b[0m\u001b[0;34m(\u001b[0m\u001b[0m_MAXLINE\u001b[0m \u001b[0;34m+\u001b[0m \u001b[0;36m1\u001b[0m\u001b[0;34m)\u001b[0m\u001b[0;34m,\u001b[0m \u001b[0;34m\"iso-8859-1\"\u001b[0m\u001b[0;34m)\u001b[0m\u001b[0;34m\u001b[0m\u001b[0;34m\u001b[0m\u001b[0m\n\u001b[0m\u001b[1;32m    281\u001b[0m         \u001b[0;32mif\u001b[0m \u001b[0mlen\u001b[0m\u001b[0;34m(\u001b[0m\u001b[0mline\u001b[0m\u001b[0;34m)\u001b[0m \u001b[0;34m>\u001b[0m \u001b[0m_MAXLINE\u001b[0m\u001b[0;34m:\u001b[0m\u001b[0;34m\u001b[0m\u001b[0;34m\u001b[0m\u001b[0m\n\u001b[1;32m    282\u001b[0m             \u001b[0;32mraise\u001b[0m \u001b[0mLineTooLong\u001b[0m\u001b[0;34m(\u001b[0m\u001b[0;34m\"status line\"\u001b[0m\u001b[0;34m)\u001b[0m\u001b[0;34m\u001b[0m\u001b[0;34m\u001b[0m\u001b[0m\n",
            "\u001b[0;32m/usr/lib/python3.7/socket.py\u001b[0m in \u001b[0;36mreadinto\u001b[0;34m(self, b)\u001b[0m\n\u001b[1;32m    587\u001b[0m         \u001b[0;32mwhile\u001b[0m \u001b[0;32mTrue\u001b[0m\u001b[0;34m:\u001b[0m\u001b[0;34m\u001b[0m\u001b[0;34m\u001b[0m\u001b[0m\n\u001b[1;32m    588\u001b[0m             \u001b[0;32mtry\u001b[0m\u001b[0;34m:\u001b[0m\u001b[0;34m\u001b[0m\u001b[0;34m\u001b[0m\u001b[0m\n\u001b[0;32m--> 589\u001b[0;31m                 \u001b[0;32mreturn\u001b[0m \u001b[0mself\u001b[0m\u001b[0;34m.\u001b[0m\u001b[0m_sock\u001b[0m\u001b[0;34m.\u001b[0m\u001b[0mrecv_into\u001b[0m\u001b[0;34m(\u001b[0m\u001b[0mb\u001b[0m\u001b[0;34m)\u001b[0m\u001b[0;34m\u001b[0m\u001b[0;34m\u001b[0m\u001b[0m\n\u001b[0m\u001b[1;32m    590\u001b[0m             \u001b[0;32mexcept\u001b[0m \u001b[0mtimeout\u001b[0m\u001b[0;34m:\u001b[0m\u001b[0;34m\u001b[0m\u001b[0;34m\u001b[0m\u001b[0m\n\u001b[1;32m    591\u001b[0m                 \u001b[0mself\u001b[0m\u001b[0;34m.\u001b[0m\u001b[0m_timeout_occurred\u001b[0m \u001b[0;34m=\u001b[0m \u001b[0;32mTrue\u001b[0m\u001b[0;34m\u001b[0m\u001b[0;34m\u001b[0m\u001b[0m\n",
            "\u001b[0;31mKeyboardInterrupt\u001b[0m: "
          ]
        }
      ]
    },
    {
      "cell_type": "code",
      "metadata": {
        "id": "4Fk0tn9dmOxW",
        "colab": {
          "base_uri": "https://localhost:8080/",
          "height": 206
        },
        "outputId": "e944eb99-8b33-4493-fe22-7989c932da63"
      },
      "source": [
        "df = pd.DataFrame(results)\n",
        "df.head()"
      ],
      "execution_count": null,
      "outputs": [
        {
          "output_type": "execute_result",
          "data": {
            "text/html": [
              "<div>\n",
              "<style scoped>\n",
              "    .dataframe tbody tr th:only-of-type {\n",
              "        vertical-align: middle;\n",
              "    }\n",
              "\n",
              "    .dataframe tbody tr th {\n",
              "        vertical-align: top;\n",
              "    }\n",
              "\n",
              "    .dataframe thead th {\n",
              "        text-align: right;\n",
              "    }\n",
              "</style>\n",
              "<table border=\"1\" class=\"dataframe\">\n",
              "  <thead>\n",
              "    <tr style=\"text-align: right;\">\n",
              "      <th></th>\n",
              "      <th>이름</th>\n",
              "      <th>종류</th>\n",
              "      <th>특징</th>\n",
              "      <th>링크</th>\n",
              "      <th>주소</th>\n",
              "      <th>위치</th>\n",
              "    </tr>\n",
              "  </thead>\n",
              "  <tbody>\n",
              "    <tr>\n",
              "      <th>0</th>\n",
              "      <td></td>\n",
              "      <td>광고다코매거진에 도전하면 네이버페이 적립</td>\n",
              "      <td></td>\n",
              "      <td>https://bit.ly/3EBGQIG</td>\n",
              "      <td></td>\n",
              "      <td>NaN</td>\n",
              "    </tr>\n",
              "    <tr>\n",
              "      <th>1</th>\n",
              "      <td>환여횟집 본점</td>\n",
              "      <td>물회, 물회국수</td>\n",
              "      <td>2019대표맛집, 식사모임, 시끌벅적한</td>\n",
              "      <td>/profile.php?rid=qkEutcmHFX7O</td>\n",
              "      <td>경상북도 포항시 북구 두호동 190-8</td>\n",
              "      <td>포항</td>\n",
              "    </tr>\n",
              "    <tr>\n",
              "      <th>2</th>\n",
              "      <td>평남식당</td>\n",
              "      <td>곰탕, 소머리곰탕</td>\n",
              "      <td>다코숨은맛집, 혼밥, 서민적인</td>\n",
              "      <td>/profile.php?rid=BLfolWMZ4ChX</td>\n",
              "      <td>경상북도 포항시 북구 죽도동 156-1</td>\n",
              "      <td>죽도시장</td>\n",
              "    </tr>\n",
              "    <tr>\n",
              "      <th>3</th>\n",
              "      <td>할매국수</td>\n",
              "      <td>국수, 잔치국수</td>\n",
              "      <td>수요미식회, 데이트, 서민적인</td>\n",
              "      <td>/profile.php?rid=DrtaardrAreN</td>\n",
              "      <td>경상북도 포항시 남구 구룡포읍 구룡포리 963-120</td>\n",
              "      <td>구룡포</td>\n",
              "    </tr>\n",
              "    <tr>\n",
              "      <th>4</th>\n",
              "      <td>마라도 회식당</td>\n",
              "      <td>물회, 회덮밥</td>\n",
              "      <td>생활의달인, 술모임, 무료주차</td>\n",
              "      <td>/profile.php?rid=MDacluXmejEd</td>\n",
              "      <td>경상북도 포항시 북구 두호동 158</td>\n",
              "      <td>포항</td>\n",
              "    </tr>\n",
              "  </tbody>\n",
              "</table>\n",
              "</div>"
            ],
            "text/plain": [
              "        이름                      종류  ...                             주소    위치\n",
              "0           광고다코매거진에 도전하면 네이버페이 적립  ...                                  NaN\n",
              "1  환여횟집 본점                물회, 물회국수  ...          경상북도 포항시 북구 두호동 190-8    포항\n",
              "2     평남식당               곰탕, 소머리곰탕  ...          경상북도 포항시 북구 죽도동 156-1  죽도시장\n",
              "3     할매국수                국수, 잔치국수  ...  경상북도 포항시 남구 구룡포읍 구룡포리 963-120   구룡포\n",
              "4  마라도 회식당                 물회, 회덮밥  ...            경상북도 포항시 북구 두호동 158    포항\n",
              "\n",
              "[5 rows x 6 columns]"
            ]
          },
          "metadata": {},
          "execution_count": 47
        }
      ]
    },
    {
      "cell_type": "code",
      "metadata": {
        "id": "klJqadojdn7O"
      },
      "source": [
        ""
      ],
      "execution_count": null,
      "outputs": []
    }
  ]
}