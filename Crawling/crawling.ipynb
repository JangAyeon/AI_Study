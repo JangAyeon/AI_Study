{
  "nbformat": 4,
  "nbformat_minor": 0,
  "metadata": {
    "colab": {
      "name": "crawling.ipynb",
      "provenance": [],
      "collapsed_sections": []
    },
    "kernelspec": {
      "name": "python3",
      "display_name": "Python 3"
    },
    "language_info": {
      "name": "python"
    }
  },
  "cells": [
    {
      "cell_type": "markdown",
      "metadata": {
        "id": "Xo1tqEusUxqS"
      },
      "source": [
        "## 웹드라이버 설정"
      ]
    },
    {
      "cell_type": "code",
      "metadata": {
        "colab": {
          "base_uri": "https://localhost:8080/",
          "height": 596
        },
        "id": "YQuGNQVyUJGp",
        "outputId": "f3a524dc-6fa2-45bd-9881-df777a81a3f0"
      },
      "source": [
        "#Selenium 설치\n",
        "!pip install Selenium"
      ],
      "execution_count": 37,
      "outputs": [
        {
          "output_type": "stream",
          "name": "stdout",
          "text": [
            "Requirement already satisfied: Selenium in /usr/local/lib/python3.7/dist-packages (4.0.0)\n",
            "Requirement already satisfied: trio-websocket~=0.9 in /usr/local/lib/python3.7/dist-packages (from Selenium) (0.9.2)\n",
            "Requirement already satisfied: trio~=0.17 in /usr/local/lib/python3.7/dist-packages (from Selenium) (0.19.0)\n",
            "Collecting urllib3[secure]~=1.26\n",
            "  Using cached urllib3-1.26.7-py2.py3-none-any.whl (138 kB)\n",
            "Requirement already satisfied: attrs>=19.2.0 in /usr/local/lib/python3.7/dist-packages (from trio~=0.17->Selenium) (21.2.0)\n",
            "Requirement already satisfied: sniffio in /usr/local/lib/python3.7/dist-packages (from trio~=0.17->Selenium) (1.2.0)\n",
            "Requirement already satisfied: outcome in /usr/local/lib/python3.7/dist-packages (from trio~=0.17->Selenium) (1.1.0)\n",
            "Requirement already satisfied: async-generator>=1.9 in /usr/local/lib/python3.7/dist-packages (from trio~=0.17->Selenium) (1.10)\n",
            "Requirement already satisfied: idna in /usr/local/lib/python3.7/dist-packages (from trio~=0.17->Selenium) (2.10)\n",
            "Requirement already satisfied: sortedcontainers in /usr/local/lib/python3.7/dist-packages (from trio~=0.17->Selenium) (2.4.0)\n",
            "Requirement already satisfied: wsproto>=0.14 in /usr/local/lib/python3.7/dist-packages (from trio-websocket~=0.9->Selenium) (1.0.0)\n",
            "Requirement already satisfied: certifi in /usr/local/lib/python3.7/dist-packages (from urllib3[secure]~=1.26->Selenium) (2021.10.8)\n",
            "Requirement already satisfied: cryptography>=1.3.4 in /usr/local/lib/python3.7/dist-packages (from urllib3[secure]~=1.26->Selenium) (35.0.0)\n",
            "Requirement already satisfied: pyOpenSSL>=0.14 in /usr/local/lib/python3.7/dist-packages (from urllib3[secure]~=1.26->Selenium) (21.0.0)\n",
            "Requirement already satisfied: cffi>=1.12 in /usr/local/lib/python3.7/dist-packages (from cryptography>=1.3.4->urllib3[secure]~=1.26->Selenium) (1.15.0)\n",
            "Requirement already satisfied: pycparser in /usr/local/lib/python3.7/dist-packages (from cffi>=1.12->cryptography>=1.3.4->urllib3[secure]~=1.26->Selenium) (2.21)\n",
            "Requirement already satisfied: six>=1.5.2 in /usr/local/lib/python3.7/dist-packages (from pyOpenSSL>=0.14->urllib3[secure]~=1.26->Selenium) (1.15.0)\n",
            "Requirement already satisfied: h11<1,>=0.9.0 in /usr/local/lib/python3.7/dist-packages (from wsproto>=0.14->trio-websocket~=0.9->Selenium) (0.12.0)\n",
            "Installing collected packages: urllib3\n",
            "  Attempting uninstall: urllib3\n",
            "    Found existing installation: urllib3 1.25.11\n",
            "    Uninstalling urllib3-1.25.11:\n",
            "      Successfully uninstalled urllib3-1.25.11\n",
            "\u001b[31mERROR: pip's dependency resolver does not currently take into account all the packages that are installed. This behaviour is the source of the following dependency conflicts.\n",
            "requests 2.23.0 requires urllib3!=1.25.0,!=1.25.1,<1.26,>=1.21.1, but you have urllib3 1.26.7 which is incompatible.\n",
            "datascience 0.10.6 requires folium==0.2.1, but you have folium 0.8.3 which is incompatible.\u001b[0m\n",
            "Successfully installed urllib3-1.26.7\n"
          ]
        },
        {
          "output_type": "display_data",
          "data": {
            "application/vnd.colab-display-data+json": {
              "pip_warning": {
                "packages": [
                  "urllib3"
                ]
              }
            }
          },
          "metadata": {}
        }
      ]
    },
    {
      "cell_type": "code",
      "metadata": {
        "colab": {
          "base_uri": "https://localhost:8080/"
        },
        "id": "NtvHcwRTUK0e",
        "outputId": "a4b3b698-73a5-4126-b45d-df1f42bfe960"
      },
      "source": [
        "#chrome web driver 설치\n",
        "!apt-get update\n",
        "!apt install chromium-chromedriver\n",
        "!cp /usr/lib/chromium-browser/chromedriver /usr/bin"
      ],
      "execution_count": 38,
      "outputs": [
        {
          "output_type": "stream",
          "name": "stdout",
          "text": [
            "Ign:1 https://developer.download.nvidia.com/compute/cuda/repos/ubuntu1804/x86_64  InRelease\n",
            "Hit:2 https://cloud.r-project.org/bin/linux/ubuntu bionic-cran40/ InRelease\n",
            "Hit:3 http://archive.ubuntu.com/ubuntu bionic InRelease\n",
            "Hit:4 http://ppa.launchpad.net/c2d4u.team/c2d4u4.0+/ubuntu bionic InRelease\n",
            "Ign:5 https://developer.download.nvidia.com/compute/machine-learning/repos/ubuntu1804/x86_64  InRelease\n",
            "Hit:6 http://security.ubuntu.com/ubuntu bionic-security InRelease\n",
            "Hit:7 https://developer.download.nvidia.com/compute/cuda/repos/ubuntu1804/x86_64  Release\n",
            "Hit:8 https://developer.download.nvidia.com/compute/machine-learning/repos/ubuntu1804/x86_64  Release\n",
            "Hit:9 http://archive.ubuntu.com/ubuntu bionic-updates InRelease\n",
            "Hit:10 http://archive.ubuntu.com/ubuntu bionic-backports InRelease\n",
            "Hit:11 http://ppa.launchpad.net/cran/libgit2/ubuntu bionic InRelease\n",
            "Hit:12 http://ppa.launchpad.net/deadsnakes/ppa/ubuntu bionic InRelease\n",
            "Hit:13 http://ppa.launchpad.net/graphics-drivers/ppa/ubuntu bionic InRelease\n",
            "Reading package lists... Done\n",
            "Reading package lists... Done\n",
            "Building dependency tree       \n",
            "Reading state information... Done\n",
            "chromium-chromedriver is already the newest version (95.0.4638.69-0ubuntu0.18.04.1).\n",
            "0 upgraded, 0 newly installed, 0 to remove and 64 not upgraded.\n",
            "cp: '/usr/lib/chromium-browser/chromedriver' and '/usr/bin/chromedriver' are the same file\n"
          ]
        }
      ]
    },
    {
      "cell_type": "code",
      "metadata": {
        "id": "9LwBTxqoUMKa"
      },
      "source": [
        "import sys\n",
        "sys.path.insert(0,\"usr/lib/chromium-browser/chromedriver\")"
      ],
      "execution_count": 39,
      "outputs": []
    },
    {
      "cell_type": "code",
      "metadata": {
        "id": "455gU_fcUN8W"
      },
      "source": [
        "from selenium import webdriver\n",
        "\n",
        "chrome_options=webdriver.ChromeOptions()\n",
        "chrome_options.add_argument(\"--headless\")\n",
        "chrome_options.add_argument(\"--no-sandbox\")\n",
        "#chrome_options.add_argument(\"--disable-dev-shm-usage\")"
      ],
      "execution_count": 40,
      "outputs": []
    },
    {
      "cell_type": "code",
      "metadata": {
        "id": "d1mh6DWNUQVB"
      },
      "source": [
        "wd=webdriver.Chrome(\"chromedriver\",options=chrome_options)"
      ],
      "execution_count": 41,
      "outputs": []
    },
    {
      "cell_type": "markdown",
      "metadata": {
        "id": "jxSrVVi3U0lj"
      },
      "source": [
        "## load library"
      ]
    },
    {
      "cell_type": "code",
      "metadata": {
        "id": "A4iOGP3iT6PL"
      },
      "source": [
        "from bs4 import BeautifulSoup\n",
        "import pandas as pd\n",
        "from selenium import webdriver\n",
        "import time\n",
        "import re\n",
        "from selenium.webdriver.support.ui import WebDriverWait\n",
        "from selenium.webdriver.support import expected_conditions as EC\n",
        "import pandas as pd"
      ],
      "execution_count": 42,
      "outputs": []
    },
    {
      "cell_type": "code",
      "metadata": {
        "id": "OCThXu6rUAZJ"
      },
      "source": [
        "#get url test\n",
        "url=\"https://www.diningcode.com/2018/ajax/list.php?query=비건&page=1\"\n",
        "wd.get(url)\n"
      ],
      "execution_count": 44,
      "outputs": []
    },
    {
      "cell_type": "code",
      "metadata": {
        "colab": {
          "base_uri": "https://localhost:8080/"
        },
        "id": "kz5eaXm1WjRm",
        "outputId": "8d4bd4b9-3a98-4cc8-eb7c-9fd2aa629642"
      },
      "source": [
        "base_url = \"https://www.diningcode.com/2018/ajax/list.php\"\n",
        "query_1=비건\n",
        "total_cafe = []\n",
        "\n",
        "   \n",
        "# ---------카페 이름, 링크 크롤링 ----------------\n",
        "# 각 카페의 이름을 가져옵니다.\n",
        "#for gu in gu_list:\n",
        "#  print(gu)\n",
        "page = 1 # 한 페이지에 10개씩 보여줍니다.\n",
        "\n",
        "while(True):\n",
        "    print(page)\n",
        "    url = base_url + '?' + 'query=' +\"제로페이\" + '&' + 'page=' + str(page) # 주소 설정\n",
        "    wd.get(url) # 크롬으로 페이지 접속\n",
        "    html = wd.page_source # 페이지 소스 저장\n",
        "    soup = BeautifulSoup(html, 'html.parser') # 스프로 파싱\n",
        "      \n",
        "    # 데이터에서 텍스트를 추출합니다\n",
        "    cafe_list = [data.text.split(' ', 1)[1] for data in soup.find_all(\"span\", class_=\"btxt\")]\n",
        "    cafe_link = [data.get(\"href\") for data in soup.find_all(\"a\", class_='blink')]\n",
        "    review_counts = [int(data.text) for data in soup.find_all(\"span\", class_=\"review button\")]\n",
        "        \n",
        "    # 추출한 데이터를 묶어서 반복합니다.\n",
        "    for pair in zip(cafe_list, cafe_link, review_counts):\n",
        "            \n",
        "        if pair[2] != 0: # 리뷰가 있는 카페만 크롤링합니다.\n",
        "            # 데이터 저장용 딕셔너리를 생성합니다\n",
        "            cafe_dict = {\n",
        "                    'name': pair[0],\n",
        "                    'link': pair[1]\n",
        "            }\n",
        "\n",
        "                # 만든 딕셔너리가 배열에 없으면 추가합니다.\n",
        "            if cafe_dict not in total_cafe:\n",
        "                total_cafe.append(cafe_dict)\n",
        "        \n",
        "    if len(cafe_list) != 10: break # 목록이 10개 미만이면 최대 개수에 도달했다는 뜻입니다.   \n",
        "    page += 1"
      ],
      "execution_count": 73,
      "outputs": [
        {
          "output_type": "stream",
          "name": "stdout",
          "text": [
            "1\n",
            "2\n",
            "3\n",
            "4\n",
            "5\n",
            "6\n",
            "7\n",
            "8\n",
            "9\n",
            "10\n",
            "11\n"
          ]
        }
      ]
    },
    {
      "cell_type": "code",
      "metadata": {
        "colab": {
          "base_uri": "https://localhost:8080/"
        },
        "id": "RReIguWxhDUT",
        "outputId": "424b9423-9e32-465d-e7a6-0a5a1df638ec"
      },
      "source": [
        "total_cafe"
      ],
      "execution_count": 91,
      "outputs": [
        {
          "output_type": "execute_result",
          "data": {
            "text/plain": [
              "[{'link': '/profile.php?rid=NO4SwbBqNHzN', 'name': '칙피스'},\n",
              " {'link': '/profile.php?rid=zoUYnFQvJWWu', 'name': '뉴질랜드스토리'},\n",
              " {'link': '/profile.php?rid=wtCawt7e9txZ', 'name': '닥터로빈 광화문점'},\n",
              " {'link': '/profile.php?rid=VwYHjR87Qimm', 'name': 'MTL'},\n",
              " {'link': '/profile.php?rid=ZOI9ZIkdqZHw', 'name': '모멘토'},\n",
              " {'link': '/profile.php?rid=M6AqqsBZm29t', 'name': '로컬릿'},\n",
              " {'link': '/profile.php?rid=0yL4wKOADlgU', 'name': '쥬에'},\n",
              " {'link': '/profile.php?rid=zdeUxCeQTLlC', 'name': '산촌'},\n",
              " {'link': '/profile.php?rid=rOLdQ8mQg3d7', 'name': '몽크스 부처'},\n",
              " {'link': '/profile.php?rid=NURTKvtk4zXC', 'name': '거북이'},\n",
              " {'link': '/profile.php?rid=UYiV0iQSAKck', 'name': '무대륙'},\n",
              " {'link': '/profile.php?rid=W9lHy1BmtWy1', 'name': '어라운드 그린'},\n",
              " {'link': '/profile.php?rid=lOMwZR6Qerme', 'name': '후스테이블'},\n",
              " {'link': '/profile.php?rid=eVJIAipD0nuj', 'name': '다이너재키'},\n",
              " {'link': '/profile.php?rid=74tlRziwD6Qu', 'name': '가원'},\n",
              " {'link': '/profile.php?rid=h57PZF709BYz', 'name': '헤이 보울'},\n",
              " {'link': '/profile.php?rid=wS08XZBM2VGL', 'name': '두화당'},\n",
              " {'link': '/profile.php?rid=qT1hhfF11Itz', 'name': '모로코코 카페'},\n",
              " {'link': '/profile.php?rid=v3vAhW0U99tJ', 'name': '베이스이즈나이스'},\n",
              " {'link': '/profile.php?rid=O7LHARXBYJNm', 'name': '그릴도하'},\n",
              " {'link': '/profile.php?rid=6AQc2KZbAOQX', 'name': '연우김밥'},\n",
              " {'link': '/profile.php?rid=k3J1uhPCeMUV', 'name': '이밥'},\n",
              " {'link': '/profile.php?rid=xUwBJGkULuEq', 'name': 'mtl 효창'},\n",
              " {'link': '/profile.php?rid=hm8yymbTHsoU', 'name': '라스투어'},\n",
              " {'link': '/profile.php?rid=aGvbCzqdowD7', 'name': '악어'},\n",
              " {'link': '/profile.php?rid=vuqznBJH0IUR', 'name': '썬더버드 청담점'},\n",
              " {'link': '/profile.php?rid=CHMjKO2iPwfd', 'name': '라미스콘'},\n",
              " {'link': '/profile.php?rid=zUKqsLouzwuw', 'name': '톰톰카레'},\n",
              " {'link': '/profile.php?rid=GvVzPal07eia', 'name': '카우떡볶이'},\n",
              " {'link': '/profile.php?rid=UAcDBmWKK8fK', 'name': '플랜트'},\n",
              " {'link': '/profile.php?rid=tdxy5IrPwCGT', 'name': '키에리'},\n",
              " {'link': '/profile.php?rid=y1M2YgB11Ed9', 'name': '레니엡'},\n",
              " {'link': '/profile.php?rid=5sESL9W9pnyQ', 'name': '한민이의 마크로비오틱'},\n",
              " {'link': '/profile.php?rid=hlaFHotow0ZR', 'name': '오세계향'},\n",
              " {'link': '/profile.php?rid=ZBpb1wnH1uVL', 'name': '푸드 더즈 매터'},\n",
              " {'link': '/profile.php?rid=W9H0IAJm5DhE', 'name': '스타벅스 정동점'},\n",
              " {'link': '/profile.php?rid=8vVZFZhqO1tm', 'name': '하노이바게트'},\n",
              " {'link': '/profile.php?rid=jqcO9IwfZvHO', 'name': '카페 페퍼'},\n",
              " {'link': '/profile.php?rid=OSHBgosyUVce', 'name': '손오공마라탕 서교점'},\n",
              " {'link': '/profile.php?rid=8wiVpoBMJaDx', 'name': '산촌미학'},\n",
              " {'link': '/profile.php?rid=TiVGTlLWROag', 'name': '하이타이'},\n",
              " {'link': '/profile.php?rid=6jRqK6Rd1uqL', 'name': '마을찻집 마주이야기'},\n",
              " {'link': '/profile.php?rid=gFxIOnl6TMQV', 'name': '발우공양'},\n",
              " {'link': '/profile.php?rid=RkIkgWwNPS4w', 'name': '비밀'},\n",
              " {'link': '/profile.php?rid=s0DBKuBIsWOd', 'name': '씨젬므 쥬르'},\n",
              " {'link': '/profile.php?rid=EegUGjDmTIS2', 'name': '마치래빗'},\n",
              " {'link': '/profile.php?rid=skbgpmQUtRga', 'name': '드렁큰비건'},\n",
              " {'link': '/profile.php?rid=DNekVns8QRew', 'name': '무화당 베이커리'},\n",
              " {'link': '/profile.php?rid=SvRBrH6GnTXg', 'name': '바이두부'},\n",
              " {'link': '/profile.php?rid=wsGMdnEbzToJ', 'name': '디톡스마켓 NC신구로점'},\n",
              " {'link': '/profile.php?rid=rRkynFz4YGYl', 'name': '히피스베이글'},\n",
              " {'link': '/profile.php?rid=z1PvQ9uzD8xE', 'name': '알디프 티 바 & 라운지'},\n",
              " {'link': '/profile.php?rid=DJRCDKk9nBt5', 'name': '베제투스'},\n",
              " {'link': '/profile.php?rid=dcnSMp0QsX0k', 'name': '캘리포니아피자키친'},\n",
              " {'link': '/profile.php?rid=5DgSieuYmNRf', 'name': '남미 플랜트랩'},\n",
              " {'link': '/profile.php?rid=rU5G1pIqjA3N', 'name': '태화원'},\n",
              " {'link': '/profile.php?rid=1SZyAbp9XRDH', 'name': '알로하포케'},\n",
              " {'link': '/profile.php?rid=jRyUf6ntVDYw', 'name': '보틀라운지'},\n",
              " {'link': '/profile.php?rid=VpydRV9sn6tL', 'name': '밥먹는술집 광장'},\n",
              " {'link': '/profile.php?rid=tEpm9UDs7FYV', 'name': '연우네'},\n",
              " {'link': '/profile.php?rid=LCmpMDBMiNno', 'name': '신동양반점'},\n",
              " {'link': '/profile.php?rid=KCBUA7adGdR2', 'name': '카페 스프라우츠'},\n",
              " {'link': '/profile.php?rid=zYcEGGwplJxX', 'name': '리틀마나님'},\n",
              " {'link': '/profile.php?rid=CG1BujI0iVJb', 'name': '디스베리데이'},\n",
              " {'link': '/profile.php?rid=RM45xPc2quDi', 'name': '카페 시트로네'},\n",
              " {'link': '/profile.php?rid=UjfjRZwGmg6D', 'name': '뷰티그로서리'},\n",
              " {'link': '/profile.php?rid=gbbpLSGIkxWG', 'name': 'SF베이글'},\n",
              " {'link': '/profile.php?rid=EeI5si4CWjdV', 'name': '스타벅스 인천터미널사거리점'},\n",
              " {'link': '/profile.php?rid=nJR4LQhYeW08', 'name': '카페 샘 그리고 밭'},\n",
              " {'link': '/profile.php?rid=cyeGODQwZwUR', 'name': '카페엠'},\n",
              " {'link': '/profile.php?rid=YLG4C54g45EB', 'name': '청국장과보리밥'},\n",
              " {'link': '/profile.php?rid=ZREm0QfiWjPy', 'name': '평상시'},\n",
              " {'link': '/profile.php?rid=ujXAeiiGcLa0', 'name': '스타벅스'},\n",
              " {'link': '/profile.php?rid=WgnQESJfHYfb', 'name': '남산분식당'},\n",
              " {'link': '/profile.php?rid=gZGsjyDN46ux', 'name': '쁘띠통'},\n",
              " {'link': '/profile.php?rid=iL7jhK2fW85R', 'name': '카페 반창고'},\n",
              " {'link': '/profile.php?rid=XHIfS1U29j27', 'name': '반미리'},\n",
              " {'link': '/profile.php?rid=2rFpJjvbJePB', 'name': '필로'},\n",
              " {'link': '/profile.php?rid=f7d0WNaUpHuz', 'name': '베지나랑'},\n",
              " {'link': '/profile.php?rid=mgIhTjp2rADz', 'name': '사월제과'},\n",
              " {'link': '/profile.php?rid=DUMST6zICzjx', 'name': '빕스얌딜리버리 하남미사점'},\n",
              " {'link': '/profile.php?rid=prrErC7GYVjG', 'name': '칙피스  성수점'},\n",
              " {'link': '/profile.php?rid=sBW15Sp4AyN2', 'name': '루트 에브리데이 한남점'},\n",
              " {'link': '/profile.php?rid=VIXQWUek66tk', 'name': '띵크비건'},\n",
              " {'link': '/profile.php?rid=gGhLmScmUDtr', 'name': '이로울리'},\n",
              " {'link': '/profile.php?rid=hmOtSw9FVXLW', 'name': '펠앤콜'},\n",
              " {'link': '/profile.php?rid=WxRdKoLTG5rQ', 'name': '서브웨이'},\n",
              " {'link': '/profile.php?rid=cSRJiGqG1T7a', 'name': '파파디파스타'},\n",
              " {'link': '/profile.php?rid=7qVrIhwm1x01', 'name': '평상시'},\n",
              " {'link': '/profile.php?rid=75EMRB6qZEz6', 'name': '포프트 커피'},\n",
              " {'link': '/profile.php?rid=Hcy11Pv8nRyB', 'name': '미스터리 Mr.lee'},\n",
              " {'link': '/profile.php?rid=oqDqduXs2zik', 'name': '나뚜루팝'},\n",
              " {'link': '/profile.php?rid=145MmhiuOmuz', 'name': '도시농가코페도코'},\n",
              " {'link': '/profile.php?rid=i1aBhjbJo5Uy', 'name': '죠티 인도레스토랑 종로점'},\n",
              " {'link': '/profile.php?rid=1s1JrDpMZSKa', 'name': '레헴케이크'},\n",
              " {'link': '/profile.php?rid=gdh41HfRi8NT', 'name': '니니네'},\n",
              " {'link': '/profile.php?rid=5zRf1CFWrj09', 'name': '해밀 비건베이커리'},\n",
              " {'link': '/profile.php?rid=fC9ohrQcwpv0', 'name': '르카페'},\n",
              " {'link': '/profile.php?rid=RBxaF409xwa0', 'name': '앤테이블'},\n",
              " {'link': '/profile.php?rid=hdzfQRYgKLiJ', 'name': '카페 크라운'}]"
            ]
          },
          "metadata": {},
          "execution_count": 91
        }
      ]
    },
    {
      "cell_type": "code",
      "metadata": {
        "id": "YP4NBv7Giees"
      },
      "source": [
        ""
      ],
      "execution_count": null,
      "outputs": []
    }
  ]
}