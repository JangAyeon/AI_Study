{
  "nbformat": 4,
  "nbformat_minor": 0,
  "metadata": {
    "colab": {
      "name": "6_2_understanding_recurrent_neural_network.ipynb",
      "provenance": [],
      "collapsed_sections": [],
      "authorship_tag": "ABX9TyMlnikUUNkvMon+WSVPLCvm",
      "include_colab_link": true
    },
    "kernelspec": {
      "name": "python3",
      "display_name": "Python 3"
    },
    "language_info": {
      "name": "python"
    }
  },
  "cells": [
    {
      "cell_type": "markdown",
      "metadata": {
        "id": "view-in-github",
        "colab_type": "text"
      },
      "source": [
        "<a href=\"https://colab.research.google.com/github/JangAyeon/TIL/blob/main/6_2_understanding_recurrent_neural_network.ipynb\" target=\"_parent\"><img src=\"https://colab.research.google.com/assets/colab-badge.svg\" alt=\"Open In Colab\"/></a>"
      ]
    },
    {
      "cell_type": "code",
      "metadata": {
        "colab": {
          "base_uri": "https://localhost:8080/",
          "height": 34
        },
        "id": "qeVwPFqXzV2u",
        "outputId": "ece40032-9333-4b68-cdc9-6a4040c05ef8"
      },
      "source": [
        "import keras\n",
        "keras.__version__"
      ],
      "execution_count": 1,
      "outputs": [
        {
          "output_type": "execute_result",
          "data": {
            "application/vnd.google.colaboratory.intrinsic+json": {
              "type": "string"
            },
            "text/plain": [
              "'2.6.0'"
            ]
          },
          "metadata": {},
          "execution_count": 1
        }
      ]
    },
    {
      "cell_type": "markdown",
      "metadata": {
        "id": "RKt1Oci3zcln"
      },
      "source": [
        "# **Understading recurrent neural networks**"
      ]
    },
    {
      "cell_type": "code",
      "metadata": {
        "id": "qiL78HkYzi1c"
      },
      "source": [
        "from keras.layers import SimpleRNN\n",
        "from keras.models import Sequential\n",
        "from keras.layers import Embedding, SimpleRNN, Dense\n",
        "\n",
        "from keras.datasets import imdb\n",
        "from keras.preprocessing import sequence\n",
        "\n",
        "import matplotlib.pyplot as plt"
      ],
      "execution_count": 18,
      "outputs": []
    },
    {
      "cell_type": "code",
      "metadata": {
        "colab": {
          "base_uri": "https://localhost:8080/"
        },
        "id": "Z2454hS2zZgd",
        "outputId": "ff47809f-239a-4ed4-ff8c-65d7da1f693e"
      },
      "source": [
        "model=Sequential()\n",
        "model.add(Embedding(10000,32))\n",
        "model.add(SimpleRNN(32))\n",
        "model.summary()"
      ],
      "execution_count": 5,
      "outputs": [
        {
          "output_type": "stream",
          "name": "stdout",
          "text": [
            "Model: \"sequential\"\n",
            "_________________________________________________________________\n",
            "Layer (type)                 Output Shape              Param #   \n",
            "=================================================================\n",
            "embedding (Embedding)        (None, None, 32)          320000    \n",
            "_________________________________________________________________\n",
            "simple_rnn (SimpleRNN)       (None, 32)                2080      \n",
            "=================================================================\n",
            "Total params: 322,080\n",
            "Trainable params: 322,080\n",
            "Non-trainable params: 0\n",
            "_________________________________________________________________\n"
          ]
        }
      ]
    },
    {
      "cell_type": "code",
      "metadata": {
        "colab": {
          "base_uri": "https://localhost:8080/"
        },
        "id": "2785IEs2z3lj",
        "outputId": "145d1939-3427-494a-c242-45a94133c226"
      },
      "source": [
        "model=Sequential()\n",
        "model.add(Embedding(10000,32))\n",
        "model.add(SimpleRNN(32,return_sequences=True))\n",
        "model.add(SimpleRNN(32,return_sequences=True))\n",
        "model.add(SimpleRNN(32,return_sequences=True))\n",
        "model.add(SimpleRNN(32))\n",
        "model.summary()"
      ],
      "execution_count": 7,
      "outputs": [
        {
          "output_type": "stream",
          "name": "stdout",
          "text": [
            "Model: \"sequential_2\"\n",
            "_________________________________________________________________\n",
            "Layer (type)                 Output Shape              Param #   \n",
            "=================================================================\n",
            "embedding_2 (Embedding)      (None, None, 32)          320000    \n",
            "_________________________________________________________________\n",
            "simple_rnn_5 (SimpleRNN)     (None, None, 32)          2080      \n",
            "_________________________________________________________________\n",
            "simple_rnn_6 (SimpleRNN)     (None, None, 32)          2080      \n",
            "_________________________________________________________________\n",
            "simple_rnn_7 (SimpleRNN)     (None, None, 32)          2080      \n",
            "_________________________________________________________________\n",
            "simple_rnn_8 (SimpleRNN)     (None, 32)                2080      \n",
            "=================================================================\n",
            "Total params: 328,320\n",
            "Trainable params: 328,320\n",
            "Non-trainable params: 0\n",
            "_________________________________________________________________\n"
          ]
        }
      ]
    },
    {
      "cell_type": "code",
      "metadata": {
        "colab": {
          "base_uri": "https://localhost:8080/"
        },
        "id": "9XCgR7Sh0OOy",
        "outputId": "a1e4453b-b328-4f91-b99a-3516b818264a"
      },
      "source": [
        "max_features=10000 #특성으로 사용할 단어의 수\n",
        "maxlen=500 #사용할 텍스트 길이 (가장 빈번한 max_features개 단어만 사용)\n",
        "batch_size=32\n",
        "\n",
        "print(\"데이터 로딩 중 ...\")\n",
        "(input_train, y_train),(input_test,y_test)=imdb.load_data(num_words=max_features)\n",
        "print(len(input_train),\"훈련 시퀀스\")\n",
        "print(len(input_test),\"테스트 시퀀스\")\n",
        "\n",
        "print(\"시퀀스 패딩 (samples x times)\")\n",
        "input_train=sequence.pad_sequences(input_train,maxlen=maxlen)\n",
        "input_test=sequence.pad_sequences(input_test,maxlen=maxlen)\n",
        "print(\"input_train 크기 : \", input_train.shape)\n",
        "print(\"input_test 크기 : \", input_test.shape)"
      ],
      "execution_count": 14,
      "outputs": [
        {
          "output_type": "stream",
          "name": "stdout",
          "text": [
            "데이터 로딩 중 ...\n",
            "25000 훈련 시퀀스\n",
            "25000 테스트 시퀀스\n",
            "시퀀스 패딩 (samples x times)\n",
            "input_train 크기 :  (25000, 500)\n",
            "input_test 크기 :  (25000, 500)\n"
          ]
        }
      ]
    },
    {
      "cell_type": "code",
      "metadata": {
        "colab": {
          "base_uri": "https://localhost:8080/"
        },
        "id": "odOX2rwG07OZ",
        "outputId": "89229eeb-9c5a-4439-c798-9b404e956ef5"
      },
      "source": [
        "model=Sequential()\n",
        "model.add(Embedding(max_features,32))\n",
        "model.add(SimpleRNN(32))\n",
        "model.add(Dense(1, activation=\"sigmoid\"))\n",
        "model.summary()"
      ],
      "execution_count": 12,
      "outputs": [
        {
          "output_type": "stream",
          "name": "stdout",
          "text": [
            "Model: \"sequential_3\"\n",
            "_________________________________________________________________\n",
            "Layer (type)                 Output Shape              Param #   \n",
            "=================================================================\n",
            "embedding_3 (Embedding)      (None, None, 32)          320000    \n",
            "_________________________________________________________________\n",
            "simple_rnn_9 (SimpleRNN)     (None, 32)                2080      \n",
            "_________________________________________________________________\n",
            "dense (Dense)                (None, 1)                 33        \n",
            "=================================================================\n",
            "Total params: 322,113\n",
            "Trainable params: 322,113\n",
            "Non-trainable params: 0\n",
            "_________________________________________________________________\n"
          ]
        }
      ]
    },
    {
      "cell_type": "code",
      "metadata": {
        "colab": {
          "base_uri": "https://localhost:8080/"
        },
        "id": "GFJ5GPkH15-8",
        "outputId": "bc7e9310-e0e9-47f4-ffa4-9f140bd7a4a3"
      },
      "source": [
        "model.compile(optimizer=\"rmsprop\",\n",
        "              loss=\"binary_crossentropy\",\n",
        "              metrics=[\"acc\"])\n",
        "\n",
        "history=model.fit(input_train, y_train,\n",
        "                  epochs=10,\n",
        "                  batch_size=128,\n",
        "                  validation_split=0.2)"
      ],
      "execution_count": 16,
      "outputs": [
        {
          "output_type": "stream",
          "name": "stdout",
          "text": [
            "Epoch 1/10\n",
            "157/157 [==============================] - 29s 179ms/step - loss: 0.6822 - acc: 0.5519 - val_loss: 0.6551 - val_acc: 0.6128\n",
            "Epoch 2/10\n",
            "157/157 [==============================] - 25s 157ms/step - loss: 0.5059 - acc: 0.7573 - val_loss: 0.4107 - val_acc: 0.8238\n",
            "Epoch 3/10\n",
            "157/157 [==============================] - 25s 157ms/step - loss: 0.3346 - acc: 0.8619 - val_loss: 0.5016 - val_acc: 0.7546\n",
            "Epoch 4/10\n",
            "157/157 [==============================] - 25s 160ms/step - loss: 0.2293 - acc: 0.9103 - val_loss: 0.4587 - val_acc: 0.8066\n",
            "Epoch 5/10\n",
            "157/157 [==============================] - 25s 159ms/step - loss: 0.1560 - acc: 0.9438 - val_loss: 0.3964 - val_acc: 0.8556\n",
            "Epoch 6/10\n",
            "157/157 [==============================] - 25s 161ms/step - loss: 0.0975 - acc: 0.9678 - val_loss: 0.5079 - val_acc: 0.8162\n",
            "Epoch 7/10\n",
            "157/157 [==============================] - 25s 157ms/step - loss: 0.0567 - acc: 0.9831 - val_loss: 0.6276 - val_acc: 0.7944\n",
            "Epoch 8/10\n",
            "157/157 [==============================] - 25s 157ms/step - loss: 0.0420 - acc: 0.9880 - val_loss: 0.6068 - val_acc: 0.7932\n",
            "Epoch 9/10\n",
            "157/157 [==============================] - 25s 159ms/step - loss: 0.0377 - acc: 0.9882 - val_loss: 0.6677 - val_acc: 0.7950\n",
            "Epoch 10/10\n",
            "157/157 [==============================] - 25s 158ms/step - loss: 0.0244 - acc: 0.9930 - val_loss: 0.6774 - val_acc: 0.8112\n"
          ]
        }
      ]
    },
    {
      "cell_type": "code",
      "metadata": {
        "colab": {
          "base_uri": "https://localhost:8080/",
          "height": 545
        },
        "id": "zu84AQL02Lsn",
        "outputId": "d124418c-fc00-4cdf-9271-b80e99ed7a63"
      },
      "source": [
        "acc = history.history['acc']\n",
        "val_acc = history.history['val_acc']\n",
        "loss = history.history['loss']\n",
        "val_loss = history.history['val_loss']\n",
        "\n",
        "epochs = range(1, len(acc) + 1)\n",
        "\n",
        "plt.plot(epochs, acc, 'bo', label='Training acc')\n",
        "plt.plot(epochs, val_acc, 'b', label='Validation acc')\n",
        "plt.title('Training and validation accuracy')\n",
        "plt.legend()\n",
        "\n",
        "plt.figure()\n",
        "\n",
        "plt.plot(epochs, loss, 'bo', label='Training loss')\n",
        "plt.plot(epochs, val_loss, 'b', label='Validation loss')\n",
        "plt.title('Training and validation loss')\n",
        "plt.legend()\n",
        "\n",
        "plt.show()"
      ],
      "execution_count": 19,
      "outputs": [
        {
          "output_type": "display_data",
          "data": {
            "image/png": "[encoded data removed]",
            "text/plain": [
              "<Figure size 432x288 with 1 Axes>"
            ]
          },
          "metadata": {
            "needs_background": "light"
          }
        },
        {
          "output_type": "display_data",
          "data": {
            "image/png": "[encoded data removed]",
            "text/plain": [
              "<Figure size 432x288 with 1 Axes>"
            ]
          },
          "metadata": {
            "needs_background": "light"
          }
        }
      ]
    },
    {
      "cell_type": "markdown",
      "metadata": {
        "id": "vNRq8Qy33ckd"
      },
      "source": [
        "# **케라스를 사용한 LSTM 예제**"
      ]
    },
    {
      "cell_type": "code",
      "metadata": {
        "id": "onx11kn63ax_"
      },
      "source": [
        "from keras.layers import LSTM"
      ],
      "execution_count": 20,
      "outputs": []
    },
    {
      "cell_type": "code",
      "metadata": {
        "id": "b3ipSu-s3stL"
      },
      "source": [
        "model=Sequential()\n",
        "model.add(Embedding(max_features,32))\n",
        "model.add(LSTM(32))\n",
        "model.add(Dense(1, activation=\"sigmoid\"))"
      ],
      "execution_count": 21,
      "outputs": []
    },
    {
      "cell_type": "code",
      "metadata": {
        "colab": {
          "base_uri": "https://localhost:8080/"
        },
        "id": "ZXtynwyp36Fx",
        "outputId": "e9880374-7c6d-40a4-8508-a19060adc7b9"
      },
      "source": [
        "model.compile(optimizer=\"rmsprop\",\n",
        "              loss=\"binary_crossentropy\",\n",
        "              metrics=[\"acc\"])\n",
        "history=model.fit(input_train,y_train,\n",
        "                  epochs=10,\n",
        "                  batch_size=128,\n",
        "                  validation_split=0.2)"
      ],
      "execution_count": 22,
      "outputs": [
        {
          "output_type": "stream",
          "name": "stdout",
          "text": [
            "Epoch 1/10\n",
            "157/157 [==============================] - 57s 343ms/step - loss: 0.5201 - acc: 0.7562 - val_loss: 0.3861 - val_acc: 0.8420\n",
            "Epoch 2/10\n",
            "157/157 [==============================] - 55s 352ms/step - loss: 0.3108 - acc: 0.8778 - val_loss: 0.2895 - val_acc: 0.8798\n",
            "Epoch 3/10\n",
            "157/157 [==============================] - 54s 345ms/step - loss: 0.2431 - acc: 0.9064 - val_loss: 0.2796 - val_acc: 0.8842\n",
            "Epoch 4/10\n",
            "157/157 [==============================] - 53s 341ms/step - loss: 0.2050 - acc: 0.9253 - val_loss: 0.2806 - val_acc: 0.8884\n",
            "Epoch 5/10\n",
            "157/157 [==============================] - 53s 341ms/step - loss: 0.1782 - acc: 0.9356 - val_loss: 0.3152 - val_acc: 0.8724\n",
            "Epoch 6/10\n",
            "157/157 [==============================] - 53s 338ms/step - loss: 0.1598 - acc: 0.9423 - val_loss: 0.4068 - val_acc: 0.8192\n",
            "Epoch 7/10\n",
            "157/157 [==============================] - 54s 342ms/step - loss: 0.1478 - acc: 0.9474 - val_loss: 0.3747 - val_acc: 0.8406\n",
            "Epoch 8/10\n",
            "157/157 [==============================] - 54s 343ms/step - loss: 0.1334 - acc: 0.9527 - val_loss: 0.4745 - val_acc: 0.8628\n",
            "Epoch 9/10\n",
            "157/157 [==============================] - 54s 344ms/step - loss: 0.1208 - acc: 0.9592 - val_loss: 0.4238 - val_acc: 0.8736\n",
            "Epoch 10/10\n",
            "157/157 [==============================] - 54s 342ms/step - loss: 0.1130 - acc: 0.9609 - val_loss: 0.5061 - val_acc: 0.8724\n"
          ]
        }
      ]
    },
    {
      "cell_type": "code",
      "metadata": {
        "colab": {
          "base_uri": "https://localhost:8080/",
          "height": 545
        },
        "id": "vEhX8E1L4OY-",
        "outputId": "df09a258-7a51-4413-e9be-6cc49a7d2285"
      },
      "source": [
        "acc = history.history['acc']\n",
        "val_acc = history.history['val_acc']\n",
        "loss = history.history['loss']\n",
        "val_loss = history.history['val_loss']\n",
        "\n",
        "epochs = range(1, len(acc) + 1)\n",
        "\n",
        "plt.plot(epochs, acc, 'bo', label='Training acc')\n",
        "plt.plot(epochs, val_acc, 'b', label='Validation acc')\n",
        "plt.title('Training and validation accuracy')\n",
        "plt.legend()\n",
        "\n",
        "plt.figure()\n",
        "\n",
        "plt.plot(epochs, loss, 'bo', label='Training loss')\n",
        "plt.plot(epochs, val_loss, 'b', label='Validation loss')\n",
        "plt.title('Training and validation loss')\n",
        "plt.legend()\n",
        "\n",
        "plt.show()"
      ],
      "execution_count": 23,
      "outputs": [
        {
          "output_type": "display_data",
          "data": {
            "image/png": "[encoded data removed]",
            "text/plain": [
              "<Figure size 432x288 with 1 Axes>"
            ]
          },
          "metadata": {
            "needs_background": "light"
          }
        },
        {
          "output_type": "display_data",
          "data": {
            "image/png": "[encoded data removed]",
            "text/plain": [
              "<Figure size 432x288 with 1 Axes>"
            ]
          },
          "metadata": {
            "needs_background": "light"
          }
        }
      ]
    },
    {
      "cell_type": "code",
      "metadata": {
        "id": "NGYEuPvs6jCw"
      },
      "source": [
        ""
      ],
      "execution_count": null,
      "outputs": []
    }
  ]
}
