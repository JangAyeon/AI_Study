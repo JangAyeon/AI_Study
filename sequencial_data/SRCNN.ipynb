{
  "nbformat": 4,
  "nbformat_minor": 0,
  "metadata": {
    "kernelspec": {
      "name": "python3",
      "display_name": "Python 3"
    },
    "language_info": {
      "codemirror_mode": {
        "name": "ipython",
        "version": 3
      },
      "file_extension": ".py",
      "mimetype": "text/x-python",
      "name": "python",
      "nbconvert_exporter": "python",
      "pygments_lexer": "ipython3",
      "version": "3.7.0"
    },
    "colab": {
      "name": "SRCNN.ipynb",
      "provenance": [],
      "collapsed_sections": [],
      "machine_shape": "hm"
    },
    "accelerator": "GPU"
  },
  "cells": [
    {
      "cell_type": "markdown",
      "metadata": {
        "id": "GvvvmYIN-QCI"
      },
      "source": [
        "# Libraries"
      ]
    },
    {
      "cell_type": "code",
      "metadata": {
        "id": "v-OL1E6VREl2"
      },
      "source": [
        "import os\n",
        "import easydict\n",
        "import time\n",
        "\n",
        "import numpy as np\n",
        "import cv2\n",
        "import math\n",
        "\n",
        "import torch\n",
        "import torch.nn as nn\n",
        "import torch.utils.data as data\n",
        "import torch.optim as optim\n",
        "\n",
        "from torch.utils import data as D\n",
        "from torch.utils.data import DataLoader\n",
        "\n",
        "from tqdm import tqdm\n",
        "import glob"
      ],
      "execution_count": 1,
      "outputs": []
    },
    {
      "cell_type": "markdown",
      "metadata": {
        "id": "J3iRkchP-WUZ"
      },
      "source": [
        "# Mount google drive to colab environment\n",
        "The location will at /content/gdrive"
      ]
    },
    {
      "cell_type": "code",
      "metadata": {
        "id": "e8QVBj6-RfHK",
        "colab": {
          "base_uri": "https://localhost:8080/"
        },
        "outputId": "1961462a-eff1-4627-89c9-0d5251bd9e2e"
      },
      "source": [
        "from google.colab import drive\n",
        "drive.mount('/content/gdrive')"
      ],
      "execution_count": 2,
      "outputs": [
        {
          "output_type": "stream",
          "name": "stdout",
          "text": [
            "Mounted at /content/gdrive\n"
          ]
        }
      ]
    },
    {
      "cell_type": "markdown",
      "metadata": {
        "id": "pUgEbyo3-gn5"
      },
      "source": [
        "# Check mounted google drive and its contens\n",
        "Make sure you to save data inside google driver"
      ]
    },
    {
      "cell_type": "code",
      "metadata": {
        "id": "3oEo2tENsjln",
        "colab": {
          "base_uri": "https://localhost:8080/"
        },
        "outputId": "55696f53-d5a5-4763-8072-c91faac5e1f9"
      },
      "source": [
        "!pwd\n",
        "#!ls -l\n",
        "#!rm -rf /content/div2k_100/"
      ],
      "execution_count": 3,
      "outputs": [
        {
          "output_type": "stream",
          "name": "stdout",
          "text": [
            "/content\n"
          ]
        }
      ]
    },
    {
      "cell_type": "code",
      "metadata": {
        "id": "LjZauhgbsxUU"
      },
      "source": [
        "!unzip -q \"/content/gdrive/My Drive/Colab Notebooks/SRCNN/div2k_100.zip\" -d \"/content/gdrive/My Drive/Colab Notebooks/SRCNN/div2k_100\""
      ],
      "execution_count": 4,
      "outputs": []
    },
    {
      "cell_type": "code",
      "metadata": {
        "id": "rEZ5gS-URsbQ",
        "colab": {
          "base_uri": "https://localhost:8080/"
        },
        "outputId": "451bc387-4610-4f8b-f913-248ac21e7f3f"
      },
      "source": [
        "!ls -l \"/content/gdrive/My Drive/Colab Notebooks/SRCNN/div2k_100\""
      ],
      "execution_count": 5,
      "outputs": [
        {
          "output_type": "stream",
          "name": "stdout",
          "text": [
            "total 12\n",
            "drwx------ 4 root root 4096 Dec  9 11:42 test_images\n",
            "drwx------ 4 root root 4096 Dec  9 11:44 train_patches_x4lr64\n",
            "drwx------ 4 root root 4096 Dec  9 11:42 valid_patches_x4lr64\n"
          ]
        }
      ]
    },
    {
      "cell_type": "code",
      "metadata": {
        "id": "TODZIl3SqUPS",
        "colab": {
          "base_uri": "https://localhost:8080/"
        },
        "outputId": "57926bde-a3d3-4b08-c069-6553dd62d445"
      },
      "source": [
        "!python --version\n",
        "print(torch.__version__)\n",
        "print(torch.cuda.is_available())"
      ],
      "execution_count": 6,
      "outputs": [
        {
          "output_type": "stream",
          "name": "stdout",
          "text": [
            "Python 3.7.12\n",
            "1.10.0+cu111\n",
            "True\n"
          ]
        }
      ]
    },
    {
      "cell_type": "markdown",
      "metadata": {
        "id": "W9rz17z8-2wG"
      },
      "source": [
        "# Set your data directory into div2k_dir"
      ]
    },
    {
      "cell_type": "code",
      "metadata": {
        "id": "2XYDDTynS-U7"
      },
      "source": [
        "div2k_dir = \"/content/gdrive/My Drive/Colab Notebooks/SRCNN/div2k_100\""
      ],
      "execution_count": 7,
      "outputs": []
    },
    {
      "cell_type": "markdown",
      "metadata": {
        "id": "uYlTmqZC-731"
      },
      "source": [
        "# Options to control overal programming behaviors"
      ]
    },
    {
      "cell_type": "code",
      "metadata": {
        "scrolled": true,
        "id": "ocKQaztbREmA",
        "colab": {
          "base_uri": "https://localhost:8080/"
        },
        "outputId": "533f6c84-91e6-405c-8a0c-ae0084ac87d9"
      },
      "source": [
        "# import argparse\n",
        "opt = easydict.EasyDict({\n",
        "    \"resume\": False,\n",
        "    \"resume_best\": False,\n",
        "    \"use_npy\": True,\n",
        "    \n",
        "    \"multi_gpu\": True,\n",
        "    \"use_cuda\": True,\n",
        "    \"device\": 'cuda',\n",
        "\n",
        "    \"n_epochs\": 200, # Total number of epoch to iterate\n",
        "    \"batch_size\": 100, # Size of batch of one epoch\n",
        "    \"start_epoch\": 1,\n",
        "    \"lr\": 1e-4, # Adam: learning rate\n",
        "    \"b1\": 0.9, # Adam: The exponential decay rate for the first moment estimates\n",
        "    \"b2\": 0.999, # Adam: The exponential decay rate for the second-moment estimates\n",
        "    \n",
        "    \"checkpoint_dir\": None,   # 학습 모델 저장 dir location\n",
        "    \"data_dir\": None,\n",
        "    \"train_dir\": None,\n",
        "    \"valid_dir\": None,\n",
        "    \"test_dir\": None,\n",
        "    \"test_result_dir\": None,\n",
        "    \n",
        "    \"lr_img\": 64,   # input patch size\n",
        "    \"res_scale\": 4, # output image 64 * 4 = 256\n",
        "    \"n_channels\": 3\n",
        "})\n",
        "\n",
        "opt.data_dir = div2k_dir\n",
        "opt.checkpoint_dir = os.path.join(opt.data_dir, \"checkpoint_dir\")\n",
        "opt.train_dir = os.path.join(opt.data_dir, \"train_patches_x\" + str(opt.res_scale) + \"lr\" + str(opt.lr_img))\n",
        "opt.valid_dir = os.path.join(opt.data_dir, \"valid_patches_x\" + str(opt.res_scale) + \"lr\" + str(opt.lr_img))\n",
        "opt.test_dir = os.path.join(opt.data_dir, \"test_images\")\n",
        "opt.test_result_dir = os.path.join(opt.data_dir, \"test_result\")\n",
        "\n",
        "print(opt)"
      ],
      "execution_count": 8,
      "outputs": [
        {
          "output_type": "stream",
          "name": "stdout",
          "text": [
            "{'resume': False, 'resume_best': False, 'use_npy': True, 'multi_gpu': True, 'use_cuda': True, 'device': 'cuda', 'n_epochs': 200, 'batch_size': 100, 'start_epoch': 1, 'lr': 0.0001, 'b1': 0.9, 'b2': 0.999, 'checkpoint_dir': '/content/gdrive/My Drive/Colab Notebooks/SRCNN/div2k_100/checkpoint_dir', 'data_dir': '/content/gdrive/My Drive/Colab Notebooks/SRCNN/div2k_100', 'train_dir': '/content/gdrive/My Drive/Colab Notebooks/SRCNN/div2k_100/train_patches_x4lr64', 'valid_dir': '/content/gdrive/My Drive/Colab Notebooks/SRCNN/div2k_100/valid_patches_x4lr64', 'test_dir': '/content/gdrive/My Drive/Colab Notebooks/SRCNN/div2k_100/test_images', 'test_result_dir': '/content/gdrive/My Drive/Colab Notebooks/SRCNN/div2k_100/test_result', 'lr_img': 64, 'res_scale': 4, 'n_channels': 3}\n"
          ]
        }
      ]
    },
    {
      "cell_type": "markdown",
      "metadata": {
        "id": "BD3qZ8tZ_BvN"
      },
      "source": [
        "# Noramlization of image\n",
        "This function will make image range from 0 ~ 255 to 0 ~ 1.0 and convert type from int16 to float32"
      ]
    },
    {
      "cell_type": "code",
      "metadata": {
        "id": "Np_O_GUgREmI"
      },
      "source": [
        "def normalize_img(img):\n",
        "    img = img / 255.\n",
        "    img = img.astype(np.float32)\n",
        "    return img"
      ],
      "execution_count": 9,
      "outputs": []
    },
    {
      "cell_type": "markdown",
      "metadata": {
        "id": "8aW_OTwF_WFu"
      },
      "source": [
        "# Define your dataset\n",
        "This defined dataset can be easily loaded by pytorch library"
      ]
    },
    {
      "cell_type": "code",
      "metadata": {
        "id": "OnamWOz2REmO"
      },
      "source": [
        "class DatasetFromFolder(data.Dataset):\n",
        "    def __init__(self, data_dir, use_npy):\n",
        "        super(DatasetFromFolder, self).__init__()\n",
        "\n",
        "        self.use_npy = use_npy\n",
        "\n",
        "        if self.use_npy:\n",
        "            lr_dir = os.path.join(data_dir, 'lr.npy')\n",
        "            hr_dir = os.path.join(data_dir, 'hr.npy')\n",
        "        else:\n",
        "            lr_dir = os.path.join(data_dir, 'lr')\n",
        "            hr_dir = os.path.join(data_dir, 'hr')\n",
        "        \n",
        "        self.dsets = {}\n",
        "\n",
        "        if self.use_npy:\n",
        "            self.dsets['lr'] = np.load(lr_dir)\n",
        "            self.dsets['hr'] = np.load(hr_dir)\n",
        "        else:\n",
        "            lr_list = os.listdir(lr_dir)\n",
        "            hr_list = os.listdir(hr_dir)\n",
        "\n",
        "            lr_list.sort()\n",
        "            hr_list.sort()\n",
        "            self.dsets['lr'] = [os.path.join(lr_dir, x) for x in lr_list]\n",
        "            self.dsets['hr'] = [os.path.join(hr_dir, x) for x in hr_list]\n",
        "        \n",
        "        self.dsets['file_name'] = os.listdir(os.path.join(data_dir, 'hr'))\n",
        "\n",
        "    def __getitem__(self, idx):\n",
        "\n",
        "        if self.use_npy:\n",
        "            input = self.dsets['lr'][idx]\n",
        "            target = self.dsets['hr'][idx]\n",
        "        else:\n",
        "            input = cv2.imread(self.dsets['lr'][idx])\n",
        "            target = cv2.imread(self.dsets['hr'][idx])\n",
        "\n",
        "        file_name = self.dsets['file_name'][idx]\n",
        "\n",
        "        # 64 x 64 (width x height)-> 256 x 256 upscale before entering them into the network\n",
        "        input = cv2.resize(input, (target.shape[1], target.shape[0]), interpolation=cv2.INTER_CUBIC)  # normally ()pytorch convention (height, width)\n",
        "        \n",
        "        input = normalize_img(input)\n",
        "        target = normalize_img(target)\n",
        "\n",
        "        input = np.transpose(input, (2, 0, 1))  #  (height, width, channel) -> pytorch convention (channel, height, width)\n",
        "        target = np.transpose(target, (2, 0, 1))\n",
        "\n",
        "        # pytorch 용 tensor로 변환\n",
        "        input = torch.from_numpy(input).type(torch.FloatTensor)\n",
        "        target = torch.from_numpy(target).type(torch.FloatTensor)\n",
        "\n",
        "        return input, target, file_name\n",
        "\n",
        "    def __len__(self):\n",
        "        return len(self.dsets['lr'])"
      ],
      "execution_count": 10,
      "outputs": []
    },
    {
      "cell_type": "markdown",
      "metadata": {
        "id": "b4j98DVs_d0-"
      },
      "source": [
        "# Shift function\n",
        "This function will shift your image from 0 ~ 1.0 to -mean ~ (1 - mean) for each RGB channel. This will make neural network to learn easily"
      ]
    },
    {
      "cell_type": "code",
      "metadata": {
        "id": "1EvtKcwQREmU"
      },
      "source": [
        "# mean set to zero\n",
        "class MeanShift(nn.Conv2d):\n",
        "    def __init__(\n",
        "        self, rgb_range,\n",
        "        rgb_mean=(0.4488, 0.4371, 0.4040), rgb_std=(1.0, 1.0, 1.0), sign=-1):\n",
        "\n",
        "        super(MeanShift, self).__init__(3, 3, kernel_size=1)\n",
        "        std = torch.Tensor(rgb_std)\n",
        "        self.weight.data = torch.eye(3).view(3, 3, 1, 1) / std.view(3, 1, 1, 1)\n",
        "        self.bias.data = sign * rgb_range * torch.Tensor(rgb_mean) / std\n",
        "        for p in self.parameters():\n",
        "            p.requires_grad = False"
      ],
      "execution_count": 11,
      "outputs": []
    },
    {
      "cell_type": "markdown",
      "metadata": {
        "id": "JsRJiIc1_zvK"
      },
      "source": [
        "# Define your model\n",
        "See details of [paper](https://arxiv.org/abs/1501.00092)"
      ]
    },
    {
      "cell_type": "code",
      "metadata": {
        "scrolled": true,
        "id": "2m-LcQx5REma"
      },
      "source": [
        "class SRCNN(nn.Module):\n",
        "    def __init__(self, opt):\n",
        "        super(SRCNN, self).__init__()\n",
        "        pix_range = 1.0\n",
        "        \n",
        "        self.sub_mean = MeanShift(pix_range)\n",
        "        self.add_mean = MeanShift(pix_range, sign=1)\n",
        "        \n",
        "        # CLASStorch.nn.Conv2d(in_channels, out_channels, kernel_size, stride=1, \n",
        "        #          padding=0, dilation=1, groups=1, bias=True, padding_mode='zeros')\n",
        "        self.conv1 = nn.Conv2d(opt.n_channels, 64, kernel_size=9, padding=4)\n",
        "        self.relu1 = nn.ReLU()\n",
        "        self.conv2 = nn.Conv2d(64, 32, kernel_size=1, padding=0)\n",
        "        self.relu2 = nn.ReLU()\n",
        "        self.conv3 = nn.Conv2d(32, opt.n_channels, kernel_size=5, padding=2)\n",
        "\n",
        "    def forward(self, x):\n",
        "        x = self.sub_mean(x)\n",
        "        #residual = x\n",
        "        x = self.relu1(self.conv1(x))\n",
        "        x = self.relu2(self.conv2(x))\n",
        "        x = self.conv3(x)\n",
        "        #x = torch.add(x, residual)\n",
        "        \n",
        "        out = self.add_mean(x)\n",
        "        return out"
      ],
      "execution_count": 12,
      "outputs": []
    },
    {
      "cell_type": "markdown",
      "metadata": {
        "id": "3fiuLdCXAFcJ"
      },
      "source": [
        "# Prepare for your unwanted system or program down\n",
        "This function saves the progress of learning for each echo. You can load the mode later from the last learned model. Of course, you have to define the function of loading model."
      ]
    },
    {
      "cell_type": "code",
      "metadata": {
        "id": "MZfO7PpyREme"
      },
      "source": [
        "def save_checkpoint(srcnn, epoch, loss):\n",
        "    checkpoint_dir = os.path.abspath(opt.checkpoint_dir)\n",
        "    if not os.path.exists(checkpoint_dir):\n",
        "        os.makedirs(checkpoint_dir)\n",
        "    checkpoint_path = os.path.join(checkpoint_dir, \"models_epoch_%04d_loss_%.6f.pth\" % (epoch, loss))\n",
        "    \n",
        "    if torch.cuda.device_count() > 1 and opt.multi_gpu:\n",
        "        state = {\"epoch\": epoch, \"srcnn\": srcnn.module}\n",
        "    else:\n",
        "        state = {\"epoch\": epoch, \"srcnn\": srcnn}\n",
        "\n",
        "    torch.save(state, checkpoint_path)\n",
        "    print(\"Checkpoint saved to {}\".format(checkpoint_path))"
      ],
      "execution_count": 13,
      "outputs": []
    },
    {
      "cell_type": "code",
      "metadata": {
        "id": "HeOIA41JREmi"
      },
      "source": [
        "def load_model(checkpoint_dir):\n",
        "    checkpoint_list = glob.glob(os.path.join(checkpoint_dir, \"*.pth\"))\n",
        "    checkpoint_list.sort()\n",
        "\n",
        "    if opt.resume_best:\n",
        "        loss_list = list(map(lambda x: float(os.path.basename(x).split('_')[4][:-4]), checkpoint_list))\n",
        "        best_loss_idx = loss_list.index(min(loss_list))\n",
        "        checkpoint_path = checkpoint_list[best_loss_idx]\n",
        "    else:\n",
        "        checkpoint_path = checkpoint_list[len(checkpoint_list) - 1]\n",
        "\n",
        "    srcnn = SRCNN(opt)\n",
        "\n",
        "    if os.path.isfile(checkpoint_path):\n",
        "        print(\"=> loading checkpoint '{}'\".format(checkpoint_path))\n",
        "        checkpoint = torch.load(checkpoint_path)\n",
        "        \n",
        "        n_epoch = checkpoint['epoch']\n",
        "        srcnn.load_state_dict(checkpoint['srcnn'].state_dict())\n",
        "        print(\"=> loaded checkpoint '{}' (epoch {})\"\n",
        "                .format(checkpoint_path, n_epoch))\n",
        "    else:\n",
        "        print(\"=> no checkpoint found at '{}'\".format(checkpoint_path))\n",
        "        n_epoch = 0\n",
        "\n",
        "    return n_epoch + 1, srcnn"
      ],
      "execution_count": 14,
      "outputs": []
    },
    {
      "cell_type": "markdown",
      "metadata": {
        "id": "lC-JBCYHAcvT"
      },
      "source": [
        "# Define your train step"
      ]
    },
    {
      "cell_type": "code",
      "metadata": {
        "id": "TvPI316BREmo"
      },
      "source": [
        "def train(opt, model, optimizer, data_loader, loss_criterion):\n",
        "    print(\"===> Training\")\n",
        "    start_time = time.time()\n",
        "\n",
        "    total_loss = 0.0\n",
        "    total_psnr = 0.0\n",
        "\n",
        "    for iteration, batch in enumerate(tqdm(data_loader), 1):\n",
        "        x, target = batch[0], batch[1]  # return input[0], target[1], file_name[2]\n",
        "        if opt.use_cuda:\n",
        "            x = x.to(opt.device)\n",
        "            target = target.to(opt.device)\n",
        "\n",
        "        out = model(x)    # SRCNN result\n",
        "\n",
        "        loss = loss_criterion(out, target)\n",
        "\n",
        "        # backpropagation\n",
        "        optimizer.zero_grad()\n",
        "        loss.backward()\n",
        "        optimizer.step()\n",
        "\n",
        "        total_loss += loss.item()\n",
        "        psnr = 10 * math.log10(1. / loss.item())\n",
        "        total_psnr += psnr\n",
        "\n",
        "        # print(\"Training %.2fs => Epoch[%d/%d](%d/%d): Loss: %.5f PSNR: %.5f\" %\n",
        "        #     (time.time() - start_time, opt.epoch_num, opt.n_epochs, iteration, len(data_loader), loss.item(), psnr))\n",
        "\n",
        "    total_loss = total_loss / iteration\n",
        "    total_psnr = total_psnr / iteration\n",
        "    \n",
        "    print(\"***Training %.2fs => Epoch[%d/%d]: Loss: %.5f PSNR: %.5f\" %\n",
        "        (time.time() - start_time, opt.epoch_num, opt.n_epochs, total_loss, total_psnr))\n",
        "\n",
        "    return (total_loss, total_psnr)"
      ],
      "execution_count": 15,
      "outputs": []
    },
    {
      "cell_type": "markdown",
      "metadata": {
        "id": "STG1ZpygAhey"
      },
      "source": [
        "# Define your evaluation method for validation dataset"
      ]
    },
    {
      "cell_type": "code",
      "metadata": {
        "id": "WYgyyOUiREms"
      },
      "source": [
        "def evaluate(opt, model, data_loader, loss_criterion):\n",
        "    print(\"===> Validation\")\n",
        "    start_time = time.time()\n",
        "\n",
        "    total_loss = 0.0\n",
        "    total_psnr = 0.0\n",
        "    with torch.no_grad(): # no need to use backpropagation computation unlike training stage\n",
        "        for iteration, batch in enumerate(tqdm(data_loader), 1):\n",
        "            x, target = batch[0], batch[1]\n",
        "\n",
        "            if opt.use_cuda:\n",
        "                x = x.to(opt.device)\n",
        "                target = target.to(opt.device)\n",
        "\n",
        "            out = model(x)\n",
        "            \n",
        "            loss = loss_criterion(out, target)\n",
        "            total_loss += loss.item()\n",
        "\n",
        "            psnr = 10 * math.log10(1. / loss.item())\n",
        "            total_psnr += psnr\n",
        "\n",
        "            # print(\"Validation %.2fs => Epoch[%d/%d](%d/%d): Loss: %.5f PSNR: %.5f\" %\n",
        "            #     (time.time() - start_time, opt.epoch_num, opt.n_epochs, iteration, len(data_loader), loss.item(), psnr))\n",
        "\n",
        "    total_loss = total_loss / iteration\n",
        "    total_psnr = total_psnr / iteration\n",
        "    \n",
        "    print(\"***Validation %.2fs => Epoch[%d/%d]: Loss: %.5f PSNR: %.5f\" %\n",
        "        (time.time() - start_time, opt.epoch_num, opt.n_epochs, total_loss, total_psnr))\n",
        "\n",
        "    return (total_loss, total_psnr)"
      ],
      "execution_count": 16,
      "outputs": []
    },
    {
      "cell_type": "markdown",
      "metadata": {
        "id": "HNvHIjzeAnjS"
      },
      "source": [
        "# Define whole training process"
      ]
    },
    {
      "cell_type": "code",
      "metadata": {
        "id": "kWU1137oREm5"
      },
      "source": [
        "def run_train(opt, training_data_loader, validation_data_loader):\n",
        "    # Define what device we are using\n",
        "    if not os.path.exists(opt.checkpoint_dir):\n",
        "        os.makedirs(opt.checkpoint_dir)\n",
        "\n",
        "    log_file = os.path.join(opt.checkpoint_dir, \"srcnn_log.csv\")\n",
        "\n",
        "    print('[Initialize networks for training]')\n",
        "    srcnn = SRCNN(opt)\n",
        "    l2_criterion = nn.MSELoss()\n",
        "    print(srcnn)\n",
        "\n",
        "    # optionally resume from a checkpoint\n",
        "    if opt.resume:\n",
        "        opt.start_epoch, srcnn = load_model(opt.checkpoint_dir)\n",
        "    else: # csv file initialization\n",
        "        with open(log_file, mode='w') as f:\n",
        "            f.write(\"epoch,train_loss,valid_loss\\n\")\n",
        "\n",
        "    print(\"===> Setting GPU\")\n",
        "    print(\"CUDA Available: \", torch.cuda.is_available())\n",
        "    if opt.use_cuda and torch.cuda.is_available():\n",
        "        opt.use_cuda = True\n",
        "        opt.device = 'cuda'\n",
        "    else:\n",
        "        opt.use_cuda = False\n",
        "        opt.device = 'cpu'\n",
        "        \n",
        "    if torch.cuda.device_count() > 1 and opt.multi_gpu:\n",
        "        print(\"Use \" + str(torch.cuda.device_count()) + \" GPUs\")\n",
        "        srcnn = nn.DataParallel(srcnn)\n",
        "\n",
        "    if opt.use_cuda:\n",
        "        srcnn = srcnn.to(opt.device)\n",
        "        l2_criterion = l2_criterion.to(opt.device)\n",
        "\n",
        "    print(\"===> Setting Optimizer\")\n",
        "    optimizer = torch.optim.Adam(srcnn.parameters(),  lr=opt.lr, betas=(opt.b1, opt.b2))\n",
        "\n",
        "    for epoch in range(opt.start_epoch, opt.n_epochs):\n",
        "        opt.epoch_num = epoch\n",
        "        train_loss, train_psnr = train(opt, srcnn, optimizer, training_data_loader, loss_criterion=l2_criterion)\n",
        "        valid_loss, valid_psnr = evaluate(opt, srcnn, validation_data_loader, loss_criterion=l2_criterion)\n",
        "\n",
        "        with open(log_file, mode='a') as f:\n",
        "            f.write(\"%d,%08f,%08f,%08f,%08f\\n\" % (\n",
        "                epoch,\n",
        "                train_loss,\n",
        "                train_psnr,\n",
        "                valid_loss,\n",
        "                valid_psnr\n",
        "            ))\n",
        "        save_checkpoint(srcnn, epoch, valid_loss)"
      ],
      "execution_count": 17,
      "outputs": []
    },
    {
      "cell_type": "markdown",
      "metadata": {
        "id": "KlIg90EkAthx"
      },
      "source": [
        "# Now it's time to train the SRCNN model"
      ]
    },
    {
      "cell_type": "code",
      "metadata": {
        "scrolled": false,
        "id": "crr6jgVNREm-",
        "colab": {
          "base_uri": "https://localhost:8080/"
        },
        "outputId": "588c62aa-4f66-4a5a-f32f-ad49ffcfc020"
      },
      "source": [
        "train_dir = opt.train_dir\n",
        "valid_dir = opt.valid_dir\n",
        "print(\"train_dir is: {}\".format(train_dir))\n",
        "print(\"valid_dir is: {}\".format(valid_dir))\n",
        "\n",
        "target_size = (opt.lr_img * opt.res_scale, opt.lr_img * opt.res_scale)\n",
        "\n",
        "\n",
        "train_dataset = DatasetFromFolder(train_dir, opt.use_npy)\n",
        "valid_dataset = DatasetFromFolder(valid_dir, opt.use_npy)\n",
        "\n",
        "training_data_loader = DataLoader(dataset=train_dataset,\n",
        "                                  batch_size=opt.batch_size,\n",
        "                                  shuffle=True)\n",
        "validation_data_loader = DataLoader(dataset=valid_dataset,\n",
        "                                    batch_size=opt.batch_size,\n",
        "                                    shuffle=False)\n",
        "\n",
        "run_train(opt, training_data_loader, validation_data_loader)"
      ],
      "execution_count": null,
      "outputs": [
        {
          "output_type": "stream",
          "name": "stdout",
          "text": [
            "train_dir is: /content/gdrive/My Drive/Colab Notebooks/SRCNN/div2k_100/train_patches_x4lr64\n",
            "valid_dir is: /content/gdrive/My Drive/Colab Notebooks/SRCNN/div2k_100/valid_patches_x4lr64\n",
            "[Initialize networks for training]\n",
            "SRCNN(\n",
            "  (sub_mean): MeanShift(3, 3, kernel_size=(1, 1), stride=(1, 1))\n",
            "  (add_mean): MeanShift(3, 3, kernel_size=(1, 1), stride=(1, 1))\n",
            "  (conv1): Conv2d(3, 64, kernel_size=(9, 9), stride=(1, 1), padding=(4, 4))\n",
            "  (relu1): ReLU()\n",
            "  (conv2): Conv2d(64, 32, kernel_size=(1, 1), stride=(1, 1))\n",
            "  (relu2): ReLU()\n",
            "  (conv3): Conv2d(32, 3, kernel_size=(5, 5), stride=(1, 1), padding=(2, 2))\n",
            ")\n",
            "===> Setting GPU\n",
            "CUDA Available:  True\n",
            "===> Setting Optimizer\n",
            "===> Training\n"
          ]
        },
        {
          "output_type": "stream",
          "name": "stderr",
          "text": [
            "100%|██████████| 36/36 [00:56<00:00,  1.56s/it]\n"
          ]
        },
        {
          "output_type": "stream",
          "name": "stdout",
          "text": [
            "***Training 56.19s => Epoch[1/200]: Loss: 0.04757 PSNR: 13.51848\n",
            "===> Validation\n"
          ]
        },
        {
          "output_type": "stream",
          "name": "stderr",
          "text": [
            "100%|██████████| 6/6 [00:04<00:00,  1.30it/s]\n"
          ]
        },
        {
          "output_type": "stream",
          "name": "stdout",
          "text": [
            "***Validation 4.65s => Epoch[1/200]: Loss: 0.01971 PSNR: 17.33709\n",
            "Checkpoint saved to /content/gdrive/My Drive/Colab Notebooks/SRCNN/div2k_100/checkpoint_dir/models_epoch_0001_loss_0.019708.pth\n",
            "===> Training\n"
          ]
        },
        {
          "output_type": "stream",
          "name": "stderr",
          "text": [
            "100%|██████████| 36/36 [00:56<00:00,  1.56s/it]\n"
          ]
        },
        {
          "output_type": "stream",
          "name": "stdout",
          "text": [
            "***Training 56.29s => Epoch[2/200]: Loss: 0.01486 PSNR: 18.35372\n",
            "===> Validation\n"
          ]
        },
        {
          "output_type": "stream",
          "name": "stderr",
          "text": [
            "100%|██████████| 6/6 [00:04<00:00,  1.25it/s]\n"
          ]
        },
        {
          "output_type": "stream",
          "name": "stdout",
          "text": [
            "***Validation 4.82s => Epoch[2/200]: Loss: 0.01155 PSNR: 19.82301\n",
            "Checkpoint saved to /content/gdrive/My Drive/Colab Notebooks/SRCNN/div2k_100/checkpoint_dir/models_epoch_0002_loss_0.011553.pth\n",
            "===> Training\n"
          ]
        },
        {
          "output_type": "stream",
          "name": "stderr",
          "text": [
            "100%|██████████| 36/36 [00:56<00:00,  1.58s/it]\n"
          ]
        },
        {
          "output_type": "stream",
          "name": "stdout",
          "text": [
            "***Training 56.91s => Epoch[3/200]: Loss: 0.00919 PSNR: 20.45747\n",
            "===> Validation\n"
          ]
        },
        {
          "output_type": "stream",
          "name": "stderr",
          "text": [
            "100%|██████████| 6/6 [00:04<00:00,  1.26it/s]\n"
          ]
        },
        {
          "output_type": "stream",
          "name": "stdout",
          "text": [
            "***Validation 4.76s => Epoch[3/200]: Loss: 0.00764 PSNR: 21.51908\n",
            "Checkpoint saved to /content/gdrive/My Drive/Colab Notebooks/SRCNN/div2k_100/checkpoint_dir/models_epoch_0003_loss_0.007644.pth\n",
            "===> Training\n"
          ]
        },
        {
          "output_type": "stream",
          "name": "stderr",
          "text": [
            "100%|██████████| 36/36 [00:56<00:00,  1.57s/it]\n"
          ]
        },
        {
          "output_type": "stream",
          "name": "stdout",
          "text": [
            "***Training 56.43s => Epoch[4/200]: Loss: 0.00736 PSNR: 21.36522\n",
            "===> Validation\n"
          ]
        },
        {
          "output_type": "stream",
          "name": "stderr",
          "text": [
            "100%|██████████| 6/6 [00:04<00:00,  1.28it/s]\n"
          ]
        },
        {
          "output_type": "stream",
          "name": "stdout",
          "text": [
            "***Validation 4.69s => Epoch[4/200]: Loss: 0.00639 PSNR: 22.22175\n",
            "Checkpoint saved to /content/gdrive/My Drive/Colab Notebooks/SRCNN/div2k_100/checkpoint_dir/models_epoch_0004_loss_0.006394.pth\n",
            "===> Training\n"
          ]
        },
        {
          "output_type": "stream",
          "name": "stderr",
          "text": [
            "100%|██████████| 36/36 [00:56<00:00,  1.57s/it]\n"
          ]
        },
        {
          "output_type": "stream",
          "name": "stdout",
          "text": [
            "***Training 56.42s => Epoch[5/200]: Loss: 0.00653 PSNR: 21.86854\n",
            "===> Validation\n"
          ]
        },
        {
          "output_type": "stream",
          "name": "stderr",
          "text": [
            "100%|██████████| 6/6 [00:04<00:00,  1.28it/s]\n"
          ]
        },
        {
          "output_type": "stream",
          "name": "stdout",
          "text": [
            "***Validation 4.69s => Epoch[5/200]: Loss: 0.00561 PSNR: 22.78273\n",
            "Checkpoint saved to /content/gdrive/My Drive/Colab Notebooks/SRCNN/div2k_100/checkpoint_dir/models_epoch_0005_loss_0.005612.pth\n",
            "===> Training\n"
          ]
        },
        {
          "output_type": "stream",
          "name": "stderr",
          "text": [
            "100%|██████████| 36/36 [00:56<00:00,  1.57s/it]\n"
          ]
        },
        {
          "output_type": "stream",
          "name": "stdout",
          "text": [
            "***Training 56.54s => Epoch[6/200]: Loss: 0.00610 PSNR: 22.18800\n",
            "===> Validation\n"
          ]
        },
        {
          "output_type": "stream",
          "name": "stderr",
          "text": [
            "100%|██████████| 6/6 [00:04<00:00,  1.27it/s]\n"
          ]
        },
        {
          "output_type": "stream",
          "name": "stdout",
          "text": [
            "***Validation 4.73s => Epoch[6/200]: Loss: 0.00470 PSNR: 23.54348\n",
            "Checkpoint saved to /content/gdrive/My Drive/Colab Notebooks/SRCNN/div2k_100/checkpoint_dir/models_epoch_0006_loss_0.004701.pth\n",
            "===> Training\n"
          ]
        },
        {
          "output_type": "stream",
          "name": "stderr",
          "text": [
            "100%|██████████| 36/36 [00:56<00:00,  1.57s/it]\n"
          ]
        },
        {
          "output_type": "stream",
          "name": "stdout",
          "text": [
            "***Training 56.51s => Epoch[7/200]: Loss: 0.00534 PSNR: 22.74777\n",
            "===> Validation\n"
          ]
        },
        {
          "output_type": "stream",
          "name": "stderr",
          "text": [
            "100%|██████████| 6/6 [00:04<00:00,  1.27it/s]\n"
          ]
        },
        {
          "output_type": "stream",
          "name": "stdout",
          "text": [
            "***Validation 4.74s => Epoch[7/200]: Loss: 0.00401 PSNR: 24.26936\n",
            "Checkpoint saved to /content/gdrive/My Drive/Colab Notebooks/SRCNN/div2k_100/checkpoint_dir/models_epoch_0007_loss_0.004008.pth\n",
            "===> Training\n"
          ]
        },
        {
          "output_type": "stream",
          "name": "stderr",
          "text": [
            "100%|██████████| 36/36 [00:56<00:00,  1.57s/it]\n"
          ]
        },
        {
          "output_type": "stream",
          "name": "stdout",
          "text": [
            "***Training 56.36s => Epoch[8/200]: Loss: 0.00486 PSNR: 23.15419\n",
            "===> Validation\n"
          ]
        },
        {
          "output_type": "stream",
          "name": "stderr",
          "text": [
            "100%|██████████| 6/6 [00:04<00:00,  1.29it/s]\n"
          ]
        },
        {
          "output_type": "stream",
          "name": "stdout",
          "text": [
            "***Validation 4.68s => Epoch[8/200]: Loss: 0.00356 PSNR: 24.83203\n",
            "Checkpoint saved to /content/gdrive/My Drive/Colab Notebooks/SRCNN/div2k_100/checkpoint_dir/models_epoch_0008_loss_0.003563.pth\n",
            "===> Training\n"
          ]
        },
        {
          "output_type": "stream",
          "name": "stderr",
          "text": [
            "100%|██████████| 36/36 [00:56<00:00,  1.57s/it]\n"
          ]
        },
        {
          "output_type": "stream",
          "name": "stdout",
          "text": [
            "***Training 56.36s => Epoch[9/200]: Loss: 0.00443 PSNR: 23.57463\n",
            "===> Validation\n"
          ]
        },
        {
          "output_type": "stream",
          "name": "stderr",
          "text": [
            "100%|██████████| 6/6 [00:04<00:00,  1.29it/s]\n"
          ]
        },
        {
          "output_type": "stream",
          "name": "stdout",
          "text": [
            "***Validation 4.68s => Epoch[9/200]: Loss: 0.00326 PSNR: 25.26258\n",
            "Checkpoint saved to /content/gdrive/My Drive/Colab Notebooks/SRCNN/div2k_100/checkpoint_dir/models_epoch_0009_loss_0.003258.pth\n",
            "===> Training\n"
          ]
        },
        {
          "output_type": "stream",
          "name": "stderr",
          "text": [
            "100%|██████████| 36/36 [00:56<00:00,  1.57s/it]\n"
          ]
        },
        {
          "output_type": "stream",
          "name": "stdout",
          "text": [
            "***Training 56.44s => Epoch[10/200]: Loss: 0.00414 PSNR: 23.86820\n",
            "===> Validation\n"
          ]
        },
        {
          "output_type": "stream",
          "name": "stderr",
          "text": [
            "100%|██████████| 6/6 [00:04<00:00,  1.27it/s]\n"
          ]
        },
        {
          "output_type": "stream",
          "name": "stdout",
          "text": [
            "***Validation 4.73s => Epoch[10/200]: Loss: 0.00307 PSNR: 25.54908\n",
            "Checkpoint saved to /content/gdrive/My Drive/Colab Notebooks/SRCNN/div2k_100/checkpoint_dir/models_epoch_0010_loss_0.003070.pth\n",
            "===> Training\n"
          ]
        },
        {
          "output_type": "stream",
          "name": "stderr",
          "text": [
            "100%|██████████| 36/36 [00:56<00:00,  1.57s/it]\n"
          ]
        },
        {
          "output_type": "stream",
          "name": "stdout",
          "text": [
            "***Training 56.48s => Epoch[11/200]: Loss: 0.00398 PSNR: 24.03184\n",
            "===> Validation\n"
          ]
        },
        {
          "output_type": "stream",
          "name": "stderr",
          "text": [
            "100%|██████████| 6/6 [00:04<00:00,  1.27it/s]\n"
          ]
        },
        {
          "output_type": "stream",
          "name": "stdout",
          "text": [
            "***Validation 4.75s => Epoch[11/200]: Loss: 0.00296 PSNR: 25.72608\n",
            "Checkpoint saved to /content/gdrive/My Drive/Colab Notebooks/SRCNN/div2k_100/checkpoint_dir/models_epoch_0011_loss_0.002957.pth\n",
            "===> Training\n"
          ]
        },
        {
          "output_type": "stream",
          "name": "stderr",
          "text": [
            "100%|██████████| 36/36 [00:56<00:00,  1.57s/it]\n"
          ]
        },
        {
          "output_type": "stream",
          "name": "stdout",
          "text": [
            "***Training 56.44s => Epoch[12/200]: Loss: 0.00389 PSNR: 24.13022\n",
            "===> Validation\n"
          ]
        },
        {
          "output_type": "stream",
          "name": "stderr",
          "text": [
            "100%|██████████| 6/6 [00:04<00:00,  1.29it/s]\n"
          ]
        },
        {
          "output_type": "stream",
          "name": "stdout",
          "text": [
            "***Validation 4.66s => Epoch[12/200]: Loss: 0.00288 PSNR: 25.85327\n",
            "Checkpoint saved to /content/gdrive/My Drive/Colab Notebooks/SRCNN/div2k_100/checkpoint_dir/models_epoch_0012_loss_0.002880.pth\n",
            "===> Training\n"
          ]
        },
        {
          "output_type": "stream",
          "name": "stderr",
          "text": [
            "100%|██████████| 36/36 [00:56<00:00,  1.57s/it]\n"
          ]
        },
        {
          "output_type": "stream",
          "name": "stdout",
          "text": [
            "***Training 56.35s => Epoch[13/200]: Loss: 0.00387 PSNR: 24.15306\n",
            "===> Validation\n"
          ]
        },
        {
          "output_type": "stream",
          "name": "stderr",
          "text": [
            "100%|██████████| 6/6 [00:04<00:00,  1.29it/s]\n"
          ]
        },
        {
          "output_type": "stream",
          "name": "stdout",
          "text": [
            "***Validation 4.65s => Epoch[13/200]: Loss: 0.00282 PSNR: 25.96323\n",
            "Checkpoint saved to /content/gdrive/My Drive/Colab Notebooks/SRCNN/div2k_100/checkpoint_dir/models_epoch_0013_loss_0.002817.pth\n",
            "===> Training\n"
          ]
        },
        {
          "output_type": "stream",
          "name": "stderr",
          "text": [
            "100%|██████████| 36/36 [00:56<00:00,  1.57s/it]\n"
          ]
        },
        {
          "output_type": "stream",
          "name": "stdout",
          "text": [
            "***Training 56.50s => Epoch[14/200]: Loss: 0.00377 PSNR: 24.27909\n",
            "===> Validation\n"
          ]
        },
        {
          "output_type": "stream",
          "name": "stderr",
          "text": [
            "100%|██████████| 6/6 [00:04<00:00,  1.27it/s]\n"
          ]
        },
        {
          "output_type": "stream",
          "name": "stdout",
          "text": [
            "***Validation 4.72s => Epoch[14/200]: Loss: 0.00277 PSNR: 26.04359\n",
            "Checkpoint saved to /content/gdrive/My Drive/Colab Notebooks/SRCNN/div2k_100/checkpoint_dir/models_epoch_0014_loss_0.002772.pth\n",
            "===> Training\n"
          ]
        },
        {
          "output_type": "stream",
          "name": "stderr",
          "text": [
            "100%|██████████| 36/36 [00:56<00:00,  1.57s/it]\n"
          ]
        },
        {
          "output_type": "stream",
          "name": "stdout",
          "text": [
            "***Training 56.37s => Epoch[15/200]: Loss: 0.00379 PSNR: 24.23427\n",
            "===> Validation\n"
          ]
        },
        {
          "output_type": "stream",
          "name": "stderr",
          "text": [
            "100%|██████████| 6/6 [00:04<00:00,  1.26it/s]\n"
          ]
        },
        {
          "output_type": "stream",
          "name": "stdout",
          "text": [
            "***Validation 4.76s => Epoch[15/200]: Loss: 0.00273 PSNR: 26.11470\n",
            "Checkpoint saved to /content/gdrive/My Drive/Colab Notebooks/SRCNN/div2k_100/checkpoint_dir/models_epoch_0015_loss_0.002732.pth\n",
            "===> Training\n"
          ]
        },
        {
          "output_type": "stream",
          "name": "stderr",
          "text": [
            "100%|██████████| 36/36 [00:56<00:00,  1.57s/it]\n"
          ]
        },
        {
          "output_type": "stream",
          "name": "stdout",
          "text": [
            "***Training 56.48s => Epoch[16/200]: Loss: 0.00375 PSNR: 24.29203\n",
            "===> Validation\n"
          ]
        },
        {
          "output_type": "stream",
          "name": "stderr",
          "text": [
            "100%|██████████| 6/6 [00:04<00:00,  1.30it/s]\n"
          ]
        },
        {
          "output_type": "stream",
          "name": "stdout",
          "text": [
            "***Validation 4.63s => Epoch[16/200]: Loss: 0.00270 PSNR: 26.17457\n",
            "Checkpoint saved to /content/gdrive/My Drive/Colab Notebooks/SRCNN/div2k_100/checkpoint_dir/models_epoch_0016_loss_0.002699.pth\n",
            "===> Training\n"
          ]
        },
        {
          "output_type": "stream",
          "name": "stderr",
          "text": [
            "100%|██████████| 36/36 [00:56<00:00,  1.57s/it]\n"
          ]
        },
        {
          "output_type": "stream",
          "name": "stdout",
          "text": [
            "***Training 56.39s => Epoch[17/200]: Loss: 0.00368 PSNR: 24.36835\n",
            "===> Validation\n"
          ]
        },
        {
          "output_type": "stream",
          "name": "stderr",
          "text": [
            "100%|██████████| 6/6 [00:04<00:00,  1.29it/s]\n"
          ]
        },
        {
          "output_type": "stream",
          "name": "stdout",
          "text": [
            "***Validation 4.67s => Epoch[17/200]: Loss: 0.00266 PSNR: 26.24047\n",
            "Checkpoint saved to /content/gdrive/My Drive/Colab Notebooks/SRCNN/div2k_100/checkpoint_dir/models_epoch_0017_loss_0.002664.pth\n",
            "===> Training\n"
          ]
        },
        {
          "output_type": "stream",
          "name": "stderr",
          "text": [
            "100%|██████████| 36/36 [00:56<00:00,  1.57s/it]\n"
          ]
        },
        {
          "output_type": "stream",
          "name": "stdout",
          "text": [
            "***Training 56.45s => Epoch[18/200]: Loss: 0.00367 PSNR: 24.38338\n",
            "===> Validation\n"
          ]
        },
        {
          "output_type": "stream",
          "name": "stderr",
          "text": [
            "100%|██████████| 6/6 [00:04<00:00,  1.27it/s]\n"
          ]
        },
        {
          "output_type": "stream",
          "name": "stdout",
          "text": [
            "***Validation 4.73s => Epoch[18/200]: Loss: 0.00264 PSNR: 26.28644\n",
            "Checkpoint saved to /content/gdrive/My Drive/Colab Notebooks/SRCNN/div2k_100/checkpoint_dir/models_epoch_0018_loss_0.002639.pth\n",
            "===> Training\n"
          ]
        },
        {
          "output_type": "stream",
          "name": "stderr",
          "text": [
            "100%|██████████| 36/36 [00:56<00:00,  1.57s/it]\n"
          ]
        },
        {
          "output_type": "stream",
          "name": "stdout",
          "text": [
            "***Training 56.39s => Epoch[19/200]: Loss: 0.00362 PSNR: 24.44119\n",
            "===> Validation\n"
          ]
        },
        {
          "output_type": "stream",
          "name": "stderr",
          "text": [
            "100%|██████████| 6/6 [00:04<00:00,  1.27it/s]\n"
          ]
        },
        {
          "output_type": "stream",
          "name": "stdout",
          "text": [
            "***Validation 4.73s => Epoch[19/200]: Loss: 0.00261 PSNR: 26.35095\n",
            "Checkpoint saved to /content/gdrive/My Drive/Colab Notebooks/SRCNN/div2k_100/checkpoint_dir/models_epoch_0019_loss_0.002607.pth\n",
            "===> Training\n"
          ]
        },
        {
          "output_type": "stream",
          "name": "stderr",
          "text": [
            "100%|██████████| 36/36 [00:56<00:00,  1.57s/it]\n"
          ]
        },
        {
          "output_type": "stream",
          "name": "stdout",
          "text": [
            "***Training 56.48s => Epoch[20/200]: Loss: 0.00360 PSNR: 24.46433\n",
            "===> Validation\n"
          ]
        },
        {
          "output_type": "stream",
          "name": "stderr",
          "text": [
            "100%|██████████| 6/6 [00:04<00:00,  1.29it/s]\n"
          ]
        },
        {
          "output_type": "stream",
          "name": "stdout",
          "text": [
            "***Validation 4.68s => Epoch[20/200]: Loss: 0.00258 PSNR: 26.40433\n",
            "Checkpoint saved to /content/gdrive/My Drive/Colab Notebooks/SRCNN/div2k_100/checkpoint_dir/models_epoch_0020_loss_0.002581.pth\n",
            "===> Training\n"
          ]
        },
        {
          "output_type": "stream",
          "name": "stderr",
          "text": [
            "100%|██████████| 36/36 [00:56<00:00,  1.56s/it]\n"
          ]
        },
        {
          "output_type": "stream",
          "name": "stdout",
          "text": [
            "***Training 56.34s => Epoch[21/200]: Loss: 0.00357 PSNR: 24.51500\n",
            "===> Validation\n"
          ]
        },
        {
          "output_type": "stream",
          "name": "stderr",
          "text": [
            "100%|██████████| 6/6 [00:04<00:00,  1.29it/s]\n"
          ]
        },
        {
          "output_type": "stream",
          "name": "stdout",
          "text": [
            "***Validation 4.67s => Epoch[21/200]: Loss: 0.00256 PSNR: 26.45270\n",
            "Checkpoint saved to /content/gdrive/My Drive/Colab Notebooks/SRCNN/div2k_100/checkpoint_dir/models_epoch_0021_loss_0.002556.pth\n",
            "===> Training\n"
          ]
        },
        {
          "output_type": "stream",
          "name": "stderr",
          "text": [
            "100%|██████████| 36/36 [00:56<00:00,  1.57s/it]\n"
          ]
        },
        {
          "output_type": "stream",
          "name": "stdout",
          "text": [
            "***Training 56.45s => Epoch[22/200]: Loss: 0.00346 PSNR: 24.65553\n",
            "===> Validation\n"
          ]
        },
        {
          "output_type": "stream",
          "name": "stderr",
          "text": [
            "100%|██████████| 6/6 [00:04<00:00,  1.27it/s]\n"
          ]
        },
        {
          "output_type": "stream",
          "name": "stdout",
          "text": [
            "***Validation 4.73s => Epoch[22/200]: Loss: 0.00253 PSNR: 26.51064\n",
            "Checkpoint saved to /content/gdrive/My Drive/Colab Notebooks/SRCNN/div2k_100/checkpoint_dir/models_epoch_0022_loss_0.002529.pth\n",
            "===> Training\n"
          ]
        },
        {
          "output_type": "stream",
          "name": "stderr",
          "text": [
            "100%|██████████| 36/36 [00:56<00:00,  1.57s/it]\n"
          ]
        },
        {
          "output_type": "stream",
          "name": "stdout",
          "text": [
            "***Training 56.43s => Epoch[23/200]: Loss: 0.00349 PSNR: 24.60230\n",
            "===> Validation\n"
          ]
        },
        {
          "output_type": "stream",
          "name": "stderr",
          "text": [
            "100%|██████████| 6/6 [00:04<00:00,  1.26it/s]\n"
          ]
        },
        {
          "output_type": "stream",
          "name": "stdout",
          "text": [
            "***Validation 4.78s => Epoch[23/200]: Loss: 0.00251 PSNR: 26.55258\n",
            "Checkpoint saved to /content/gdrive/My Drive/Colab Notebooks/SRCNN/div2k_100/checkpoint_dir/models_epoch_0023_loss_0.002508.pth\n",
            "===> Training\n"
          ]
        },
        {
          "output_type": "stream",
          "name": "stderr",
          "text": [
            "100%|██████████| 36/36 [00:56<00:00,  1.58s/it]\n"
          ]
        },
        {
          "output_type": "stream",
          "name": "stdout",
          "text": [
            "***Training 56.84s => Epoch[24/200]: Loss: 0.00346 PSNR: 24.65377\n",
            "===> Validation\n"
          ]
        },
        {
          "output_type": "stream",
          "name": "stderr",
          "text": [
            "100%|██████████| 6/6 [00:04<00:00,  1.28it/s]\n"
          ]
        },
        {
          "output_type": "stream",
          "name": "stdout",
          "text": [
            "***Validation 4.71s => Epoch[24/200]: Loss: 0.00248 PSNR: 26.60289\n",
            "Checkpoint saved to /content/gdrive/My Drive/Colab Notebooks/SRCNN/div2k_100/checkpoint_dir/models_epoch_0024_loss_0.002483.pth\n",
            "===> Training\n"
          ]
        },
        {
          "output_type": "stream",
          "name": "stderr",
          "text": [
            "100%|██████████| 36/36 [00:56<00:00,  1.57s/it]\n"
          ]
        },
        {
          "output_type": "stream",
          "name": "stdout",
          "text": [
            "***Training 56.71s => Epoch[25/200]: Loss: 0.00343 PSNR: 24.67512\n",
            "===> Validation\n"
          ]
        },
        {
          "output_type": "stream",
          "name": "stderr",
          "text": [
            "100%|██████████| 6/6 [00:04<00:00,  1.25it/s]\n"
          ]
        },
        {
          "output_type": "stream",
          "name": "stdout",
          "text": [
            "***Validation 4.80s => Epoch[25/200]: Loss: 0.00246 PSNR: 26.64353\n",
            "Checkpoint saved to /content/gdrive/My Drive/Colab Notebooks/SRCNN/div2k_100/checkpoint_dir/models_epoch_0025_loss_0.002463.pth\n",
            "===> Training\n"
          ]
        },
        {
          "output_type": "stream",
          "name": "stderr",
          "text": [
            "100%|██████████| 36/36 [00:57<00:00,  1.58s/it]\n"
          ]
        },
        {
          "output_type": "stream",
          "name": "stdout",
          "text": [
            "***Training 57.02s => Epoch[26/200]: Loss: 0.00341 PSNR: 24.70863\n",
            "===> Validation\n"
          ]
        },
        {
          "output_type": "stream",
          "name": "stderr",
          "text": [
            "100%|██████████| 6/6 [00:04<00:00,  1.26it/s]\n"
          ]
        },
        {
          "output_type": "stream",
          "name": "stdout",
          "text": [
            "***Validation 4.77s => Epoch[26/200]: Loss: 0.00244 PSNR: 26.68589\n",
            "Checkpoint saved to /content/gdrive/My Drive/Colab Notebooks/SRCNN/div2k_100/checkpoint_dir/models_epoch_0026_loss_0.002443.pth\n",
            "===> Training\n"
          ]
        },
        {
          "output_type": "stream",
          "name": "stderr",
          "text": [
            "100%|██████████| 36/36 [00:57<00:00,  1.58s/it]\n"
          ]
        },
        {
          "output_type": "stream",
          "name": "stdout",
          "text": [
            "***Training 57.07s => Epoch[27/200]: Loss: 0.00338 PSNR: 24.74894\n",
            "===> Validation\n"
          ]
        },
        {
          "output_type": "stream",
          "name": "stderr",
          "text": [
            "100%|██████████| 6/6 [00:04<00:00,  1.27it/s]\n"
          ]
        },
        {
          "output_type": "stream",
          "name": "stdout",
          "text": [
            "***Validation 4.75s => Epoch[27/200]: Loss: 0.00242 PSNR: 26.72610\n",
            "Checkpoint saved to /content/gdrive/My Drive/Colab Notebooks/SRCNN/div2k_100/checkpoint_dir/models_epoch_0027_loss_0.002424.pth\n",
            "===> Training\n"
          ]
        },
        {
          "output_type": "stream",
          "name": "stderr",
          "text": [
            "100%|██████████| 36/36 [00:57<00:00,  1.59s/it]\n"
          ]
        },
        {
          "output_type": "stream",
          "name": "stdout",
          "text": [
            "***Training 57.12s => Epoch[28/200]: Loss: 0.00331 PSNR: 24.83615\n",
            "===> Validation\n"
          ]
        },
        {
          "output_type": "stream",
          "name": "stderr",
          "text": [
            "100%|██████████| 6/6 [00:04<00:00,  1.27it/s]\n"
          ]
        },
        {
          "output_type": "stream",
          "name": "stdout",
          "text": [
            "***Validation 4.73s => Epoch[28/200]: Loss: 0.00241 PSNR: 26.76839\n",
            "Checkpoint saved to /content/gdrive/My Drive/Colab Notebooks/SRCNN/div2k_100/checkpoint_dir/models_epoch_0028_loss_0.002405.pth\n",
            "===> Training\n"
          ]
        },
        {
          "output_type": "stream",
          "name": "stderr",
          "text": [
            "100%|██████████| 36/36 [00:57<00:00,  1.59s/it]\n"
          ]
        },
        {
          "output_type": "stream",
          "name": "stdout",
          "text": [
            "***Training 57.16s => Epoch[29/200]: Loss: 0.00331 PSNR: 24.84233\n",
            "===> Validation\n"
          ]
        },
        {
          "output_type": "stream",
          "name": "stderr",
          "text": [
            "100%|██████████| 6/6 [00:04<00:00,  1.28it/s]\n"
          ]
        },
        {
          "output_type": "stream",
          "name": "stdout",
          "text": [
            "***Validation 4.71s => Epoch[29/200]: Loss: 0.00239 PSNR: 26.79944\n",
            "Checkpoint saved to /content/gdrive/My Drive/Colab Notebooks/SRCNN/div2k_100/checkpoint_dir/models_epoch_0029_loss_0.002390.pth\n",
            "===> Training\n"
          ]
        },
        {
          "output_type": "stream",
          "name": "stderr",
          "text": [
            "100%|██████████| 36/36 [00:57<00:00,  1.59s/it]\n"
          ]
        },
        {
          "output_type": "stream",
          "name": "stdout",
          "text": [
            "***Training 57.14s => Epoch[30/200]: Loss: 0.00324 PSNR: 24.95380\n",
            "===> Validation\n"
          ]
        },
        {
          "output_type": "stream",
          "name": "stderr",
          "text": [
            "100%|██████████| 6/6 [00:04<00:00,  1.26it/s]\n"
          ]
        },
        {
          "output_type": "stream",
          "name": "stdout",
          "text": [
            "***Validation 4.78s => Epoch[30/200]: Loss: 0.00238 PSNR: 26.82421\n",
            "Checkpoint saved to /content/gdrive/My Drive/Colab Notebooks/SRCNN/div2k_100/checkpoint_dir/models_epoch_0030_loss_0.002378.pth\n",
            "===> Training\n"
          ]
        },
        {
          "output_type": "stream",
          "name": "stderr",
          "text": [
            "100%|██████████| 36/36 [00:57<00:00,  1.59s/it]\n"
          ]
        },
        {
          "output_type": "stream",
          "name": "stdout",
          "text": [
            "***Training 57.16s => Epoch[31/200]: Loss: 0.00326 PSNR: 24.90585\n",
            "===> Validation\n"
          ]
        },
        {
          "output_type": "stream",
          "name": "stderr",
          "text": [
            "100%|██████████| 6/6 [00:04<00:00,  1.26it/s]\n"
          ]
        },
        {
          "output_type": "stream",
          "name": "stdout",
          "text": [
            "***Validation 4.78s => Epoch[31/200]: Loss: 0.00236 PSNR: 26.87270\n",
            "Checkpoint saved to /content/gdrive/My Drive/Colab Notebooks/SRCNN/div2k_100/checkpoint_dir/models_epoch_0031_loss_0.002356.pth\n",
            "===> Training\n"
          ]
        },
        {
          "output_type": "stream",
          "name": "stderr",
          "text": [
            "100%|██████████| 36/36 [00:57<00:00,  1.59s/it]\n"
          ]
        },
        {
          "output_type": "stream",
          "name": "stdout",
          "text": [
            "***Training 57.17s => Epoch[32/200]: Loss: 0.00328 PSNR: 24.88872\n",
            "===> Validation\n"
          ]
        },
        {
          "output_type": "stream",
          "name": "stderr",
          "text": [
            "100%|██████████| 6/6 [00:04<00:00,  1.28it/s]\n"
          ]
        },
        {
          "output_type": "stream",
          "name": "stdout",
          "text": [
            "***Validation 4.72s => Epoch[32/200]: Loss: 0.00234 PSNR: 26.90956\n",
            "Checkpoint saved to /content/gdrive/My Drive/Colab Notebooks/SRCNN/div2k_100/checkpoint_dir/models_epoch_0032_loss_0.002340.pth\n",
            "===> Training\n"
          ]
        },
        {
          "output_type": "stream",
          "name": "stderr",
          "text": [
            "100%|██████████| 36/36 [00:57<00:00,  1.59s/it]\n"
          ]
        },
        {
          "output_type": "stream",
          "name": "stdout",
          "text": [
            "***Training 57.12s => Epoch[33/200]: Loss: 0.00320 PSNR: 24.98177\n",
            "===> Validation\n"
          ]
        },
        {
          "output_type": "stream",
          "name": "stderr",
          "text": [
            "100%|██████████| 6/6 [00:04<00:00,  1.28it/s]\n"
          ]
        },
        {
          "output_type": "stream",
          "name": "stdout",
          "text": [
            "***Validation 4.71s => Epoch[33/200]: Loss: 0.00232 PSNR: 26.94460\n",
            "Checkpoint saved to /content/gdrive/My Drive/Colab Notebooks/SRCNN/div2k_100/checkpoint_dir/models_epoch_0033_loss_0.002324.pth\n",
            "===> Training\n"
          ]
        },
        {
          "output_type": "stream",
          "name": "stderr",
          "text": [
            "100%|██████████| 36/36 [00:57<00:00,  1.59s/it]\n"
          ]
        },
        {
          "output_type": "stream",
          "name": "stdout",
          "text": [
            "***Training 57.12s => Epoch[34/200]: Loss: 0.00326 PSNR: 24.91872\n",
            "===> Validation\n"
          ]
        },
        {
          "output_type": "stream",
          "name": "stderr",
          "text": [
            "100%|██████████| 6/6 [00:04<00:00,  1.26it/s]\n"
          ]
        },
        {
          "output_type": "stream",
          "name": "stdout",
          "text": [
            "***Validation 4.79s => Epoch[34/200]: Loss: 0.00231 PSNR: 26.96699\n",
            "Checkpoint saved to /content/gdrive/My Drive/Colab Notebooks/SRCNN/div2k_100/checkpoint_dir/models_epoch_0034_loss_0.002313.pth\n",
            "===> Training\n"
          ]
        },
        {
          "output_type": "stream",
          "name": "stderr",
          "text": [
            "100%|██████████| 36/36 [00:57<00:00,  1.59s/it]\n"
          ]
        },
        {
          "output_type": "stream",
          "name": "stdout",
          "text": [
            "***Training 57.19s => Epoch[35/200]: Loss: 0.00317 PSNR: 25.01891\n",
            "===> Validation\n"
          ]
        },
        {
          "output_type": "stream",
          "name": "stderr",
          "text": [
            "100%|██████████| 6/6 [00:04<00:00,  1.26it/s]\n"
          ]
        },
        {
          "output_type": "stream",
          "name": "stdout",
          "text": [
            "***Validation 4.77s => Epoch[35/200]: Loss: 0.00230 PSNR: 26.99869\n",
            "Checkpoint saved to /content/gdrive/My Drive/Colab Notebooks/SRCNN/div2k_100/checkpoint_dir/models_epoch_0035_loss_0.002299.pth\n",
            "===> Training\n"
          ]
        },
        {
          "output_type": "stream",
          "name": "stderr",
          "text": [
            "100%|██████████| 36/36 [00:57<00:00,  1.58s/it]\n"
          ]
        },
        {
          "output_type": "stream",
          "name": "stdout",
          "text": [
            "***Training 57.05s => Epoch[36/200]: Loss: 0.00318 PSNR: 25.01323\n",
            "===> Validation\n"
          ]
        },
        {
          "output_type": "stream",
          "name": "stderr",
          "text": [
            "100%|██████████| 6/6 [00:04<00:00,  1.27it/s]\n"
          ]
        },
        {
          "output_type": "stream",
          "name": "stdout",
          "text": [
            "***Validation 4.75s => Epoch[36/200]: Loss: 0.00229 PSNR: 27.02820\n",
            "Checkpoint saved to /content/gdrive/My Drive/Colab Notebooks/SRCNN/div2k_100/checkpoint_dir/models_epoch_0036_loss_0.002286.pth\n",
            "===> Training\n"
          ]
        },
        {
          "output_type": "stream",
          "name": "stderr",
          "text": [
            "100%|██████████| 36/36 [00:57<00:00,  1.59s/it]\n"
          ]
        },
        {
          "output_type": "stream",
          "name": "stdout",
          "text": [
            "***Training 57.08s => Epoch[37/200]: Loss: 0.00311 PSNR: 25.12842\n",
            "===> Validation\n"
          ]
        },
        {
          "output_type": "stream",
          "name": "stderr",
          "text": [
            "100%|██████████| 6/6 [00:04<00:00,  1.27it/s]\n"
          ]
        },
        {
          "output_type": "stream",
          "name": "stdout",
          "text": [
            "***Validation 4.72s => Epoch[37/200]: Loss: 0.00227 PSNR: 27.05468\n",
            "Checkpoint saved to /content/gdrive/My Drive/Colab Notebooks/SRCNN/div2k_100/checkpoint_dir/models_epoch_0037_loss_0.002275.pth\n",
            "===> Training\n"
          ]
        },
        {
          "output_type": "stream",
          "name": "stderr",
          "text": [
            "100%|██████████| 36/36 [00:57<00:00,  1.59s/it]\n"
          ]
        },
        {
          "output_type": "stream",
          "name": "stdout",
          "text": [
            "***Training 57.13s => Epoch[38/200]: Loss: 0.00318 PSNR: 25.01832\n",
            "===> Validation\n"
          ]
        },
        {
          "output_type": "stream",
          "name": "stderr",
          "text": [
            "100%|██████████| 6/6 [00:04<00:00,  1.26it/s]\n"
          ]
        },
        {
          "output_type": "stream",
          "name": "stdout",
          "text": [
            "***Validation 4.78s => Epoch[38/200]: Loss: 0.00227 PSNR: 27.07440\n",
            "Checkpoint saved to /content/gdrive/My Drive/Colab Notebooks/SRCNN/div2k_100/checkpoint_dir/models_epoch_0038_loss_0.002267.pth\n",
            "===> Training\n"
          ]
        },
        {
          "output_type": "stream",
          "name": "stderr",
          "text": [
            "100%|██████████| 36/36 [00:57<00:00,  1.59s/it]\n"
          ]
        },
        {
          "output_type": "stream",
          "name": "stdout",
          "text": [
            "***Training 57.10s => Epoch[39/200]: Loss: 0.00310 PSNR: 25.13727\n",
            "===> Validation\n"
          ]
        },
        {
          "output_type": "stream",
          "name": "stderr",
          "text": [
            "100%|██████████| 6/6 [00:04<00:00,  1.26it/s]\n"
          ]
        },
        {
          "output_type": "stream",
          "name": "stdout",
          "text": [
            "***Validation 4.78s => Epoch[39/200]: Loss: 0.00226 PSNR: 27.09098\n",
            "Checkpoint saved to /content/gdrive/My Drive/Colab Notebooks/SRCNN/div2k_100/checkpoint_dir/models_epoch_0039_loss_0.002258.pth\n",
            "===> Training\n"
          ]
        },
        {
          "output_type": "stream",
          "name": "stderr",
          "text": [
            "100%|██████████| 36/36 [00:57<00:00,  1.59s/it]\n"
          ]
        },
        {
          "output_type": "stream",
          "name": "stdout",
          "text": [
            "***Training 57.18s => Epoch[40/200]: Loss: 0.00309 PSNR: 25.12945\n",
            "===> Validation\n"
          ]
        },
        {
          "output_type": "stream",
          "name": "stderr",
          "text": [
            "100%|██████████| 6/6 [00:04<00:00,  1.28it/s]\n"
          ]
        },
        {
          "output_type": "stream",
          "name": "stdout",
          "text": [
            "***Validation 4.70s => Epoch[40/200]: Loss: 0.00225 PSNR: 27.11262\n",
            "Checkpoint saved to /content/gdrive/My Drive/Colab Notebooks/SRCNN/div2k_100/checkpoint_dir/models_epoch_0040_loss_0.002250.pth\n",
            "===> Training\n"
          ]
        },
        {
          "output_type": "stream",
          "name": "stderr",
          "text": [
            "100%|██████████| 36/36 [00:57<00:00,  1.59s/it]\n"
          ]
        },
        {
          "output_type": "stream",
          "name": "stdout",
          "text": [
            "***Training 57.09s => Epoch[41/200]: Loss: 0.00309 PSNR: 25.12620\n",
            "===> Validation\n"
          ]
        },
        {
          "output_type": "stream",
          "name": "stderr",
          "text": [
            "100%|██████████| 6/6 [00:04<00:00,  1.28it/s]\n"
          ]
        },
        {
          "output_type": "stream",
          "name": "stdout",
          "text": [
            "***Validation 4.70s => Epoch[41/200]: Loss: 0.00225 PSNR: 27.11819\n",
            "Checkpoint saved to /content/gdrive/My Drive/Colab Notebooks/SRCNN/div2k_100/checkpoint_dir/models_epoch_0041_loss_0.002246.pth\n",
            "===> Training\n"
          ]
        },
        {
          "output_type": "stream",
          "name": "stderr",
          "text": [
            "100%|██████████| 36/36 [00:57<00:00,  1.59s/it]\n"
          ]
        },
        {
          "output_type": "stream",
          "name": "stdout",
          "text": [
            "***Training 57.15s => Epoch[42/200]: Loss: 0.00311 PSNR: 25.11034\n",
            "===> Validation\n"
          ]
        },
        {
          "output_type": "stream",
          "name": "stderr",
          "text": [
            "100%|██████████| 6/6 [00:04<00:00,  1.27it/s]\n"
          ]
        },
        {
          "output_type": "stream",
          "name": "stdout",
          "text": [
            "***Validation 4.74s => Epoch[42/200]: Loss: 0.00224 PSNR: 27.14398\n",
            "Checkpoint saved to /content/gdrive/My Drive/Colab Notebooks/SRCNN/div2k_100/checkpoint_dir/models_epoch_0042_loss_0.002235.pth\n",
            "===> Training\n"
          ]
        },
        {
          "output_type": "stream",
          "name": "stderr",
          "text": [
            "100%|██████████| 36/36 [00:56<00:00,  1.58s/it]\n"
          ]
        },
        {
          "output_type": "stream",
          "name": "stdout",
          "text": [
            "***Training 56.92s => Epoch[43/200]: Loss: 0.00307 PSNR: 25.16602\n",
            "===> Validation\n"
          ]
        },
        {
          "output_type": "stream",
          "name": "stderr",
          "text": [
            "100%|██████████| 6/6 [00:04<00:00,  1.26it/s]\n"
          ]
        },
        {
          "output_type": "stream",
          "name": "stdout",
          "text": [
            "***Validation 4.76s => Epoch[43/200]: Loss: 0.00223 PSNR: 27.15886\n",
            "Checkpoint saved to /content/gdrive/My Drive/Colab Notebooks/SRCNN/div2k_100/checkpoint_dir/models_epoch_0043_loss_0.002229.pth\n",
            "===> Training\n"
          ]
        },
        {
          "output_type": "stream",
          "name": "stderr",
          "text": [
            "100%|██████████| 36/36 [00:57<00:00,  1.59s/it]\n"
          ]
        },
        {
          "output_type": "stream",
          "name": "stdout",
          "text": [
            "***Training 57.16s => Epoch[44/200]: Loss: 0.00302 PSNR: 25.30590\n",
            "===> Validation\n"
          ]
        },
        {
          "output_type": "stream",
          "name": "stderr",
          "text": [
            "100%|██████████| 6/6 [00:04<00:00,  1.28it/s]\n"
          ]
        },
        {
          "output_type": "stream",
          "name": "stdout",
          "text": [
            "***Validation 4.72s => Epoch[44/200]: Loss: 0.00222 PSNR: 27.16765\n",
            "Checkpoint saved to /content/gdrive/My Drive/Colab Notebooks/SRCNN/div2k_100/checkpoint_dir/models_epoch_0044_loss_0.002224.pth\n",
            "===> Training\n"
          ]
        },
        {
          "output_type": "stream",
          "name": "stderr",
          "text": [
            "100%|██████████| 36/36 [00:57<00:00,  1.59s/it]\n"
          ]
        },
        {
          "output_type": "stream",
          "name": "stdout",
          "text": [
            "***Training 57.16s => Epoch[45/200]: Loss: 0.00307 PSNR: 25.16475\n",
            "===> Validation\n"
          ]
        },
        {
          "output_type": "stream",
          "name": "stderr",
          "text": [
            "100%|██████████| 6/6 [00:04<00:00,  1.28it/s]\n"
          ]
        },
        {
          "output_type": "stream",
          "name": "stdout",
          "text": [
            "***Validation 4.71s => Epoch[45/200]: Loss: 0.00222 PSNR: 27.18182\n",
            "Checkpoint saved to /content/gdrive/My Drive/Colab Notebooks/SRCNN/div2k_100/checkpoint_dir/models_epoch_0045_loss_0.002218.pth\n",
            "===> Training\n"
          ]
        },
        {
          "output_type": "stream",
          "name": "stderr",
          "text": [
            "100%|██████████| 36/36 [00:57<00:00,  1.59s/it]\n"
          ]
        },
        {
          "output_type": "stream",
          "name": "stdout",
          "text": [
            "***Training 57.21s => Epoch[46/200]: Loss: 0.00305 PSNR: 25.19949\n",
            "===> Validation\n"
          ]
        },
        {
          "output_type": "stream",
          "name": "stderr",
          "text": [
            "100%|██████████| 6/6 [00:04<00:00,  1.25it/s]\n"
          ]
        },
        {
          "output_type": "stream",
          "name": "stdout",
          "text": [
            "***Validation 4.81s => Epoch[46/200]: Loss: 0.00221 PSNR: 27.19915\n",
            "Checkpoint saved to /content/gdrive/My Drive/Colab Notebooks/SRCNN/div2k_100/checkpoint_dir/models_epoch_0046_loss_0.002212.pth\n",
            "===> Training\n"
          ]
        },
        {
          "output_type": "stream",
          "name": "stderr",
          "text": [
            "100%|██████████| 36/36 [00:57<00:00,  1.58s/it]\n"
          ]
        },
        {
          "output_type": "stream",
          "name": "stdout",
          "text": [
            "***Training 57.07s => Epoch[47/200]: Loss: 0.00304 PSNR: 25.21001\n",
            "===> Validation\n"
          ]
        },
        {
          "output_type": "stream",
          "name": "stderr",
          "text": [
            "100%|██████████| 6/6 [00:04<00:00,  1.26it/s]\n"
          ]
        },
        {
          "output_type": "stream",
          "name": "stdout",
          "text": [
            "***Validation 4.79s => Epoch[47/200]: Loss: 0.00221 PSNR: 27.21109\n",
            "Checkpoint saved to /content/gdrive/My Drive/Colab Notebooks/SRCNN/div2k_100/checkpoint_dir/models_epoch_0047_loss_0.002207.pth\n",
            "===> Training\n"
          ]
        },
        {
          "output_type": "stream",
          "name": "stderr",
          "text": [
            "100%|██████████| 36/36 [00:57<00:00,  1.59s/it]\n"
          ]
        },
        {
          "output_type": "stream",
          "name": "stdout",
          "text": [
            "***Training 57.12s => Epoch[48/200]: Loss: 0.00303 PSNR: 25.22846\n",
            "===> Validation\n"
          ]
        },
        {
          "output_type": "stream",
          "name": "stderr",
          "text": [
            "100%|██████████| 6/6 [00:04<00:00,  1.27it/s]\n"
          ]
        },
        {
          "output_type": "stream",
          "name": "stdout",
          "text": [
            "***Validation 4.72s => Epoch[48/200]: Loss: 0.00221 PSNR: 27.20809\n",
            "Checkpoint saved to /content/gdrive/My Drive/Colab Notebooks/SRCNN/div2k_100/checkpoint_dir/models_epoch_0048_loss_0.002207.pth\n",
            "===> Training\n"
          ]
        },
        {
          "output_type": "stream",
          "name": "stderr",
          "text": [
            "100%|██████████| 36/36 [00:57<00:00,  1.59s/it]\n"
          ]
        },
        {
          "output_type": "stream",
          "name": "stdout",
          "text": [
            "***Training 57.13s => Epoch[49/200]: Loss: 0.00307 PSNR: 25.16844\n",
            "===> Validation\n"
          ]
        },
        {
          "output_type": "stream",
          "name": "stderr",
          "text": [
            "100%|██████████| 6/6 [00:04<00:00,  1.27it/s]\n"
          ]
        },
        {
          "output_type": "stream",
          "name": "stdout",
          "text": [
            "***Validation 4.74s => Epoch[49/200]: Loss: 0.00220 PSNR: 27.21649\n",
            "Checkpoint saved to /content/gdrive/My Drive/Colab Notebooks/SRCNN/div2k_100/checkpoint_dir/models_epoch_0049_loss_0.002204.pth\n",
            "===> Training\n"
          ]
        },
        {
          "output_type": "stream",
          "name": "stderr",
          "text": [
            "100%|██████████| 36/36 [00:57<00:00,  1.59s/it]\n"
          ]
        },
        {
          "output_type": "stream",
          "name": "stdout",
          "text": [
            "***Training 57.18s => Epoch[50/200]: Loss: 0.00307 PSNR: 25.16781\n",
            "===> Validation\n"
          ]
        },
        {
          "output_type": "stream",
          "name": "stderr",
          "text": [
            "100%|██████████| 6/6 [00:04<00:00,  1.26it/s]\n"
          ]
        },
        {
          "output_type": "stream",
          "name": "stdout",
          "text": [
            "***Validation 4.77s => Epoch[50/200]: Loss: 0.00220 PSNR: 27.23570\n",
            "Checkpoint saved to /content/gdrive/My Drive/Colab Notebooks/SRCNN/div2k_100/checkpoint_dir/models_epoch_0050_loss_0.002196.pth\n",
            "===> Training\n"
          ]
        },
        {
          "output_type": "stream",
          "name": "stderr",
          "text": [
            "100%|██████████| 36/36 [00:57<00:00,  1.58s/it]\n"
          ]
        },
        {
          "output_type": "stream",
          "name": "stdout",
          "text": [
            "***Training 57.01s => Epoch[51/200]: Loss: 0.00302 PSNR: 25.23236\n",
            "===> Validation\n"
          ]
        },
        {
          "output_type": "stream",
          "name": "stderr",
          "text": [
            "100%|██████████| 6/6 [00:04<00:00,  1.26it/s]\n"
          ]
        },
        {
          "output_type": "stream",
          "name": "stdout",
          "text": [
            "***Validation 4.76s => Epoch[51/200]: Loss: 0.00219 PSNR: 27.24523\n",
            "Checkpoint saved to /content/gdrive/My Drive/Colab Notebooks/SRCNN/div2k_100/checkpoint_dir/models_epoch_0051_loss_0.002192.pth\n",
            "===> Training\n"
          ]
        },
        {
          "output_type": "stream",
          "name": "stderr",
          "text": [
            "100%|██████████| 36/36 [00:57<00:00,  1.58s/it]\n"
          ]
        },
        {
          "output_type": "stream",
          "name": "stdout",
          "text": [
            "***Training 57.04s => Epoch[52/200]: Loss: 0.00308 PSNR: 25.15475\n",
            "===> Validation\n"
          ]
        },
        {
          "output_type": "stream",
          "name": "stderr",
          "text": [
            "100%|██████████| 6/6 [00:04<00:00,  1.27it/s]\n"
          ]
        },
        {
          "output_type": "stream",
          "name": "stdout",
          "text": [
            "***Validation 4.72s => Epoch[52/200]: Loss: 0.00219 PSNR: 27.26136\n",
            "Checkpoint saved to /content/gdrive/My Drive/Colab Notebooks/SRCNN/div2k_100/checkpoint_dir/models_epoch_0052_loss_0.002186.pth\n",
            "===> Training\n"
          ]
        },
        {
          "output_type": "stream",
          "name": "stderr",
          "text": [
            "100%|██████████| 36/36 [00:57<00:00,  1.59s/it]\n"
          ]
        },
        {
          "output_type": "stream",
          "name": "stdout",
          "text": [
            "***Training 57.08s => Epoch[53/200]: Loss: 0.00298 PSNR: 25.33911\n",
            "===> Validation\n"
          ]
        },
        {
          "output_type": "stream",
          "name": "stderr",
          "text": [
            "100%|██████████| 6/6 [00:04<00:00,  1.27it/s]\n"
          ]
        },
        {
          "output_type": "stream",
          "name": "stdout",
          "text": [
            "***Validation 4.73s => Epoch[53/200]: Loss: 0.00219 PSNR: 27.26137\n",
            "Checkpoint saved to /content/gdrive/My Drive/Colab Notebooks/SRCNN/div2k_100/checkpoint_dir/models_epoch_0053_loss_0.002186.pth\n",
            "===> Training\n"
          ]
        },
        {
          "output_type": "stream",
          "name": "stderr",
          "text": [
            "100%|██████████| 36/36 [00:57<00:00,  1.59s/it]\n"
          ]
        },
        {
          "output_type": "stream",
          "name": "stdout",
          "text": [
            "***Training 57.22s => Epoch[54/200]: Loss: 0.00302 PSNR: 25.21828\n",
            "===> Validation\n"
          ]
        },
        {
          "output_type": "stream",
          "name": "stderr",
          "text": [
            "100%|██████████| 6/6 [00:04<00:00,  1.26it/s]\n"
          ]
        },
        {
          "output_type": "stream",
          "name": "stdout",
          "text": [
            "***Validation 4.79s => Epoch[54/200]: Loss: 0.00218 PSNR: 27.26801\n",
            "Checkpoint saved to /content/gdrive/My Drive/Colab Notebooks/SRCNN/div2k_100/checkpoint_dir/models_epoch_0054_loss_0.002183.pth\n",
            "===> Training\n"
          ]
        },
        {
          "output_type": "stream",
          "name": "stderr",
          "text": [
            "100%|██████████| 36/36 [00:57<00:00,  1.59s/it]\n"
          ]
        },
        {
          "output_type": "stream",
          "name": "stdout",
          "text": [
            "***Training 57.11s => Epoch[55/200]: Loss: 0.00300 PSNR: 25.25736\n",
            "===> Validation\n"
          ]
        },
        {
          "output_type": "stream",
          "name": "stderr",
          "text": [
            "100%|██████████| 6/6 [00:04<00:00,  1.26it/s]\n"
          ]
        },
        {
          "output_type": "stream",
          "name": "stdout",
          "text": [
            "***Validation 4.79s => Epoch[55/200]: Loss: 0.00219 PSNR: 27.25905\n",
            "Checkpoint saved to /content/gdrive/My Drive/Colab Notebooks/SRCNN/div2k_100/checkpoint_dir/models_epoch_0055_loss_0.002186.pth\n",
            "===> Training\n"
          ]
        },
        {
          "output_type": "stream",
          "name": "stderr",
          "text": [
            "100%|██████████| 36/36 [00:57<00:00,  1.59s/it]\n"
          ]
        },
        {
          "output_type": "stream",
          "name": "stdout",
          "text": [
            "***Training 57.20s => Epoch[56/200]: Loss: 0.00297 PSNR: 25.34932\n",
            "===> Validation\n"
          ]
        },
        {
          "output_type": "stream",
          "name": "stderr",
          "text": [
            "100%|██████████| 6/6 [00:04<00:00,  1.28it/s]\n"
          ]
        },
        {
          "output_type": "stream",
          "name": "stdout",
          "text": [
            "***Validation 4.71s => Epoch[56/200]: Loss: 0.00217 PSNR: 27.29460\n",
            "Checkpoint saved to /content/gdrive/My Drive/Colab Notebooks/SRCNN/div2k_100/checkpoint_dir/models_epoch_0056_loss_0.002173.pth\n",
            "===> Training\n"
          ]
        },
        {
          "output_type": "stream",
          "name": "stderr",
          "text": [
            "100%|██████████| 36/36 [00:57<00:00,  1.59s/it]\n"
          ]
        },
        {
          "output_type": "stream",
          "name": "stdout",
          "text": [
            "***Training 57.15s => Epoch[57/200]: Loss: 0.00303 PSNR: 25.22980\n",
            "===> Validation\n"
          ]
        },
        {
          "output_type": "stream",
          "name": "stderr",
          "text": [
            "100%|██████████| 6/6 [00:04<00:00,  1.27it/s]\n"
          ]
        },
        {
          "output_type": "stream",
          "name": "stdout",
          "text": [
            "***Validation 4.73s => Epoch[57/200]: Loss: 0.00217 PSNR: 27.30223\n",
            "Checkpoint saved to /content/gdrive/My Drive/Colab Notebooks/SRCNN/div2k_100/checkpoint_dir/models_epoch_0057_loss_0.002170.pth\n",
            "===> Training\n"
          ]
        },
        {
          "output_type": "stream",
          "name": "stderr",
          "text": [
            "100%|██████████| 36/36 [00:57<00:00,  1.59s/it]\n"
          ]
        },
        {
          "output_type": "stream",
          "name": "stdout",
          "text": [
            "***Training 57.09s => Epoch[58/200]: Loss: 0.00296 PSNR: 25.34116\n",
            "===> Validation\n"
          ]
        },
        {
          "output_type": "stream",
          "name": "stderr",
          "text": [
            "100%|██████████| 6/6 [00:04<00:00,  1.27it/s]\n"
          ]
        },
        {
          "output_type": "stream",
          "name": "stdout",
          "text": [
            "***Validation 4.75s => Epoch[58/200]: Loss: 0.00217 PSNR: 27.30029\n",
            "Checkpoint saved to /content/gdrive/My Drive/Colab Notebooks/SRCNN/div2k_100/checkpoint_dir/models_epoch_0058_loss_0.002170.pth\n",
            "===> Training\n"
          ]
        },
        {
          "output_type": "stream",
          "name": "stderr",
          "text": [
            "100%|██████████| 36/36 [00:56<00:00,  1.58s/it]\n"
          ]
        },
        {
          "output_type": "stream",
          "name": "stdout",
          "text": [
            "***Training 57.01s => Epoch[59/200]: Loss: 0.00303 PSNR: 25.22241\n",
            "===> Validation\n"
          ]
        },
        {
          "output_type": "stream",
          "name": "stderr",
          "text": [
            "100%|██████████| 6/6 [00:04<00:00,  1.26it/s]\n"
          ]
        },
        {
          "output_type": "stream",
          "name": "stdout",
          "text": [
            "***Validation 4.77s => Epoch[59/200]: Loss: 0.00217 PSNR: 27.30873\n",
            "Checkpoint saved to /content/gdrive/My Drive/Colab Notebooks/SRCNN/div2k_100/checkpoint_dir/models_epoch_0059_loss_0.002167.pth\n",
            "===> Training\n"
          ]
        },
        {
          "output_type": "stream",
          "name": "stderr",
          "text": [
            "100%|██████████| 36/36 [00:56<00:00,  1.58s/it]\n"
          ]
        },
        {
          "output_type": "stream",
          "name": "stdout",
          "text": [
            "***Training 56.98s => Epoch[60/200]: Loss: 0.00297 PSNR: 25.31548\n",
            "===> Validation\n"
          ]
        },
        {
          "output_type": "stream",
          "name": "stderr",
          "text": [
            "100%|██████████| 6/6 [00:04<00:00,  1.28it/s]\n"
          ]
        },
        {
          "output_type": "stream",
          "name": "stdout",
          "text": [
            "***Validation 4.71s => Epoch[60/200]: Loss: 0.00216 PSNR: 27.32295\n",
            "Checkpoint saved to /content/gdrive/My Drive/Colab Notebooks/SRCNN/div2k_100/checkpoint_dir/models_epoch_0060_loss_0.002161.pth\n",
            "===> Training\n"
          ]
        },
        {
          "output_type": "stream",
          "name": "stderr",
          "text": [
            "100%|██████████| 36/36 [00:57<00:00,  1.59s/it]\n"
          ]
        },
        {
          "output_type": "stream",
          "name": "stdout",
          "text": [
            "***Training 57.11s => Epoch[61/200]: Loss: 0.00304 PSNR: 25.21628\n",
            "===> Validation\n"
          ]
        },
        {
          "output_type": "stream",
          "name": "stderr",
          "text": [
            "100%|██████████| 6/6 [00:04<00:00,  1.28it/s]\n"
          ]
        },
        {
          "output_type": "stream",
          "name": "stdout",
          "text": [
            "***Validation 4.71s => Epoch[61/200]: Loss: 0.00216 PSNR: 27.32940\n",
            "Checkpoint saved to /content/gdrive/My Drive/Colab Notebooks/SRCNN/div2k_100/checkpoint_dir/models_epoch_0061_loss_0.002159.pth\n",
            "===> Training\n"
          ]
        },
        {
          "output_type": "stream",
          "name": "stderr",
          "text": [
            "100%|██████████| 36/36 [00:57<00:00,  1.59s/it]\n"
          ]
        },
        {
          "output_type": "stream",
          "name": "stdout",
          "text": [
            "***Training 57.14s => Epoch[62/200]: Loss: 0.00300 PSNR: 25.25310\n",
            "===> Validation\n"
          ]
        },
        {
          "output_type": "stream",
          "name": "stderr",
          "text": [
            "100%|██████████| 6/6 [00:04<00:00,  1.26it/s]\n"
          ]
        },
        {
          "output_type": "stream",
          "name": "stdout",
          "text": [
            "***Validation 4.79s => Epoch[62/200]: Loss: 0.00216 PSNR: 27.33375\n",
            "Checkpoint saved to /content/gdrive/My Drive/Colab Notebooks/SRCNN/div2k_100/checkpoint_dir/models_epoch_0062_loss_0.002157.pth\n",
            "===> Training\n"
          ]
        },
        {
          "output_type": "stream",
          "name": "stderr",
          "text": [
            "100%|██████████| 36/36 [00:56<00:00,  1.58s/it]\n"
          ]
        },
        {
          "output_type": "stream",
          "name": "stdout",
          "text": [
            "***Training 57.01s => Epoch[63/200]: Loss: 0.00300 PSNR: 25.26108\n",
            "===> Validation\n"
          ]
        },
        {
          "output_type": "stream",
          "name": "stderr",
          "text": [
            "100%|██████████| 6/6 [00:04<00:00,  1.27it/s]\n"
          ]
        },
        {
          "output_type": "stream",
          "name": "stdout",
          "text": [
            "***Validation 4.76s => Epoch[63/200]: Loss: 0.00216 PSNR: 27.33753\n",
            "Checkpoint saved to /content/gdrive/My Drive/Colab Notebooks/SRCNN/div2k_100/checkpoint_dir/models_epoch_0063_loss_0.002155.pth\n",
            "===> Training\n"
          ]
        },
        {
          "output_type": "stream",
          "name": "stderr",
          "text": [
            "100%|██████████| 36/36 [00:56<00:00,  1.57s/it]\n"
          ]
        },
        {
          "output_type": "stream",
          "name": "stdout",
          "text": [
            "***Training 56.65s => Epoch[64/200]: Loss: 0.00296 PSNR: 25.32867\n",
            "===> Validation\n"
          ]
        },
        {
          "output_type": "stream",
          "name": "stderr",
          "text": [
            "100%|██████████| 6/6 [00:04<00:00,  1.29it/s]\n"
          ]
        },
        {
          "output_type": "stream",
          "name": "stdout",
          "text": [
            "***Validation 4.67s => Epoch[64/200]: Loss: 0.00215 PSNR: 27.34779\n",
            "Checkpoint saved to /content/gdrive/My Drive/Colab Notebooks/SRCNN/div2k_100/checkpoint_dir/models_epoch_0064_loss_0.002152.pth\n",
            "===> Training\n"
          ]
        },
        {
          "output_type": "stream",
          "name": "stderr",
          "text": [
            "100%|██████████| 36/36 [00:56<00:00,  1.58s/it]\n"
          ]
        },
        {
          "output_type": "stream",
          "name": "stdout",
          "text": [
            "***Training 57.00s => Epoch[65/200]: Loss: 0.00302 PSNR: 25.23700\n",
            "===> Validation\n"
          ]
        },
        {
          "output_type": "stream",
          "name": "stderr",
          "text": [
            "100%|██████████| 6/6 [00:04<00:00,  1.27it/s]\n"
          ]
        },
        {
          "output_type": "stream",
          "name": "stdout",
          "text": [
            "***Validation 4.73s => Epoch[65/200]: Loss: 0.00215 PSNR: 27.35689\n",
            "Checkpoint saved to /content/gdrive/My Drive/Colab Notebooks/SRCNN/div2k_100/checkpoint_dir/models_epoch_0065_loss_0.002149.pth\n",
            "===> Training\n"
          ]
        },
        {
          "output_type": "stream",
          "name": "stderr",
          "text": [
            " 36%|███▌      | 13/36 [00:21<00:37,  1.63s/it]"
          ]
        }
      ]
    },
    {
      "cell_type": "markdown",
      "metadata": {
        "id": "rgXgqBdTA0nk"
      },
      "source": [
        "# Test model\n",
        "We will use PSNR and SSIM metrics to measure how well the model is trained. We can skimage libraries to easily measure two metrics."
      ]
    },
    {
      "cell_type": "code",
      "metadata": {
        "id": "xEyL9DLUREnC"
      },
      "source": [
        "from skimage.measure import compare_ssim as ssim\n",
        "from skimage.measure import compare_psnr as psnr"
      ],
      "execution_count": null,
      "outputs": []
    },
    {
      "cell_type": "markdown",
      "metadata": {
        "id": "zhQQDJ0uBFyI"
      },
      "source": [
        "# Define test dataset\n",
        "This time, we will not use dataloader of pytorch function. Instead, we will load each image from test data directory."
      ]
    },
    {
      "cell_type": "code",
      "metadata": {
        "id": "s1fod6xdREnG"
      },
      "source": [
        "def get_test_dataset(data_dir, res_scale):\n",
        "    lr_dir = os.path.join(data_dir, 'lrx' + str(res_scale))\n",
        "    hr_dir = os.path.join(data_dir, 'hr')\n",
        "        \n",
        "    dsets = {}\n",
        "    lr_list = os.listdir(lr_dir)\n",
        "    hr_list = os.listdir(hr_dir)\n",
        "    lr_list.sort()\n",
        "    hr_list.sort()\n",
        "    dsets['lr'] = [os.path.join(lr_dir, x) for x in lr_list]\n",
        "    dsets['hr'] = [os.path.join(hr_dir, x) for x in hr_list]\n",
        "    dsets['file_name'] = os.listdir(hr_dir)\n",
        "    \n",
        "    return dsets"
      ],
      "execution_count": null,
      "outputs": []
    },
    {
      "cell_type": "markdown",
      "metadata": {
        "id": "Bf97hI_RBRqB"
      },
      "source": [
        "# Define your test method of the model"
      ]
    },
    {
      "cell_type": "code",
      "metadata": {
        "id": "QOI83FfMREnK"
      },
      "source": [
        "def test_model(opt, test_dataset):\n",
        "    \n",
        "    lr_list = test_dataset['lr']\n",
        "    hr_list = test_dataset['hr']\n",
        "    filename_list = test_dataset['file_name']\n",
        "    \n",
        "    sr_compare_dir = os.path.join(opt.test_result_dir, \"compare\")\n",
        "    sr_result_dir = os.path.join(opt.test_result_dir, \"sr\")\n",
        "\n",
        "    if not os.path.exists(sr_result_dir):\n",
        "        os.makedirs(sr_result_dir)\n",
        "    if not os.path.exists(sr_compare_dir):\n",
        "        os.makedirs(sr_compare_dir)\n",
        "\n",
        "    opt.resume_best = True  # validation loss best\n",
        "    _, srcnn = load_model(opt.checkpoint_dir)\n",
        "    criterion = nn.MSELoss()\n",
        "\n",
        "    if torch.cuda.device_count() > 1 and opt.multi_gpu:\n",
        "        print(\"Use \" + str(torch.cuda.device_count()) + \" GPUs\")\n",
        "        srcnn = nn.DataParallel(srcnn)\n",
        "\n",
        "    if opt.use_cuda and torch.cuda.is_available():\n",
        "        opt.use_cuda = True\n",
        "        opt.device = 'cuda'\n",
        "    else:\n",
        "        opt.use_cuda = False\n",
        "        opt.device = 'cpu'\n",
        "\n",
        "    if opt.use_cuda:\n",
        "        srcnn = srcnn.to(opt.device)\n",
        "        criterion = criterion.to(opt.device)\n",
        "\n",
        "    hr_img_sz = (opt.lr_img * opt.res_scale, opt.lr_img * opt.res_scale)\n",
        "    result_img = np.zeros((hr_img_sz[0], hr_img_sz[1] * 3, opt.n_channels))\n",
        "\n",
        "    with torch.no_grad():\n",
        "        total_num = 0\n",
        "        sum_bicubic_psnr = 0.\n",
        "        sum_sr_psnr = 0.\n",
        "        sum_bicubic_ssim = 0.\n",
        "        sum_sr_ssim = 0.\n",
        "        \n",
        "        avg_bicubic_psnr = 0.\n",
        "        avg_sr_psnr = 0.\n",
        "        avg_bicubic_ssim = 0.\n",
        "        avg_sr_ssim = 0.\n",
        "\n",
        "        start_time = time.time()\n",
        "        for batch in zip(lr_list, hr_list, filename_list):\n",
        "            input_path, target_path, file_name = batch[0], batch[1], batch[2]\n",
        "\n",
        "            # print(input_path)\n",
        "            # print(target_path)\n",
        "\n",
        "            # train 과는 다르게 data_loader 쓰지 않고, patch 아닌 한장 한장이미지 전체를 불러옴.            \n",
        "            input = cv2.imread(input_path)\n",
        "            target = cv2.imread(target_path)\n",
        "            \n",
        "            input = cv2.resize(input, (target.shape[1], target.shape[0]), interpolation=cv2.INTER_CUBIC)\n",
        "            \n",
        "            input = normalize_img(input)\n",
        "            target = normalize_img(target)\n",
        "            \n",
        "            input = np.transpose(input, (2, 0, 1))\n",
        "            target = np.transpose(target, (2, 0, 1))\n",
        "            \n",
        "            # 하나의 이미지 입력 (1)\n",
        "            input = input.reshape(1, input.shape[0], input.shape[1], input.shape[2])\n",
        "            target = target.reshape(1, target.shape[0], target.shape[1], target.shape[2])\n",
        "            \n",
        "            input = torch.from_numpy(input).type(torch.FloatTensor)\n",
        "            target = torch.from_numpy(target).type(torch.FloatTensor)\n",
        "\n",
        "            if opt.use_cuda:\n",
        "                input = input.to(opt.device)\n",
        "#                 target = target.to(opt.device)\n",
        "\n",
        "            out = srcnn(input)\n",
        "            \n",
        "            for i in range(input.size(0)): \n",
        "                if opt.use_cuda:\n",
        "                    input_arr = input[i].detach().to('cpu').data.numpy()\n",
        "                    sr_arr = out[i].detach().to('cpu').data.numpy()\n",
        "                else:\n",
        "                    input_arr = input[i].data.numpy() # float tensor to numpy\n",
        "                    sr_arr = out[i].data.numpy()\n",
        "                \n",
        "                target_arr = target[i].detach().data.numpy()\n",
        "        \n",
        "                input_arr = np.transpose(input_arr, (1, 2, 0))\n",
        "                sr_arr = np.transpose(sr_arr, (1, 2, 0))\n",
        "                target_arr = np.transpose(target_arr, (1, 2, 0))\n",
        "\n",
        "                # 강제적으로 결과 범주를 정해줌 (negative pixel 값도 도출됨?)                \n",
        "                sr_arr[sr_arr < 0.] = 0\n",
        "                sr_arr[sr_arr > 1.] = 1.\n",
        "                \n",
        "                # bicubic, sr result, GT reference for comparison purpose\n",
        "                compare_img = np.concatenate((input_arr, sr_arr, target_arr), axis=1)\n",
        "            \n",
        "                bicubic_psnr = psnr(input_arr, target_arr)\n",
        "                sr_psnr = psnr(sr_arr, target_arr)\n",
        "                \n",
        "                sum_bicubic_psnr += bicubic_psnr\n",
        "                sum_sr_psnr += sr_psnr\n",
        "                \n",
        "                bicubic_ssim = ssim(input_arr, target_arr, multichannel=True)\n",
        "                sr_ssim = ssim(sr_arr, target_arr, multichannel=True)\n",
        "                \n",
        "                sum_bicubic_ssim += bicubic_ssim\n",
        "                sum_sr_ssim += sr_ssim                              \n",
        "                \n",
        "                compare_img = compare_img * 255 # [0 - 1] * 255\n",
        "                compare_img = compare_img.astype(np.int16)  # converst to float data type\n",
        "                sr_arr = sr_arr * 255\n",
        "                sr_arr = sr_arr.astype(np.int16)\n",
        "                cv2.imwrite(os.path.join(sr_compare_dir, file_name), compare_img)\n",
        "                cv2.imwrite(os.path.join(sr_result_dir, file_name), sr_arr)\n",
        "                \n",
        "                print(file_name)\n",
        "                print(\"Bicubic PSNR: {:.8f}, Bicubic SSIM: {:.8f}, SR PSNR: {:.8f}, SR SSIM: {:.8f}\".format(\n",
        "                    bicubic_psnr, bicubic_ssim, sr_psnr, sr_ssim))\n",
        "                total_num += 1\n",
        "\n",
        "        avg_bicubic_psnr = sum_bicubic_psnr / total_num\n",
        "        avg_sr_psnr = sum_sr_psnr / total_num\n",
        "        \n",
        "        avg_bicubic_ssim = sum_bicubic_ssim / total_num\n",
        "        avg_sr_ssim = sum_sr_ssim / total_num\n",
        "\n",
        "        print(\"Time: {:.2f}\".format(time.time() - start_time))\n",
        "        print(\"Bicubic PSNR: {:.8f}\".format(avg_bicubic_psnr))\n",
        "        print(\"Bicubic SSIM: {:.8f}\".format(avg_bicubic_ssim))\n",
        "        print(\"SR PSNR: {:.8f}\".format(avg_sr_psnr))\n",
        "        print(\"SR SSIM: {:.8f}\".format(avg_sr_ssim))"
      ],
      "execution_count": null,
      "outputs": []
    },
    {
      "cell_type": "code",
      "metadata": {
        "id": "fOcoSLEdREnO"
      },
      "source": [
        "test_dir = opt.test_dir\n",
        "res_scale = opt.res_scale\n",
        "print(\"test_dir is: {}\".format(test_dir))\n",
        "print(\"test_result_dir is: {}\".format(opt.test_result_dir))\n",
        "\n",
        "test_dataset = get_test_dataset(test_dir, res_scale)\n",
        "\n",
        "test_model(opt, test_dataset)"
      ],
      "execution_count": null,
      "outputs": []
    }
  ]
}